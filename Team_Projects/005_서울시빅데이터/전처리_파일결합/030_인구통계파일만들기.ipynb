{
 "cells": [
  {
   "cell_type": "code",
   "execution_count": 1,
   "metadata": {},
   "outputs": [],
   "source": [
    "import pandas as pd\n",
    "import os\n",
    "import sys\n",
    "path='C:/Users/SAMSUNG/Desktop/공부파일들/서울시빅데이타/인구/B034. 서울시 집계구 단위 인구센서스 통계/2. 파일데이터'\n",
    "sys.path.append(path)"
   ]
  },
  {
   "cell_type": "code",
   "execution_count": 2,
   "metadata": {},
   "outputs": [],
   "source": [
    "def makecsv(path,col_trans):\n",
    "    def trans(line):\n",
    "        return list(map(lambda x:x.replace(\"`\",\"\"),line.split(\"|\")))\n",
    "    \n",
    "    with open(path,\"r\",encoding='utf-8') as f:\n",
    "        temp=f.readlines()    \n",
    "    col_name=trans(temp[0])\n",
    "    datas=[trans(x) for x in temp[1:]]\n",
    "    data_dc={}\n",
    "    for i in range(len(col_name)):\n",
    "        data_dc[col_name[i]]=[x[i] for x in datas]\n",
    "    return pd.DataFrame(data_dc).rename(columns=dict(zip(col_name,col_trans)))\n",
    "    #return pd.DataFrame(data_dc)"
   ]
  },
  {
   "cell_type": "code",
   "execution_count": 3,
   "metadata": {},
   "outputs": [
    {
     "data": {
      "text/plain": [
       "['TB_T_CENSUS_AREA.txt',\n",
       " 'TB_T_COMP_STA.txt',\n",
       " 'TB_T_EMPL_STA.txt',\n",
       " 'TB_T_HOME_CODE.txt',\n",
       " 'TB_T_HOME_STA.txt',\n",
       " 'TB_T_HOUS_CODE.txt',\n",
       " 'TB_T_HOUS_STA.txt',\n",
       " 'TB_T_INDSTR_CODE.txt',\n",
       " 'TB_T_POP_CODE.txt',\n",
       " 'TB_T_POP_STA.txt',\n",
       " 'TB_T_TOT_CODE.txt',\n",
       " 'TB_T_TOT_STA.txt']"
      ]
     },
     "execution_count": 3,
     "metadata": {},
     "output_type": "execute_result"
    }
   ],
   "source": [
    "files=os.listdir(path)\n",
    "files"
   ]
  },
  {
   "cell_type": "code",
   "execution_count": 4,
   "metadata": {},
   "outputs": [],
   "source": [
    "행정구역=makecsv(path+\"/\"+files[0],['집계구코드','시군구코드','시군구명','행정동코드','행정동명'])\n",
    "사업체수=makecsv(path+\"/\"+files[1],['년도구분','집계구코드','업종통계코드','사업체_구분코드','사업체_수'])\n",
    "가구종류코드=makecsv(path+\"/\"+files[3],['가구종류_구분코드','통계항목','분류'])\n",
    "가구수=makecsv(path+\"/\"+files[4],['년도구분','집계구코드','가구종류_구분코드','가구_수'])\n",
    "주택종류코드=makecsv(path+\"/\"+files[5],['주택종류_구분코드','통계항목','분류'])\n",
    "주택수=makecsv(path+\"/\"+files[6],['년도구분','집계구코드','주택종류_구분코드','주택_수'])\n",
    "인구종류코드=makecsv(path+\"/\"+files[8],['주택종류_구분코드','통계항목','분류'])\n",
    "인구수=makecsv(path+\"/\"+files[9],['년도구분','집계구코드','인구종류_구분코드','인구_수'])\n",
    "for name in [\"행정구역\",\"사업체수\",\"가구종류코드\",\"가구수\",\"주택종류코드\",\"주택수\",\"인구종류코드\",\"인구수\"]:\n",
    "    exec(f\"{name}.to_csv('./{name}.csv')\")"
   ]
  },
  {
   "cell_type": "code",
   "execution_count": 5,
   "metadata": {},
   "outputs": [],
   "source": [
    "save_path=\"C:/Users/SAMSUNG/Desktop/작업용/\""
   ]
  },
  {
   "cell_type": "code",
   "execution_count": 6,
   "metadata": {},
   "outputs": [],
   "source": [
    "행정구역=pd.read_csv(save_path+\"행정구역.csv\")\n",
    "사업체수=pd.read_csv(save_path+\"사업체수.csv\")\n",
    "가구종류코드=pd.read_csv(save_path+\"가구종류코드.csv\")\n",
    "가구수=pd.read_csv(save_path+\"가구수.csv\")"
   ]
  },
  {
   "cell_type": "markdown",
   "metadata": {},
   "source": [
    "사업체 수에 사업체 구분코드는 찾을 수가 없음"
   ]
  },
  {
   "cell_type": "markdown",
   "metadata": {},
   "source": [
    "## 가구수"
   ]
  },
  {
   "cell_type": "code",
   "execution_count": 7,
   "metadata": {},
   "outputs": [
    {
     "data": {
      "text/html": [
       "<div>\n",
       "<style scoped>\n",
       "    .dataframe tbody tr th:only-of-type {\n",
       "        vertical-align: middle;\n",
       "    }\n",
       "\n",
       "    .dataframe tbody tr th {\n",
       "        vertical-align: top;\n",
       "    }\n",
       "\n",
       "    .dataframe thead th {\n",
       "        text-align: right;\n",
       "    }\n",
       "</style>\n",
       "<table border=\"1\" class=\"dataframe\">\n",
       "  <thead>\n",
       "    <tr style=\"text-align: right;\">\n",
       "      <th></th>\n",
       "      <th>Unnamed: 0</th>\n",
       "      <th>집계구코드</th>\n",
       "      <th>시군구코드</th>\n",
       "      <th>시군구명</th>\n",
       "      <th>행정동코드</th>\n",
       "      <th>행정동명</th>\n",
       "    </tr>\n",
       "  </thead>\n",
       "  <tbody>\n",
       "    <tr>\n",
       "      <th>0</th>\n",
       "      <td>0</td>\n",
       "      <td>1104052010004</td>\n",
       "      <td>11200</td>\n",
       "      <td>성동구</td>\n",
       "      <td>520</td>\n",
       "      <td>왕십리2동\\n</td>\n",
       "    </tr>\n",
       "    <tr>\n",
       "      <th>1</th>\n",
       "      <td>1</td>\n",
       "      <td>1104052010005</td>\n",
       "      <td>11200</td>\n",
       "      <td>성동구</td>\n",
       "      <td>520</td>\n",
       "      <td>왕십리2동\\n</td>\n",
       "    </tr>\n",
       "    <tr>\n",
       "      <th>2</th>\n",
       "      <td>2</td>\n",
       "      <td>1104052010006</td>\n",
       "      <td>11200</td>\n",
       "      <td>성동구</td>\n",
       "      <td>520</td>\n",
       "      <td>왕십리2동\\n</td>\n",
       "    </tr>\n",
       "  </tbody>\n",
       "</table>\n",
       "</div>"
      ],
      "text/plain": [
       "   Unnamed: 0          집계구코드  시군구코드 시군구명  행정동코드     행정동명\n",
       "0           0  1104052010004  11200  성동구    520  왕십리2동\\n\n",
       "1           1  1104052010005  11200  성동구    520  왕십리2동\\n\n",
       "2           2  1104052010006  11200  성동구    520  왕십리2동\\n"
      ]
     },
     "execution_count": 7,
     "metadata": {},
     "output_type": "execute_result"
    }
   ],
   "source": [
    "행정구역.head(3)"
   ]
  },
  {
   "cell_type": "code",
   "execution_count": 8,
   "metadata": {},
   "outputs": [
    {
     "data": {
      "text/html": [
       "<div>\n",
       "<style scoped>\n",
       "    .dataframe tbody tr th:only-of-type {\n",
       "        vertical-align: middle;\n",
       "    }\n",
       "\n",
       "    .dataframe tbody tr th {\n",
       "        vertical-align: top;\n",
       "    }\n",
       "\n",
       "    .dataframe thead th {\n",
       "        text-align: right;\n",
       "    }\n",
       "</style>\n",
       "<table border=\"1\" class=\"dataframe\">\n",
       "  <thead>\n",
       "    <tr style=\"text-align: right;\">\n",
       "      <th></th>\n",
       "      <th>Unnamed: 0</th>\n",
       "      <th>년도구분</th>\n",
       "      <th>집계구코드</th>\n",
       "      <th>가구종류_구분코드</th>\n",
       "      <th>가구_수</th>\n",
       "    </tr>\n",
       "  </thead>\n",
       "  <tbody>\n",
       "    <tr>\n",
       "      <th>0</th>\n",
       "      <td>0</td>\n",
       "      <td>2010</td>\n",
       "      <td>1108083010002</td>\n",
       "      <td>TO_HO_001</td>\n",
       "      <td>170</td>\n",
       "    </tr>\n",
       "    <tr>\n",
       "      <th>1</th>\n",
       "      <td>1</td>\n",
       "      <td>2010</td>\n",
       "      <td>1108083010003</td>\n",
       "      <td>TO_HO_001</td>\n",
       "      <td>94</td>\n",
       "    </tr>\n",
       "    <tr>\n",
       "      <th>2</th>\n",
       "      <td>2</td>\n",
       "      <td>2010</td>\n",
       "      <td>1108083010004</td>\n",
       "      <td>TO_HO_001</td>\n",
       "      <td>167</td>\n",
       "    </tr>\n",
       "  </tbody>\n",
       "</table>\n",
       "</div>"
      ],
      "text/plain": [
       "   Unnamed: 0  년도구분          집계구코드  가구종류_구분코드  가구_수\n",
       "0           0  2010  1108083010002  TO_HO_001   170\n",
       "1           1  2010  1108083010003  TO_HO_001    94\n",
       "2           2  2010  1108083010004  TO_HO_001   167"
      ]
     },
     "execution_count": 8,
     "metadata": {},
     "output_type": "execute_result"
    }
   ],
   "source": [
    "가구수.head(3)"
   ]
  },
  {
   "cell_type": "code",
   "execution_count": 9,
   "metadata": {},
   "outputs": [
    {
     "data": {
      "text/html": [
       "<div>\n",
       "<style scoped>\n",
       "    .dataframe tbody tr th:only-of-type {\n",
       "        vertical-align: middle;\n",
       "    }\n",
       "\n",
       "    .dataframe tbody tr th {\n",
       "        vertical-align: top;\n",
       "    }\n",
       "\n",
       "    .dataframe thead th {\n",
       "        text-align: right;\n",
       "    }\n",
       "</style>\n",
       "<table border=\"1\" class=\"dataframe\">\n",
       "  <thead>\n",
       "    <tr style=\"text-align: right;\">\n",
       "      <th></th>\n",
       "      <th>Unnamed: 0</th>\n",
       "      <th>가구종류_구분코드</th>\n",
       "      <th>통계항목</th>\n",
       "      <th>분류</th>\n",
       "    </tr>\n",
       "  </thead>\n",
       "  <tbody>\n",
       "    <tr>\n",
       "      <th>0</th>\n",
       "      <td>0</td>\n",
       "      <td>HO_AR_001</td>\n",
       "      <td>연건평별주택</td>\n",
       "      <td>20㎡이하(호)\\n</td>\n",
       "    </tr>\n",
       "    <tr>\n",
       "      <th>1</th>\n",
       "      <td>1</td>\n",
       "      <td>HO_AR_002</td>\n",
       "      <td>연건평별주택</td>\n",
       "      <td>20㎡~40㎡이하(호)\\n</td>\n",
       "    </tr>\n",
       "    <tr>\n",
       "      <th>2</th>\n",
       "      <td>2</td>\n",
       "      <td>HO_AR_003</td>\n",
       "      <td>연건평별주택</td>\n",
       "      <td>40㎡~60㎡이하(호)\\n</td>\n",
       "    </tr>\n",
       "  </tbody>\n",
       "</table>\n",
       "</div>"
      ],
      "text/plain": [
       "   Unnamed: 0  가구종류_구분코드    통계항목              분류\n",
       "0           0  HO_AR_001  연건평별주택      20㎡이하(호)\\n\n",
       "1           1  HO_AR_002  연건평별주택  20㎡~40㎡이하(호)\\n\n",
       "2           2  HO_AR_003  연건평별주택  40㎡~60㎡이하(호)\\n"
      ]
     },
     "execution_count": 9,
     "metadata": {},
     "output_type": "execute_result"
    }
   ],
   "source": [
    "가구종류코드.head(3)"
   ]
  },
  {
   "cell_type": "code",
   "execution_count": 10,
   "metadata": {},
   "outputs": [
    {
     "data": {
      "text/plain": [
       "분류\n",
       "20㎡이하(호)\\n          1\n",
       "1959년이전\\n           1\n",
       "2010년\\n             1\n",
       "2009년\\n             1\n",
       "2008년\\n             1\n",
       "2007년\\n             1\n",
       "2006년\\n             1\n",
       "2005년\\n             1\n",
       "2000년~2004년\\n       1\n",
       "1995년~1999년\\n       1\n",
       "1990년~1994년\\n       1\n",
       "1980년~1989년\\n       1\n",
       "1970년~1979년\\n       1\n",
       "1960년~1969년\\n       1\n",
       "주택이외거처\\n            1\n",
       "20㎡~40㎡이하(호)\\n      1\n",
       "영업용건물내주택\\n          1\n",
       "연립주택\\n              1\n",
       "아파트\\n               1\n",
       "단독주택\\n              1\n",
       "다세대\\n               1\n",
       "230㎡초과(호)\\n         1\n",
       "165㎡~230㎡이하(호)\\n    1\n",
       "130㎡~165㎡이하(호)\\n    1\n",
       "100㎡~130㎡이하(호)\\n    1\n",
       "85㎡~100㎡이하(호)\\n     1\n",
       "60㎡~85㎡이하(호)\\n      1\n",
       "40㎡~60㎡이하(호)\\n      1\n",
       "총주택(거처)수\\n          1\n",
       "Name: count, dtype: int64"
      ]
     },
     "execution_count": 10,
     "metadata": {},
     "output_type": "execute_result"
    }
   ],
   "source": [
    "가구종류코드[\"분류\"].value_counts(())"
   ]
  },
  {
   "cell_type": "markdown",
   "metadata": {},
   "source": [
    "## 주택"
   ]
  },
  {
   "cell_type": "code",
   "execution_count": 11,
   "metadata": {},
   "outputs": [],
   "source": [
    "주택종류코드=pd.read_csv(save_path+\"주택종류코드.csv\")\n",
    "주택수=pd.read_csv(save_path+\"주택수.csv\")"
   ]
  },
  {
   "cell_type": "code",
   "execution_count": 12,
   "metadata": {},
   "outputs": [
    {
     "data": {
      "text/html": [
       "<div>\n",
       "<style scoped>\n",
       "    .dataframe tbody tr th:only-of-type {\n",
       "        vertical-align: middle;\n",
       "    }\n",
       "\n",
       "    .dataframe tbody tr th {\n",
       "        vertical-align: top;\n",
       "    }\n",
       "\n",
       "    .dataframe thead th {\n",
       "        text-align: right;\n",
       "    }\n",
       "</style>\n",
       "<table border=\"1\" class=\"dataframe\">\n",
       "  <thead>\n",
       "    <tr style=\"text-align: right;\">\n",
       "      <th></th>\n",
       "      <th>Unnamed: 0</th>\n",
       "      <th>주택종류_구분코드</th>\n",
       "      <th>통계항목</th>\n",
       "      <th>분류</th>\n",
       "    </tr>\n",
       "  </thead>\n",
       "  <tbody>\n",
       "    <tr>\n",
       "      <th>0</th>\n",
       "      <td>0</td>\n",
       "      <td>GA_CO_001</td>\n",
       "      <td>방,거실,식당수별가구</td>\n",
       "      <td>방1개\\n</td>\n",
       "    </tr>\n",
       "    <tr>\n",
       "      <th>1</th>\n",
       "      <td>1</td>\n",
       "      <td>GA_CO_002</td>\n",
       "      <td>방,거실,식당수별가구</td>\n",
       "      <td>방2개\\n</td>\n",
       "    </tr>\n",
       "  </tbody>\n",
       "</table>\n",
       "</div>"
      ],
      "text/plain": [
       "   Unnamed: 0  주택종류_구분코드         통계항목     분류\n",
       "0           0  GA_CO_001  방,거실,식당수별가구  방1개\\n\n",
       "1           1  GA_CO_002  방,거실,식당수별가구  방2개\\n"
      ]
     },
     "execution_count": 12,
     "metadata": {},
     "output_type": "execute_result"
    }
   ],
   "source": [
    "주택종류코드.head(2)"
   ]
  },
  {
   "cell_type": "code",
   "execution_count": 13,
   "metadata": {},
   "outputs": [
    {
     "data": {
      "text/html": [
       "<div>\n",
       "<style scoped>\n",
       "    .dataframe tbody tr th:only-of-type {\n",
       "        vertical-align: middle;\n",
       "    }\n",
       "\n",
       "    .dataframe tbody tr th {\n",
       "        vertical-align: top;\n",
       "    }\n",
       "\n",
       "    .dataframe thead th {\n",
       "        text-align: right;\n",
       "    }\n",
       "</style>\n",
       "<table border=\"1\" class=\"dataframe\">\n",
       "  <thead>\n",
       "    <tr style=\"text-align: right;\">\n",
       "      <th></th>\n",
       "      <th>Unnamed: 0</th>\n",
       "      <th>년도구분</th>\n",
       "      <th>집계구코드</th>\n",
       "      <th>주택종류_구분코드</th>\n",
       "      <th>주택_수</th>\n",
       "    </tr>\n",
       "  </thead>\n",
       "  <tbody>\n",
       "    <tr>\n",
       "      <th>0</th>\n",
       "      <td>0</td>\n",
       "      <td>2010</td>\n",
       "      <td>1103066020009</td>\n",
       "      <td>TO_GA_001</td>\n",
       "      <td>274</td>\n",
       "    </tr>\n",
       "    <tr>\n",
       "      <th>1</th>\n",
       "      <td>1</td>\n",
       "      <td>2010</td>\n",
       "      <td>1103066030001</td>\n",
       "      <td>TO_GA_001</td>\n",
       "      <td>236</td>\n",
       "    </tr>\n",
       "  </tbody>\n",
       "</table>\n",
       "</div>"
      ],
      "text/plain": [
       "   Unnamed: 0  년도구분          집계구코드  주택종류_구분코드  주택_수\n",
       "0           0  2010  1103066020009  TO_GA_001   274\n",
       "1           1  2010  1103066030001  TO_GA_001   236"
      ]
     },
     "execution_count": 13,
     "metadata": {},
     "output_type": "execute_result"
    }
   ],
   "source": [
    "주택수.head(2)"
   ]
  },
  {
   "cell_type": "code",
   "execution_count": 14,
   "metadata": {},
   "outputs": [],
   "source": [
    "주택=pd.merge(주택수,행정구역,left_on=\"집계구코드\",right_on=\"집계구코드\",how=\"left\")[[\"년도구분\",\"주택종류_구분코드\",\"주택_수\",\"시군구명\",\"행정동명\"]]"
   ]
  },
  {
   "cell_type": "code",
   "execution_count": 15,
   "metadata": {},
   "outputs": [],
   "source": [
    "주택결과=pd.merge(주택,주택종류코드,right_on=\"주택종류_구분코드\",left_on=\"주택종류_구분코드\",how=\"left\")[[\"년도구분\",\"주택_수\",\"시군구명\",\"행정동명\",\"통계항목\",\"분류\"]]"
   ]
  },
  {
   "cell_type": "code",
   "execution_count": 16,
   "metadata": {},
   "outputs": [],
   "source": [
    "주택결과.to_csv(\"./주택결과.csv\")"
   ]
  },
  {
   "cell_type": "code",
   "execution_count": 20,
   "metadata": {},
   "outputs": [
    {
     "data": {
      "text/html": [
       "<div>\n",
       "<style scoped>\n",
       "    .dataframe tbody tr th:only-of-type {\n",
       "        vertical-align: middle;\n",
       "    }\n",
       "\n",
       "    .dataframe tbody tr th {\n",
       "        vertical-align: top;\n",
       "    }\n",
       "\n",
       "    .dataframe thead th {\n",
       "        text-align: right;\n",
       "    }\n",
       "</style>\n",
       "<table border=\"1\" class=\"dataframe\">\n",
       "  <thead>\n",
       "    <tr style=\"text-align: right;\">\n",
       "      <th></th>\n",
       "      <th>Unnamed: 0</th>\n",
       "      <th>집계구코드</th>\n",
       "      <th>시군구코드</th>\n",
       "      <th>시군구명</th>\n",
       "      <th>행정동코드</th>\n",
       "      <th>행정동명</th>\n",
       "    </tr>\n",
       "  </thead>\n",
       "  <tbody>\n",
       "    <tr>\n",
       "      <th>0</th>\n",
       "      <td>0</td>\n",
       "      <td>1104052010004</td>\n",
       "      <td>11200</td>\n",
       "      <td>성동구</td>\n",
       "      <td>520</td>\n",
       "      <td>왕십리2동\\n</td>\n",
       "    </tr>\n",
       "    <tr>\n",
       "      <th>1</th>\n",
       "      <td>1</td>\n",
       "      <td>1104052010005</td>\n",
       "      <td>11200</td>\n",
       "      <td>성동구</td>\n",
       "      <td>520</td>\n",
       "      <td>왕십리2동\\n</td>\n",
       "    </tr>\n",
       "    <tr>\n",
       "      <th>2</th>\n",
       "      <td>2</td>\n",
       "      <td>1104052010006</td>\n",
       "      <td>11200</td>\n",
       "      <td>성동구</td>\n",
       "      <td>520</td>\n",
       "      <td>왕십리2동\\n</td>\n",
       "    </tr>\n",
       "    <tr>\n",
       "      <th>3</th>\n",
       "      <td>3</td>\n",
       "      <td>1104052010007</td>\n",
       "      <td>11200</td>\n",
       "      <td>성동구</td>\n",
       "      <td>520</td>\n",
       "      <td>왕십리2동\\n</td>\n",
       "    </tr>\n",
       "    <tr>\n",
       "      <th>4</th>\n",
       "      <td>4</td>\n",
       "      <td>1104052010008</td>\n",
       "      <td>11200</td>\n",
       "      <td>성동구</td>\n",
       "      <td>520</td>\n",
       "      <td>왕십리2동\\n</td>\n",
       "    </tr>\n",
       "    <tr>\n",
       "      <th>...</th>\n",
       "      <td>...</td>\n",
       "      <td>...</td>\n",
       "      <td>...</td>\n",
       "      <td>...</td>\n",
       "      <td>...</td>\n",
       "      <td>...</td>\n",
       "    </tr>\n",
       "    <tr>\n",
       "      <th>83503</th>\n",
       "      <td>83503</td>\n",
       "      <td>2108060031500</td>\n",
       "      <td>26320</td>\n",
       "      <td>북구</td>\n",
       "      <td>572</td>\n",
       "      <td>만덕2동\\n</td>\n",
       "    </tr>\n",
       "    <tr>\n",
       "      <th>83504</th>\n",
       "      <td>83504</td>\n",
       "      <td>3402056020001</td>\n",
       "      <td>44150</td>\n",
       "      <td>공주시</td>\n",
       "      <td>560</td>\n",
       "      <td>옥룡동\\n</td>\n",
       "    </tr>\n",
       "    <tr>\n",
       "      <th>83505</th>\n",
       "      <td>83505</td>\n",
       "      <td>3402055010001</td>\n",
       "      <td>44150</td>\n",
       "      <td>공주시</td>\n",
       "      <td>550</td>\n",
       "      <td>금학동\\n</td>\n",
       "    </tr>\n",
       "    <tr>\n",
       "      <th>83506</th>\n",
       "      <td>83506</td>\n",
       "      <td>3435038010003</td>\n",
       "      <td>44790</td>\n",
       "      <td>청양군</td>\n",
       "      <td>380</td>\n",
       "      <td>화성면\\n</td>\n",
       "    </tr>\n",
       "    <tr>\n",
       "      <th>83507</th>\n",
       "      <td>83507</td>\n",
       "      <td>1106071020101</td>\n",
       "      <td>11230</td>\n",
       "      <td>동대문구</td>\n",
       "      <td>710</td>\n",
       "      <td>회기동\\n</td>\n",
       "    </tr>\n",
       "  </tbody>\n",
       "</table>\n",
       "<p>83508 rows × 6 columns</p>\n",
       "</div>"
      ],
      "text/plain": [
       "       Unnamed: 0          집계구코드  시군구코드  시군구명  행정동코드     행정동명\n",
       "0               0  1104052010004  11200   성동구    520  왕십리2동\\n\n",
       "1               1  1104052010005  11200   성동구    520  왕십리2동\\n\n",
       "2               2  1104052010006  11200   성동구    520  왕십리2동\\n\n",
       "3               3  1104052010007  11200   성동구    520  왕십리2동\\n\n",
       "4               4  1104052010008  11200   성동구    520  왕십리2동\\n\n",
       "...           ...            ...    ...   ...    ...      ...\n",
       "83503       83503  2108060031500  26320    북구    572   만덕2동\\n\n",
       "83504       83504  3402056020001  44150   공주시    560    옥룡동\\n\n",
       "83505       83505  3402055010001  44150   공주시    550    금학동\\n\n",
       "83506       83506  3435038010003  44790   청양군    380    화성면\\n\n",
       "83507       83507  1106071020101  11230  동대문구    710    회기동\\n\n",
       "\n",
       "[83508 rows x 6 columns]"
      ]
     },
     "execution_count": 20,
     "metadata": {},
     "output_type": "execute_result"
    }
   ],
   "source": [
    "행정구역"
   ]
  },
  {
   "cell_type": "code",
   "execution_count": null,
   "metadata": {},
   "outputs": [],
   "source": []
  }
 ],
 "metadata": {
  "kernelspec": {
   "display_name": "Python 3",
   "language": "python",
   "name": "python3"
  },
  "language_info": {
   "codemirror_mode": {
    "name": "ipython",
    "version": 3
   },
   "file_extension": ".py",
   "mimetype": "text/x-python",
   "name": "python",
   "nbconvert_exporter": "python",
   "pygments_lexer": "ipython3",
   "version": "3.11.3"
  },
  "orig_nbformat": 4
 },
 "nbformat": 4,
 "nbformat_minor": 2
}
