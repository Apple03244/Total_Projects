{
 "cells": [
  {
   "cell_type": "code",
   "execution_count": 33,
   "metadata": {},
   "outputs": [],
   "source": [
    "import selenium\n",
    "import requests as rq\n",
    "import os\n",
    "import bs4 #객체 읽기\n",
    "import urllib.parse as up #한국어를 url로 바꾸기\n",
    "import mysql.connector as sqlcnt #mysql 연결 -> 데이터 베이스\n",
    "import datetime #검색한 날짜 입력하기 위해\n",
    "import pytz # 서울 표준시로 바꾸기 위함"
   ]
  },
  {
   "cell_type": "code",
   "execution_count": 34,
   "metadata": {},
   "outputs": [],
   "source": [
    "# 쿠팡 url\n",
    "item,page=None,None\n",
    "url=f'https://www.coupang.com/np/search?q={item}&channel=user&page={page}'\n",
    "header={'Refer':\"\"\n",
    "        ,\"User-Agent\":'Mozilla/5.0 (Windows NT 10.0; Win64; x64) AppleWebKit/537.36 (KHTML, like Gecko) Chrome/118.0.0.0 Safari/537.36'\n",
    "        ,\"Accept-Language\": \"ko-KR,ko;q=0.8,en-US;q=0.5,en;q=0.3\"} # 이부분이 쿠팡은 추가로 필요함"
   ]
  },
  {
   "cell_type": "code",
   "execution_count": 35,
   "metadata": {},
   "outputs": [],
   "source": [
    "#검색어를 url 형식에 맞게 encoding해줘야함\n",
    "def encoder(x:str):\n",
    "   return up.quote(x.encode('utf-8')) #우선 utf-8로 되어있어야함\n",
    "\n",
    "def urlmkr(item,page):\n",
    "   item=encoder(item)\n",
    "   return f'https://www.coupang.com/np/search?q={item}&channel=user&page={page}'"
   ]
  },
  {
   "cell_type": "code",
   "execution_count": 36,
   "metadata": {},
   "outputs": [],
   "source": [
    "# 1단계 : 객체 생성\n",
    "# coupang_search=rq.Session()\n",
    "# coupang_search.headers.update(header)"
   ]
  },
  {
   "cell_type": "code",
   "execution_count": 37,
   "metadata": {},
   "outputs": [],
   "source": [
    "# 2단계  : url 수정 후 request\n",
    "# 3단계 : 위의 틀을 기반으로 검색어를 자유롭게 바꿀수 있게끔 함수화 하기\n",
    "def coupang(item):\n",
    "    #해더\n",
    "    header={'Refer':\"\"\n",
    "        ,\"User-Agent\":'Mozilla/5.0 (Windows NT 10.0; Win64; x64) AppleWebKit/537.36 (KHTML, like Gecko) Chrome/118.0.0.0 Safari/537.36'\n",
    "        ,\"Accept-Language\": \"ko-KR,ko;q=0.8,en-US;q=0.5,en;q=0.3\"}\n",
    "    def encoder(item:str):\n",
    "       return up.quote(item.encode('utf-8'))\n",
    "    def urlmkr(item,page):\n",
    "        item=encoder(item)\n",
    "        return f'https://www.coupang.com/np/search?q={item}&channel=user&page={page}'\n",
    "    \n",
    "    #객체 생성\n",
    "    coupang_search=rq.Session()\n",
    "    coupang_search.headers.update(header)\n",
    "    \n",
    "    #검색시작\n",
    "    page=0 #시작 페이지 1부터\n",
    "    items=[]\n",
    "    empty=[]\n",
    "    while True:\n",
    "        page+=1\n",
    "        url=urlmkr(item,page)\n",
    "        try:\n",
    "            search=coupang_search.get(url,timeout=5)\n",
    "        # 검색 중지 조건 1. 모두 검색 완료 / 2. 페이지 오류-> 검색시간이 5초를 초과\n",
    "            if search.status_code!=200:\n",
    "                print(page)\n",
    "                break\n",
    "        except:\n",
    "            break\n",
    "        html=bs4.BeautifulSoup(search.text)\n",
    "        # 판매목록 세부화\n",
    "        items_html=html.select(\"li.search-product\") #상품 하나씩 조회\n",
    "        add_adress='www.coupang.com' #상품주소 에 추가해야 이동가능\n",
    "        for sub_html in items_html:\n",
    "            href=sub_html.select(\"a\")[0].get_attribute_list(\"href\")[0] #상품주소\n",
    "            \n",
    "            name=sub_html.select('div.name')[0].text.strip()   #상품명\n",
    "\n",
    "            if sub_html.select(\"em.rating\"): # 평점이 없을수도 있음\n",
    "                rating=float(sub_html.select(\"em.rating\")[0].text.strip()) #상품 평점\n",
    "\n",
    "            if sub_html.select('span.rating-total-count'): #리뷰가 없을수도 있음\n",
    "                count_review=sub_html.select('span.rating-total-count')[0].text.strip() #상품 리뷰수\n",
    "\n",
    "            price=sub_html.select('strong.price-value')[0].text.strip() #상품가격\n",
    "            \n",
    "            # 검색한 시간을 기록하기 위해선(날짜가 변경돼 차후 다시 검색했을시 없을 수도 있으므로) 아래의 코드가 필요\n",
    "            enc=pytz.timezone(\"Asia/Seoul\")\n",
    "            enc_time=datetime.datetime.now(enc) # 서울 표준시로 변경\n",
    "\n",
    "            description={'item_address':add_adress+href,\n",
    "                        'item_name':name,\n",
    "                        'rating':rating,\n",
    "                        'count_review':count_review,\n",
    "                        'price':price,\n",
    "                        \"search_time\":f'{enc_time.year}-{enc_time.month}-{enc_time.day}'}\n",
    "            items.append(description)\n",
    "    return {\"item\":item,'result':items}"
   ]
  },
  {
   "cell_type": "code",
   "execution_count": 38,
   "metadata": {},
   "outputs": [],
   "source": [
    "test=coupang(\"제로콜라\")"
   ]
  },
  {
   "cell_type": "code",
   "execution_count": 39,
   "metadata": {},
   "outputs": [],
   "source": [
    "# 4단계 MySql에 데이터베이스 업로드(선택사항)\n",
    "import mysql\n",
    "\n",
    "connection=mysql.connector.connect(\n",
    "    host=\"localhost\",\n",
    "    user=\"root\",\n",
    "    password='1234',\n",
    "    database='zero',\n",
    "    port=3306)\n",
    "\n",
    "cursor=connection.cursor()"
   ]
  },
  {
   "cell_type": "code",
   "execution_count": 40,
   "metadata": {},
   "outputs": [],
   "source": [
    "def transnum(x:str):\n",
    "    return int(\"\".join([txt for txt in x if txt.isnumeric()]))"
   ]
  },
  {
   "cell_type": "code",
   "execution_count": 41,
   "metadata": {},
   "outputs": [],
   "source": [
    "use_test=test.copy()"
   ]
  },
  {
   "cell_type": "code",
   "execution_count": 42,
   "metadata": {},
   "outputs": [],
   "source": [
    "# 데이터 추가\n",
    "for data in use_test[\"result\"]: # 어떤 검색어로 검색했냐에 따라 달라질 예정\n",
    "    keyward=use_test[\"item\"]\n",
    "    # 쿼리문에서 열 이름 만들기\n",
    "    column_names=str(list(data.keys()))[1:-2] #[] 지우기\n",
    "    column_names=column_names.replace(\"'\",\"\") # '표시가 없어야 함\n",
    "\n",
    "    #value 부분 만들기\n",
    "    for key in data:\n",
    "        #정수화\n",
    "        if key in ['count_review','price']:\n",
    "            data[key]=transnum(data[key])\n",
    "    values=str(list(data.values()))[1:-1]\n",
    "    quary=f'insert into coupang (keyward, {column_names}) values(\"{keyward}\", {values})'\n",
    "    cursor.execute(quary)\n",
    "connection.commit()\n",
    "cursor.close()\n",
    "connection.close()"
   ]
  },
  {
   "cell_type": "code",
   "execution_count": 43,
   "metadata": {},
   "outputs": [],
   "source": [
    "# 참고 구문\n",
    "# mysql> creat table coupang (id int auto_increment primary key,\n",
    "#     -> item_name varchar(255),\n",
    "#     -> item_address varchar(500),\n",
    "#     -> count_review int,\n",
    "#     -> rating float,\n",
    "#     -> price int,\n",
    "#     -> search_time varchar(255))\n",
    "#     -> keyward varchar(255);\n",
    "# mysql> alter table coupang add column keyward varchar(255);\n"
   ]
  },
  {
   "cell_type": "markdown",
   "metadata": {},
   "source": [
    "테이블 만들기 -> 검색어 저장 열 생성 및 주소에 unique 걸기(다른 검색어로 중복된 판매사이트가 나오면 안되므로)"
   ]
  },
  {
   "cell_type": "code",
   "execution_count": 44,
   "metadata": {},
   "outputs": [],
   "source": [
    "test_search=rq.Session()\n",
    "test_search.headers.update(header)"
   ]
  },
  {
   "cell_type": "code",
   "execution_count": null,
   "metadata": {},
   "outputs": [],
   "source": []
  }
 ],
 "metadata": {
  "kernelspec": {
   "display_name": "Python 3",
   "language": "python",
   "name": "python3"
  },
  "language_info": {
   "codemirror_mode": {
    "name": "ipython",
    "version": 3
   },
   "file_extension": ".py",
   "mimetype": "text/x-python",
   "name": "python",
   "nbconvert_exporter": "python",
   "pygments_lexer": "ipython3",
   "version": "3.12.0"
  }
 },
 "nbformat": 4,
 "nbformat_minor": 2
}
