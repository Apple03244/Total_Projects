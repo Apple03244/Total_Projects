{
 "cells": [
  {
   "cell_type": "code",
   "execution_count": 79,
   "metadata": {},
   "outputs": [],
   "source": [
    "import selenium\n",
    "import requests as rq\n",
    "import os\n",
    "import bs4 #객체 읽기\n",
    "import urllib.parse as up #한국어를 url로 바꾸기\n",
    "import mysql.connector as sqlcnt #mysql 연결 -> 데이터 베이스\n",
    "import datetime #검색한 날짜 입력하기 위해\n",
    "import pytz # 서울 표준시로 바꾸기 위함"
   ]
  },
  {
   "cell_type": "code",
   "execution_count": 3,
   "metadata": {},
   "outputs": [],
   "source": [
    "# 쿠팡 url\n",
    "item,page=None,None\n",
    "url=f'https://www.coupang.com/np/search?q={item}&channel=user&page={page}'\n",
    "header={'Refer':\"\"\n",
    "        ,\"User-Agent\":'Mozilla/5.0 (Windows NT 10.0; Win64; x64) AppleWebKit/537.36 (KHTML, like Gecko) Chrome/118.0.0.0 Safari/537.36'\n",
    "        ,\"Accept-Language\": \"ko-KR,ko;q=0.8,en-US;q=0.5,en;q=0.3\"} # 이부분이 쿠팡은 추가로 필요함"
   ]
  },
  {
   "cell_type": "code",
   "execution_count": 2,
   "metadata": {},
   "outputs": [],
   "source": [
    "#검색어를 url 형식에 맞게 encoding해줘야함\n",
    "def encoder(x:str):\n",
    "   return up.quote(x.encode('utf-8')) #우선 utf-8로 되어있어야함\n",
    "\n",
    "def urlmkr(item,page):\n",
    "   item=encoder(item)\n",
    "   return f'https://www.coupang.com/np/search?q={item}&channel=user&page={page}'"
   ]
  },
  {
   "cell_type": "code",
   "execution_count": 8,
   "metadata": {},
   "outputs": [],
   "source": [
    "# 1단계 : 객체 생성\n",
    "# coupang_search=rq.Session()\n",
    "# coupang_search.headers.update(header)"
   ]
  },
  {
   "cell_type": "code",
   "execution_count": 95,
   "metadata": {},
   "outputs": [],
   "source": [
    "# 2단계  : url 수정 후 request\n",
    "# 3단계 : 위의 틀을 기반으로 검색어를 자유롭게 바꿀수 있게끔 함수화 하기\n",
    "def coupang(item):\n",
    "    #해더\n",
    "    header={'Refer':\"\"\n",
    "        ,\"User-Agent\":'Mozilla/5.0 (Windows NT 10.0; Win64; x64) AppleWebKit/537.36 (KHTML, like Gecko) Chrome/118.0.0.0 Safari/537.36'\n",
    "        ,\"Accept-Language\": \"ko-KR,ko;q=0.8,en-US;q=0.5,en;q=0.3\"}\n",
    "    def encoder(item:str):\n",
    "       return up.quote(item.encode('utf-8'))\n",
    "    def urlmkr(item,page):\n",
    "        item=encoder(item)\n",
    "        return f'https://www.coupang.com/np/search?q={item}&channel=user&page={page}'\n",
    "    \n",
    "    #객체 생성\n",
    "    coupang_search=rq.Session()\n",
    "    coupang_search.headers.update(header)\n",
    "    \n",
    "    #검색시작\n",
    "    page=0 #시작 페이지 1부터\n",
    "    items=[]\n",
    "    empty=[]\n",
    "    while True:\n",
    "        page+=1\n",
    "        url=urlmkr(item,page)\n",
    "        try:\n",
    "            search=coupang_search.get(url,timeout=5)\n",
    "        # 검색 중지 조건 1. 모두 검색 완료 / 2. 페이지 오류-> 검색시간이 5초를 초과\n",
    "            if search.status_code!=200:\n",
    "                print(page)\n",
    "                break\n",
    "        except:\n",
    "            break\n",
    "        html=bs4.BeautifulSoup(search.text)\n",
    "        # 판매목록 세부화\n",
    "        items_html=html.select(\"li.search-product\") #상품 하나씩 조회\n",
    "        add_adress='www.coupang.com' #상품주소 에 추가해야 이동가능\n",
    "        for sub_html in items_html:\n",
    "            href=sub_html.select(\"a\")[0].get_attribute_list(\"href\")[0] #상품주소\n",
    "            \n",
    "            name=sub_html.select('div.name')[0].text.strip()   #상품명\n",
    "\n",
    "            if sub_html.select(\"em.rating\"): # 평점이 없을수도 있음\n",
    "                rating=sub_html.select(\"em.rating\")[0].text.strip() #상품 평점\n",
    "\n",
    "            if sub_html.select('span.rating-total-count'): #리뷰가 없을수도 있음\n",
    "                count_review=sub_html.select('span.rating-total-count')[0].text.strip() #상품 리뷰수\n",
    "\n",
    "            price=sub_html.select('strong.price-value')[0].text.strip() #상품가격\n",
    "            \n",
    "            # 검색한 시간을 기록하기 위해선(날짜가 변경돼 차후 다시 검색했을시 없을 수도 있으므로) 아래의 코드가 필요\n",
    "            enc=pytz.timezone(\"Asia/Seoul\")\n",
    "            enc_time=datetime.datetime.now(enc) # 서울 표준시로 변경\n",
    "\n",
    "            description={'item_adress':add_adress+href,\n",
    "                        'name':name,\n",
    "                        'rating':rating,\n",
    "                        'count-_review':count_review,\n",
    "                        'price':price,\n",
    "                        \"search_time\":f'{enc_time.year}-{enc_time.month}-{enc_time.day}'}\n",
    "            items.append(description)\n",
    "    return {\"item\":item,'result':items,'false':empty}"
   ]
  },
  {
   "cell_type": "code",
   "execution_count": 96,
   "metadata": {},
   "outputs": [],
   "source": [
    "# 테스트\n",
    "test=coupang(\"코카콜라\")\n"
   ]
  },
  {
   "cell_type": "code",
   "execution_count": 97,
   "metadata": {},
   "outputs": [
    {
     "data": {
      "text/plain": [
       "{'item_adress': 'www.coupang.com/vp/products/7698998310?itemId=20608085096&vendorItemId=86170602196&sourceType=srp_product_ads&clickEventId=f176fec0-7ed7-11ee-9ac4-223cd49cc085&korePlacement=15&koreSubPlacement=1&clickEventId=f176fec0-7ed7-11ee-9ac4-223cd49cc085&korePlacement=15&koreSubPlacement=1',\n",
       " 'name': '오리지널 코카콜라 190ml 1박스 30캔입 미니캔 캔콜라, 30개',\n",
       " 'rating': '4.5',\n",
       " 'count-_review': '(113)',\n",
       " 'price': '24,000',\n",
       " 'search_time': '2023-11-9'}"
      ]
     },
     "execution_count": 97,
     "metadata": {},
     "output_type": "execute_result"
    }
   ],
   "source": [
    "test[\"result\"][0]"
   ]
  },
  {
   "cell_type": "code",
   "execution_count": null,
   "metadata": {},
   "outputs": [],
   "source": []
  }
 ],
 "metadata": {
  "kernelspec": {
   "display_name": "Python 3",
   "language": "python",
   "name": "python3"
  },
  "language_info": {
   "codemirror_mode": {
    "name": "ipython",
    "version": 3
   },
   "file_extension": ".py",
   "mimetype": "text/x-python",
   "name": "python",
   "nbconvert_exporter": "python",
   "pygments_lexer": "ipython3",
   "version": "3.12.0"
  }
 },
 "nbformat": 4,
 "nbformat_minor": 2
}
