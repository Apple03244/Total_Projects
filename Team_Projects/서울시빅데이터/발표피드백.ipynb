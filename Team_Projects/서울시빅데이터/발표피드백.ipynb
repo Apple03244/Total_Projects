{
 "cells": [
  {
   "cell_type": "markdown",
   "metadata": {},
   "source": [
    "# 발표 피드백 문서"
   ]
  },
  {
   "cell_type": "markdown",
   "metadata": {},
   "source": [
    "## 펭귄조\n",
    "\n",
    "- 1. 분석프로세스에서의 원하는 목적등이 좀더 드러났으면 좋겠다.\n",
    "- 2. 데이터 전처리 설명은 불필요\n",
    "- 3. 파라미터 결정방법이 약점"
   ]
  },
  {
   "cell_type": "markdown",
   "metadata": {},
   "source": []
  }
 ],
 "metadata": {
  "language_info": {
   "name": "python"
  }
 },
 "nbformat": 4,
 "nbformat_minor": 2
}
