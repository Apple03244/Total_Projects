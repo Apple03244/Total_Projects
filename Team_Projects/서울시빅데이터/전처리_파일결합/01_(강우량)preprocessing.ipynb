{
 "cells": [
  {
   "cell_type": "code",
   "execution_count": 1,
   "metadata": {},
   "outputs": [],
   "source": [
    "import pandas as pd\n",
    "import os\n",
    "import sys"
   ]
  },
  {
   "cell_type": "code",
   "execution_count": 2,
   "metadata": {},
   "outputs": [],
   "source": [
    "기상관측=\"C:/Users/SAMSUNG/Desktop/공부파일들/서울시빅데이타/B037. 서울시 기상관측정보\"\n",
    "강우량=\"C:/Users/SAMSUNG/Desktop/공부파일들/서울시빅데이타/B038. 서울시 강우량정보/2. 파일데이터\""
   ]
  },
  {
   "cell_type": "markdown",
   "metadata": {},
   "source": [
    "## 파일경로"
   ]
  },
  {
   "cell_type": "code",
   "execution_count": 3,
   "metadata": {},
   "outputs": [],
   "source": [
    "file_paths=list(map(lambda x:강우량+'/'+x,os.listdir(강우량)))\n",
    "final_path=[]\n",
    "for path in file_paths:\n",
    "    for sub_path in os.listdir(path):\n",
    "        final_path.append(path+\"/\"+sub_path)"
   ]
  },
  {
   "cell_type": "code",
   "execution_count": 4,
   "metadata": {},
   "outputs": [],
   "source": [
    "temp_url=r\"C:\\Users\\SAMSUNG\\Desktop\\공부파일들\\서울시빅데이타\\B038. 서울시 강우량정보\\2. 파일데이터\\2019\"\n",
    "temp=list(map(lambda x : temp_url+\"\\\\\"+x , os.listdir(r\"C:\\Users\\SAMSUNG\\Desktop\\공부파일들\\서울시빅데이타\\B038. 서울시 강우량정보\\2. 파일데이터\\2019\")))"
   ]
  },
  {
   "cell_type": "markdown",
   "metadata": {},
   "source": [
    "### 모듈화"
   ]
  },
  {
   "cell_type": "code",
   "execution_count": 5,
   "metadata": {},
   "outputs": [],
   "source": [
    "def makecsv(path):\n",
    "    def trans(line):\n",
    "        return list(map(lambda x:x.replace(\"`\",\"\"),line.split(\"|\")))\n",
    "    \n",
    "    with open(path,\"r\",encoding='utf-8') as f:\n",
    "        temp=f.readlines()    \n",
    "    col_name=trans(temp[0])\n",
    "    datas=[trans(x) for x in temp[1:]]\n",
    "    data_dc={}\n",
    "    for i in range(len(col_name)):\n",
    "        data_dc[col_name[i]]=[x[i] for x in datas]\n",
    "    col_trans= [\"강우량_코드\",\"강우량계명\",\"구청_코드\",\"구청명\",\"시우량\",\"일년누계\",\"최대우량\",\"송신지_자료수집_시각\",\"수신서버_저장_시각\"]\n",
    "    return pd.DataFrame(data_dc).rename(columns=dict(zip(col_name,col_trans)))\n",
    "    #return pd.DataFrame(data_dc)"
   ]
  },
  {
   "cell_type": "code",
   "execution_count": 9,
   "metadata": {},
   "outputs": [
    {
     "data": {
      "text/plain": [
       "33"
      ]
     },
     "execution_count": 9,
     "metadata": {},
     "output_type": "execute_result"
    }
   ],
   "source": [
    "len(set(temp))"
   ]
  },
  {
   "cell_type": "code",
   "execution_count": 10,
   "metadata": {},
   "outputs": [],
   "source": [
    "total_rain=pd.concat([makecsv(x) for x in temp])"
   ]
  },
  {
   "cell_type": "code",
   "execution_count": null,
   "metadata": {},
   "outputs": [],
   "source": [
    "total_rain.to_csv(\"./강우량_종힙.csv\")"
   ]
  },
  {
   "cell_type": "code",
   "execution_count": null,
   "metadata": {},
   "outputs": [],
   "source": []
  }
 ],
 "metadata": {
  "kernelspec": {
   "display_name": "Python 3",
   "language": "python",
   "name": "python3"
  },
  "language_info": {
   "codemirror_mode": {
    "name": "ipython",
    "version": 3
   },
   "file_extension": ".py",
   "mimetype": "text/x-python",
   "name": "python",
   "nbconvert_exporter": "python",
   "pygments_lexer": "ipython3",
   "version": "3.12.0"
  },
  "orig_nbformat": 4
 },
 "nbformat": 4,
 "nbformat_minor": 2
}
