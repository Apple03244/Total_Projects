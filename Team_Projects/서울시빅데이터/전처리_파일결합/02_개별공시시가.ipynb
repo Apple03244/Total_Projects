{
 "cells": [
  {
   "cell_type": "markdown",
   "metadata": {},
   "source": [
    "2010~2019"
   ]
  },
  {
   "cell_type": "code",
   "execution_count": 6,
   "metadata": {},
   "outputs": [],
   "source": [
    "import pandas as pd\n",
    "import numpy as np\n",
    "import os \n",
    "path=\"C:/Users/SAMSUNG/Desktop/공부파일들/서울시빅데이타/공시지가\"\n",
    "file=list(map(lambda x:path+\"/\"+x,os.listdir(path)))"
   ]
  },
  {
   "cell_type": "code",
   "execution_count": 13,
   "metadata": {},
   "outputs": [
    {
     "name": "stderr",
     "output_type": "stream",
     "text": [
      "C:\\Users\\SAMSUNG\\AppData\\Local\\Temp\\ipykernel_15904\\483782765.py:1: DtypeWarning: Columns (3,9,10) have mixed types. Specify dtype option on import or set low_memory=False.\n",
      "  공시지가=dict(zip(range(2010,2020),[pd.read_csv(file[i],encoding='euc-kr') for i in range(10)]))\n",
      "C:\\Users\\SAMSUNG\\AppData\\Local\\Temp\\ipykernel_15904\\483782765.py:1: DtypeWarning: Columns (3,9,10) have mixed types. Specify dtype option on import or set low_memory=False.\n",
      "  공시지가=dict(zip(range(2010,2020),[pd.read_csv(file[i],encoding='euc-kr') for i in range(10)]))\n",
      "C:\\Users\\SAMSUNG\\AppData\\Local\\Temp\\ipykernel_15904\\483782765.py:1: DtypeWarning: Columns (3,9,10) have mixed types. Specify dtype option on import or set low_memory=False.\n",
      "  공시지가=dict(zip(range(2010,2020),[pd.read_csv(file[i],encoding='euc-kr') for i in range(10)]))\n",
      "C:\\Users\\SAMSUNG\\AppData\\Local\\Temp\\ipykernel_15904\\483782765.py:1: DtypeWarning: Columns (3,9,10) have mixed types. Specify dtype option on import or set low_memory=False.\n",
      "  공시지가=dict(zip(range(2010,2020),[pd.read_csv(file[i],encoding='euc-kr') for i in range(10)]))\n",
      "C:\\Users\\SAMSUNG\\AppData\\Local\\Temp\\ipykernel_15904\\483782765.py:1: DtypeWarning: Columns (3,9,10) have mixed types. Specify dtype option on import or set low_memory=False.\n",
      "  공시지가=dict(zip(range(2010,2020),[pd.read_csv(file[i],encoding='euc-kr') for i in range(10)]))\n",
      "C:\\Users\\SAMSUNG\\AppData\\Local\\Temp\\ipykernel_15904\\483782765.py:1: DtypeWarning: Columns (3,9,10) have mixed types. Specify dtype option on import or set low_memory=False.\n",
      "  공시지가=dict(zip(range(2010,2020),[pd.read_csv(file[i],encoding='euc-kr') for i in range(10)]))\n",
      "C:\\Users\\SAMSUNG\\AppData\\Local\\Temp\\ipykernel_15904\\483782765.py:1: DtypeWarning: Columns (3,9,10) have mixed types. Specify dtype option on import or set low_memory=False.\n",
      "  공시지가=dict(zip(range(2010,2020),[pd.read_csv(file[i],encoding='euc-kr') for i in range(10)]))\n",
      "C:\\Users\\SAMSUNG\\AppData\\Local\\Temp\\ipykernel_15904\\483782765.py:1: DtypeWarning: Columns (3,9,10) have mixed types. Specify dtype option on import or set low_memory=False.\n",
      "  공시지가=dict(zip(range(2010,2020),[pd.read_csv(file[i],encoding='euc-kr') for i in range(10)]))\n",
      "C:\\Users\\SAMSUNG\\AppData\\Local\\Temp\\ipykernel_15904\\483782765.py:1: DtypeWarning: Columns (3,9,10) have mixed types. Specify dtype option on import or set low_memory=False.\n",
      "  공시지가=dict(zip(range(2010,2020),[pd.read_csv(file[i],encoding='euc-kr') for i in range(10)]))\n",
      "C:\\Users\\SAMSUNG\\AppData\\Local\\Temp\\ipykernel_15904\\483782765.py:1: DtypeWarning: Columns (3,9,10) have mixed types. Specify dtype option on import or set low_memory=False.\n",
      "  공시지가=dict(zip(range(2010,2020),[pd.read_csv(file[i],encoding='euc-kr') for i in range(10)]))\n"
     ]
    }
   ],
   "source": [
    "공시지가=dict(zip(range(2010,2020),[pd.read_csv(file[i],encoding='euc-kr') for i in range(10)]))"
   ]
  },
  {
   "cell_type": "code",
   "execution_count": 11,
   "metadata": {},
   "outputs": [],
   "source": [
    "def makecsv(num):\n",
    "    use_data=pd.DataFrame(공시지가[num].groupby(by=[\"시군구명\",\"법정동명\"])[\"공시지가(원/㎡)\"].mean())\n",
    "    final=use_data.reset_index().set_index(\"법정동명\").drop(\"시군구명\",axis=1)\n",
    "    final\n",
    "    final.to_excel(f\"공시지가_{num}평균.xlsx\")"
   ]
  },
  {
   "cell_type": "code",
   "execution_count": 16,
   "metadata": {},
   "outputs": [
    {
     "ename": "KeyError",
     "evalue": "2020",
     "output_type": "error",
     "traceback": [
      "\u001b[1;31m---------------------------------------------------------------------------\u001b[0m",
      "\u001b[1;31mKeyError\u001b[0m                                  Traceback (most recent call last)",
      "\u001b[1;32mc:\\Users\\SAMSUNG\\Desktop\\Projects\\005_서울시빅데이터\\전처리_파일결합\\02_개별공시시가.ipynb Cell 5\u001b[0m line \u001b[0;36m1\n\u001b[1;32m----> <a href='vscode-notebook-cell:/c%3A/Users/SAMSUNG/Desktop/Projects/005_%EC%84%9C%EC%9A%B8%EC%8B%9C%EB%B9%85%EB%8D%B0%EC%9D%B4%ED%84%B0/%EC%A0%84%EC%B2%98%EB%A6%AC_%ED%8C%8C%EC%9D%BC%EA%B2%B0%ED%95%A9/02_%EA%B0%9C%EB%B3%84%EA%B3%B5%EC%8B%9C%EC%8B%9C%EA%B0%80.ipynb#W6sZmlsZQ%3D%3D?line=0'>1</a>\u001b[0m makecsv(\u001b[39m2020\u001b[39;49m)\n",
      "\u001b[1;32mc:\\Users\\SAMSUNG\\Desktop\\Projects\\005_서울시빅데이터\\전처리_파일결합\\02_개별공시시가.ipynb Cell 5\u001b[0m line \u001b[0;36m2\n\u001b[0;32m      <a href='vscode-notebook-cell:/c%3A/Users/SAMSUNG/Desktop/Projects/005_%EC%84%9C%EC%9A%B8%EC%8B%9C%EB%B9%85%EB%8D%B0%EC%9D%B4%ED%84%B0/%EC%A0%84%EC%B2%98%EB%A6%AC_%ED%8C%8C%EC%9D%BC%EA%B2%B0%ED%95%A9/02_%EA%B0%9C%EB%B3%84%EA%B3%B5%EC%8B%9C%EC%8B%9C%EA%B0%80.ipynb#W6sZmlsZQ%3D%3D?line=0'>1</a>\u001b[0m \u001b[39mdef\u001b[39;00m \u001b[39mmakecsv\u001b[39m(num):\n\u001b[1;32m----> <a href='vscode-notebook-cell:/c%3A/Users/SAMSUNG/Desktop/Projects/005_%EC%84%9C%EC%9A%B8%EC%8B%9C%EB%B9%85%EB%8D%B0%EC%9D%B4%ED%84%B0/%EC%A0%84%EC%B2%98%EB%A6%AC_%ED%8C%8C%EC%9D%BC%EA%B2%B0%ED%95%A9/02_%EA%B0%9C%EB%B3%84%EA%B3%B5%EC%8B%9C%EC%8B%9C%EA%B0%80.ipynb#W6sZmlsZQ%3D%3D?line=1'>2</a>\u001b[0m     use_data\u001b[39m=\u001b[39mpd\u001b[39m.\u001b[39mDataFrame(공시지가[num]\u001b[39m.\u001b[39mgroupby(by\u001b[39m=\u001b[39m[\u001b[39m\"\u001b[39m\u001b[39m시군구명\u001b[39m\u001b[39m\"\u001b[39m,\u001b[39m\"\u001b[39m\u001b[39m법정동명\u001b[39m\u001b[39m\"\u001b[39m])[\u001b[39m\"\u001b[39m\u001b[39m공시지가(원/㎡)\u001b[39m\u001b[39m\"\u001b[39m]\u001b[39m.\u001b[39mmean())\n\u001b[0;32m      <a href='vscode-notebook-cell:/c%3A/Users/SAMSUNG/Desktop/Projects/005_%EC%84%9C%EC%9A%B8%EC%8B%9C%EB%B9%85%EB%8D%B0%EC%9D%B4%ED%84%B0/%EC%A0%84%EC%B2%98%EB%A6%AC_%ED%8C%8C%EC%9D%BC%EA%B2%B0%ED%95%A9/02_%EA%B0%9C%EB%B3%84%EA%B3%B5%EC%8B%9C%EC%8B%9C%EA%B0%80.ipynb#W6sZmlsZQ%3D%3D?line=2'>3</a>\u001b[0m     final\u001b[39m=\u001b[39muse_data\u001b[39m.\u001b[39mreset_index()\u001b[39m.\u001b[39mset_index(\u001b[39m\"\u001b[39m\u001b[39m법정동명\u001b[39m\u001b[39m\"\u001b[39m)\u001b[39m.\u001b[39mdrop(\u001b[39m\"\u001b[39m\u001b[39m시군구명\u001b[39m\u001b[39m\"\u001b[39m,axis\u001b[39m=\u001b[39m\u001b[39m1\u001b[39m)\n\u001b[0;32m      <a href='vscode-notebook-cell:/c%3A/Users/SAMSUNG/Desktop/Projects/005_%EC%84%9C%EC%9A%B8%EC%8B%9C%EB%B9%85%EB%8D%B0%EC%9D%B4%ED%84%B0/%EC%A0%84%EC%B2%98%EB%A6%AC_%ED%8C%8C%EC%9D%BC%EA%B2%B0%ED%95%A9/02_%EA%B0%9C%EB%B3%84%EA%B3%B5%EC%8B%9C%EC%8B%9C%EA%B0%80.ipynb#W6sZmlsZQ%3D%3D?line=3'>4</a>\u001b[0m     final\n",
      "\u001b[1;31mKeyError\u001b[0m: 2020"
     ]
    }
   ],
   "source": [
    "makecsv(2020)"
   ]
  },
  {
   "cell_type": "code",
   "execution_count": null,
   "metadata": {},
   "outputs": [],
   "source": []
  }
 ],
 "metadata": {
  "kernelspec": {
   "display_name": "Python 3",
   "language": "python",
   "name": "python3"
  },
  "language_info": {
   "codemirror_mode": {
    "name": "ipython",
    "version": 3
   },
   "file_extension": ".py",
   "mimetype": "text/x-python",
   "name": "python",
   "nbconvert_exporter": "python",
   "pygments_lexer": "ipython3",
   "version": "3.12.0"
  },
  "orig_nbformat": 4
 },
 "nbformat": 4,
 "nbformat_minor": 2
}
