{
 "cells": [
  {
   "cell_type": "code",
   "execution_count": 28,
   "metadata": {},
   "outputs": [],
   "source": [
    "import pandas as pd\n",
    "import sklearn.preprocessing as skpre\n",
    "data=pd.read_excel(r\"C:\\Users\\SAMSUNG\\Desktop\\전체자료_(강우량추가).xlsx\")\n"
   ]
  },
  {
   "cell_type": "code",
   "execution_count": 29,
   "metadata": {},
   "outputs": [],
   "source": [
    "# 침수여부\n",
    "data[\"침수여부\"]=0\n",
    "data.loc[data[\"침수횟수\"]>=1,\"침수여부\"]=1\n",
    "data[\"침수여부\"].value_counts()\n",
    "data['구단위시우량']=data['동단위우량']/data[\"동면적(k㎡)\"]\n",
    "# 면적당 \"제방\",\"수문\",\"암거\"\n",
    "data[\"면적당제방\"]=data[\"제방\"]/data[\"동면적(k㎡)\"]\n",
    "data[\"면적당수문\"]=data[\"수문\"]/data[\"동면적(k㎡)\"]\n",
    "data[\"면적당암거\"]=data[\"암거\"]/data[\"동면적(k㎡)\"]\n",
    "data['면적당노후건물개수']=data[\"노후건물개수\"]/data[\"동면적(k㎡)\"]\n",
    "data[\"면적당지하건물\"]=data[\"지하건물\"]/data[\"동면적(k㎡)\"]"
   ]
  },
  {
   "cell_type": "code",
   "execution_count": 30,
   "metadata": {},
   "outputs": [
    {
     "data": {
      "text/plain": [
       "Index(['Unnamed: 0', 'GU_NAME', 'ADM_NM', '동면적(k㎡)', '인구수', '인구밀도(명/km²)',\n",
       "       '동단위우량', '동단위시우량', '침수횟수', '경사도', '양호비율', '도로_건물_면적_비율', '녹지_면적_비율',\n",
       "       '제방', '수문', '암거', '구난시설', '노후건물개수', '노후_건물_밀도(동/km²)', '행정동_코드',\n",
       "       '월평균소득', '면적당_소비액(백만원/km²)', '분기평균총지출', '고령자비율', '장애인비율', '행정동코드', '면적',\n",
       "       '지하건물', '지하건물_밀도(동/km²)', '빗물펌프장까지의거리', '평균고도', '하천까지의거리', '일일최대강수량',\n",
       "       '집중호우_발생횟수', '하천면적', '하천면적/면적', '침수여부', '구단위시우량', '면적당제방', '면적당수문',\n",
       "       '면적당암거', '면적당노후건물개수', '면적당지하건물'],\n",
       "      dtype='object')"
      ]
     },
     "execution_count": 30,
     "metadata": {},
     "output_type": "execute_result"
    }
   ],
   "source": [
    "data.columns"
   ]
  },
  {
   "cell_type": "code",
   "execution_count": 31,
   "metadata": {},
   "outputs": [],
   "source": [
    "usenot_column=['Unnamed: 0', 'GU_NAME', 'ADM_NM', '동면적(k㎡)',\n",
    "                '인구수','동단위우량', '동단위시우량', '침수횟수',\n",
    "                '제방', '수문', '암거', '구난시설', '노후건물개수', '노후_건물_밀도(동/km²)', '행정동_코드',\n",
    "                '면적당_소비액(백만원/km²)','고령자비율', '장애인비율', '행정동코드', '면적',\n",
    "       '지하건물', '지하건물_밀도(동/km²)', '하천면적','침수여부','월평균소득']\n",
    "numeric_column=data.columns.difference(usenot_column)"
   ]
  },
  {
   "cell_type": "code",
   "execution_count": 32,
   "metadata": {},
   "outputs": [],
   "source": [
    "sca_df=data.copy()\n",
    "minmax=skpre.MinMaxScaler()\n",
    "minmax.fit(sca_df[numeric_column])\n",
    "sca_df[numeric_column]=minmax.transform(sca_df[numeric_column])"
   ]
  },
  {
   "cell_type": "code",
   "execution_count": 33,
   "metadata": {},
   "outputs": [],
   "source": [
    "# from scipy.stats import ttest_ind\n",
    "\n",
    "# # Assuming you have a DataFrame with a '침수여부' column and other numeric columns for the variables you want to compare\n",
    "# # Replace '침수여부' with the actual column name in your DataFrame\n",
    "\n",
    "# categorical_column = \"침수여부\"\n",
    "\n",
    "# # Iterate through numeric columns\n",
    "# for numeric_column in data.select_dtypes(include=\"number\").columns:\n",
    "#     if numeric_column != categorical_column:\n",
    "#         group1 = sca_df[sca_df[categorical_column] == 1][numeric_column]\n",
    "#         group2 = sca_df[sca_df[categorical_column] == 0][numeric_column]\n",
    "\n",
    "#         # Perform t-test\n",
    "#         t_statistic, p_value = ttest_ind(group1, group2, equal_var=False)\n",
    "\n",
    "#         # Print the results for each column\n",
    "#         print(f\"T-test for {numeric_column}:\")\n",
    "#         print(\"  T-statistic:\", t_statistic)\n",
    "#         print(\"  P-value:\", p_value)\n",
    "\n",
    "#         # Check for statistical significance\n",
    "#         alpha = 0.1\n",
    "#         if p_value < alpha:\n",
    "#             print(\n",
    "#                 \"  Reject the null hypothesis. There is a significant difference between groups.\"\n",
    "#             )\n",
    "#         else:\n",
    "#             print(\n",
    "#                 \"  Fail to reject the null hypothesis. There is no significant difference between groups.\"\n",
    "#             )\n",
    "\n",
    "#         print(\"\\n\")\n"
   ]
  },
  {
   "cell_type": "code",
   "execution_count": 34,
   "metadata": {},
   "outputs": [],
   "source": [
    "categorical_column = \"침수여부\"\n",
    "from scipy.stats import ttest_ind\n",
    "\n",
    "\n",
    "result=[]\n",
    "for x in numeric_column:\n",
    "    group1 = sca_df[sca_df[categorical_column] == 1][x]\n",
    "    group2 = sca_df[sca_df[categorical_column] == 0][x]\n",
    "\n",
    "    # Perform t-test\n",
    "    t_statistic, p_value = ttest_ind(group1, group2, equal_var=False)\n",
    "\n",
    "    # Print the results for each column\n",
    "    sub_result={\"Feature\":x,\"T-statistic\":t_statistic,\"P-value:\":p_value}\n",
    "\n",
    "    # Check for statistical significance\n",
    "    alpha = 0.1\n",
    "    if p_value < alpha:\n",
    "        #sub_result[\"comment\"]=\"Reject the null hypothesis. There is a significant difference between groups.\"\n",
    "        sub_result[\"검정결과\"]=\"유의미함\"\n",
    "        result.append(sub_result)\n",
    "    else:\n",
    "        #sub_result[\"comment\"]=\"Fail to reject the null hypothesis. There is no significant difference between groups.\"\n",
    "        sub_result[\"검정결과\"]=\"유의미하지않음\"\n",
    "        result.append(sub_result)\n"
   ]
  },
  {
   "cell_type": "code",
   "execution_count": 35,
   "metadata": {},
   "outputs": [],
   "source": [
    "result_frame=pd.DataFrame(result)"
   ]
  },
  {
   "cell_type": "code",
   "execution_count": 36,
   "metadata": {},
   "outputs": [
    {
     "data": {
      "text/html": [
       "<div>\n",
       "<style scoped>\n",
       "    .dataframe tbody tr th:only-of-type {\n",
       "        vertical-align: middle;\n",
       "    }\n",
       "\n",
       "    .dataframe tbody tr th {\n",
       "        vertical-align: top;\n",
       "    }\n",
       "\n",
       "    .dataframe thead th {\n",
       "        text-align: right;\n",
       "    }\n",
       "</style>\n",
       "<table border=\"1\" class=\"dataframe\">\n",
       "  <thead>\n",
       "    <tr style=\"text-align: right;\">\n",
       "      <th></th>\n",
       "      <th>Feature</th>\n",
       "      <th>T-statistic</th>\n",
       "      <th>P-value:</th>\n",
       "      <th>검정결과</th>\n",
       "    </tr>\n",
       "  </thead>\n",
       "  <tbody>\n",
       "    <tr>\n",
       "      <th>2</th>\n",
       "      <td>녹지_면적_비율</td>\n",
       "      <td>-2.220030</td>\n",
       "      <td>0.027300</td>\n",
       "      <td>유의미함</td>\n",
       "    </tr>\n",
       "    <tr>\n",
       "      <th>3</th>\n",
       "      <td>도로_건물_면적_비율</td>\n",
       "      <td>2.657490</td>\n",
       "      <td>0.008283</td>\n",
       "      <td>유의미함</td>\n",
       "    </tr>\n",
       "    <tr>\n",
       "      <th>4</th>\n",
       "      <td>면적당노후건물개수</td>\n",
       "      <td>3.074329</td>\n",
       "      <td>0.002297</td>\n",
       "      <td>유의미함</td>\n",
       "    </tr>\n",
       "    <tr>\n",
       "      <th>16</th>\n",
       "      <td>하천까지의거리</td>\n",
       "      <td>-2.778680</td>\n",
       "      <td>0.005950</td>\n",
       "      <td>유의미함</td>\n",
       "    </tr>\n",
       "    <tr>\n",
       "      <th>8</th>\n",
       "      <td>면적당지하건물</td>\n",
       "      <td>3.841342</td>\n",
       "      <td>0.000147</td>\n",
       "      <td>유의미함</td>\n",
       "    </tr>\n",
       "    <tr>\n",
       "      <th>1</th>\n",
       "      <td>구단위시우량</td>\n",
       "      <td>3.463020</td>\n",
       "      <td>0.000621</td>\n",
       "      <td>유의미함</td>\n",
       "    </tr>\n",
       "    <tr>\n",
       "      <th>13</th>\n",
       "      <td>일일최대강수량</td>\n",
       "      <td>2.477491</td>\n",
       "      <td>0.013911</td>\n",
       "      <td>유의미함</td>\n",
       "    </tr>\n",
       "    <tr>\n",
       "      <th>0</th>\n",
       "      <td>경사도</td>\n",
       "      <td>0.230574</td>\n",
       "      <td>0.817815</td>\n",
       "      <td>유의미하지않음</td>\n",
       "    </tr>\n",
       "    <tr>\n",
       "      <th>12</th>\n",
       "      <td>인구밀도(명/km²)</td>\n",
       "      <td>0.113898</td>\n",
       "      <td>0.909404</td>\n",
       "      <td>유의미하지않음</td>\n",
       "    </tr>\n",
       "    <tr>\n",
       "      <th>15</th>\n",
       "      <td>평균고도</td>\n",
       "      <td>1.426690</td>\n",
       "      <td>0.154728</td>\n",
       "      <td>유의미하지않음</td>\n",
       "    </tr>\n",
       "    <tr>\n",
       "      <th>14</th>\n",
       "      <td>집중호우_발생횟수</td>\n",
       "      <td>0.238061</td>\n",
       "      <td>0.812040</td>\n",
       "      <td>유의미하지않음</td>\n",
       "    </tr>\n",
       "    <tr>\n",
       "      <th>9</th>\n",
       "      <td>분기평균총지출</td>\n",
       "      <td>-0.655311</td>\n",
       "      <td>0.512981</td>\n",
       "      <td>유의미하지않음</td>\n",
       "    </tr>\n",
       "    <tr>\n",
       "      <th>11</th>\n",
       "      <td>양호비율</td>\n",
       "      <td>1.403122</td>\n",
       "      <td>0.161873</td>\n",
       "      <td>유의미하지않음</td>\n",
       "    </tr>\n",
       "    <tr>\n",
       "      <th>10</th>\n",
       "      <td>빗물펌프장까지의거리</td>\n",
       "      <td>1.098923</td>\n",
       "      <td>0.272600</td>\n",
       "      <td>유의미하지않음</td>\n",
       "    </tr>\n",
       "    <tr>\n",
       "      <th>7</th>\n",
       "      <td>면적당제방</td>\n",
       "      <td>-0.746198</td>\n",
       "      <td>0.456310</td>\n",
       "      <td>유의미하지않음</td>\n",
       "    </tr>\n",
       "    <tr>\n",
       "      <th>6</th>\n",
       "      <td>면적당암거</td>\n",
       "      <td>-1.479084</td>\n",
       "      <td>0.140224</td>\n",
       "      <td>유의미하지않음</td>\n",
       "    </tr>\n",
       "    <tr>\n",
       "      <th>5</th>\n",
       "      <td>면적당수문</td>\n",
       "      <td>1.190880</td>\n",
       "      <td>0.234409</td>\n",
       "      <td>유의미하지않음</td>\n",
       "    </tr>\n",
       "    <tr>\n",
       "      <th>17</th>\n",
       "      <td>하천면적/면적</td>\n",
       "      <td>-1.640116</td>\n",
       "      <td>0.102357</td>\n",
       "      <td>유의미하지않음</td>\n",
       "    </tr>\n",
       "  </tbody>\n",
       "</table>\n",
       "</div>"
      ],
      "text/plain": [
       "        Feature  T-statistic  P-value:     검정결과\n",
       "2      녹지_면적_비율    -2.220030  0.027300     유의미함\n",
       "3   도로_건물_면적_비율     2.657490  0.008283     유의미함\n",
       "4     면적당노후건물개수     3.074329  0.002297     유의미함\n",
       "16      하천까지의거리    -2.778680  0.005950     유의미함\n",
       "8       면적당지하건물     3.841342  0.000147     유의미함\n",
       "1        구단위시우량     3.463020  0.000621     유의미함\n",
       "13      일일최대강수량     2.477491  0.013911     유의미함\n",
       "0           경사도     0.230574  0.817815  유의미하지않음\n",
       "12  인구밀도(명/km²)     0.113898  0.909404  유의미하지않음\n",
       "15         평균고도     1.426690  0.154728  유의미하지않음\n",
       "14    집중호우_발생횟수     0.238061  0.812040  유의미하지않음\n",
       "9       분기평균총지출    -0.655311  0.512981  유의미하지않음\n",
       "11         양호비율     1.403122  0.161873  유의미하지않음\n",
       "10   빗물펌프장까지의거리     1.098923  0.272600  유의미하지않음\n",
       "7         면적당제방    -0.746198  0.456310  유의미하지않음\n",
       "6         면적당암거    -1.479084  0.140224  유의미하지않음\n",
       "5         면적당수문     1.190880  0.234409  유의미하지않음\n",
       "17      하천면적/면적    -1.640116  0.102357  유의미하지않음"
      ]
     },
     "execution_count": 36,
     "metadata": {},
     "output_type": "execute_result"
    }
   ],
   "source": [
    "result_frame.sort_values(\"검정결과\",ascending=False)"
   ]
  },
  {
   "cell_type": "code",
   "execution_count": 37,
   "metadata": {},
   "outputs": [],
   "source": [
    "useful_column=result_frame.loc[result_frame[\"검정결과\"]==\"유의미함\",'Feature']"
   ]
  },
  {
   "cell_type": "code",
   "execution_count": 40,
   "metadata": {},
   "outputs": [
    {
     "name": "stdout",
     "output_type": "stream",
     "text": [
      "['구단위시우량' '녹지_면적_비율' '도로_건물_면적_비율' '면적당노후건물개수' '면적당지하건물' '일일최대강수량'\n",
      " '하천까지의거리']\n"
     ]
    },
    {
     "ename": "",
     "evalue": "",
     "output_type": "error",
     "traceback": [
      "\u001b[1;31mThe Kernel crashed while executing code in the the current cell or a previous cell. Please review the code in the cell(s) to identify a possible cause of the failure. Click <a href='https://aka.ms/vscodeJupyterKernelCrash'>here</a> for more info. View Jupyter <a href='command:jupyter.viewOutput'>log</a> for further details."
     ]
    }
   ],
   "source": [
    "print(useful_column.values)"
   ]
  },
  {
   "cell_type": "code",
   "execution_count": null,
   "metadata": {},
   "outputs": [],
   "source": []
  }
 ],
 "metadata": {
  "kernelspec": {
   "display_name": "Python 3",
   "language": "python",
   "name": "python3"
  },
  "language_info": {
   "codemirror_mode": {
    "name": "ipython",
    "version": 3
   },
   "file_extension": ".py",
   "mimetype": "text/x-python",
   "name": "python",
   "nbconvert_exporter": "python",
   "pygments_lexer": "ipython3",
   "version": "3.12.0"
  }
 },
 "nbformat": 4,
 "nbformat_minor": 2
}
