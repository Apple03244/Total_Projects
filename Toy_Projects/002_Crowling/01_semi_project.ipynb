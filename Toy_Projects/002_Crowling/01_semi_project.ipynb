{
 "cells": [
  {
   "attachments": {},
   "cell_type": "markdown",
   "metadata": {},
   "source": [
    "#### Rule\n",
    "0. 주제 : 2023년 국내 인기차트 100위 안에 들어간 가수들의 인적사항\n",
    "1. 음원사이트 : 유튜브 뮤직, 벅스, 지니, 스포티파이, 멜론, 바이브\n",
    "2. 차트 수집 : 주간 100위로 종합\n",
    "3. "
   ]
  },
  {
   "attachments": {},
   "cell_type": "markdown",
   "metadata": {},
   "source": [
    "#### 1. youtube"
   ]
  },
  {
   "cell_type": "code",
   "execution_count": 65,
   "metadata": {},
   "outputs": [],
   "source": [
    "# f'https://charts.youtube.com/charts/TopSongs/kr/{A}-{B}?hl=ko'\n",
    "urls=['20221230-20230105']\n",
    "import datetime as dt\n",
    "import pandas as pd"
   ]
  },
  {
   "cell_type": "code",
   "execution_count": 66,
   "metadata": {},
   "outputs": [],
   "source": [
    "dates=pd.date_range(start=A,end=dt.datetime.now(),periods=None,freq=\"7D\")"
   ]
  },
  {
   "cell_type": "code",
   "execution_count": 67,
   "metadata": {},
   "outputs": [],
   "source": [
    "BB=list(map(transtime,list(map(lambda x:str(x+pd.Timedelta(days=6)),dates))))"
   ]
  },
  {
   "cell_type": "code",
   "execution_count": 68,
   "metadata": {},
   "outputs": [],
   "source": [
    "transtime=lambda x:\"\".join(str(x).split(\" \")[0].split(\"-\"))"
   ]
  },
  {
   "cell_type": "code",
   "execution_count": 69,
   "metadata": {},
   "outputs": [],
   "source": [
    "AA=list(map(transtime,dates))"
   ]
  },
  {
   "cell_type": "code",
   "execution_count": 70,
   "metadata": {},
   "outputs": [
    {
     "data": {
      "text/plain": [
       "['20221230',\n",
       " '20230106',\n",
       " '20230113',\n",
       " '20230120',\n",
       " '20230127',\n",
       " '20230203',\n",
       " '20230210',\n",
       " '20230217',\n",
       " '20230224',\n",
       " '20230303',\n",
       " '20230310',\n",
       " '20230317',\n",
       " '20230324',\n",
       " '20230331',\n",
       " '20230407',\n",
       " '20230414',\n",
       " '20230421',\n",
       " '20230428',\n",
       " '20230505',\n",
       " '20230512',\n",
       " '20230519',\n",
       " '20230526',\n",
       " '20230602',\n",
       " '20230609',\n",
       " '20230616',\n",
       " '20230623']"
      ]
     },
     "execution_count": 70,
     "metadata": {},
     "output_type": "execute_result"
    }
   ],
   "source": [
    "AA"
   ]
  },
  {
   "cell_type": "code",
   "execution_count": null,
   "metadata": {},
   "outputs": [],
   "source": [
    "dates"
   ]
  },
  {
   "cell_type": "code",
   "execution_count": null,
   "metadata": {},
   "outputs": [],
   "source": []
  }
 ],
 "metadata": {
  "kernelspec": {
   "display_name": "Python 3",
   "language": "python",
   "name": "python3"
  },
  "language_info": {
   "codemirror_mode": {
    "name": "ipython",
    "version": 3
   },
   "file_extension": ".py",
   "mimetype": "text/x-python",
   "name": "python",
   "nbconvert_exporter": "python",
   "pygments_lexer": "ipython3",
   "version": "3.11.3"
  },
  "orig_nbformat": 4
 },
 "nbformat": 4,
 "nbformat_minor": 2
}
