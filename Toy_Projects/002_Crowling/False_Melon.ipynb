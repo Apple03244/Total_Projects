{
 "cells": [
  {
   "attachments": {},
   "cell_type": "markdown",
   "metadata": {},
   "source": [
    "#### Melon 크롤링\n",
    "Request 방식으로 해결 할 수없음."
   ]
  },
  {
   "cell_type": "code",
   "execution_count": 69,
   "metadata": {},
   "outputs": [
    {
     "data": {
      "text/plain": [
       "'c:\\\\Users\\\\SAMSUNG\\\\AppData\\\\Local\\\\Programs\\\\Python\\\\Python311\\\\Lib\\\\site-packages\\\\chromedriver_autoinstaller\\\\114\\\\chromedriver.exe'"
      ]
     },
     "execution_count": 69,
     "metadata": {},
     "output_type": "execute_result"
    }
   ],
   "source": [
    "import chromedriver_autoinstaller\n",
    "from selenium import webdriver\n",
    "from selenium.webdriver.support.ui import WebDriverWait\n",
    "from selenium.webdriver.common.by import By\n",
    "import bs4\n",
    "import time\n",
    "chromedriver_autoinstaller.install()"
   ]
  },
  {
   "cell_type": "code",
   "execution_count": 70,
   "metadata": {},
   "outputs": [],
   "source": [
    "#step1.\n",
    "driver=webdriver.Chrome()\n",
    "driver.get('https://www.melon.com/chart/week/index.htm?classCd=DM0000')\n",
    "soup=bs4.BeautifulSoup(driver.page_source)"
   ]
  },
  {
   "cell_type": "code",
   "execution_count": 71,
   "metadata": {},
   "outputs": [],
   "source": [
    "# 달력열기 버튼\n",
    "btn_open=WebDriverWait(driver,1).until(lambda x:x.find_element(By.CSS_SELECTOR,\".button_icons.etc.arrow_d\"))\n",
    "btn_open.click()"
   ]
  },
  {
   "cell_type": "code",
   "execution_count": 72,
   "metadata": {},
   "outputs": [],
   "source": [
    "#주간 검색 페이지로 이동\n",
    "btn_move=WebDriverWait(driver,1).until(lambda x:x.find_element(By.CSS_SELECTOR,\".l_calendar.d_open .info\"))\n",
    "btn_move.click()"
   ]
  },
  {
   "cell_type": "code",
   "execution_count": 104,
   "metadata": {},
   "outputs": [],
   "source": [
    "#검색 페이지 조작\n",
    "#step1. 차트 선택\n",
    "WebDriverWait(driver,1).until(lambda x:x.find_element(By.CSS_SELECTOR,\".tab01\")).click()\n",
    "#step2. 연대\n",
    "WebDriverWait(driver,1).until(lambda x:x.find_element(By.CSS_SELECTOR,\".box_chic.nth1.view\")).click()\n",
    "# step1=WebDriverWait(driver,1).until(lambda x:x.find_element(By.CSS_SELECTOR,\".box_chic.nth1.view.on\"))\n",
    "# WebDriverWait(driver,1).until(lambda x:x.find_elements(By.CSS_SELECTOR,\".list_value .input_radio\")).click()\n",
    "\n"
   ]
  },
  {
   "cell_type": "code",
   "execution_count": 97,
   "metadata": {},
   "outputs": [],
   "source": [
    "soup=bs4.BeautifulSoup(driver.page_source)"
   ]
  },
  {
   "cell_type": "code",
   "execution_count": 101,
   "metadata": {},
   "outputs": [
    {
     "data": {
      "text/plain": [
       "['\\n2020년대2010년대2000년대1990년대1980년대\\n',\n",
       " '\\n2009년2008년2007년2006년2005년2004년2003년2002년2001년2000년\\n',\n",
       " '\\n\\n\\n',\n",
       " '\\n\\n\\n',\n",
       " '\\n\\n\\n']"
      ]
     },
     "execution_count": 101,
     "metadata": {},
     "output_type": "execute_result"
    }
   ],
   "source": [
    "list(map(lambda x:x.text,soup.select(\".list_value\")))"
   ]
  },
  {
   "cell_type": "code",
   "execution_count": 53,
   "metadata": {},
   "outputs": [
    {
     "name": "stdout",
     "output_type": "stream",
     "text": [
      "{'ranking': '1', 'title': '퀸카 (Queencard)', 'artist': '(여자)아이들'}\n",
      "{'ranking': '2', 'title': 'I AM', 'artist': 'IVE (아이브)'}\n",
      "{'ranking': '3', 'title': 'Spicy', 'artist': 'aespa'}\n",
      "{'ranking': '4', 'title': '이브, 프시케 그리고 푸른 수염의 아내', 'artist': 'LE SSERAFIM (르세라핌)'}\n",
      "{'ranking': '5', 'title': 'UNFORGIVEN (feat. Nile Rodgers)', 'artist': 'LE SSERAFIM (르세라핌)'}\n",
      "{'ranking': '6', 'title': 'Kitsch', 'artist': 'IVE (아이브)'}\n",
      "{'ranking': '7', 'title': 'Hype boy', 'artist': 'NewJeans'}\n",
      "{'ranking': '8', 'title': '꽃', 'artist': '지수 (JISOO)'}\n",
      "{'ranking': '9', 'title': '헤어지자 말해요', 'artist': '박재정'}\n",
      "{'ranking': '10', 'title': '손오공', 'artist': '세븐틴 (SEVENTEEN)'}\n",
      "{'ranking': '11', 'title': 'Ditto', 'artist': 'NewJeans'}\n",
      "{'ranking': '12', 'title': 'Cupid', 'artist': 'FIFTY FIFTY'}\n",
      "{'ranking': '13', 'title': 'OMG', 'artist': 'NewJeans'}\n",
      "{'ranking': '14', 'title': '사건의 지평선', 'artist': '윤하 (YOUNHA)'}\n",
      "{'ranking': '15', 'title': 'Allergy', 'artist': '(여자)아이들'}\n",
      "{'ranking': '16', 'title': '파이팅 해야지 (Feat. 이영지)', 'artist': '부석순 (SEVENTEEN)'}\n",
      "{'ranking': '17', 'title': 'After LIKE', 'artist': 'IVE (아이브)'}\n",
      "{'ranking': '18', 'title': 'Teddy Bear', 'artist': 'STAYC(스테이씨)'}\n",
      "{'ranking': '19', 'title': '물론', 'artist': '허각'}\n",
      "{'ranking': '20', 'title': 'Attention', 'artist': 'NewJeans'}\n",
      "{'ranking': '21', 'title': 'LOVE DIVE', 'artist': 'IVE (아이브)'}\n",
      "{'ranking': '22', 'title': '심(心)', 'artist': 'DK(디셈버)'}\n",
      "{'ranking': '23', 'title': '사랑은 늘 도망가', 'artist': '임영웅'}\n",
      "{'ranking': '24', 'title': '사랑..그게 뭔데', 'artist': '지아'}\n",
      "{'ranking': '25', 'title': 'ANTIFRAGILE', 'artist': 'LE SSERAFIM (르세라핌)'}\n",
      "{'ranking': '26', 'title': '잠깐 시간 될까', 'artist': '이무진'}\n",
      "{'ranking': '27', 'title': 'Heaven(2023)', 'artist': '임재현'}\n",
      "{'ranking': '28', 'title': '사랑하지 않아서 그랬어', 'artist': '임한별'}\n",
      "{'ranking': '29', 'title': '사랑인가 봐', 'artist': '멜로망스'}\n",
      "{'ranking': '30', 'title': 'Candy', 'artist': 'NCT DREAM'}\n",
      "{'ranking': '31', 'title': '찬란한 하루', 'artist': '멜로망스'}\n",
      "{'ranking': '32', 'title': '너의 모든 순간', 'artist': '성시경'}\n",
      "{'ranking': '33', 'title': '빛이 나는 너에게', 'artist': '던 (DAWN)'}\n",
      "{'ranking': '34', 'title': '사실말야내가말야그게그러니까말이야', 'artist': '케이시 (Kassy)'}\n",
      "{'ranking': '35', 'title': '모래 알갱이', 'artist': '임영웅'}\n",
      "{'ranking': '36', 'title': 'Dynamite', 'artist': '방탄소년단'}\n",
      "{'ranking': '37', 'title': '건물 사이에 피어난 장미 (Rose Blossom)', 'artist': 'H1-KEY (하이키)'}\n",
      "{'ranking': '38', 'title': '우리들의 블루스', 'artist': '임영웅'}\n",
      "{'ranking': '39', 'title': 'Thirsty', 'artist': 'aespa'}\n",
      "{'ranking': '40', 'title': 'KNOCK', 'artist': '이채연'}\n",
      "{'ranking': '41', 'title': '나에게 그대만이', 'artist': '탑현'}\n",
      "{'ranking': '42', 'title': '부동의 첫사랑', 'artist': '10CM'}\n",
      "{'ranking': '43', 'title': '첫 키스에 내 심장은 120BPM', 'artist': '경서'}\n",
      "{'ranking': '44', 'title': 'TOMBOY', 'artist': '(여자)아이들'}\n",
      "{'ranking': '45', 'title': 'Nxde', 'artist': '(여자)아이들'}\n",
      "{'ranking': '46', 'title': '한사람만 (2023) (여름날 우리 X 이홍기 (FT아일랜드))', 'artist': '이홍기 (FT아일랜드)'}\n",
      "{'ranking': '47', 'title': '해요 (2022)', 'artist': '#안녕'}\n",
      "{'ranking': '48', 'title': '안녕이라고 말하지마', 'artist': 'V.O.S'}\n",
      "{'ranking': '49', 'title': '취중고백', 'artist': '김민석 (멜로망스)'}\n",
      "{'ranking': '50', 'title': 'CHRISTIAN', 'artist': 'Zior Park'}\n",
      "{'ranking': '51', 'title': '사랑의 바보', 'artist': '제이세라'}\n",
      "{'ranking': '52', 'title': '다시 만날 수 있을까', 'artist': '임영웅'}\n",
      "{'ranking': '53', 'title': 'FRIEND THE END', 'artist': '볼빨간사춘기'}\n",
      "{'ranking': '54', 'title': 'Butter', 'artist': '방탄소년단'}\n",
      "{'ranking': '55', 'title': '사랑하기 싫어', 'artist': '지아'}\n",
      "{'ranking': '56', 'title': '한강에서 (Feat. BIG Naughty)', 'artist': '폴킴'}\n",
      "{'ranking': '57', 'title': 'Monologue', 'artist': '테이'}\n",
      "{'ranking': '58', 'title': '사람 Pt.2 (feat. 아이유)', 'artist': 'Agust D'}\n",
      "{'ranking': '59', 'title': 'Love Me Like This', 'artist': 'NMIXX'}\n",
      "{'ranking': '60', 'title': '그라데이션', 'artist': '10CM'}\n",
      "{'ranking': '61', 'title': '다정히 내 이름을 부르면', 'artist': '경서예지'}\n",
      "{'ranking': '62', 'title': '나의 바람 (Wind And Wish)', 'artist': '비투비'}\n",
      "{'ranking': '63', 'title': 'ELEVEN', 'artist': 'IVE (아이브)'}\n",
      "{'ranking': '64', 'title': '정이라고 하자 (Feat. 10CM)', 'artist': 'BIG Naughty (서동현)'}\n",
      "{'ranking': '65', 'title': 'Shut Down', 'artist': 'BLACKPINK'}\n",
      "{'ranking': '66', 'title': 'FEARLESS', 'artist': 'LE SSERAFIM (르세라핌)'}\n",
      "{'ranking': '67', 'title': '내가 아니라도', 'artist': '주호'}\n",
      "{'ranking': '68', 'title': '봄날', 'artist': '방탄소년단'}\n",
      "{'ranking': '69', 'title': 'Broken Melodies', 'artist': 'NCT DREAM'}\n",
      "{'ranking': '70', 'title': '이제 나만 믿어요', 'artist': '임영웅'}\n",
      "{'ranking': '71', 'title': 'Say I Love You', 'artist': '우디 (Woody)'}\n",
      "{'ranking': '72', 'title': 'Permission to Dance', 'artist': '방탄소년단'}\n",
      "{'ranking': '73', 'title': 'Take Two', 'artist': '방탄소년단'}\n",
      "{'ranking': '74', 'title': '무지개', 'artist': '임영웅'}\n",
      "{'ranking': '75', 'title': 'Pink Venom', 'artist': 'BLACKPINK'}\n",
      "{'ranking': '76', 'title': 'Like Crazy', 'artist': '지민'}\n",
      "{'ranking': '77', 'title': 'London Boy', 'artist': '임영웅'}\n",
      "{'ranking': '78', 'title': '새삥 (Prod. ZICO) (Feat. 호미들)', 'artist': '지코 (ZICO)'}\n",
      "{'ranking': '79', 'title': '아버지', 'artist': '임영웅'}\n",
      "{'ranking': '80', 'title': 'Polaroid', 'artist': '임영웅'}\n",
      "{'ranking': '81', 'title': '오르트구름', 'artist': '윤하 (YOUNHA)'}\n",
      "{'ranking': '82', 'title': 'The Planet', 'artist': '방탄소년단'}\n",
      "{'ranking': '83', 'title': '우리 사랑 이대로 (여름날 우리 X 규현 (KYUHYUN), 정은지)', 'artist': '규현 (KYUHYUN)'}\n",
      "{'ranking': '84', 'title': 'Salty & Sweet', 'artist': 'aespa'}\n",
      "{'ranking': '85', 'title': '모든 날, 모든 순간 (Every day, Every Moment)', 'artist': '폴킴'}\n",
      "{'ranking': '86', 'title': '인생찬가', 'artist': '임영웅'}\n",
      "{'ranking': '87', 'title': '희재', 'artist': '이홍기 (FT아일랜드)'}\n",
      "{'ranking': '88', 'title': '그때 그 순간 그대로 (그그그)', 'artist': 'WSG워너비 (가야G)'}\n",
      "{'ranking': '89', 'title': '주저하는 연인들을 위해', 'artist': '잔나비'}\n",
      "{'ranking': '90', 'title': 'Boat', 'artist': '죠지'}\n",
      "{'ranking': '91', 'title': '발걸음', 'artist': 'DK(디셈버)'}\n",
      "{'ranking': '92', 'title': 'A bientot', 'artist': '임영웅'}\n",
      "{'ranking': '93', 'title': 'on the street (with J. Cole)', 'artist': 'j-hope'}\n",
      "{'ranking': '94', 'title': 'Nostalgia', 'artist': '우디 (Woody)'}\n",
      "{'ranking': '95', 'title': '겁도 없이 (feat. BIG Naughty)', 'artist': 'B.I'}\n",
      "{'ranking': '96', 'title': '손이 참 곱던 그대', 'artist': '임영웅'}\n",
      "{'ranking': '97', 'title': '사랑해 진짜', 'artist': '임영웅'}\n",
      "{'ranking': '98', 'title': '나의 X에게', 'artist': '경서'}\n",
      "{'ranking': '99', 'title': '연애편지', 'artist': '임영웅'}\n",
      "{'ranking': '100', 'title': 'Cookie', 'artist': 'NewJeans'}\n"
     ]
    }
   ],
   "source": [
    "#ranking 가져오기\n",
    "rank_data={}\n",
    "rows=soup.select(\"tbody>tr\")\n",
    "for row in rows:\n",
    "    insert_data={}\n",
    "    insert_data[\"ranking\"]=row.select(\".rank\")[0].text\n",
    "    insert_data[\"title\"]=row.select(\".ellipsis.rank01\")[0].text.strip()\n",
    "    insert_data[\"artist\"]=row.select(\".ellipsis.rank02>a\")[0].text.strip()\n",
    "\n",
    "    print(insert_data)"
   ]
  },
  {
   "cell_type": "code",
   "execution_count": null,
   "metadata": {},
   "outputs": [],
   "source": []
  }
 ],
 "metadata": {
  "kernelspec": {
   "display_name": "Python 3",
   "language": "python",
   "name": "python3"
  },
  "language_info": {
   "codemirror_mode": {
    "name": "ipython",
    "version": 3
   },
   "file_extension": ".py",
   "mimetype": "text/x-python",
   "name": "python",
   "nbconvert_exporter": "python",
   "pygments_lexer": "ipython3",
   "version": "3.11.3"
  },
  "orig_nbformat": 4
 },
 "nbformat": 4,
 "nbformat_minor": 2
}
