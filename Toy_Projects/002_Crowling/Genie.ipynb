{
 "cells": [
  {
   "attachments": {},
   "cell_type": "markdown",
   "metadata": {},
   "source": [
    "#### Genie"
   ]
  },
  {
   "cell_type": "code",
   "execution_count": 5,
   "metadata": {},
   "outputs": [],
   "source": [
    "import datetime as dt\n",
    "import pandas as pd\n",
    "import time\n",
    "import bs4\n",
    "import requests"
   ]
  },
  {
   "cell_type": "code",
   "execution_count": 6,
   "metadata": {},
   "outputs": [],
   "source": [
    "session = requests.Session()\n",
    "session.headers.update({\n",
    "    \"Referer\":\"\",\n",
    "    \"user-Agent\":\"Mozilla/5.0 (Windows NT 10.0; Win64; x64) AppleWebKit/537.36 (KHTML, like Gecko) Chrome/114.0.0.0 Safari/537.36\"\n",
    "})"
   ]
  },
  {
   "cell_type": "code",
   "execution_count": 7,
   "metadata": {},
   "outputs": [],
   "source": [
    "def transtime(x):\n",
    "    return \"\".join(str(x).split(\" \")[0].split(\"-\"))"
   ]
  },
  {
   "cell_type": "code",
   "execution_count": 8,
   "metadata": {},
   "outputs": [],
   "source": [
    "days = list(map(transtime,pd.date_range(pd.to_datetime('20230102'),dt.datetime.now(), freq='6D')))\n",
    "page_dic={1:range(1,51),2:range(51,101)}\n",
    "Genie = {}\n",
    "Artists=[]"
   ]
  },
  {
   "cell_type": "code",
   "execution_count": 18,
   "metadata": {},
   "outputs": [],
   "source": [
    "artist_url={}\n",
    "for day in days:\n",
    "    ranking_data=[]\n",
    "    for page in page_dic:\n",
    "        genie = session.get(f\"https://www.genie.co.kr/chart/genre?ditc=W&ymd={day}&genrecode=M0100&pg={page}\")\n",
    "        time.sleep(2)\n",
    "        soup = bs4.BeautifulSoup(genie.text)\n",
    "        for n in page_dic[page]:\n",
    "            data=soup.select(f\".list.rank-{n}\")[0]\n",
    "            insert_data={}\n",
    "            insert_data[\"ranking\"]=data.select(\".number\")[0].text.split()[0]\n",
    "            insert_data[\"title\"]=data.select(\".title.ellipsis\")[0].text.strip()\n",
    "            #아티스트 정보 삽입\n",
    "            pre_data=data.select(\".artist.ellipsis\")\n",
    "            insert_data[\"artist\"]=pre_data[0].text.strip()\n",
    "            url_num=pre_data[0].attrs[\"onclick\"].split(\"(\")[1].split(\")\")[0]\n",
    "            artist_url[pre_data[0].text.strip()]='https://www.genie.co.kr/detail/artistInfo?xxnm='+url_num\n",
    "            ranking_data.append(insert_data)\n",
    "    Genie[day]=ranking_data"
   ]
  },
  {
   "cell_type": "code",
   "execution_count": 21,
   "metadata": {},
   "outputs": [
    {
     "data": {
      "text/plain": [
       "'https://www.genie.co.kr/detail/artistInfo?xxnm=80632010'"
      ]
     },
     "execution_count": 21,
     "metadata": {},
     "output_type": "execute_result"
    }
   ],
   "source": [
    "artist_url[\"(여자)아이들\"]"
   ]
  },
  {
   "attachments": {},
   "cell_type": "markdown",
   "metadata": {},
   "source": [
    "#### 가수 정보"
   ]
  },
  {
   "cell_type": "code",
   "execution_count": 42,
   "metadata": {},
   "outputs": [],
   "source": [
    "for artist in artist_url:\n",
    "    insert_data={\"name\":artist}\n",
    "    art=session.get(artist_url[artist])\n",
    "    time.sleep(2)\n",
    "    soup=bs4.BeautifulSoup(art.text)\n",
    "    for data in soup.select(\".info-data li\"):\n",
    "        if data.select(\".attr img\")[0].attrs[\"alt\"]==\"활동유형\":\n",
    "            insert_data[\"type\"]=data.select(\".value\")[0].text.strip()\n",
    "            if insert_data[\"type\"].find(\"그룹\")!=-1:\n",
    "                insert_data[\"member\"]=[]\n",
    "                for member in soup.select(\".artist-member-list li .name\"):\n",
    "                    insert_data[\"member\"].append(member.text.strip())\n",
    "                insert_data[\"member\"]=\",\".join(insert_data[\"member\"])\n",
    "    Artists.append(insert_data)\n",
    "        # if data.attrs[\"alt\"]==\"활동유형\":\n",
    "            # print(data.select(\".value\")[0].text.strip())"
   ]
  },
  {
   "cell_type": "code",
   "execution_count": 44,
   "metadata": {},
   "outputs": [
    {
     "data": {
      "text/html": [
       "<div>\n",
       "<style scoped>\n",
       "    .dataframe tbody tr th:only-of-type {\n",
       "        vertical-align: middle;\n",
       "    }\n",
       "\n",
       "    .dataframe tbody tr th {\n",
       "        vertical-align: top;\n",
       "    }\n",
       "\n",
       "    .dataframe thead th {\n",
       "        text-align: right;\n",
       "    }\n",
       "</style>\n",
       "<table border=\"1\" class=\"dataframe\">\n",
       "  <thead>\n",
       "    <tr style=\"text-align: right;\">\n",
       "      <th></th>\n",
       "      <th>name</th>\n",
       "      <th>type</th>\n",
       "      <th>member</th>\n",
       "    </tr>\n",
       "  </thead>\n",
       "  <tbody>\n",
       "    <tr>\n",
       "      <th>0</th>\n",
       "      <td>NewJeans</td>\n",
       "      <td>여성/그룹</td>\n",
       "      <td>민지 (MINJI),하니 (HANNI),다니엘 (DANIELLE),해린 (HAERI...</td>\n",
       "    </tr>\n",
       "    <tr>\n",
       "      <th>1</th>\n",
       "      <td>윤하 (YOUNHA)</td>\n",
       "      <td>여성/솔로</td>\n",
       "      <td>NaN</td>\n",
       "    </tr>\n",
       "    <tr>\n",
       "      <th>2</th>\n",
       "      <td>이영지</td>\n",
       "      <td>여성/솔로</td>\n",
       "      <td>NaN</td>\n",
       "    </tr>\n",
       "    <tr>\n",
       "      <th>3</th>\n",
       "      <td>LE SSERAFIM (르세라핌)</td>\n",
       "      <td>여성/그룹</td>\n",
       "      <td>미야와키 사쿠라,김채원,허윤진,카즈하,홍은채</td>\n",
       "    </tr>\n",
       "    <tr>\n",
       "      <th>4</th>\n",
       "      <td>IVE (아이브)</td>\n",
       "      <td>여성/그룹</td>\n",
       "      <td>안유진 (IVE),가을 (IVE),레이 (IVE),장원영 (IVE),리즈 (IVE)...</td>\n",
       "    </tr>\n",
       "    <tr>\n",
       "      <th>...</th>\n",
       "      <td>...</td>\n",
       "      <td>...</td>\n",
       "      <td>...</td>\n",
       "    </tr>\n",
       "    <tr>\n",
       "      <th>104</th>\n",
       "      <td>전상근</td>\n",
       "      <td>남성/솔로</td>\n",
       "      <td>NaN</td>\n",
       "    </tr>\n",
       "    <tr>\n",
       "      <th>105</th>\n",
       "      <td>Stray Kids (스트레이 키즈)</td>\n",
       "      <td>남성/그룹</td>\n",
       "      <td>방찬 (3RACHA),리노,창빈 (3RACHA),현진,한 (3RACHA),필릭스,승...</td>\n",
       "    </tr>\n",
       "    <tr>\n",
       "      <th>106</th>\n",
       "      <td>제이세라 (J-Cera)</td>\n",
       "      <td>여성/솔로</td>\n",
       "      <td>NaN</td>\n",
       "    </tr>\n",
       "    <tr>\n",
       "      <th>107</th>\n",
       "      <td>거미 (Gummy)</td>\n",
       "      <td>여성/솔로</td>\n",
       "      <td>NaN</td>\n",
       "    </tr>\n",
       "    <tr>\n",
       "      <th>108</th>\n",
       "      <td>노을</td>\n",
       "      <td>남성/그룹</td>\n",
       "      <td>강균성 (노을),이상곤 (노을),전우성 (노을),나성호</td>\n",
       "    </tr>\n",
       "  </tbody>\n",
       "</table>\n",
       "<p>109 rows × 3 columns</p>\n",
       "</div>"
      ],
      "text/plain": [
       "                     name   type  \\\n",
       "0                NewJeans  여성/그룹   \n",
       "1             윤하 (YOUNHA)  여성/솔로   \n",
       "2                     이영지  여성/솔로   \n",
       "3      LE SSERAFIM (르세라핌)  여성/그룹   \n",
       "4               IVE (아이브)  여성/그룹   \n",
       "..                    ...    ...   \n",
       "104                   전상근  남성/솔로   \n",
       "105  Stray Kids (스트레이 키즈)  남성/그룹   \n",
       "106         제이세라 (J-Cera)  여성/솔로   \n",
       "107            거미 (Gummy)  여성/솔로   \n",
       "108                    노을  남성/그룹   \n",
       "\n",
       "                                                member  \n",
       "0    민지 (MINJI),하니 (HANNI),다니엘 (DANIELLE),해린 (HAERI...  \n",
       "1                                                  NaN  \n",
       "2                                                  NaN  \n",
       "3                             미야와키 사쿠라,김채원,허윤진,카즈하,홍은채  \n",
       "4    안유진 (IVE),가을 (IVE),레이 (IVE),장원영 (IVE),리즈 (IVE)...  \n",
       "..                                                 ...  \n",
       "104                                                NaN  \n",
       "105  방찬 (3RACHA),리노,창빈 (3RACHA),현진,한 (3RACHA),필릭스,승...  \n",
       "106                                                NaN  \n",
       "107                                                NaN  \n",
       "108                     강균성 (노을),이상곤 (노을),전우성 (노을),나성호  \n",
       "\n",
       "[109 rows x 3 columns]"
      ]
     },
     "execution_count": 44,
     "metadata": {},
     "output_type": "execute_result"
    }
   ],
   "source": [
    "pd.DataFrame(Artists)"
   ]
  },
  {
   "cell_type": "code",
   "execution_count": null,
   "metadata": {},
   "outputs": [],
   "source": []
  }
 ],
 "metadata": {
  "kernelspec": {
   "display_name": "Python 3",
   "language": "python",
   "name": "python3"
  },
  "language_info": {
   "codemirror_mode": {
    "name": "ipython",
    "version": 3
   },
   "file_extension": ".py",
   "mimetype": "text/x-python",
   "name": "python",
   "nbconvert_exporter": "python",
   "pygments_lexer": "ipython3",
   "version": "3.11.3"
  },
  "orig_nbformat": 4
 },
 "nbformat": 4,
 "nbformat_minor": 2
}
