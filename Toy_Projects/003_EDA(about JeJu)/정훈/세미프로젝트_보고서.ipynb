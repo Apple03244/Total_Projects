{
 "cells": [
  {
   "cell_type": "markdown",
   "metadata": {},
   "source": [
    "> # <b>*세미프로젝트*<b> "
   ]
  },
  {
   "cell_type": "markdown",
   "metadata": {},
   "source": [
    "> ## <span style = 'font-size:40px'> <b>1. 분석개요<b> </span>"
   ]
  },
  {
   "cell_type": "markdown",
   "metadata": {},
   "source": [
    "### 1) 분석의 배경 및 목적 \n"
   ]
  },
  {
   "cell_type": "markdown",
   "metadata": {},
   "source": [
    "#### 주제선정 이유 : \n",
    "배경 > 관광산업이 주인 `제주도`에는 숙박, 관광, 식당 등 관광객이 선택할 수 있는 폭이 넓다. <br>\n",
    "정보의 홍수 속 관광객들은 어떤 기준으로 소비를 하는 것일까 궁금증을 갖게 되었다. <br>\n",
    "\n",
    "의문점 > \n",
    "2019년 한 조사에 따르면, 제주도 숙소를 선택하는 기준에 대해 `합리적인 가격`에 약 40%가 응답했다. <br>\n",
    "합리적인 가격 외에 숙소를 선택하는 기준은 무엇이 있을까? <br>\n",
    "제주도 숙박업의 (만족도)평점에 외부적인 요인이 개입하였는가?\n",
    "제주도 헹정지역별 숙박업의 분포는 어떠한가?"
   ]
  },
  {
   "cell_type": "markdown",
   "metadata": {},
   "source": [
    "![img](./설문조사.jpg) <br>\n",
    "[출처 : 데일리한국]"
   ]
  },
  {
   "cell_type": "markdown",
   "metadata": {},
   "source": [
    "#### 알고자 하는 내용: \n",
    "- 호텔의 평점(=소비자의 만족도)에 외부적인 요인은 개입을 하였는가? <br>\n",
    "우리는  <Br>\n",
    "*(1) 제주공항과의 거리*   \n",
    "*(2) 동일 행정지역 내의 관광지*  \n",
    "*(3) 동일 행정지역 내의 음식점*\n",
    "- 위 3가지 외부요인을 중심으로 말하고자 한다.    "
   ]
  },
  {
   "cell_type": "markdown",
   "metadata": {},
   "source": [
    "### 2) 분석 범위"
   ]
  },
  {
   "cell_type": "markdown",
   "metadata": {},
   "source": [
    "#### 분석의 대상 : 숙박업 평점"
   ]
  },
  {
   "cell_type": "markdown",
   "metadata": {},
   "source": [
    "| <b>외부요인<B> | <b>데이터 소스<b> |\n",
    "|------------|----------------|\n",
    "|`공항과의 거리`       | 제주공항| \n",
    "|`관광지`      | 제주특별자치도 관광공사에서 제공한 공공데이터 관광지|\n",
    "|`호텔`        | 제주특별자치도 관광공사에서 제공한 숙박업 정보(2022년 데이터) 및 <br> 야놀자,마이리얼트립 크롤링데이터(조건 설정 : 2023.07.20~2023.07.26 / 성인2명)| "
   ]
  },
  {
   "cell_type": "markdown",
   "metadata": {},
   "source": []
  },
  {
   "cell_type": "markdown",
   "metadata": {},
   "source": [
    "*************************"
   ]
  },
  {
   "cell_type": "markdown",
   "metadata": {},
   "source": [
    ">## <span style = 'font-size:40px'><b>2. 데이터 구축 및 분석 방법 </span>"
   ]
  },
  {
   "cell_type": "markdown",
   "metadata": {},
   "source": [
    "### 1) 분석 프로세스"
   ]
  },
  {
   "cell_type": "markdown",
   "metadata": {},
   "source": [
    "![분석프로세스](./analysis_process.png)"
   ]
  },
  {
   "cell_type": "markdown",
   "metadata": {},
   "source": [
    "### 2) 데이터 수집 및 분석 방법"
   ]
  },
  {
   "cell_type": "markdown",
   "metadata": {},
   "source": [
    "![데이터분석_흐름도](./대략적인_흐름도.png) <br>\n",
    "<b>*[데이터분석_흐름도]*<b>"
   ]
  },
  {
   "cell_type": "markdown",
   "metadata": {},
   "source": [
    "### <span style= 'color : blue' > *1단계 : 제주공항* </span>"
   ]
  },
  {
   "cell_type": "markdown",
   "metadata": {},
   "source": [
    "1. 작업준비\n",
    "- 패키지 설치 및 가져오기"
   ]
  },
  {
   "cell_type": "code",
   "execution_count": null,
   "metadata": {},
   "outputs": [],
   "source": [
    "import folium\n",
    "from os import path, mkdir\n",
    "import base64"
   ]
  },
  {
   "cell_type": "markdown",
   "metadata": {},
   "source": [
    "2. 지도 표현하기\n",
    "* 지도 객체 생성 : 지도의 중심이 되는 위도와 경도를 설정    \n"
   ]
  },
  {
   "cell_type": "code",
   "execution_count": null,
   "metadata": {},
   "outputs": [],
   "source": [
    "# 1) 제주국제공항의 위도/경도 이용한 map_osm\n",
    "map_osm = folium.Map(location=[33.506987985240166,126.49213025140001], zoom_start=13)\n",
    "map_osm"
   ]
  },
  {
   "cell_type": "markdown",
   "metadata": {},
   "source": [
    "* 제주국제공항 지도 객체(map_osm)에 사용자 옵션 추가\n",
    "    *  Icon_img 옵션 <br>\n",
    "    * 일반마커 and 원형마커 <br>"
   ]
  },
  {
   "cell_type": "code",
   "execution_count": null,
   "metadata": {},
   "outputs": [],
   "source": [
    "# 사용자 지정 아이콘 이미지 사용 : 비행기 아이콘 사용\n",
    "icon_img = folium.features.CustomIcon(\"C:/Users/hanjieun_2/Desktop/데이터분석/data_analysis/세미_프로젝트2/airplane.png\", icon_size=(100,100))\n",
    "\n",
    "# 마커 객체 생성\n",
    "marker = folium.Marker(location=[33.506987985240166,126.49213025140001], popup=popup_html, icon = icon_img)\n",
    "# 원형마커\n",
    "marker2 = folium.CircleMarker([33.506987985240166,126.49213025140001],\n",
    "                              radius=100, #범위\n",
    "                              color='#3186cc', #선 색상\n",
    "                              fill_color='#3186cc' #면 색상\n",
    "                              )\n",
    "# 마커 객체를 지도에 추가함\n",
    "marker2.add_to(map_osm)  \n",
    "marker.add_to(map_osm)\n",
    "\n",
    "                        \n",
    "# 웹 페이지 파일이 저장될 폴더 생성\n",
    "if not path.exists('jeju_airport_loc'):\n",
    "    mkdir('jeju_airport_loc')\n",
    "\n",
    "# 파일이 저장될 위치\n",
    "map_osm.save('jeju_airport_loc/map_osm.html')\n",
    "\n",
    "# 지도에 표시하기\n",
    "map_osm"
   ]
  },
  {
   "cell_type": "markdown",
   "metadata": {},
   "source": [
    "### <span style= 'color : blue' > *2단계 : 제주도 관광지 및 음식점* </span>"
   ]
  },
  {
   "cell_type": "markdown",
   "metadata": {},
   "source": [
    "### <span style= 'color : blue' >제주도 관광지</span>"
   ]
  },
  {
   "cell_type": "markdown",
   "metadata": {},
   "source": [
    "<span style= 'color : blue' >1.작업준비</span>\n",
    "* 필요한 패키지 설치"
   ]
  },
  {
   "cell_type": "code",
   "execution_count": null,
   "metadata": {},
   "outputs": [],
   "source": [
    "import pandas as pd\n",
    "import numpy as np"
   ]
  },
  {
   "cell_type": "code",
   "execution_count": 24,
   "metadata": {},
   "outputs": [],
   "source": [
    "Data=pd.read_excel(\"./관광지.xlsx\")\n",
    "data=pd.DataFrame(Data)"
   ]
  },
  {
   "cell_type": "code",
   "execution_count": 25,
   "metadata": {},
   "outputs": [
    {
     "data": {
      "text/html": [
       "<div>\n",
       "<style scoped>\n",
       "    .dataframe tbody tr th:only-of-type {\n",
       "        vertical-align: middle;\n",
       "    }\n",
       "\n",
       "    .dataframe tbody tr th {\n",
       "        vertical-align: top;\n",
       "    }\n",
       "\n",
       "    .dataframe thead th {\n",
       "        text-align: right;\n",
       "    }\n",
       "</style>\n",
       "<table border=\"1\" class=\"dataframe\">\n",
       "  <thead>\n",
       "    <tr style=\"text-align: right;\">\n",
       "      <th></th>\n",
       "      <th>Unnamed: 0</th>\n",
       "      <th>address_name</th>\n",
       "      <th>category_group_code</th>\n",
       "      <th>category_group_name</th>\n",
       "      <th>category_name</th>\n",
       "      <th>distance</th>\n",
       "      <th>id</th>\n",
       "      <th>phone</th>\n",
       "      <th>place_name</th>\n",
       "      <th>place_url</th>\n",
       "      <th>road_address_name</th>\n",
       "      <th>x</th>\n",
       "      <th>y</th>\n",
       "    </tr>\n",
       "  </thead>\n",
       "  <tbody>\n",
       "    <tr>\n",
       "      <th>0</th>\n",
       "      <td>공천포</td>\n",
       "      <td>제주특별자치도 서귀포시 남원읍 신례리</td>\n",
       "      <td>NaN</td>\n",
       "      <td>NaN</td>\n",
       "      <td>부동산 &gt; 지명</td>\n",
       "      <td>NaN</td>\n",
       "      <td>10145930</td>\n",
       "      <td>NaN</td>\n",
       "      <td>공천포</td>\n",
       "      <td>http://place.map.kakao.com/10145930</td>\n",
       "      <td>NaN</td>\n",
       "      <td>126.640591</td>\n",
       "      <td>33.266086</td>\n",
       "    </tr>\n",
       "    <tr>\n",
       "      <th>1</th>\n",
       "      <td>제주민속촌</td>\n",
       "      <td>제주특별자치도 서귀포시 표선면 표선리 40-1</td>\n",
       "      <td>AT4</td>\n",
       "      <td>관광명소</td>\n",
       "      <td>여행 &gt; 관광,명소 &gt; 민속촌</td>\n",
       "      <td>NaN</td>\n",
       "      <td>8063566</td>\n",
       "      <td>064-787-4501</td>\n",
       "      <td>제주민속촌</td>\n",
       "      <td>http://place.map.kakao.com/8063566</td>\n",
       "      <td>제주특별자치도 서귀포시 표선면 민속해안로 631-34</td>\n",
       "      <td>126.842297</td>\n",
       "      <td>33.322396</td>\n",
       "    </tr>\n",
       "    <tr>\n",
       "      <th>2</th>\n",
       "      <td>제주빅볼랜드</td>\n",
       "      <td>제주특별자치도 제주시 애월읍 어음리 산 3</td>\n",
       "      <td>NaN</td>\n",
       "      <td>NaN</td>\n",
       "      <td>스포츠,레저 &gt; 스포츠시설</td>\n",
       "      <td>NaN</td>\n",
       "      <td>26891646</td>\n",
       "      <td>1588-6418</td>\n",
       "      <td>제주빅볼랜드</td>\n",
       "      <td>http://place.map.kakao.com/26891646</td>\n",
       "      <td>제주특별자치도 제주시 애월읍 산록서로 15</td>\n",
       "      <td>126.376866</td>\n",
       "      <td>33.389015</td>\n",
       "    </tr>\n",
       "    <tr>\n",
       "      <th>3</th>\n",
       "      <td>신양해안도로</td>\n",
       "      <td>제주특별자치도 서귀포시 성산읍 고성리</td>\n",
       "      <td>AT4</td>\n",
       "      <td>관광명소</td>\n",
       "      <td>여행 &gt; 관광,명소 &gt; 드라이브코스</td>\n",
       "      <td>NaN</td>\n",
       "      <td>7970247</td>\n",
       "      <td>NaN</td>\n",
       "      <td>신양신산해안도로</td>\n",
       "      <td>http://place.map.kakao.com/7970247</td>\n",
       "      <td>NaN</td>\n",
       "      <td>126.916247</td>\n",
       "      <td>33.434438</td>\n",
       "    </tr>\n",
       "    <tr>\n",
       "      <th>4</th>\n",
       "      <td>너븐숭이 4.3기념관</td>\n",
       "      <td>제주특별자치도 제주시 조천읍 북촌리 1599</td>\n",
       "      <td>CT1</td>\n",
       "      <td>문화시설</td>\n",
       "      <td>문화,예술 &gt; 문화시설 &gt; 기념관</td>\n",
       "      <td>NaN</td>\n",
       "      <td>25610782</td>\n",
       "      <td>NaN</td>\n",
       "      <td>너븐숭이4.3기념관</td>\n",
       "      <td>http://place.map.kakao.com/25610782</td>\n",
       "      <td>제주특별자치도 제주시 조천읍 북촌3길 3</td>\n",
       "      <td>126.688656</td>\n",
       "      <td>33.545997</td>\n",
       "    </tr>\n",
       "    <tr>\n",
       "      <th>...</th>\n",
       "      <td>...</td>\n",
       "      <td>...</td>\n",
       "      <td>...</td>\n",
       "      <td>...</td>\n",
       "      <td>...</td>\n",
       "      <td>...</td>\n",
       "      <td>...</td>\n",
       "      <td>...</td>\n",
       "      <td>...</td>\n",
       "      <td>...</td>\n",
       "      <td>...</td>\n",
       "      <td>...</td>\n",
       "      <td>...</td>\n",
       "    </tr>\n",
       "    <tr>\n",
       "      <th>1004</th>\n",
       "      <td>방림원</td>\n",
       "      <td>제주특별자치도 제주시 한경면 저지리 2120-91</td>\n",
       "      <td>AT4</td>\n",
       "      <td>관광명소</td>\n",
       "      <td>여행 &gt; 관광,명소 &gt; 수목원,식물원</td>\n",
       "      <td>NaN</td>\n",
       "      <td>8318161</td>\n",
       "      <td>064-773-0090</td>\n",
       "      <td>방림원</td>\n",
       "      <td>http://place.map.kakao.com/8318161</td>\n",
       "      <td>제주특별자치도 제주시 한경면 용금로 864</td>\n",
       "      <td>126.268528</td>\n",
       "      <td>33.337147</td>\n",
       "    </tr>\n",
       "    <tr>\n",
       "      <th>1005</th>\n",
       "      <td>곱닥한개</td>\n",
       "      <td>제주특별자치도 제주시 삼양이동 2101-10</td>\n",
       "      <td>NaN</td>\n",
       "      <td>NaN</td>\n",
       "      <td>가정,생활 &gt; 반려동물 &gt; 반려동물용품</td>\n",
       "      <td>NaN</td>\n",
       "      <td>357983849</td>\n",
       "      <td>0507-1330-7046</td>\n",
       "      <td>곱닥한개</td>\n",
       "      <td>http://place.map.kakao.com/357983849</td>\n",
       "      <td>제주특별자치도 제주시 설촌로10길 12</td>\n",
       "      <td>126.582714</td>\n",
       "      <td>33.523888</td>\n",
       "    </tr>\n",
       "    <tr>\n",
       "      <th>1006</th>\n",
       "      <td>놀자개</td>\n",
       "      <td>제주특별자치도 제주시 노형동 3702-2</td>\n",
       "      <td>NaN</td>\n",
       "      <td>NaN</td>\n",
       "      <td>가정,생활 &gt; 반려동물 &gt; 반려견놀이터</td>\n",
       "      <td>NaN</td>\n",
       "      <td>51635726</td>\n",
       "      <td>010-2101-3083</td>\n",
       "      <td>놀자개</td>\n",
       "      <td>http://place.map.kakao.com/51635726</td>\n",
       "      <td>제주특별자치도 제주시 오광로 143</td>\n",
       "      <td>126.462121</td>\n",
       "      <td>33.483826</td>\n",
       "    </tr>\n",
       "    <tr>\n",
       "      <th>1007</th>\n",
       "      <td>헌마공신 김만일기념관</td>\n",
       "      <td>제주특별자치도 서귀포시 남원읍 한남리 992</td>\n",
       "      <td>CT1</td>\n",
       "      <td>문화시설</td>\n",
       "      <td>문화,예술 &gt; 문화시설 &gt; 기념관</td>\n",
       "      <td>NaN</td>\n",
       "      <td>1864646661</td>\n",
       "      <td>064-805-9801</td>\n",
       "      <td>헌마공신 김만일기념관</td>\n",
       "      <td>http://place.map.kakao.com/1864646661</td>\n",
       "      <td>제주특별자치도 서귀포시 남원읍 서성로 919</td>\n",
       "      <td>126.690779</td>\n",
       "      <td>33.336085</td>\n",
       "    </tr>\n",
       "    <tr>\n",
       "      <th>1008</th>\n",
       "      <td>한형수정원</td>\n",
       "      <td>제주특별자치도 제주시 한림읍 협재리 1352</td>\n",
       "      <td>CE7</td>\n",
       "      <td>카페</td>\n",
       "      <td>음식점 &gt; 카페</td>\n",
       "      <td>NaN</td>\n",
       "      <td>317398947</td>\n",
       "      <td>0507-1328-3350</td>\n",
       "      <td>한형수정원</td>\n",
       "      <td>http://place.map.kakao.com/317398947</td>\n",
       "      <td>제주특별자치도 제주시 한림읍 옹포2길 44</td>\n",
       "      <td>126.249846</td>\n",
       "      <td>33.396947</td>\n",
       "    </tr>\n",
       "  </tbody>\n",
       "</table>\n",
       "<p>1009 rows × 13 columns</p>\n",
       "</div>"
      ],
      "text/plain": [
       "       Unnamed: 0                 address_name category_group_code  \\\n",
       "0             공천포         제주특별자치도 서귀포시 남원읍 신례리                 NaN   \n",
       "1           제주민속촌    제주특별자치도 서귀포시 표선면 표선리 40-1                 AT4   \n",
       "2          제주빅볼랜드      제주특별자치도 제주시 애월읍 어음리 산 3                 NaN   \n",
       "3          신양해안도로         제주특별자치도 서귀포시 성산읍 고성리                 AT4   \n",
       "4     너븐숭이 4.3기념관     제주특별자치도 제주시 조천읍 북촌리 1599                 CT1   \n",
       "...           ...                          ...                 ...   \n",
       "1004          방림원  제주특별자치도 제주시 한경면 저지리 2120-91                 AT4   \n",
       "1005         곱닥한개     제주특별자치도 제주시 삼양이동 2101-10                 NaN   \n",
       "1006          놀자개       제주특별자치도 제주시 노형동 3702-2                 NaN   \n",
       "1007  헌마공신 김만일기념관     제주특별자치도 서귀포시 남원읍 한남리 992                 CT1   \n",
       "1008        한형수정원     제주특별자치도 제주시 한림읍 협재리 1352                 CE7   \n",
       "\n",
       "     category_group_name          category_name  distance          id  \\\n",
       "0                    NaN               부동산 > 지명       NaN    10145930   \n",
       "1                   관광명소       여행 > 관광,명소 > 민속촌       NaN     8063566   \n",
       "2                    NaN         스포츠,레저 > 스포츠시설       NaN    26891646   \n",
       "3                   관광명소    여행 > 관광,명소 > 드라이브코스       NaN     7970247   \n",
       "4                   문화시설     문화,예술 > 문화시설 > 기념관       NaN    25610782   \n",
       "...                  ...                    ...       ...         ...   \n",
       "1004                관광명소   여행 > 관광,명소 > 수목원,식물원       NaN     8318161   \n",
       "1005                 NaN  가정,생활 > 반려동물 > 반려동물용품       NaN   357983849   \n",
       "1006                 NaN  가정,생활 > 반려동물 > 반려견놀이터       NaN    51635726   \n",
       "1007                문화시설     문화,예술 > 문화시설 > 기념관       NaN  1864646661   \n",
       "1008                  카페               음식점 > 카페       NaN   317398947   \n",
       "\n",
       "               phone   place_name                              place_url  \\\n",
       "0                NaN          공천포    http://place.map.kakao.com/10145930   \n",
       "1       064-787-4501        제주민속촌     http://place.map.kakao.com/8063566   \n",
       "2          1588-6418       제주빅볼랜드    http://place.map.kakao.com/26891646   \n",
       "3                NaN     신양신산해안도로     http://place.map.kakao.com/7970247   \n",
       "4                NaN   너븐숭이4.3기념관    http://place.map.kakao.com/25610782   \n",
       "...              ...          ...                                    ...   \n",
       "1004    064-773-0090          방림원     http://place.map.kakao.com/8318161   \n",
       "1005  0507-1330-7046         곱닥한개   http://place.map.kakao.com/357983849   \n",
       "1006   010-2101-3083          놀자개    http://place.map.kakao.com/51635726   \n",
       "1007    064-805-9801  헌마공신 김만일기념관  http://place.map.kakao.com/1864646661   \n",
       "1008  0507-1328-3350        한형수정원   http://place.map.kakao.com/317398947   \n",
       "\n",
       "                  road_address_name           x          y  \n",
       "0                               NaN  126.640591  33.266086  \n",
       "1     제주특별자치도 서귀포시 표선면 민속해안로 631-34  126.842297  33.322396  \n",
       "2           제주특별자치도 제주시 애월읍 산록서로 15  126.376866  33.389015  \n",
       "3                               NaN  126.916247  33.434438  \n",
       "4            제주특별자치도 제주시 조천읍 북촌3길 3  126.688656  33.545997  \n",
       "...                             ...         ...        ...  \n",
       "1004        제주특별자치도 제주시 한경면 용금로 864  126.268528  33.337147  \n",
       "1005          제주특별자치도 제주시 설촌로10길 12  126.582714  33.523888  \n",
       "1006            제주특별자치도 제주시 오광로 143  126.462121  33.483826  \n",
       "1007       제주특별자치도 서귀포시 남원읍 서성로 919  126.690779  33.336085  \n",
       "1008        제주특별자치도 제주시 한림읍 옹포2길 44  126.249846  33.396947  \n",
       "\n",
       "[1009 rows x 13 columns]"
      ]
     },
     "execution_count": 25,
     "metadata": {},
     "output_type": "execute_result"
    }
   ],
   "source": [
    "data"
   ]
  },
  {
   "cell_type": "code",
   "execution_count": null,
   "metadata": {},
   "outputs": [],
   "source": [
    "data.drop('Unnamed: 0', axis=1, inplace=True)"
   ]
  },
  {
   "cell_type": "code",
   "execution_count": 33,
   "metadata": {},
   "outputs": [],
   "source": [
    "data.drop('category_group_code', axis=1, inplace=True)\n",
    "data.drop('category_group_name', axis=1, inplace=True)\n",
    "data.drop('category_name', axis=1, inplace=True)\n",
    "data.drop('distance', axis=1, inplace=True)\n",
    "data.drop('id', axis=1, inplace=True)\n",
    "data.drop('phone', axis=1, inplace=True)"
   ]
  },
  {
   "cell_type": "code",
   "execution_count": 40,
   "metadata": {},
   "outputs": [],
   "source": [
    "data.rename(columns={'address_name':'지번주소','place_name':'제목','road_address_name':'도로명주소','place_url':'url'},inplace=True)"
   ]
  },
  {
   "cell_type": "code",
   "execution_count": 41,
   "metadata": {},
   "outputs": [
    {
     "data": {
      "text/html": [
       "<div>\n",
       "<style scoped>\n",
       "    .dataframe tbody tr th:only-of-type {\n",
       "        vertical-align: middle;\n",
       "    }\n",
       "\n",
       "    .dataframe tbody tr th {\n",
       "        vertical-align: top;\n",
       "    }\n",
       "\n",
       "    .dataframe thead th {\n",
       "        text-align: right;\n",
       "    }\n",
       "</style>\n",
       "<table border=\"1\" class=\"dataframe\">\n",
       "  <thead>\n",
       "    <tr style=\"text-align: right;\">\n",
       "      <th></th>\n",
       "      <th>지번주소</th>\n",
       "      <th>제목</th>\n",
       "      <th>url</th>\n",
       "      <th>도로명주소</th>\n",
       "      <th>x</th>\n",
       "      <th>y</th>\n",
       "    </tr>\n",
       "  </thead>\n",
       "  <tbody>\n",
       "    <tr>\n",
       "      <th>0</th>\n",
       "      <td>제주특별자치도 서귀포시 남원읍 신례리</td>\n",
       "      <td>공천포</td>\n",
       "      <td>http://place.map.kakao.com/10145930</td>\n",
       "      <td>NaN</td>\n",
       "      <td>126.640591</td>\n",
       "      <td>33.266086</td>\n",
       "    </tr>\n",
       "    <tr>\n",
       "      <th>1</th>\n",
       "      <td>제주특별자치도 서귀포시 표선면 표선리 40-1</td>\n",
       "      <td>제주민속촌</td>\n",
       "      <td>http://place.map.kakao.com/8063566</td>\n",
       "      <td>제주특별자치도 서귀포시 표선면 민속해안로 631-34</td>\n",
       "      <td>126.842297</td>\n",
       "      <td>33.322396</td>\n",
       "    </tr>\n",
       "    <tr>\n",
       "      <th>2</th>\n",
       "      <td>제주특별자치도 제주시 애월읍 어음리 산 3</td>\n",
       "      <td>제주빅볼랜드</td>\n",
       "      <td>http://place.map.kakao.com/26891646</td>\n",
       "      <td>제주특별자치도 제주시 애월읍 산록서로 15</td>\n",
       "      <td>126.376866</td>\n",
       "      <td>33.389015</td>\n",
       "    </tr>\n",
       "    <tr>\n",
       "      <th>3</th>\n",
       "      <td>제주특별자치도 서귀포시 성산읍 고성리</td>\n",
       "      <td>신양신산해안도로</td>\n",
       "      <td>http://place.map.kakao.com/7970247</td>\n",
       "      <td>NaN</td>\n",
       "      <td>126.916247</td>\n",
       "      <td>33.434438</td>\n",
       "    </tr>\n",
       "    <tr>\n",
       "      <th>4</th>\n",
       "      <td>제주특별자치도 제주시 조천읍 북촌리 1599</td>\n",
       "      <td>너븐숭이4.3기념관</td>\n",
       "      <td>http://place.map.kakao.com/25610782</td>\n",
       "      <td>제주특별자치도 제주시 조천읍 북촌3길 3</td>\n",
       "      <td>126.688656</td>\n",
       "      <td>33.545997</td>\n",
       "    </tr>\n",
       "    <tr>\n",
       "      <th>...</th>\n",
       "      <td>...</td>\n",
       "      <td>...</td>\n",
       "      <td>...</td>\n",
       "      <td>...</td>\n",
       "      <td>...</td>\n",
       "      <td>...</td>\n",
       "    </tr>\n",
       "    <tr>\n",
       "      <th>1004</th>\n",
       "      <td>제주특별자치도 제주시 한경면 저지리 2120-91</td>\n",
       "      <td>방림원</td>\n",
       "      <td>http://place.map.kakao.com/8318161</td>\n",
       "      <td>제주특별자치도 제주시 한경면 용금로 864</td>\n",
       "      <td>126.268528</td>\n",
       "      <td>33.337147</td>\n",
       "    </tr>\n",
       "    <tr>\n",
       "      <th>1005</th>\n",
       "      <td>제주특별자치도 제주시 삼양이동 2101-10</td>\n",
       "      <td>곱닥한개</td>\n",
       "      <td>http://place.map.kakao.com/357983849</td>\n",
       "      <td>제주특별자치도 제주시 설촌로10길 12</td>\n",
       "      <td>126.582714</td>\n",
       "      <td>33.523888</td>\n",
       "    </tr>\n",
       "    <tr>\n",
       "      <th>1006</th>\n",
       "      <td>제주특별자치도 제주시 노형동 3702-2</td>\n",
       "      <td>놀자개</td>\n",
       "      <td>http://place.map.kakao.com/51635726</td>\n",
       "      <td>제주특별자치도 제주시 오광로 143</td>\n",
       "      <td>126.462121</td>\n",
       "      <td>33.483826</td>\n",
       "    </tr>\n",
       "    <tr>\n",
       "      <th>1007</th>\n",
       "      <td>제주특별자치도 서귀포시 남원읍 한남리 992</td>\n",
       "      <td>헌마공신 김만일기념관</td>\n",
       "      <td>http://place.map.kakao.com/1864646661</td>\n",
       "      <td>제주특별자치도 서귀포시 남원읍 서성로 919</td>\n",
       "      <td>126.690779</td>\n",
       "      <td>33.336085</td>\n",
       "    </tr>\n",
       "    <tr>\n",
       "      <th>1008</th>\n",
       "      <td>제주특별자치도 제주시 한림읍 협재리 1352</td>\n",
       "      <td>한형수정원</td>\n",
       "      <td>http://place.map.kakao.com/317398947</td>\n",
       "      <td>제주특별자치도 제주시 한림읍 옹포2길 44</td>\n",
       "      <td>126.249846</td>\n",
       "      <td>33.396947</td>\n",
       "    </tr>\n",
       "  </tbody>\n",
       "</table>\n",
       "<p>1009 rows × 6 columns</p>\n",
       "</div>"
      ],
      "text/plain": [
       "                             지번주소           제목  \\\n",
       "0            제주특별자치도 서귀포시 남원읍 신례리          공천포   \n",
       "1       제주특별자치도 서귀포시 표선면 표선리 40-1        제주민속촌   \n",
       "2         제주특별자치도 제주시 애월읍 어음리 산 3       제주빅볼랜드   \n",
       "3            제주특별자치도 서귀포시 성산읍 고성리     신양신산해안도로   \n",
       "4        제주특별자치도 제주시 조천읍 북촌리 1599   너븐숭이4.3기념관   \n",
       "...                           ...          ...   \n",
       "1004  제주특별자치도 제주시 한경면 저지리 2120-91          방림원   \n",
       "1005     제주특별자치도 제주시 삼양이동 2101-10         곱닥한개   \n",
       "1006       제주특별자치도 제주시 노형동 3702-2          놀자개   \n",
       "1007     제주특별자치도 서귀포시 남원읍 한남리 992  헌마공신 김만일기념관   \n",
       "1008     제주특별자치도 제주시 한림읍 협재리 1352        한형수정원   \n",
       "\n",
       "                                        url                          도로명주소  \\\n",
       "0       http://place.map.kakao.com/10145930                            NaN   \n",
       "1        http://place.map.kakao.com/8063566  제주특별자치도 서귀포시 표선면 민속해안로 631-34   \n",
       "2       http://place.map.kakao.com/26891646        제주특별자치도 제주시 애월읍 산록서로 15   \n",
       "3        http://place.map.kakao.com/7970247                            NaN   \n",
       "4       http://place.map.kakao.com/25610782         제주특별자치도 제주시 조천읍 북촌3길 3   \n",
       "...                                     ...                            ...   \n",
       "1004     http://place.map.kakao.com/8318161        제주특별자치도 제주시 한경면 용금로 864   \n",
       "1005   http://place.map.kakao.com/357983849          제주특별자치도 제주시 설촌로10길 12   \n",
       "1006    http://place.map.kakao.com/51635726            제주특별자치도 제주시 오광로 143   \n",
       "1007  http://place.map.kakao.com/1864646661       제주특별자치도 서귀포시 남원읍 서성로 919   \n",
       "1008   http://place.map.kakao.com/317398947        제주특별자치도 제주시 한림읍 옹포2길 44   \n",
       "\n",
       "               x          y  \n",
       "0     126.640591  33.266086  \n",
       "1     126.842297  33.322396  \n",
       "2     126.376866  33.389015  \n",
       "3     126.916247  33.434438  \n",
       "4     126.688656  33.545997  \n",
       "...          ...        ...  \n",
       "1004  126.268528  33.337147  \n",
       "1005  126.582714  33.523888  \n",
       "1006  126.462121  33.483826  \n",
       "1007  126.690779  33.336085  \n",
       "1008  126.249846  33.396947  \n",
       "\n",
       "[1009 rows x 6 columns]"
      ]
     },
     "execution_count": 41,
     "metadata": {},
     "output_type": "execute_result"
    }
   ],
   "source": [
    "data"
   ]
  },
  {
   "cell_type": "markdown",
   "metadata": {},
   "source": [
    "* 데이터 가져오기"
   ]
  },
  {
   "cell_type": "markdown",
   "metadata": {},
   "source": [
    "<span style= 'color : blue' >2. 데이터 전처리</span>\n"
   ]
  },
  {
   "cell_type": "markdown",
   "metadata": {},
   "source": [
    "* 제주도가 아닌 곳은 제외시키기"
   ]
  },
  {
   "cell_type": "code",
   "execution_count": 42,
   "metadata": {},
   "outputs": [
    {
     "name": "stderr",
     "output_type": "stream",
     "text": [
      "C:\\Users\\hanjieun_2\\AppData\\Local\\Temp\\ipykernel_15496\\1649705461.py:3: SettingWithCopyWarning: \n",
      "A value is trying to be set on a copy of a slice from a DataFrame.\n",
      "Try using .loc[row_indexer,col_indexer] = value instead\n",
      "\n",
      "See the caveats in the documentation: https://pandas.pydata.org/pandas-docs/stable/user_guide/indexing.html#returning-a-view-versus-a-copy\n",
      "  data[\"행정구역\"]=np.nan\n"
     ]
    }
   ],
   "source": [
    "data=data[data[\"지번주소\"].str.find(\"제주특별\")!=-1]\n",
    "# data.drop(columns=\"Unnamed: 0\",inplace=True)\n",
    "data[\"행정구역\"]=np.nan"
   ]
  },
  {
   "cell_type": "code",
   "execution_count": 43,
   "metadata": {},
   "outputs": [],
   "source": [
    "행정구역 = {'구좌':'구좌',\n",
    "  '조천':'조천', \n",
    "  '화북': '동제주','봉개':'동제주', '회천':'동제주','용강':'동제주',\n",
    "  '오라':'중제주','아라':'중제주','오등':'중제주','화북':'중제주','이도':'중제주','건입':'중제주','삼도':'중제주','용담':'중제주','일도':'중제주', \n",
    "  '도두':'서제주','이호':'서제주','외도':'서제주','내도':'서제주','도평':'서제주','노형':'서제주','연동':'서제주','강정':'서제주','도순':'서제주',\n",
    "  '영남':'서제주','월평':'서제주','해안':'서제주', '노형':'서제주',\n",
    "  '애월' :'애월',\n",
    "  '성산':'성산',\n",
    "  '한림':'한림',\n",
    "  '표선':'표선',\n",
    "  '남원':'남원',\n",
    "  '한경':'한경',\n",
    "  '안덕':'안덕',\n",
    "  '영천':'동서귀','동흥':'동서귀','효돈':'동서귀','송산':'동서귀','신효':'동서귀','하효':'동서귀','서귀':'동서귀','보목':'동서귀','동홍':'동서귀',\n",
    "  '대천':'중서귀','대륜':'중서귀','서홍':'중서귀', '강정':'중서귀','법환':'중서귀','서호':'중서귀','호근':'중서귀',\n",
    "  '여래':'서서귀','중문':'서서귀','회수':'서서귀', '하원':'서서귀','대포':'서서귀', '색달':'서서귀', '하예':'서서귀', '상예':'서서귀',  \n",
    "  '대정':'대정'}"
   ]
  },
  {
   "cell_type": "code",
   "execution_count": 44,
   "metadata": {},
   "outputs": [],
   "source": [
    "def trans(x):\n",
    "    for i in 행정구역.keys():\n",
    "        try:\n",
    "            if i in x:\n",
    "                return 행정구역[i]\n",
    "        except:\n",
    "            break"
   ]
  },
  {
   "cell_type": "code",
   "execution_count": 45,
   "metadata": {},
   "outputs": [
    {
     "name": "stderr",
     "output_type": "stream",
     "text": [
      "C:\\Users\\hanjieun_2\\AppData\\Local\\Temp\\ipykernel_15496\\835140996.py:3: SettingWithCopyWarning: \n",
      "A value is trying to be set on a copy of a slice from a DataFrame.\n",
      "Try using .loc[row_indexer,col_indexer] = value instead\n",
      "\n",
      "See the caveats in the documentation: https://pandas.pydata.org/pandas-docs/stable/user_guide/indexing.html#returning-a-view-versus-a-copy\n",
      "  data[\"행정구역\"]=data[\"지번주소\"].apply(lambda x:trans(x))\n"
     ]
    }
   ],
   "source": [
    "# 지번주소\n",
    "error=[]\n",
    "data[\"행정구역\"]=data[\"지번주소\"].apply(lambda x:trans(x))"
   ]
  },
  {
   "cell_type": "code",
   "execution_count": 46,
   "metadata": {},
   "outputs": [],
   "source": [
    "# 도로명주소\n",
    "data.loc[data[\"행정구역\"].isna(),\"행정구역\"]=data[data[\"행정구역\"].isna()].apply(lambda x:trans(x))"
   ]
  },
  {
   "cell_type": "code",
   "execution_count": 47,
   "metadata": {},
   "outputs": [
    {
     "data": {
      "text/html": [
       "<div>\n",
       "<style scoped>\n",
       "    .dataframe tbody tr th:only-of-type {\n",
       "        vertical-align: middle;\n",
       "    }\n",
       "\n",
       "    .dataframe tbody tr th {\n",
       "        vertical-align: top;\n",
       "    }\n",
       "\n",
       "    .dataframe thead th {\n",
       "        text-align: right;\n",
       "    }\n",
       "</style>\n",
       "<table border=\"1\" class=\"dataframe\">\n",
       "  <thead>\n",
       "    <tr style=\"text-align: right;\">\n",
       "      <th></th>\n",
       "      <th>지번주소</th>\n",
       "      <th>제목</th>\n",
       "      <th>url</th>\n",
       "      <th>도로명주소</th>\n",
       "      <th>x</th>\n",
       "      <th>y</th>\n",
       "      <th>행정구역</th>\n",
       "    </tr>\n",
       "  </thead>\n",
       "  <tbody>\n",
       "    <tr>\n",
       "      <th>0</th>\n",
       "      <td>제주특별자치도 서귀포시 남원읍 신례리</td>\n",
       "      <td>공천포</td>\n",
       "      <td>http://place.map.kakao.com/10145930</td>\n",
       "      <td>NaN</td>\n",
       "      <td>126.640591</td>\n",
       "      <td>33.266086</td>\n",
       "      <td>남원</td>\n",
       "    </tr>\n",
       "    <tr>\n",
       "      <th>1</th>\n",
       "      <td>제주특별자치도 서귀포시 표선면 표선리 40-1</td>\n",
       "      <td>제주민속촌</td>\n",
       "      <td>http://place.map.kakao.com/8063566</td>\n",
       "      <td>제주특별자치도 서귀포시 표선면 민속해안로 631-34</td>\n",
       "      <td>126.842297</td>\n",
       "      <td>33.322396</td>\n",
       "      <td>표선</td>\n",
       "    </tr>\n",
       "    <tr>\n",
       "      <th>2</th>\n",
       "      <td>제주특별자치도 제주시 애월읍 어음리 산 3</td>\n",
       "      <td>제주빅볼랜드</td>\n",
       "      <td>http://place.map.kakao.com/26891646</td>\n",
       "      <td>제주특별자치도 제주시 애월읍 산록서로 15</td>\n",
       "      <td>126.376866</td>\n",
       "      <td>33.389015</td>\n",
       "      <td>애월</td>\n",
       "    </tr>\n",
       "    <tr>\n",
       "      <th>3</th>\n",
       "      <td>제주특별자치도 서귀포시 성산읍 고성리</td>\n",
       "      <td>신양신산해안도로</td>\n",
       "      <td>http://place.map.kakao.com/7970247</td>\n",
       "      <td>NaN</td>\n",
       "      <td>126.916247</td>\n",
       "      <td>33.434438</td>\n",
       "      <td>성산</td>\n",
       "    </tr>\n",
       "    <tr>\n",
       "      <th>4</th>\n",
       "      <td>제주특별자치도 제주시 조천읍 북촌리 1599</td>\n",
       "      <td>너븐숭이4.3기념관</td>\n",
       "      <td>http://place.map.kakao.com/25610782</td>\n",
       "      <td>제주특별자치도 제주시 조천읍 북촌3길 3</td>\n",
       "      <td>126.688656</td>\n",
       "      <td>33.545997</td>\n",
       "      <td>조천</td>\n",
       "    </tr>\n",
       "    <tr>\n",
       "      <th>...</th>\n",
       "      <td>...</td>\n",
       "      <td>...</td>\n",
       "      <td>...</td>\n",
       "      <td>...</td>\n",
       "      <td>...</td>\n",
       "      <td>...</td>\n",
       "      <td>...</td>\n",
       "    </tr>\n",
       "    <tr>\n",
       "      <th>1004</th>\n",
       "      <td>제주특별자치도 제주시 한경면 저지리 2120-91</td>\n",
       "      <td>방림원</td>\n",
       "      <td>http://place.map.kakao.com/8318161</td>\n",
       "      <td>제주특별자치도 제주시 한경면 용금로 864</td>\n",
       "      <td>126.268528</td>\n",
       "      <td>33.337147</td>\n",
       "      <td>한경</td>\n",
       "    </tr>\n",
       "    <tr>\n",
       "      <th>1005</th>\n",
       "      <td>제주특별자치도 제주시 삼양이동 2101-10</td>\n",
       "      <td>곱닥한개</td>\n",
       "      <td>http://place.map.kakao.com/357983849</td>\n",
       "      <td>제주특별자치도 제주시 설촌로10길 12</td>\n",
       "      <td>126.582714</td>\n",
       "      <td>33.523888</td>\n",
       "      <td>NaN</td>\n",
       "    </tr>\n",
       "    <tr>\n",
       "      <th>1006</th>\n",
       "      <td>제주특별자치도 제주시 노형동 3702-2</td>\n",
       "      <td>놀자개</td>\n",
       "      <td>http://place.map.kakao.com/51635726</td>\n",
       "      <td>제주특별자치도 제주시 오광로 143</td>\n",
       "      <td>126.462121</td>\n",
       "      <td>33.483826</td>\n",
       "      <td>서제주</td>\n",
       "    </tr>\n",
       "    <tr>\n",
       "      <th>1007</th>\n",
       "      <td>제주특별자치도 서귀포시 남원읍 한남리 992</td>\n",
       "      <td>헌마공신 김만일기념관</td>\n",
       "      <td>http://place.map.kakao.com/1864646661</td>\n",
       "      <td>제주특별자치도 서귀포시 남원읍 서성로 919</td>\n",
       "      <td>126.690779</td>\n",
       "      <td>33.336085</td>\n",
       "      <td>남원</td>\n",
       "    </tr>\n",
       "    <tr>\n",
       "      <th>1008</th>\n",
       "      <td>제주특별자치도 제주시 한림읍 협재리 1352</td>\n",
       "      <td>한형수정원</td>\n",
       "      <td>http://place.map.kakao.com/317398947</td>\n",
       "      <td>제주특별자치도 제주시 한림읍 옹포2길 44</td>\n",
       "      <td>126.249846</td>\n",
       "      <td>33.396947</td>\n",
       "      <td>한림</td>\n",
       "    </tr>\n",
       "  </tbody>\n",
       "</table>\n",
       "<p>942 rows × 7 columns</p>\n",
       "</div>"
      ],
      "text/plain": [
       "                             지번주소           제목  \\\n",
       "0            제주특별자치도 서귀포시 남원읍 신례리          공천포   \n",
       "1       제주특별자치도 서귀포시 표선면 표선리 40-1        제주민속촌   \n",
       "2         제주특별자치도 제주시 애월읍 어음리 산 3       제주빅볼랜드   \n",
       "3            제주특별자치도 서귀포시 성산읍 고성리     신양신산해안도로   \n",
       "4        제주특별자치도 제주시 조천읍 북촌리 1599   너븐숭이4.3기념관   \n",
       "...                           ...          ...   \n",
       "1004  제주특별자치도 제주시 한경면 저지리 2120-91          방림원   \n",
       "1005     제주특별자치도 제주시 삼양이동 2101-10         곱닥한개   \n",
       "1006       제주특별자치도 제주시 노형동 3702-2          놀자개   \n",
       "1007     제주특별자치도 서귀포시 남원읍 한남리 992  헌마공신 김만일기념관   \n",
       "1008     제주특별자치도 제주시 한림읍 협재리 1352        한형수정원   \n",
       "\n",
       "                                        url                          도로명주소  \\\n",
       "0       http://place.map.kakao.com/10145930                            NaN   \n",
       "1        http://place.map.kakao.com/8063566  제주특별자치도 서귀포시 표선면 민속해안로 631-34   \n",
       "2       http://place.map.kakao.com/26891646        제주특별자치도 제주시 애월읍 산록서로 15   \n",
       "3        http://place.map.kakao.com/7970247                            NaN   \n",
       "4       http://place.map.kakao.com/25610782         제주특별자치도 제주시 조천읍 북촌3길 3   \n",
       "...                                     ...                            ...   \n",
       "1004     http://place.map.kakao.com/8318161        제주특별자치도 제주시 한경면 용금로 864   \n",
       "1005   http://place.map.kakao.com/357983849          제주특별자치도 제주시 설촌로10길 12   \n",
       "1006    http://place.map.kakao.com/51635726            제주특별자치도 제주시 오광로 143   \n",
       "1007  http://place.map.kakao.com/1864646661       제주특별자치도 서귀포시 남원읍 서성로 919   \n",
       "1008   http://place.map.kakao.com/317398947        제주특별자치도 제주시 한림읍 옹포2길 44   \n",
       "\n",
       "               x          y 행정구역  \n",
       "0     126.640591  33.266086   남원  \n",
       "1     126.842297  33.322396   표선  \n",
       "2     126.376866  33.389015   애월  \n",
       "3     126.916247  33.434438   성산  \n",
       "4     126.688656  33.545997   조천  \n",
       "...          ...        ...  ...  \n",
       "1004  126.268528  33.337147   한경  \n",
       "1005  126.582714  33.523888  NaN  \n",
       "1006  126.462121  33.483826  서제주  \n",
       "1007  126.690779  33.336085   남원  \n",
       "1008  126.249846  33.396947   한림  \n",
       "\n",
       "[942 rows x 7 columns]"
      ]
     },
     "execution_count": 47,
     "metadata": {},
     "output_type": "execute_result"
    }
   ],
   "source": [
    "data"
   ]
  },
  {
   "cell_type": "markdown",
   "metadata": {},
   "source": [
    "<span style= 'color : blue' >3. 시각화 :SVG 시각화를 통해 관광지의 밀집도 분석 </span>"
   ]
  },
  {
   "cell_type": "markdown",
   "metadata": {},
   "source": [
    "* 필요한 패키지 설치"
   ]
  },
  {
   "cell_type": "code",
   "execution_count": null,
   "metadata": {},
   "outputs": [],
   "source": [
    "from IPython.display import SVG\n",
    "from bs4 import BeautifulSoup\n",
    "import requests\n",
    "import pandas as pd\n",
    "import numpy as np\n",
    "import os"
   ]
  },
  {
   "cell_type": "markdown",
   "metadata": {},
   "source": [
    "* 행정구역별 색상 리스트 만들기"
   ]
  },
  {
   "cell_type": "code",
   "execution_count": 78,
   "metadata": {},
   "outputs": [],
   "source": [
    "colors = ['#e6ffff', '#99ffff', '#66ffff', '#1affff', '#00e6e6','#00cccc','#009999','#006666']"
   ]
  },
  {
   "cell_type": "markdown",
   "metadata": {},
   "source": [
    "* histogram 을 이용한 구간 설정"
   ]
  },
  {
   "cell_type": "code",
   "execution_count": 79,
   "metadata": {},
   "outputs": [],
   "source": [
    "# 행정구역 = index, 행정구역 별 관광지의 개수(count) = column\n",
    "color_rule=pd.merge(pd.DataFrame(set(행정구역.values())).set_index(0),pd.DataFrame(data[\"행정구역\"].value_counts()),\n",
    "                    how=\"left\",left_index=True,right_index=True).fillna(0)"
   ]
  },
  {
   "cell_type": "code",
   "execution_count": 80,
   "metadata": {},
   "outputs": [
    {
     "data": {
      "text/html": [
       "<div>\n",
       "<style scoped>\n",
       "    .dataframe tbody tr th:only-of-type {\n",
       "        vertical-align: middle;\n",
       "    }\n",
       "\n",
       "    .dataframe tbody tr th {\n",
       "        vertical-align: top;\n",
       "    }\n",
       "\n",
       "    .dataframe thead th {\n",
       "        text-align: right;\n",
       "    }\n",
       "</style>\n",
       "<table border=\"1\" class=\"dataframe\">\n",
       "  <thead>\n",
       "    <tr style=\"text-align: right;\">\n",
       "      <th></th>\n",
       "      <th>count</th>\n",
       "    </tr>\n",
       "    <tr>\n",
       "      <th>0</th>\n",
       "      <th></th>\n",
       "    </tr>\n",
       "  </thead>\n",
       "  <tbody>\n",
       "    <tr>\n",
       "      <th>동서귀</th>\n",
       "      <td>197.0</td>\n",
       "    </tr>\n",
       "    <tr>\n",
       "      <th>표선</th>\n",
       "      <td>37.0</td>\n",
       "    </tr>\n",
       "    <tr>\n",
       "      <th>서제주</th>\n",
       "      <td>66.0</td>\n",
       "    </tr>\n",
       "    <tr>\n",
       "      <th>남원</th>\n",
       "      <td>44.0</td>\n",
       "    </tr>\n",
       "    <tr>\n",
       "      <th>성산</th>\n",
       "      <td>49.0</td>\n",
       "    </tr>\n",
       "    <tr>\n",
       "      <th>조천</th>\n",
       "      <td>61.0</td>\n",
       "    </tr>\n",
       "    <tr>\n",
       "      <th>구좌</th>\n",
       "      <td>77.0</td>\n",
       "    </tr>\n",
       "    <tr>\n",
       "      <th>한경</th>\n",
       "      <td>45.0</td>\n",
       "    </tr>\n",
       "    <tr>\n",
       "      <th>동제주</th>\n",
       "      <td>14.0</td>\n",
       "    </tr>\n",
       "    <tr>\n",
       "      <th>중서귀</th>\n",
       "      <td>11.0</td>\n",
       "    </tr>\n",
       "    <tr>\n",
       "      <th>중제주</th>\n",
       "      <td>92.0</td>\n",
       "    </tr>\n",
       "    <tr>\n",
       "      <th>안덕</th>\n",
       "      <td>68.0</td>\n",
       "    </tr>\n",
       "    <tr>\n",
       "      <th>서서귀</th>\n",
       "      <td>0.0</td>\n",
       "    </tr>\n",
       "    <tr>\n",
       "      <th>대정</th>\n",
       "      <td>0.0</td>\n",
       "    </tr>\n",
       "    <tr>\n",
       "      <th>애월</th>\n",
       "      <td>77.0</td>\n",
       "    </tr>\n",
       "    <tr>\n",
       "      <th>한림</th>\n",
       "      <td>58.0</td>\n",
       "    </tr>\n",
       "  </tbody>\n",
       "</table>\n",
       "</div>"
      ],
      "text/plain": [
       "     count\n",
       "0         \n",
       "동서귀  197.0\n",
       "표선    37.0\n",
       "서제주   66.0\n",
       "남원    44.0\n",
       "성산    49.0\n",
       "조천    61.0\n",
       "구좌    77.0\n",
       "한경    45.0\n",
       "동제주   14.0\n",
       "중서귀   11.0\n",
       "중제주   92.0\n",
       "안덕    68.0\n",
       "서서귀    0.0\n",
       "대정     0.0\n",
       "애월    77.0\n",
       "한림    58.0"
      ]
     },
     "execution_count": 80,
     "metadata": {},
     "output_type": "execute_result"
    }
   ],
   "source": [
    "color_rule"
   ]
  },
  {
   "cell_type": "code",
   "execution_count": 81,
   "metadata": {},
   "outputs": [],
   "source": [
    "x,y=np.histogram(color_rule[\"count\"].values,bins=8)"
   ]
  },
  {
   "cell_type": "code",
   "execution_count": 82,
   "metadata": {},
   "outputs": [
    {
     "data": {
      "text/plain": [
       "array([  0.   ,  24.625,  49.25 ,  73.875,  98.5  , 123.125, 147.75 ,\n",
       "       172.375, 197.   ])"
      ]
     },
     "execution_count": 82,
     "metadata": {},
     "output_type": "execute_result"
    }
   ],
   "source": [
    "y"
   ]
  },
  {
   "cell_type": "code",
   "execution_count": 83,
   "metadata": {},
   "outputs": [],
   "source": [
    "# 구간별 색상값\n",
    "dc=dict(zip(y[:-1],colors))"
   ]
  },
  {
   "cell_type": "code",
   "execution_count": 84,
   "metadata": {},
   "outputs": [
    {
     "data": {
      "text/plain": [
       "{0.0: '#e6ffff',\n",
       " 24.625: '#99ffff',\n",
       " 49.25: '#66ffff',\n",
       " 73.875: '#1affff',\n",
       " 98.5: '#00e6e6',\n",
       " 123.125: '#00cccc',\n",
       " 147.75: '#009999',\n",
       " 172.375: '#006666'}"
      ]
     },
     "execution_count": 84,
     "metadata": {},
     "output_type": "execute_result"
    }
   ],
   "source": [
    "dc"
   ]
  },
  {
   "cell_type": "markdown",
   "metadata": {},
   "source": [
    "* 구간에 따라 색상값 변수(color_id) 추가"
   ]
  },
  {
   "cell_type": "code",
   "execution_count": 85,
   "metadata": {},
   "outputs": [],
   "source": [
    "for name in color_rule.index:\n",
    "    for i in y[:-1]:\n",
    "        if color_rule.loc[name]['count']>=i:\n",
    "            color_rule.loc[name,'color_id']=i"
   ]
  },
  {
   "cell_type": "code",
   "execution_count": 86,
   "metadata": {},
   "outputs": [
    {
     "data": {
      "text/html": [
       "<div>\n",
       "<style scoped>\n",
       "    .dataframe tbody tr th:only-of-type {\n",
       "        vertical-align: middle;\n",
       "    }\n",
       "\n",
       "    .dataframe tbody tr th {\n",
       "        vertical-align: top;\n",
       "    }\n",
       "\n",
       "    .dataframe thead th {\n",
       "        text-align: right;\n",
       "    }\n",
       "</style>\n",
       "<table border=\"1\" class=\"dataframe\">\n",
       "  <thead>\n",
       "    <tr style=\"text-align: right;\">\n",
       "      <th></th>\n",
       "      <th>count</th>\n",
       "      <th>color_id</th>\n",
       "    </tr>\n",
       "    <tr>\n",
       "      <th>0</th>\n",
       "      <th></th>\n",
       "      <th></th>\n",
       "    </tr>\n",
       "  </thead>\n",
       "  <tbody>\n",
       "    <tr>\n",
       "      <th>동서귀</th>\n",
       "      <td>197.0</td>\n",
       "      <td>172.375</td>\n",
       "    </tr>\n",
       "    <tr>\n",
       "      <th>표선</th>\n",
       "      <td>37.0</td>\n",
       "      <td>24.625</td>\n",
       "    </tr>\n",
       "    <tr>\n",
       "      <th>서제주</th>\n",
       "      <td>66.0</td>\n",
       "      <td>49.250</td>\n",
       "    </tr>\n",
       "    <tr>\n",
       "      <th>남원</th>\n",
       "      <td>44.0</td>\n",
       "      <td>24.625</td>\n",
       "    </tr>\n",
       "    <tr>\n",
       "      <th>성산</th>\n",
       "      <td>49.0</td>\n",
       "      <td>24.625</td>\n",
       "    </tr>\n",
       "    <tr>\n",
       "      <th>조천</th>\n",
       "      <td>61.0</td>\n",
       "      <td>49.250</td>\n",
       "    </tr>\n",
       "    <tr>\n",
       "      <th>구좌</th>\n",
       "      <td>77.0</td>\n",
       "      <td>73.875</td>\n",
       "    </tr>\n",
       "    <tr>\n",
       "      <th>한경</th>\n",
       "      <td>45.0</td>\n",
       "      <td>24.625</td>\n",
       "    </tr>\n",
       "    <tr>\n",
       "      <th>동제주</th>\n",
       "      <td>14.0</td>\n",
       "      <td>0.000</td>\n",
       "    </tr>\n",
       "    <tr>\n",
       "      <th>중서귀</th>\n",
       "      <td>11.0</td>\n",
       "      <td>0.000</td>\n",
       "    </tr>\n",
       "    <tr>\n",
       "      <th>중제주</th>\n",
       "      <td>92.0</td>\n",
       "      <td>73.875</td>\n",
       "    </tr>\n",
       "    <tr>\n",
       "      <th>안덕</th>\n",
       "      <td>68.0</td>\n",
       "      <td>49.250</td>\n",
       "    </tr>\n",
       "    <tr>\n",
       "      <th>서서귀</th>\n",
       "      <td>0.0</td>\n",
       "      <td>0.000</td>\n",
       "    </tr>\n",
       "    <tr>\n",
       "      <th>대정</th>\n",
       "      <td>0.0</td>\n",
       "      <td>0.000</td>\n",
       "    </tr>\n",
       "    <tr>\n",
       "      <th>애월</th>\n",
       "      <td>77.0</td>\n",
       "      <td>73.875</td>\n",
       "    </tr>\n",
       "    <tr>\n",
       "      <th>한림</th>\n",
       "      <td>58.0</td>\n",
       "      <td>49.250</td>\n",
       "    </tr>\n",
       "  </tbody>\n",
       "</table>\n",
       "</div>"
      ],
      "text/plain": [
       "     count  color_id\n",
       "0                   \n",
       "동서귀  197.0   172.375\n",
       "표선    37.0    24.625\n",
       "서제주   66.0    49.250\n",
       "남원    44.0    24.625\n",
       "성산    49.0    24.625\n",
       "조천    61.0    49.250\n",
       "구좌    77.0    73.875\n",
       "한경    45.0    24.625\n",
       "동제주   14.0     0.000\n",
       "중서귀   11.0     0.000\n",
       "중제주   92.0    73.875\n",
       "안덕    68.0    49.250\n",
       "서서귀    0.0     0.000\n",
       "대정     0.0     0.000\n",
       "애월    77.0    73.875\n",
       "한림    58.0    49.250"
      ]
     },
     "execution_count": 86,
     "metadata": {},
     "output_type": "execute_result"
    }
   ],
   "source": [
    "color_rule"
   ]
  },
  {
   "cell_type": "code",
   "execution_count": 87,
   "metadata": {},
   "outputs": [],
   "source": [
    "with open(\"./제주map.svg\",\"r\",encoding=\"utf-8\") as f:\n",
    "    jeju_map=f.readlines()"
   ]
  },
  {
   "cell_type": "code",
   "execution_count": 88,
   "metadata": {},
   "outputs": [],
   "source": [
    "for name in color_rule.index:\n",
    "    idx=[]\n",
    "    for i in range(len(jeju_map)):\n",
    "        if name in jeju_map[i]:\n",
    "            idx.append(i)\n",
    "    for j in map(lambda x:x+1,idx):\n",
    "        jeju_map[j]=jeju_map[j].replace(\"#eeeeee\",dc[color_rule.loc[name][\"color_id\"]])"
   ]
  },
  {
   "cell_type": "code",
   "execution_count": 89,
   "metadata": {},
   "outputs": [],
   "source": [
    "with open(\"관광지시각화.html\",\"w\") as f:\n",
    "    for line in jeju_map:\n",
    "        f.write(line)"
   ]
  },
  {
   "cell_type": "markdown",
   "metadata": {},
   "source": [
    "![행정구역별_관광지_분포](./관광지_시각화.png)"
   ]
  },
  {
   "cell_type": "markdown",
   "metadata": {},
   "source": [
    "* 분석결과 : 행정구역별로 나누어보았을 때, 관광지는 동서귀포에 가장 밀집되어 있다. 하지만 시별(제주시, 서귀포시)로 나눌때 관광지는 서귀포시보다 제주시에 더 많이 분포되어 있다. "
   ]
  },
  {
   "cell_type": "markdown",
   "metadata": {},
   "source": [
    "### <span style= 'color : blue' >제주도 음식점</span>"
   ]
  },
  {
   "cell_type": "markdown",
   "metadata": {},
   "source": [
    "<span style= 'color : blue' >1. 작업준비</span>"
   ]
  },
  {
   "cell_type": "markdown",
   "metadata": {},
   "source": [
    "* 필요한 패키지 설치 (전 참조)"
   ]
  },
  {
   "cell_type": "markdown",
   "metadata": {},
   "source": [
    "* 데이터 가져오기 "
   ]
  },
  {
   "cell_type": "code",
   "execution_count": 92,
   "metadata": {},
   "outputs": [
    {
     "data": {
      "text/html": [
       "<div>\n",
       "<style scoped>\n",
       "    .dataframe tbody tr th:only-of-type {\n",
       "        vertical-align: middle;\n",
       "    }\n",
       "\n",
       "    .dataframe tbody tr th {\n",
       "        vertical-align: top;\n",
       "    }\n",
       "\n",
       "    .dataframe thead th {\n",
       "        text-align: right;\n",
       "    }\n",
       "</style>\n",
       "<table border=\"1\" class=\"dataframe\">\n",
       "  <thead>\n",
       "    <tr style=\"text-align: right;\">\n",
       "      <th></th>\n",
       "      <th>Unnamed: 0</th>\n",
       "      <th>콘텐츠분류</th>\n",
       "      <th>제목</th>\n",
       "      <th>타이틀</th>\n",
       "      <th>지번주소</th>\n",
       "      <th>도로명주소</th>\n",
       "      <th>위도</th>\n",
       "      <th>경도</th>\n",
       "      <th>탐나오연동여부</th>\n",
       "      <th>평점</th>\n",
       "      <th>소셜네트워크주소</th>\n",
       "      <th>조회수</th>\n",
       "      <th>좋아요수</th>\n",
       "      <th>리뷰수</th>\n",
       "      <th>북마크수</th>\n",
       "      <th>일정등록수</th>\n",
       "      <th>다녀왔어요수</th>\n",
       "      <th>등록일시</th>\n",
       "      <th>소셜네트워크공유수</th>\n",
       "      <th>인기점수</th>\n",
       "    </tr>\n",
       "  </thead>\n",
       "  <tbody>\n",
       "    <tr>\n",
       "      <th>0</th>\n",
       "      <td>1</td>\n",
       "      <td>음식점</td>\n",
       "      <td>탐라 뚝배기</td>\n",
       "      <td>탐라 뚝배기</td>\n",
       "      <td>제주특별자치도 서귀포시 표선면 표선리 879</td>\n",
       "      <td>제주특별자치도 서귀포시 표선면 표선백사로 127</td>\n",
       "      <td>33.326770</td>\n",
       "      <td>126.836690</td>\n",
       "      <td>y</td>\n",
       "      <td>NaN</td>\n",
       "      <td>NaN</td>\n",
       "      <td>3120</td>\n",
       "      <td>0</td>\n",
       "      <td>0</td>\n",
       "      <td>12</td>\n",
       "      <td>0</td>\n",
       "      <td>0</td>\n",
       "      <td>2016-05-30</td>\n",
       "      <td>1</td>\n",
       "      <td>6240.0</td>\n",
       "    </tr>\n",
       "    <tr>\n",
       "      <th>1</th>\n",
       "      <td>2</td>\n",
       "      <td>음식점</td>\n",
       "      <td>토담골</td>\n",
       "      <td>토담골</td>\n",
       "      <td>제주특별자치도 제주시 아라이동 2425</td>\n",
       "      <td>제주특별자치도 제주시 간월동로 5</td>\n",
       "      <td>33.485904</td>\n",
       "      <td>126.543496</td>\n",
       "      <td>y</td>\n",
       "      <td>NaN</td>\n",
       "      <td>NaN</td>\n",
       "      <td>1973</td>\n",
       "      <td>0</td>\n",
       "      <td>0</td>\n",
       "      <td>4</td>\n",
       "      <td>0</td>\n",
       "      <td>0</td>\n",
       "      <td>2016-05-30</td>\n",
       "      <td>0</td>\n",
       "      <td>3946.0</td>\n",
       "    </tr>\n",
       "    <tr>\n",
       "      <th>2</th>\n",
       "      <td>3</td>\n",
       "      <td>음식점</td>\n",
       "      <td>우유부단</td>\n",
       "      <td>우유부단</td>\n",
       "      <td>제주특별자치도 제주시 한림읍 금악리 142-2</td>\n",
       "      <td>제주특별자치도 제주시 한림읍 금악동길 38</td>\n",
       "      <td>33.347640</td>\n",
       "      <td>126.328260</td>\n",
       "      <td>y</td>\n",
       "      <td>5.0</td>\n",
       "      <td>NaN</td>\n",
       "      <td>21460</td>\n",
       "      <td>14</td>\n",
       "      <td>38</td>\n",
       "      <td>253</td>\n",
       "      <td>0</td>\n",
       "      <td>1</td>\n",
       "      <td>2016-10-06</td>\n",
       "      <td>5</td>\n",
       "      <td>43152.0</td>\n",
       "    </tr>\n",
       "    <tr>\n",
       "      <th>3</th>\n",
       "      <td>5</td>\n",
       "      <td>음식점</td>\n",
       "      <td>명당양과</td>\n",
       "      <td>명당양과</td>\n",
       "      <td>제주특별자치도 제주시 노형동 724-1</td>\n",
       "      <td>제주특별자치도 제주시 원노형로 83</td>\n",
       "      <td>33.481275</td>\n",
       "      <td>126.485005</td>\n",
       "      <td>y</td>\n",
       "      <td>5.0</td>\n",
       "      <td>https://www.facebook.com/mdang1980/</td>\n",
       "      <td>11864</td>\n",
       "      <td>19</td>\n",
       "      <td>9</td>\n",
       "      <td>69</td>\n",
       "      <td>0</td>\n",
       "      <td>0</td>\n",
       "      <td>2017-07-04</td>\n",
       "      <td>6</td>\n",
       "      <td>23830.0</td>\n",
       "    </tr>\n",
       "    <tr>\n",
       "      <th>4</th>\n",
       "      <td>11</td>\n",
       "      <td>음식점</td>\n",
       "      <td>땅꼬분식 뷔페</td>\n",
       "      <td>땅꼬분식 뷔페</td>\n",
       "      <td>제주특별자치도 제주시 조천읍 조천리 686-2</td>\n",
       "      <td>제주특별자치도 제주시 조천읍 조천18길 50-9</td>\n",
       "      <td>33.537205</td>\n",
       "      <td>126.645424</td>\n",
       "      <td>y</td>\n",
       "      <td>3.0</td>\n",
       "      <td>NaN</td>\n",
       "      <td>5054</td>\n",
       "      <td>0</td>\n",
       "      <td>1</td>\n",
       "      <td>14</td>\n",
       "      <td>0</td>\n",
       "      <td>0</td>\n",
       "      <td>2016-11-24</td>\n",
       "      <td>5</td>\n",
       "      <td>10113.0</td>\n",
       "    </tr>\n",
       "    <tr>\n",
       "      <th>...</th>\n",
       "      <td>...</td>\n",
       "      <td>...</td>\n",
       "      <td>...</td>\n",
       "      <td>...</td>\n",
       "      <td>...</td>\n",
       "      <td>...</td>\n",
       "      <td>...</td>\n",
       "      <td>...</td>\n",
       "      <td>...</td>\n",
       "      <td>...</td>\n",
       "      <td>...</td>\n",
       "      <td>...</td>\n",
       "      <td>...</td>\n",
       "      <td>...</td>\n",
       "      <td>...</td>\n",
       "      <td>...</td>\n",
       "      <td>...</td>\n",
       "      <td>...</td>\n",
       "      <td>...</td>\n",
       "      <td>...</td>\n",
       "    </tr>\n",
       "    <tr>\n",
       "      <th>2438</th>\n",
       "      <td>6768</td>\n",
       "      <td>음식점</td>\n",
       "      <td>사계카페1</td>\n",
       "      <td>사계카페1</td>\n",
       "      <td>NaN</td>\n",
       "      <td>NaN</td>\n",
       "      <td>NaN</td>\n",
       "      <td>NaN</td>\n",
       "      <td>y</td>\n",
       "      <td>0.0</td>\n",
       "      <td>NaN</td>\n",
       "      <td>0</td>\n",
       "      <td>0</td>\n",
       "      <td>0</td>\n",
       "      <td>0</td>\n",
       "      <td>0</td>\n",
       "      <td>0</td>\n",
       "      <td>2023-02-23</td>\n",
       "      <td>0</td>\n",
       "      <td>NaN</td>\n",
       "    </tr>\n",
       "    <tr>\n",
       "      <th>2439</th>\n",
       "      <td>6769</td>\n",
       "      <td>음식점</td>\n",
       "      <td>먹돌</td>\n",
       "      <td>먹돌</td>\n",
       "      <td>NaN</td>\n",
       "      <td>NaN</td>\n",
       "      <td>NaN</td>\n",
       "      <td>NaN</td>\n",
       "      <td>y</td>\n",
       "      <td>0.0</td>\n",
       "      <td>NaN</td>\n",
       "      <td>0</td>\n",
       "      <td>0</td>\n",
       "      <td>0</td>\n",
       "      <td>0</td>\n",
       "      <td>0</td>\n",
       "      <td>0</td>\n",
       "      <td>2023-02-23</td>\n",
       "      <td>0</td>\n",
       "      <td>NaN</td>\n",
       "    </tr>\n",
       "    <tr>\n",
       "      <th>2440</th>\n",
       "      <td>6770</td>\n",
       "      <td>음식점</td>\n",
       "      <td>제주도민상회본점</td>\n",
       "      <td>제주도민상회본점</td>\n",
       "      <td>NaN</td>\n",
       "      <td>NaN</td>\n",
       "      <td>NaN</td>\n",
       "      <td>NaN</td>\n",
       "      <td>y</td>\n",
       "      <td>0.0</td>\n",
       "      <td>NaN</td>\n",
       "      <td>0</td>\n",
       "      <td>0</td>\n",
       "      <td>0</td>\n",
       "      <td>0</td>\n",
       "      <td>0</td>\n",
       "      <td>0</td>\n",
       "      <td>2023-02-23</td>\n",
       "      <td>0</td>\n",
       "      <td>NaN</td>\n",
       "    </tr>\n",
       "    <tr>\n",
       "      <th>2441</th>\n",
       "      <td>6771</td>\n",
       "      <td>음식점</td>\n",
       "      <td>성산일출봉맛집아시횟집고등어회딱새우회전문점</td>\n",
       "      <td>성산일출봉맛집아시횟집고등어회딱새우회전문점</td>\n",
       "      <td>NaN</td>\n",
       "      <td>NaN</td>\n",
       "      <td>NaN</td>\n",
       "      <td>NaN</td>\n",
       "      <td>y</td>\n",
       "      <td>0.0</td>\n",
       "      <td>NaN</td>\n",
       "      <td>0</td>\n",
       "      <td>0</td>\n",
       "      <td>0</td>\n",
       "      <td>0</td>\n",
       "      <td>0</td>\n",
       "      <td>0</td>\n",
       "      <td>2023-02-23</td>\n",
       "      <td>0</td>\n",
       "      <td>NaN</td>\n",
       "    </tr>\n",
       "    <tr>\n",
       "      <th>2442</th>\n",
       "      <td>6797</td>\n",
       "      <td>음식점</td>\n",
       "      <td>미베이커리카페</td>\n",
       "      <td>NaN</td>\n",
       "      <td>제주특별자치도 서귀포시 강정동 847</td>\n",
       "      <td>제주특별자치도 서귀포시 이어도로 780</td>\n",
       "      <td>33.236092</td>\n",
       "      <td>126.498936</td>\n",
       "      <td>y</td>\n",
       "      <td>0.0</td>\n",
       "      <td>NaN</td>\n",
       "      <td>18</td>\n",
       "      <td>1</td>\n",
       "      <td>0</td>\n",
       "      <td>0</td>\n",
       "      <td>0</td>\n",
       "      <td>0</td>\n",
       "      <td>2023-03-05</td>\n",
       "      <td>0</td>\n",
       "      <td>39.0</td>\n",
       "    </tr>\n",
       "  </tbody>\n",
       "</table>\n",
       "<p>2443 rows × 20 columns</p>\n",
       "</div>"
      ],
      "text/plain": [
       "      Unnamed: 0 콘텐츠분류                      제목                     타이틀  \\\n",
       "0              1   음식점                  탐라 뚝배기                  탐라 뚝배기   \n",
       "1              2   음식점                     토담골                     토담골   \n",
       "2              3   음식점                    우유부단                    우유부단   \n",
       "3              5   음식점                    명당양과                    명당양과   \n",
       "4             11   음식점                 땅꼬분식 뷔페                 땅꼬분식 뷔페   \n",
       "...          ...   ...                     ...                     ...   \n",
       "2438        6768   음식점                   사계카페1                   사계카페1   \n",
       "2439        6769   음식점                      먹돌                      먹돌   \n",
       "2440        6770   음식점                제주도민상회본점                제주도민상회본점   \n",
       "2441        6771   음식점  성산일출봉맛집아시횟집고등어회딱새우회전문점  성산일출봉맛집아시횟집고등어회딱새우회전문점   \n",
       "2442        6797   음식점                 미베이커리카페                     NaN   \n",
       "\n",
       "                           지번주소                       도로명주소         위도  \\\n",
       "0      제주특별자치도 서귀포시 표선면 표선리 879  제주특별자치도 서귀포시 표선면 표선백사로 127  33.326770   \n",
       "1         제주특별자치도 제주시 아라이동 2425          제주특별자치도 제주시 간월동로 5  33.485904   \n",
       "2     제주특별자치도 제주시 한림읍 금악리 142-2     제주특별자치도 제주시 한림읍 금악동길 38  33.347640   \n",
       "3         제주특별자치도 제주시 노형동 724-1         제주특별자치도 제주시 원노형로 83  33.481275   \n",
       "4     제주특별자치도 제주시 조천읍 조천리 686-2  제주특별자치도 제주시 조천읍 조천18길 50-9  33.537205   \n",
       "...                         ...                         ...        ...   \n",
       "2438                        NaN                         NaN        NaN   \n",
       "2439                        NaN                         NaN        NaN   \n",
       "2440                        NaN                         NaN        NaN   \n",
       "2441                        NaN                         NaN        NaN   \n",
       "2442       제주특별자치도 서귀포시 강정동 847       제주특별자치도 서귀포시 이어도로 780  33.236092   \n",
       "\n",
       "              경도 탐나오연동여부   평점                             소셜네트워크주소    조회수  \\\n",
       "0     126.836690       y  NaN                                  NaN   3120   \n",
       "1     126.543496       y  NaN                                  NaN   1973   \n",
       "2     126.328260       y  5.0                                  NaN  21460   \n",
       "3     126.485005       y  5.0  https://www.facebook.com/mdang1980/  11864   \n",
       "4     126.645424       y  3.0                                  NaN   5054   \n",
       "...          ...     ...  ...                                  ...    ...   \n",
       "2438         NaN       y  0.0                                  NaN      0   \n",
       "2439         NaN       y  0.0                                  NaN      0   \n",
       "2440         NaN       y  0.0                                  NaN      0   \n",
       "2441         NaN       y  0.0                                  NaN      0   \n",
       "2442  126.498936       y  0.0                                  NaN     18   \n",
       "\n",
       "      좋아요수  리뷰수  북마크수  일정등록수  다녀왔어요수       등록일시  소셜네트워크공유수     인기점수  \n",
       "0        0    0    12      0       0 2016-05-30          1   6240.0  \n",
       "1        0    0     4      0       0 2016-05-30          0   3946.0  \n",
       "2       14   38   253      0       1 2016-10-06          5  43152.0  \n",
       "3       19    9    69      0       0 2017-07-04          6  23830.0  \n",
       "4        0    1    14      0       0 2016-11-24          5  10113.0  \n",
       "...    ...  ...   ...    ...     ...        ...        ...      ...  \n",
       "2438     0    0     0      0       0 2023-02-23          0      NaN  \n",
       "2439     0    0     0      0       0 2023-02-23          0      NaN  \n",
       "2440     0    0     0      0       0 2023-02-23          0      NaN  \n",
       "2441     0    0     0      0       0 2023-02-23          0      NaN  \n",
       "2442     1    0     0      0       0 2023-03-05          0     39.0  \n",
       "\n",
       "[2443 rows x 20 columns]"
      ]
     },
     "execution_count": 92,
     "metadata": {},
     "output_type": "execute_result"
    }
   ],
   "source": [
    "restaurant = pd.read_excel(\"./음식점.xlsx\")\n",
    "restaurant"
   ]
  },
  {
   "cell_type": "markdown",
   "metadata": {},
   "source": [
    "* 데이터 전처리"
   ]
  },
  {
   "cell_type": "code",
   "execution_count": null,
   "metadata": {},
   "outputs": [],
   "source": [
    "# 필요한 데이터만\n",
    "food = restaurant.filter(['제목','타이틀','지번주소','도로명주소'])\n",
    "food\n",
    "# 제주지역이 아닌 곳은 제외\n",
    "food=food[food[\"지번주소\"].str.find(\"제주특별\")!=-1]\n",
    "# data.drop(columns=\"Unnamed: 0\",inplace=True)\n",
    "data[\"행정구역\"]=np.nan\n",
    "행정구역 = {'구좌':'구좌',\n",
    "  '조천':'조천', \n",
    "  '화북': '동제주','봉개':'동제주', '회천':'동제주','용강':'동제주',\n",
    "  '오라':'중제주','아라':'중제주','오등':'중제주','화북':'중제주','이도':'중제주','건입':'중제주','삼도':'중제주','용담':'중제주','일도':'중제주', \n",
    "  '도두':'서제주','이호':'서제주','외도':'서제주','내도':'서제주','도평':'서제주','노형':'서제주','연동':'서제주','강정':'서제주','도순':'서제주',\n",
    "  '영남':'서제주','월평':'서제주','해안':'서제주', '노형':'서제주',\n",
    "  '애월' :'애월',\n",
    "  '성산':'성산',\n",
    "  '한림':'한림',\n",
    "  '표선':'표선',\n",
    "  '남원':'남원',\n",
    "  '한경':'한경',\n",
    "  '안덕':'안덕',\n",
    "  '영천':'동서귀','동흥':'동서귀','효돈':'동서귀','송산':'동서귀','신효':'동서귀','하효':'동서귀','서귀':'동서귀','보목':'동서귀','동홍':'동서귀',\n",
    "  '대천':'중서귀','대륜':'중서귀','서홍':'중서귀', '강정':'중서귀','법환':'중서귀','서호':'중서귀','호근':'중서귀',\n",
    "  '여래':'서서귀','중문':'서서귀','회수':'서서귀', '하원':'서서귀','대포':'서서귀', '색달':'서서귀', '하예':'서서귀', '상예':'서서귀',  \n",
    "  '대정':'대정'}\n",
    "def trans(x):\n",
    "    for i in 행정구역.keys():\n",
    "        try:\n",
    "            if i in x:\n",
    "                return 행정구역[i]\n",
    "        except:\n",
    "            break\n",
    "# 지번주소\n",
    "error=[]\n",
    "data[\"행정구역\"]=data[\"지번주소\"].apply(lambda x:trans(x))\n",
    "# 도로명주소\n",
    "data.loc[data[\"행정구역\"].isna(),\"행정구역\"]=data[data[\"행정구역\"].isna()].apply(lambda x:trans(x))"
   ]
  },
  {
   "cell_type": "markdown",
   "metadata": {},
   "source": [
    "<span style= 'color : blue' >3. 시각화 :SVG 시각화를 통해 음식점의 밀집도 분석 </span>"
   ]
  },
  {
   "cell_type": "markdown",
   "metadata": {},
   "source": [
    "* 필요한 패키지 설치(전 참조)"
   ]
  },
  {
   "cell_type": "markdown",
   "metadata": {},
   "source": [
    "* 데이터 가져오기 "
   ]
  },
  {
   "cell_type": "markdown",
   "metadata": {},
   "source": [
    "* 행정구역 별 색상리스트 만들기"
   ]
  },
  {
   "cell_type": "code",
   "execution_count": 100,
   "metadata": {},
   "outputs": [],
   "source": [
    "colors = ['#ccffcc', '#99ff99', '#66ff66', '#33ff33', '#00ff00','#00cc00','#009900','#004d00']"
   ]
  },
  {
   "cell_type": "markdown",
   "metadata": {},
   "source": [
    "* histogram 을 이용한 구간 설정"
   ]
  },
  {
   "cell_type": "code",
   "execution_count": 101,
   "metadata": {},
   "outputs": [],
   "source": [
    "# 행정구역 = index, 행정구역 별 관광지의 개수(count) = column\n",
    "color_rule=pd.merge(pd.DataFrame(set(행정구역.values())).set_index(0),pd.DataFrame(data[\"행정구역\"].value_counts()),\n",
    "                    how=\"left\",left_index=True,right_index=True).fillna(0)"
   ]
  },
  {
   "cell_type": "code",
   "execution_count": 102,
   "metadata": {},
   "outputs": [
    {
     "data": {
      "text/html": [
       "<div>\n",
       "<style scoped>\n",
       "    .dataframe tbody tr th:only-of-type {\n",
       "        vertical-align: middle;\n",
       "    }\n",
       "\n",
       "    .dataframe tbody tr th {\n",
       "        vertical-align: top;\n",
       "    }\n",
       "\n",
       "    .dataframe thead th {\n",
       "        text-align: right;\n",
       "    }\n",
       "</style>\n",
       "<table border=\"1\" class=\"dataframe\">\n",
       "  <thead>\n",
       "    <tr style=\"text-align: right;\">\n",
       "      <th></th>\n",
       "      <th>count</th>\n",
       "    </tr>\n",
       "    <tr>\n",
       "      <th>0</th>\n",
       "      <th></th>\n",
       "    </tr>\n",
       "  </thead>\n",
       "  <tbody>\n",
       "    <tr>\n",
       "      <th>동서귀</th>\n",
       "      <td>197.0</td>\n",
       "    </tr>\n",
       "    <tr>\n",
       "      <th>표선</th>\n",
       "      <td>37.0</td>\n",
       "    </tr>\n",
       "    <tr>\n",
       "      <th>서제주</th>\n",
       "      <td>66.0</td>\n",
       "    </tr>\n",
       "    <tr>\n",
       "      <th>남원</th>\n",
       "      <td>44.0</td>\n",
       "    </tr>\n",
       "    <tr>\n",
       "      <th>성산</th>\n",
       "      <td>49.0</td>\n",
       "    </tr>\n",
       "    <tr>\n",
       "      <th>조천</th>\n",
       "      <td>61.0</td>\n",
       "    </tr>\n",
       "    <tr>\n",
       "      <th>구좌</th>\n",
       "      <td>77.0</td>\n",
       "    </tr>\n",
       "    <tr>\n",
       "      <th>한경</th>\n",
       "      <td>45.0</td>\n",
       "    </tr>\n",
       "    <tr>\n",
       "      <th>동제주</th>\n",
       "      <td>14.0</td>\n",
       "    </tr>\n",
       "    <tr>\n",
       "      <th>중서귀</th>\n",
       "      <td>11.0</td>\n",
       "    </tr>\n",
       "    <tr>\n",
       "      <th>중제주</th>\n",
       "      <td>92.0</td>\n",
       "    </tr>\n",
       "    <tr>\n",
       "      <th>안덕</th>\n",
       "      <td>68.0</td>\n",
       "    </tr>\n",
       "    <tr>\n",
       "      <th>서서귀</th>\n",
       "      <td>0.0</td>\n",
       "    </tr>\n",
       "    <tr>\n",
       "      <th>대정</th>\n",
       "      <td>0.0</td>\n",
       "    </tr>\n",
       "    <tr>\n",
       "      <th>애월</th>\n",
       "      <td>77.0</td>\n",
       "    </tr>\n",
       "    <tr>\n",
       "      <th>한림</th>\n",
       "      <td>58.0</td>\n",
       "    </tr>\n",
       "  </tbody>\n",
       "</table>\n",
       "</div>"
      ],
      "text/plain": [
       "     count\n",
       "0         \n",
       "동서귀  197.0\n",
       "표선    37.0\n",
       "서제주   66.0\n",
       "남원    44.0\n",
       "성산    49.0\n",
       "조천    61.0\n",
       "구좌    77.0\n",
       "한경    45.0\n",
       "동제주   14.0\n",
       "중서귀   11.0\n",
       "중제주   92.0\n",
       "안덕    68.0\n",
       "서서귀    0.0\n",
       "대정     0.0\n",
       "애월    77.0\n",
       "한림    58.0"
      ]
     },
     "execution_count": 102,
     "metadata": {},
     "output_type": "execute_result"
    }
   ],
   "source": [
    "color_rule"
   ]
  },
  {
   "cell_type": "code",
   "execution_count": 103,
   "metadata": {},
   "outputs": [],
   "source": [
    "x,y=np.histogram(color_rule[\"count\"].values,bins=8)"
   ]
  },
  {
   "cell_type": "code",
   "execution_count": 104,
   "metadata": {},
   "outputs": [
    {
     "data": {
      "text/plain": [
       "array([  0.   ,  24.625,  49.25 ,  73.875,  98.5  , 123.125, 147.75 ,\n",
       "       172.375, 197.   ])"
      ]
     },
     "execution_count": 104,
     "metadata": {},
     "output_type": "execute_result"
    }
   ],
   "source": [
    "y"
   ]
  },
  {
   "cell_type": "code",
   "execution_count": 105,
   "metadata": {},
   "outputs": [],
   "source": [
    "# 구간별 색상값\n",
    "dc=dict(zip(y[:-1],colors))"
   ]
  },
  {
   "cell_type": "code",
   "execution_count": 107,
   "metadata": {},
   "outputs": [
    {
     "data": {
      "text/plain": [
       "{0.0: '#ccffcc',\n",
       " 24.625: '#99ff99',\n",
       " 49.25: '#66ff66',\n",
       " 73.875: '#33ff33',\n",
       " 98.5: '#00ff00',\n",
       " 123.125: '#00cc00',\n",
       " 147.75: '#009900',\n",
       " 172.375: '#004d00'}"
      ]
     },
     "execution_count": 107,
     "metadata": {},
     "output_type": "execute_result"
    }
   ],
   "source": [
    "dc"
   ]
  },
  {
   "cell_type": "markdown",
   "metadata": {},
   "source": [
    "* 구간에 따라 색상값 변수(color_id) 추가"
   ]
  },
  {
   "cell_type": "code",
   "execution_count": 113,
   "metadata": {},
   "outputs": [],
   "source": [
    "for name in color_rule.index:\n",
    "    for i in y[:-1]:\n",
    "        if color_rule.loc[name]['count']>=i:\n",
    "            color_rule.loc[name,'color_id']=i"
   ]
  },
  {
   "cell_type": "code",
   "execution_count": 114,
   "metadata": {},
   "outputs": [],
   "source": [
    "with open(\"./제주map.svg\",\"r\",encoding=\"utf-8\") as f:\n",
    "    jeju_map=f.readlines()"
   ]
  },
  {
   "cell_type": "code",
   "execution_count": 115,
   "metadata": {},
   "outputs": [],
   "source": [
    "for name in color_rule.index:\n",
    "    idx=[]\n",
    "    for i in range(len(jeju_map)):\n",
    "        if name in jeju_map[i]:\n",
    "            idx.append(i)\n",
    "    for j in map(lambda x:x+1,idx):\n",
    "        jeju_map[j]=jeju_map[j].replace(\"#eeeeee\",dc[color_rule.loc[name][\"color_id\"]])"
   ]
  },
  {
   "cell_type": "code",
   "execution_count": 117,
   "metadata": {},
   "outputs": [],
   "source": [
    "with open(\"음식점시각화.jpg\",\"w\") as f:\n",
    "    for line in jeju_map:\n",
    "        f.write(line)"
   ]
  },
  {
   "cell_type": "markdown",
   "metadata": {},
   "source": [
    "![행정구역별_음식점_분포](./음식점_시각화.png)"
   ]
  },
  {
   "cell_type": "markdown",
   "metadata": {},
   "source": [
    "* 분석결과 : <Br>\n",
    "시별(제주시, 서귀포시)로 나눴을 때, 서귀포시보다 제주시에 음식점이 더 많이 분포되어 있으며, <br>\n",
    "가장 많이 음식점이 분포되어 있는 곳은 `'동서귀포'`이다. "
   ]
  },
  {
   "cell_type": "markdown",
   "metadata": {},
   "source": [
    "### <span style= 'color : blue' > *3단계 : 제주도 호텔* </span>"
   ]
  },
  {
   "cell_type": "markdown",
   "metadata": {},
   "source": [
    "<span style= 'color : blue' >1.작업준비</span>\n",
    "* 필요한 패키지 설치"
   ]
  },
  {
   "cell_type": "code",
   "execution_count": 120,
   "metadata": {},
   "outputs": [],
   "source": [
    "import pandas as pd\n",
    "from pandas import DataFrame, melt, read_excel\n",
    "from matplotlib import pyplot as plt\n",
    "import seaborn as sb\n",
    "import numpy as np\n",
    "import folium\n",
    "from os import path, mkdir\n",
    "import base64\n",
    "\n",
    "import bs4\n",
    "import requests\n",
    "import json\n",
    "import simplejson\n",
    "\n",
    "import chromedriver_autoinstaller\n",
    "from selenium import webdriver\n",
    "from selenium.webdriver.support.ui import WebDriverWait\n",
    "from bs4 import BeautifulSoup\n",
    "import time\n",
    "\n",
    "from IPython.display import SVG"
   ]
  },
  {
   "cell_type": "markdown",
   "metadata": {},
   "source": [
    "* 데이터 불러오기"
   ]
  },
  {
   "cell_type": "code",
   "execution_count": 118,
   "metadata": {},
   "outputs": [
    {
     "data": {
      "text/html": [
       "<div>\n",
       "<style scoped>\n",
       "    .dataframe tbody tr th:only-of-type {\n",
       "        vertical-align: middle;\n",
       "    }\n",
       "\n",
       "    .dataframe tbody tr th {\n",
       "        vertical-align: top;\n",
       "    }\n",
       "\n",
       "    .dataframe thead th {\n",
       "        text-align: right;\n",
       "    }\n",
       "</style>\n",
       "<table border=\"1\" class=\"dataframe\">\n",
       "  <thead>\n",
       "    <tr style=\"text-align: right;\">\n",
       "      <th></th>\n",
       "      <th>구분</th>\n",
       "      <th>상호명</th>\n",
       "      <th>소재지</th>\n",
       "      <th>객실수</th>\n",
       "      <th>연락처</th>\n",
       "      <th>비고</th>\n",
       "      <th>데이터기준일자</th>\n",
       "    </tr>\n",
       "  </thead>\n",
       "  <tbody>\n",
       "    <tr>\n",
       "      <th>0</th>\n",
       "      <td>관광호텔업</td>\n",
       "      <td>(주)호텔하니크라운</td>\n",
       "      <td>제주특별자치도 제주시 삼성로 10</td>\n",
       "      <td>61</td>\n",
       "      <td>064-758-4200</td>\n",
       "      <td>특이사항없음</td>\n",
       "      <td>2022-11-22</td>\n",
       "    </tr>\n",
       "    <tr>\n",
       "      <th>1</th>\n",
       "      <td>관광호텔업</td>\n",
       "      <td>글래드호텔앤리조트㈜ 메종글래드제주</td>\n",
       "      <td>제주특별자치도 제주시 노연로 80</td>\n",
       "      <td>513</td>\n",
       "      <td>064-747-5000</td>\n",
       "      <td>특이사항없음</td>\n",
       "      <td>2022-11-22</td>\n",
       "    </tr>\n",
       "    <tr>\n",
       "      <th>2</th>\n",
       "      <td>관광호텔업</td>\n",
       "      <td>제주썬호텔</td>\n",
       "      <td>제주특별자치도 제주시 삼무로 67</td>\n",
       "      <td>203</td>\n",
       "      <td>064-741-8000</td>\n",
       "      <td>특이사항없음</td>\n",
       "      <td>2022-11-22</td>\n",
       "    </tr>\n",
       "    <tr>\n",
       "      <th>3</th>\n",
       "      <td>관광호텔업</td>\n",
       "      <td>제주로얄호텔</td>\n",
       "      <td>제주특별자치도 제주시 신대로12길 45</td>\n",
       "      <td>126</td>\n",
       "      <td>064-743-2222</td>\n",
       "      <td>특이사항없음</td>\n",
       "      <td>2022-11-22</td>\n",
       "    </tr>\n",
       "    <tr>\n",
       "      <th>4</th>\n",
       "      <td>관광호텔업</td>\n",
       "      <td>제주팔레스호텔</td>\n",
       "      <td>제주특별자치도 제주시 탑동로 9</td>\n",
       "      <td>94</td>\n",
       "      <td>064-753-8811</td>\n",
       "      <td>특이사항없음</td>\n",
       "      <td>2022-11-22</td>\n",
       "    </tr>\n",
       "    <tr>\n",
       "      <th>...</th>\n",
       "      <td>...</td>\n",
       "      <td>...</td>\n",
       "      <td>...</td>\n",
       "      <td>...</td>\n",
       "      <td>...</td>\n",
       "      <td>...</td>\n",
       "      <td>...</td>\n",
       "    </tr>\n",
       "    <tr>\n",
       "      <th>416</th>\n",
       "      <td>휴양콘도미니엄업</td>\n",
       "      <td>ES제주리조트</td>\n",
       "      <td>제주특별자치도 서귀포시 1100로 501</td>\n",
       "      <td>153</td>\n",
       "      <td>NaN</td>\n",
       "      <td>특이사항없음</td>\n",
       "      <td>2022-11-22</td>\n",
       "    </tr>\n",
       "    <tr>\n",
       "      <th>417</th>\n",
       "      <td>휴양콘도미니엄업</td>\n",
       "      <td>씨사이드아덴</td>\n",
       "      <td>제주특별자치도 서귀포시 중문관광로 124</td>\n",
       "      <td>190</td>\n",
       "      <td>064-738-9636</td>\n",
       "      <td>특이사항없음</td>\n",
       "      <td>2022-11-22</td>\n",
       "    </tr>\n",
       "    <tr>\n",
       "      <th>418</th>\n",
       "      <td>휴양콘도미니엄업</td>\n",
       "      <td>백통신원리조트 기린</td>\n",
       "      <td>제주특별자치도 서귀포시 남원읍 서성로 427-1</td>\n",
       "      <td>76</td>\n",
       "      <td>064-745-7077</td>\n",
       "      <td>특이사항없음</td>\n",
       "      <td>2022-11-22</td>\n",
       "    </tr>\n",
       "    <tr>\n",
       "      <th>419</th>\n",
       "      <td>휴양콘도미니엄업</td>\n",
       "      <td>스프링데일 골프&amp;리조트 휴양콘도미니엄 1</td>\n",
       "      <td>제주특별자치도 서귀포시 남원읍 서성로 459-1</td>\n",
       "      <td>56</td>\n",
       "      <td>064-800-8000</td>\n",
       "      <td>특이사항없음</td>\n",
       "      <td>2022-11-22</td>\n",
       "    </tr>\n",
       "    <tr>\n",
       "      <th>420</th>\n",
       "      <td>휴양콘도미니엄업</td>\n",
       "      <td>고은관광농원 휴양콘도미니엄</td>\n",
       "      <td>제주특별자치도 서귀포시 일주서로 1262</td>\n",
       "      <td>15</td>\n",
       "      <td>064-738-9987</td>\n",
       "      <td>특이사항없음</td>\n",
       "      <td>2022-11-22</td>\n",
       "    </tr>\n",
       "  </tbody>\n",
       "</table>\n",
       "<p>421 rows × 7 columns</p>\n",
       "</div>"
      ],
      "text/plain": [
       "           구분                     상호명                         소재지  객실수  \\\n",
       "0       관광호텔업              (주)호텔하니크라운        제주특별자치도 제주시 삼성로 10     61   \n",
       "1       관광호텔업      글래드호텔앤리조트㈜ 메종글래드제주         제주특별자치도 제주시 노연로 80   513   \n",
       "2       관광호텔업                   제주썬호텔       제주특별자치도 제주시 삼무로 67     203   \n",
       "3       관광호텔업                  제주로얄호텔      제주특별자치도 제주시 신대로12길 45   126   \n",
       "4       관광호텔업                 제주팔레스호텔           제주특별자치도 제주시 탑동로 9   94   \n",
       "..        ...                     ...                         ...  ...   \n",
       "416  휴양콘도미니엄업                 ES제주리조트      제주특별자치도 서귀포시 1100로 501  153   \n",
       "417  휴양콘도미니엄업                  씨사이드아덴      제주특별자치도 서귀포시 중문관광로 124  190   \n",
       "418  휴양콘도미니엄업              백통신원리조트 기린  제주특별자치도 서귀포시 남원읍 서성로 427-1   76   \n",
       "419  휴양콘도미니엄업  스프링데일 골프&리조트 휴양콘도미니엄 1  제주특별자치도 서귀포시 남원읍 서성로 459-1   56   \n",
       "420  휴양콘도미니엄업          고은관광농원 휴양콘도미니엄      제주특별자치도 서귀포시 일주서로 1262   15   \n",
       "\n",
       "              연락처      비고    데이터기준일자  \n",
       "0    064-758-4200  특이사항없음 2022-11-22  \n",
       "1    064-747-5000  특이사항없음 2022-11-22  \n",
       "2    064-741-8000  특이사항없음 2022-11-22  \n",
       "3    064-743-2222  특이사항없음 2022-11-22  \n",
       "4    064-753-8811  특이사항없음 2022-11-22  \n",
       "..            ...     ...        ...  \n",
       "416           NaN  특이사항없음 2022-11-22  \n",
       "417  064-738-9636  특이사항없음 2022-11-22  \n",
       "418  064-745-7077  특이사항없음 2022-11-22  \n",
       "419  064-800-8000  특이사항없음 2022-11-22  \n",
       "420  064-738-9987  특이사항없음 2022-11-22  \n",
       "\n",
       "[421 rows x 7 columns]"
      ]
     },
     "execution_count": 118,
     "metadata": {},
     "output_type": "execute_result"
    }
   ],
   "source": [
    "hotel = pd.read_excel(\"./제주특별자치도_관광숙박업현황_20221122.xlsx\")\n",
    "hotel"
   ]
  },
  {
   "cell_type": "code",
   "execution_count": 121,
   "metadata": {},
   "outputs": [
    {
     "data": {
      "text/html": [
       "<div>\n",
       "<style scoped>\n",
       "    .dataframe tbody tr th:only-of-type {\n",
       "        vertical-align: middle;\n",
       "    }\n",
       "\n",
       "    .dataframe tbody tr th {\n",
       "        vertical-align: top;\n",
       "    }\n",
       "\n",
       "    .dataframe thead th {\n",
       "        text-align: right;\n",
       "    }\n",
       "</style>\n",
       "<table border=\"1\" class=\"dataframe\">\n",
       "  <thead>\n",
       "    <tr style=\"text-align: right;\">\n",
       "      <th></th>\n",
       "      <th>구분</th>\n",
       "      <th>상호명</th>\n",
       "      <th>소재지</th>\n",
       "      <th>객실수</th>\n",
       "      <th>연락처</th>\n",
       "      <th>비고</th>\n",
       "      <th>데이터기준일자</th>\n",
       "    </tr>\n",
       "  </thead>\n",
       "  <tbody>\n",
       "    <tr>\n",
       "      <th>0</th>\n",
       "      <td>관광호텔업</td>\n",
       "      <td>(주)호텔하니크라운</td>\n",
       "      <td>제주특별자치도 제주시 삼성로 10</td>\n",
       "      <td>61</td>\n",
       "      <td>064-758-4200</td>\n",
       "      <td>특이사항없음</td>\n",
       "      <td>2022-11-22</td>\n",
       "    </tr>\n",
       "    <tr>\n",
       "      <th>1</th>\n",
       "      <td>관광호텔업</td>\n",
       "      <td>글래드호텔앤리조트㈜ 메종글래드제주</td>\n",
       "      <td>제주특별자치도 제주시 노연로 80</td>\n",
       "      <td>513</td>\n",
       "      <td>064-747-5000</td>\n",
       "      <td>특이사항없음</td>\n",
       "      <td>2022-11-22</td>\n",
       "    </tr>\n",
       "    <tr>\n",
       "      <th>2</th>\n",
       "      <td>관광호텔업</td>\n",
       "      <td>제주썬호텔</td>\n",
       "      <td>제주특별자치도 제주시 삼무로 67</td>\n",
       "      <td>203</td>\n",
       "      <td>064-741-8000</td>\n",
       "      <td>특이사항없음</td>\n",
       "      <td>2022-11-22</td>\n",
       "    </tr>\n",
       "    <tr>\n",
       "      <th>3</th>\n",
       "      <td>관광호텔업</td>\n",
       "      <td>제주로얄호텔</td>\n",
       "      <td>제주특별자치도 제주시 신대로12길 45</td>\n",
       "      <td>126</td>\n",
       "      <td>064-743-2222</td>\n",
       "      <td>특이사항없음</td>\n",
       "      <td>2022-11-22</td>\n",
       "    </tr>\n",
       "    <tr>\n",
       "      <th>4</th>\n",
       "      <td>관광호텔업</td>\n",
       "      <td>제주팔레스호텔</td>\n",
       "      <td>제주특별자치도 제주시 탑동로 9</td>\n",
       "      <td>94</td>\n",
       "      <td>064-753-8811</td>\n",
       "      <td>특이사항없음</td>\n",
       "      <td>2022-11-22</td>\n",
       "    </tr>\n",
       "    <tr>\n",
       "      <th>...</th>\n",
       "      <td>...</td>\n",
       "      <td>...</td>\n",
       "      <td>...</td>\n",
       "      <td>...</td>\n",
       "      <td>...</td>\n",
       "      <td>...</td>\n",
       "      <td>...</td>\n",
       "    </tr>\n",
       "    <tr>\n",
       "      <th>416</th>\n",
       "      <td>휴양콘도미니엄업</td>\n",
       "      <td>ES제주리조트</td>\n",
       "      <td>제주특별자치도 서귀포시 1100로 501</td>\n",
       "      <td>153</td>\n",
       "      <td>NaN</td>\n",
       "      <td>특이사항없음</td>\n",
       "      <td>2022-11-22</td>\n",
       "    </tr>\n",
       "    <tr>\n",
       "      <th>417</th>\n",
       "      <td>휴양콘도미니엄업</td>\n",
       "      <td>씨사이드아덴</td>\n",
       "      <td>제주특별자치도 서귀포시 중문관광로 124</td>\n",
       "      <td>190</td>\n",
       "      <td>064-738-9636</td>\n",
       "      <td>특이사항없음</td>\n",
       "      <td>2022-11-22</td>\n",
       "    </tr>\n",
       "    <tr>\n",
       "      <th>418</th>\n",
       "      <td>휴양콘도미니엄업</td>\n",
       "      <td>백통신원리조트 기린</td>\n",
       "      <td>제주특별자치도 서귀포시 남원읍 서성로 427-1</td>\n",
       "      <td>76</td>\n",
       "      <td>064-745-7077</td>\n",
       "      <td>특이사항없음</td>\n",
       "      <td>2022-11-22</td>\n",
       "    </tr>\n",
       "    <tr>\n",
       "      <th>419</th>\n",
       "      <td>휴양콘도미니엄업</td>\n",
       "      <td>스프링데일 골프&amp;리조트 휴양콘도미니엄 1</td>\n",
       "      <td>제주특별자치도 서귀포시 남원읍 서성로 459-1</td>\n",
       "      <td>56</td>\n",
       "      <td>064-800-8000</td>\n",
       "      <td>특이사항없음</td>\n",
       "      <td>2022-11-22</td>\n",
       "    </tr>\n",
       "    <tr>\n",
       "      <th>420</th>\n",
       "      <td>휴양콘도미니엄업</td>\n",
       "      <td>고은관광농원 휴양콘도미니엄</td>\n",
       "      <td>제주특별자치도 서귀포시 일주서로 1262</td>\n",
       "      <td>15</td>\n",
       "      <td>064-738-9987</td>\n",
       "      <td>특이사항없음</td>\n",
       "      <td>2022-11-22</td>\n",
       "    </tr>\n",
       "  </tbody>\n",
       "</table>\n",
       "<p>421 rows × 7 columns</p>\n",
       "</div>"
      ],
      "text/plain": [
       "           구분                     상호명                         소재지  객실수  \\\n",
       "0       관광호텔업              (주)호텔하니크라운        제주특별자치도 제주시 삼성로 10     61   \n",
       "1       관광호텔업      글래드호텔앤리조트㈜ 메종글래드제주         제주특별자치도 제주시 노연로 80   513   \n",
       "2       관광호텔업                   제주썬호텔       제주특별자치도 제주시 삼무로 67     203   \n",
       "3       관광호텔업                  제주로얄호텔      제주특별자치도 제주시 신대로12길 45   126   \n",
       "4       관광호텔업                 제주팔레스호텔           제주특별자치도 제주시 탑동로 9   94   \n",
       "..        ...                     ...                         ...  ...   \n",
       "416  휴양콘도미니엄업                 ES제주리조트      제주특별자치도 서귀포시 1100로 501  153   \n",
       "417  휴양콘도미니엄업                  씨사이드아덴      제주특별자치도 서귀포시 중문관광로 124  190   \n",
       "418  휴양콘도미니엄업              백통신원리조트 기린  제주특별자치도 서귀포시 남원읍 서성로 427-1   76   \n",
       "419  휴양콘도미니엄업  스프링데일 골프&리조트 휴양콘도미니엄 1  제주특별자치도 서귀포시 남원읍 서성로 459-1   56   \n",
       "420  휴양콘도미니엄업          고은관광농원 휴양콘도미니엄      제주특별자치도 서귀포시 일주서로 1262   15   \n",
       "\n",
       "              연락처      비고    데이터기준일자  \n",
       "0    064-758-4200  특이사항없음 2022-11-22  \n",
       "1    064-747-5000  특이사항없음 2022-11-22  \n",
       "2    064-741-8000  특이사항없음 2022-11-22  \n",
       "3    064-743-2222  특이사항없음 2022-11-22  \n",
       "4    064-753-8811  특이사항없음 2022-11-22  \n",
       "..            ...     ...        ...  \n",
       "416           NaN  특이사항없음 2022-11-22  \n",
       "417  064-738-9636  특이사항없음 2022-11-22  \n",
       "418  064-745-7077  특이사항없음 2022-11-22  \n",
       "419  064-800-8000  특이사항없음 2022-11-22  \n",
       "420  064-738-9987  특이사항없음 2022-11-22  \n",
       "\n",
       "[421 rows x 7 columns]"
      ]
     },
     "execution_count": 121,
     "metadata": {},
     "output_type": "execute_result"
    }
   ],
   "source": [
    "# 데이터 프레임으로 만들기\n",
    "hotel_df = DataFrame(hotel)\n",
    "hotel_df"
   ]
  },
  {
   "cell_type": "markdown",
   "metadata": {},
   "source": [
    "<span style= 'color : blue' >2. 데이터 전처리</span>\n",
    "* 필요한 컬럼 추출"
   ]
  },
  {
   "cell_type": "code",
   "execution_count": 122,
   "metadata": {},
   "outputs": [
    {
     "data": {
      "text/html": [
       "<div>\n",
       "<style scoped>\n",
       "    .dataframe tbody tr th:only-of-type {\n",
       "        vertical-align: middle;\n",
       "    }\n",
       "\n",
       "    .dataframe tbody tr th {\n",
       "        vertical-align: top;\n",
       "    }\n",
       "\n",
       "    .dataframe thead th {\n",
       "        text-align: right;\n",
       "    }\n",
       "</style>\n",
       "<table border=\"1\" class=\"dataframe\">\n",
       "  <thead>\n",
       "    <tr style=\"text-align: right;\">\n",
       "      <th></th>\n",
       "      <th>구분</th>\n",
       "      <th>상호명</th>\n",
       "      <th>소재지</th>\n",
       "      <th>객실수</th>\n",
       "    </tr>\n",
       "  </thead>\n",
       "  <tbody>\n",
       "    <tr>\n",
       "      <th>0</th>\n",
       "      <td>관광호텔업</td>\n",
       "      <td>(주)호텔하니크라운</td>\n",
       "      <td>제주특별자치도 제주시 삼성로 10</td>\n",
       "      <td>61</td>\n",
       "    </tr>\n",
       "    <tr>\n",
       "      <th>1</th>\n",
       "      <td>관광호텔업</td>\n",
       "      <td>글래드호텔앤리조트㈜ 메종글래드제주</td>\n",
       "      <td>제주특별자치도 제주시 노연로 80</td>\n",
       "      <td>513</td>\n",
       "    </tr>\n",
       "    <tr>\n",
       "      <th>2</th>\n",
       "      <td>관광호텔업</td>\n",
       "      <td>제주썬호텔</td>\n",
       "      <td>제주특별자치도 제주시 삼무로 67</td>\n",
       "      <td>203</td>\n",
       "    </tr>\n",
       "    <tr>\n",
       "      <th>3</th>\n",
       "      <td>관광호텔업</td>\n",
       "      <td>제주로얄호텔</td>\n",
       "      <td>제주특별자치도 제주시 신대로12길 45</td>\n",
       "      <td>126</td>\n",
       "    </tr>\n",
       "    <tr>\n",
       "      <th>4</th>\n",
       "      <td>관광호텔업</td>\n",
       "      <td>제주팔레스호텔</td>\n",
       "      <td>제주특별자치도 제주시 탑동로 9</td>\n",
       "      <td>94</td>\n",
       "    </tr>\n",
       "    <tr>\n",
       "      <th>...</th>\n",
       "      <td>...</td>\n",
       "      <td>...</td>\n",
       "      <td>...</td>\n",
       "      <td>...</td>\n",
       "    </tr>\n",
       "    <tr>\n",
       "      <th>416</th>\n",
       "      <td>휴양콘도미니엄업</td>\n",
       "      <td>ES제주리조트</td>\n",
       "      <td>제주특별자치도 서귀포시 1100로 501</td>\n",
       "      <td>153</td>\n",
       "    </tr>\n",
       "    <tr>\n",
       "      <th>417</th>\n",
       "      <td>휴양콘도미니엄업</td>\n",
       "      <td>씨사이드아덴</td>\n",
       "      <td>제주특별자치도 서귀포시 중문관광로 124</td>\n",
       "      <td>190</td>\n",
       "    </tr>\n",
       "    <tr>\n",
       "      <th>418</th>\n",
       "      <td>휴양콘도미니엄업</td>\n",
       "      <td>백통신원리조트 기린</td>\n",
       "      <td>제주특별자치도 서귀포시 남원읍 서성로 427-1</td>\n",
       "      <td>76</td>\n",
       "    </tr>\n",
       "    <tr>\n",
       "      <th>419</th>\n",
       "      <td>휴양콘도미니엄업</td>\n",
       "      <td>스프링데일 골프&amp;리조트 휴양콘도미니엄 1</td>\n",
       "      <td>제주특별자치도 서귀포시 남원읍 서성로 459-1</td>\n",
       "      <td>56</td>\n",
       "    </tr>\n",
       "    <tr>\n",
       "      <th>420</th>\n",
       "      <td>휴양콘도미니엄업</td>\n",
       "      <td>고은관광농원 휴양콘도미니엄</td>\n",
       "      <td>제주특별자치도 서귀포시 일주서로 1262</td>\n",
       "      <td>15</td>\n",
       "    </tr>\n",
       "  </tbody>\n",
       "</table>\n",
       "<p>421 rows × 4 columns</p>\n",
       "</div>"
      ],
      "text/plain": [
       "           구분                     상호명                         소재지  객실수\n",
       "0       관광호텔업              (주)호텔하니크라운        제주특별자치도 제주시 삼성로 10     61\n",
       "1       관광호텔업      글래드호텔앤리조트㈜ 메종글래드제주         제주특별자치도 제주시 노연로 80   513\n",
       "2       관광호텔업                   제주썬호텔       제주특별자치도 제주시 삼무로 67     203\n",
       "3       관광호텔업                  제주로얄호텔      제주특별자치도 제주시 신대로12길 45   126\n",
       "4       관광호텔업                 제주팔레스호텔           제주특별자치도 제주시 탑동로 9   94\n",
       "..        ...                     ...                         ...  ...\n",
       "416  휴양콘도미니엄업                 ES제주리조트      제주특별자치도 서귀포시 1100로 501  153\n",
       "417  휴양콘도미니엄업                  씨사이드아덴      제주특별자치도 서귀포시 중문관광로 124  190\n",
       "418  휴양콘도미니엄업              백통신원리조트 기린  제주특별자치도 서귀포시 남원읍 서성로 427-1   76\n",
       "419  휴양콘도미니엄업  스프링데일 골프&리조트 휴양콘도미니엄 1  제주특별자치도 서귀포시 남원읍 서성로 459-1   56\n",
       "420  휴양콘도미니엄업          고은관광농원 휴양콘도미니엄      제주특별자치도 서귀포시 일주서로 1262   15\n",
       "\n",
       "[421 rows x 4 columns]"
      ]
     },
     "execution_count": 122,
     "metadata": {},
     "output_type": "execute_result"
    }
   ],
   "source": [
    "# 필요한 컬럼만 추출\n",
    "hotel_df = hotel_df.filter(['구분','상호명','소재지','객실수'])\n",
    "hotel_df"
   ]
  },
  {
   "cell_type": "markdown",
   "metadata": {},
   "source": [
    "<span style= 'color : blue' >3. 시각화</span>\n",
    "* 3-1. 제주도의 시별로 호텔의 수 막대그래프로 시각화"
   ]
  },
  {
   "cell_type": "code",
   "execution_count": 123,
   "metadata": {},
   "outputs": [
    {
     "data": {
      "text/html": [
       "<div>\n",
       "<style scoped>\n",
       "    .dataframe tbody tr th:only-of-type {\n",
       "        vertical-align: middle;\n",
       "    }\n",
       "\n",
       "    .dataframe tbody tr th {\n",
       "        vertical-align: top;\n",
       "    }\n",
       "\n",
       "    .dataframe thead th {\n",
       "        text-align: right;\n",
       "    }\n",
       "</style>\n",
       "<table border=\"1\" class=\"dataframe\">\n",
       "  <thead>\n",
       "    <tr style=\"text-align: right;\">\n",
       "      <th></th>\n",
       "      <th>구분</th>\n",
       "      <th>상호명</th>\n",
       "      <th>소재지</th>\n",
       "      <th>객실수</th>\n",
       "      <th>시</th>\n",
       "    </tr>\n",
       "  </thead>\n",
       "  <tbody>\n",
       "    <tr>\n",
       "      <th>0</th>\n",
       "      <td>관광호텔업</td>\n",
       "      <td>(주)호텔하니크라운</td>\n",
       "      <td>제주특별자치도 제주시 삼성로 10</td>\n",
       "      <td>61</td>\n",
       "      <td>제주시</td>\n",
       "    </tr>\n",
       "    <tr>\n",
       "      <th>1</th>\n",
       "      <td>관광호텔업</td>\n",
       "      <td>글래드호텔앤리조트㈜ 메종글래드제주</td>\n",
       "      <td>제주특별자치도 제주시 노연로 80</td>\n",
       "      <td>513</td>\n",
       "      <td>제주시</td>\n",
       "    </tr>\n",
       "    <tr>\n",
       "      <th>2</th>\n",
       "      <td>관광호텔업</td>\n",
       "      <td>제주썬호텔</td>\n",
       "      <td>제주특별자치도 제주시 삼무로 67</td>\n",
       "      <td>203</td>\n",
       "      <td>제주시</td>\n",
       "    </tr>\n",
       "    <tr>\n",
       "      <th>3</th>\n",
       "      <td>관광호텔업</td>\n",
       "      <td>제주로얄호텔</td>\n",
       "      <td>제주특별자치도 제주시 신대로12길 45</td>\n",
       "      <td>126</td>\n",
       "      <td>제주시</td>\n",
       "    </tr>\n",
       "    <tr>\n",
       "      <th>4</th>\n",
       "      <td>관광호텔업</td>\n",
       "      <td>제주팔레스호텔</td>\n",
       "      <td>제주특별자치도 제주시 탑동로 9</td>\n",
       "      <td>94</td>\n",
       "      <td>제주시</td>\n",
       "    </tr>\n",
       "    <tr>\n",
       "      <th>...</th>\n",
       "      <td>...</td>\n",
       "      <td>...</td>\n",
       "      <td>...</td>\n",
       "      <td>...</td>\n",
       "      <td>...</td>\n",
       "    </tr>\n",
       "    <tr>\n",
       "      <th>416</th>\n",
       "      <td>휴양콘도미니엄업</td>\n",
       "      <td>ES제주리조트</td>\n",
       "      <td>제주특별자치도 서귀포시 1100로 501</td>\n",
       "      <td>153</td>\n",
       "      <td>서귀포시</td>\n",
       "    </tr>\n",
       "    <tr>\n",
       "      <th>417</th>\n",
       "      <td>휴양콘도미니엄업</td>\n",
       "      <td>씨사이드아덴</td>\n",
       "      <td>제주특별자치도 서귀포시 중문관광로 124</td>\n",
       "      <td>190</td>\n",
       "      <td>서귀포시</td>\n",
       "    </tr>\n",
       "    <tr>\n",
       "      <th>418</th>\n",
       "      <td>휴양콘도미니엄업</td>\n",
       "      <td>백통신원리조트 기린</td>\n",
       "      <td>제주특별자치도 서귀포시 남원읍 서성로 427-1</td>\n",
       "      <td>76</td>\n",
       "      <td>서귀포시</td>\n",
       "    </tr>\n",
       "    <tr>\n",
       "      <th>419</th>\n",
       "      <td>휴양콘도미니엄업</td>\n",
       "      <td>스프링데일 골프&amp;리조트 휴양콘도미니엄 1</td>\n",
       "      <td>제주특별자치도 서귀포시 남원읍 서성로 459-1</td>\n",
       "      <td>56</td>\n",
       "      <td>서귀포시</td>\n",
       "    </tr>\n",
       "    <tr>\n",
       "      <th>420</th>\n",
       "      <td>휴양콘도미니엄업</td>\n",
       "      <td>고은관광농원 휴양콘도미니엄</td>\n",
       "      <td>제주특별자치도 서귀포시 일주서로 1262</td>\n",
       "      <td>15</td>\n",
       "      <td>서귀포시</td>\n",
       "    </tr>\n",
       "  </tbody>\n",
       "</table>\n",
       "<p>421 rows × 5 columns</p>\n",
       "</div>"
      ],
      "text/plain": [
       "           구분                     상호명                         소재지  객실수     시\n",
       "0       관광호텔업              (주)호텔하니크라운        제주특별자치도 제주시 삼성로 10     61   제주시\n",
       "1       관광호텔업      글래드호텔앤리조트㈜ 메종글래드제주         제주특별자치도 제주시 노연로 80   513   제주시\n",
       "2       관광호텔업                   제주썬호텔       제주특별자치도 제주시 삼무로 67     203   제주시\n",
       "3       관광호텔업                  제주로얄호텔      제주특별자치도 제주시 신대로12길 45   126   제주시\n",
       "4       관광호텔업                 제주팔레스호텔           제주특별자치도 제주시 탑동로 9   94   제주시\n",
       "..        ...                     ...                         ...  ...   ...\n",
       "416  휴양콘도미니엄업                 ES제주리조트      제주특별자치도 서귀포시 1100로 501  153  서귀포시\n",
       "417  휴양콘도미니엄업                  씨사이드아덴      제주특별자치도 서귀포시 중문관광로 124  190  서귀포시\n",
       "418  휴양콘도미니엄업              백통신원리조트 기린  제주특별자치도 서귀포시 남원읍 서성로 427-1   76  서귀포시\n",
       "419  휴양콘도미니엄업  스프링데일 골프&리조트 휴양콘도미니엄 1  제주특별자치도 서귀포시 남원읍 서성로 459-1   56  서귀포시\n",
       "420  휴양콘도미니엄업          고은관광농원 휴양콘도미니엄      제주특별자치도 서귀포시 일주서로 1262   15  서귀포시\n",
       "\n",
       "[421 rows x 5 columns]"
      ]
     },
     "execution_count": 123,
     "metadata": {},
     "output_type": "execute_result"
    }
   ],
   "source": [
    "# 소재지의 공백을 찾기\n",
    "hotel_df['소재지']\n",
    "\n",
    "# split\n",
    "address_split = hotel_df['소재지'].str.split(' ')\n",
    "address_split\n",
    "\n",
    "\n",
    "# 시 컬럼 추가\n",
    "# address_split한 값에서 1번째 문자만 추출\n",
    "hotel_df['시'] = address_split.str.get(1)\n",
    "hotel_df\n"
   ]
  },
  {
   "cell_type": "code",
   "execution_count": 124,
   "metadata": {},
   "outputs": [
    {
     "data": {
      "text/plain": [
       "0"
      ]
     },
     "execution_count": 124,
     "metadata": {},
     "output_type": "execute_result"
    }
   ],
   "source": [
    "# 결측치 확인\n",
    "hotel_df['시'].isna().sum()"
   ]
  },
  {
   "cell_type": "code",
   "execution_count": 125,
   "metadata": {},
   "outputs": [
    {
     "data": {
      "text/html": [
       "<div>\n",
       "<style scoped>\n",
       "    .dataframe tbody tr th:only-of-type {\n",
       "        vertical-align: middle;\n",
       "    }\n",
       "\n",
       "    .dataframe tbody tr th {\n",
       "        vertical-align: top;\n",
       "    }\n",
       "\n",
       "    .dataframe thead th {\n",
       "        text-align: right;\n",
       "    }\n",
       "</style>\n",
       "<table border=\"1\" class=\"dataframe\">\n",
       "  <thead>\n",
       "    <tr style=\"text-align: right;\">\n",
       "      <th></th>\n",
       "      <th>count</th>\n",
       "    </tr>\n",
       "    <tr>\n",
       "      <th>시</th>\n",
       "      <th></th>\n",
       "    </tr>\n",
       "  </thead>\n",
       "  <tbody>\n",
       "    <tr>\n",
       "      <th>서귀포시</th>\n",
       "      <td>218</td>\n",
       "    </tr>\n",
       "    <tr>\n",
       "      <th>제주시</th>\n",
       "      <td>203</td>\n",
       "    </tr>\n",
       "  </tbody>\n",
       "</table>\n",
       "</div>"
      ],
      "text/plain": [
       "      count\n",
       "시          \n",
       "서귀포시    218\n",
       "제주시     203"
      ]
     },
     "execution_count": 125,
     "metadata": {},
     "output_type": "execute_result"
    }
   ],
   "source": [
    "# 시명의 빈도를 value로 가진 데이터 프레임\n",
    "si_df = DataFrame(hotel_df['시'].value_counts())\n",
    "si_df"
   ]
  },
  {
   "cell_type": "code",
   "execution_count": 126,
   "metadata": {},
   "outputs": [
    {
     "data": {
      "image/png": "[encoded data removed]",
      "text/plain": [
       "<Figure size 700x300 with 1 Axes>"
      ]
     },
     "metadata": {},
     "output_type": "display_data"
    }
   ],
   "source": [
    "# 시 별 호텔의 수 그래프로 시각화\n",
    "\n",
    "# 1) 그래프 전역 설정\n",
    "plt.rcParams['font.family'] = 'Malgun Gothic'\n",
    "plt.rcParams['font.size'] = 12\n",
    "plt.rcParams['figure.figsize'] = (7,3)\n",
    "plt.rcParams['axes.unicode_minus'] = False\n",
    "\n",
    "# 2) 그래프 그리기\n",
    "sb.barplot(data=si_df, x=si_df.index, y='count', palette='pastel')\n",
    "\n",
    "plt.title(\"제주도의 시별 호텔의 수\")\n",
    "plt.xlabel(\"시\")\n",
    "plt.ylabel(\"호텔의 수\")\n",
    "plt.grid()\n",
    "plt.show()\n",
    "plt.close()"
   ]
  },
  {
   "cell_type": "markdown",
   "metadata": {},
   "source": [
    "분석결과 : 제주도에는 제주시보다 서귀포시에 호텔의 수가 많다."
   ]
  },
  {
   "cell_type": "markdown",
   "metadata": {},
   "source": [
    "* 제주도 숙박 구분 그래프 (파이그래프)"
   ]
  },
  {
   "cell_type": "code",
   "execution_count": 127,
   "metadata": {},
   "outputs": [
    {
     "data": {
      "text/plain": [
       "['관광호텔업', '한국전통호텔업', '가족호텔업', '호스텔업', '소형호텔업', '휴양콘도미니엄업']"
      ]
     },
     "execution_count": 127,
     "metadata": {},
     "output_type": "execute_result"
    }
   ],
   "source": [
    "# 구분 컬럼 = 파이그래프의 labels\n",
    "labels = list(hotel_df['구분'].unique())\n",
    "labels"
   ]
  },
  {
   "cell_type": "code",
   "execution_count": 128,
   "metadata": {},
   "outputs": [],
   "source": [
    "# 파이그래프의 데이터\n",
    "data = list(hotel_df['구분'].value_counts())"
   ]
  },
  {
   "cell_type": "code",
   "execution_count": 129,
   "metadata": {},
   "outputs": [
    {
     "data": {
      "image/png": "[encoded data removed]",
      "text/plain": [
       "<Figure size 1200x800 with 1 Axes>"
      ]
     },
     "metadata": {},
     "output_type": "display_data"
    }
   ],
   "source": [
    "# 1) 그래프 전역 설정\n",
    "plt.rcParams['font.family'] = 'Malgun Gothic'\n",
    "plt.rcParams['font.size'] = 12\n",
    "plt.rcParams['figure.figsize'] = (12,8)\n",
    "plt.rcParams['axes.unicode_minus'] = False\n",
    "\n",
    "# 2) 파이그래프로 시각화\n",
    "\n",
    "#데이터\n",
    "data = list(hotel_df['구분'].value_counts())\n",
    "\n",
    "# 각 데이터별 레이블\n",
    "labels = list(hotel_df['구분'].unique())\n",
    "\n",
    "# 각 데이터별 색상\n",
    "colors = ['yellowgreen','gold','lightskyblue','lightcoral']\n",
    "\n",
    "# 각 데이터별 확대비율\n",
    "# explode = (0,0.0,0,0)\n",
    "\n",
    "plt.figure()\n",
    "plt.title(\"제주도 숙박업 유형별 집계\")\n",
    "plt.pie(data, labels=labels, colors=colors,\n",
    "        autopct='%0.1f%%', startangle=0, shadow=True)\n",
    "# plt.savefig('pie chart.png')\n",
    "plt.show()\n",
    "plt.close()"
   ]
  },
  {
   "cell_type": "markdown",
   "metadata": {},
   "source": [
    "분석결과 : 제주도 숙박업을 유형별로 구분했을 때 관광호텔업 > 한국전통호텔업 > 가족호텔업 순으로 많았다."
   ]
  },
  {
   "cell_type": "markdown",
   "metadata": {},
   "source": [
    "* 제주도 숙소 유형별 객실수 분포 (hue파라미터 사용한 막대그래프)"
   ]
  },
  {
   "cell_type": "code",
   "execution_count": 130,
   "metadata": {},
   "outputs": [
    {
     "data": {
      "image/png": "[encoded data removed]",
      "text/plain": [
       "<Figure size 1000x400 with 1 Axes>"
      ]
     },
     "metadata": {},
     "output_type": "display_data"
    }
   ],
   "source": [
    "# 1) 그래프 전역 설정\n",
    "plt.rcParams[\"font.family\"] = 'Malgun Gothic'\n",
    "plt.rcParams[\"font.size\"] = 12\n",
    "plt.rcParams[\"figure.figsize\"] = (10, 4)\n",
    "plt.rcParams[\"axes.unicode_minus\"] = False\n",
    "\n",
    "# 2) hue파라미터 사용하여 범주에 따라 구분 시각화 \n",
    "sb.barplot(data=hotel_df, x='구분', y='객실수', hue='시', estimator='sum')\n",
    "plt.show()\n",
    "plt.close()"
   ]
  },
  {
   "cell_type": "markdown",
   "metadata": {},
   "source": [
    "분석결과 : 제주도의 제주시가 서귀포시보다 관광호텔업 유형이 많았지만, 휴양콘도미니엄업과 호스텔업의 경우 서귀포시가 제주시보다 많았다. <br> "
   ]
  },
  {
   "cell_type": "markdown",
   "metadata": {},
   "source": [
    "<span style= 'color : blue' >4. 데이터 합치기</span>"
   ]
  },
  {
   "cell_type": "markdown",
   "metadata": {},
   "source": [
    "* 4-1. 야놀자 호텔 데이터\n",
    "    * Selenium을 이용한 수집"
   ]
  },
  {
   "cell_type": "code",
   "execution_count": null,
   "metadata": {},
   "outputs": [],
   "source": [
    "url='https://www.yanolja.com/hotel/r-900584?advert=AREA&topAdvertiseMore=1&region=900584'"
   ]
  },
  {
   "cell_type": "code",
   "execution_count": null,
   "metadata": {},
   "outputs": [],
   "source": [
    "# 필요한 패키지 설치\n",
    "import numpy as np\n",
    "import pandas as pd\n",
    "import chromedriver_autoinstaller\n",
    "import selenium\n",
    "from selenium.webdriver.common.by import  By\n",
    "from selenium.webdriver.support.ui import WebDriverWait\n",
    "from selenium.webdriver import Chrome\n",
    "import bs4\n",
    "from selenium.webdriver.common.keys import Keys\n",
    "import time"
   ]
  },
  {
   "cell_type": "code",
   "execution_count": null,
   "metadata": {},
   "outputs": [],
   "source": [
    "# 객체 생성\n",
    "driver=Chrome()\n",
    "driver.get('https://www.yanolja.com/hotel/r-900584?advert=AREA&topAdvertiseMore=1&region=900584')"
   ]
  },
  {
   "cell_type": "code",
   "execution_count": null,
   "metadata": {},
   "outputs": [],
   "source": [
    "# 날짜는 수작업으로 설정 : 2023.07.20~2023.07.26 / 성인 2명 "
   ]
  },
  {
   "cell_type": "code",
   "execution_count": null,
   "metadata": {},
   "outputs": [],
   "source": [
    "# 스크롤내리기 작업\n",
    "while True:\n",
    "    driver.execute_script(\"window.scrollTo(0, document.body.scrollHeight)\")\n",
    "    time.sleep(0.5)\n",
    "    before_height = int(driver.execute_script(\"return document.body.scrollHeight\"))\n",
    "    driver.execute_script(\"window.scrollTo(0, document.body.scrollHeight)\")\n",
    "    time.sleep(0.5)\n",
    "    height = int(driver.execute_script(\"return document.body.scrollHeight\"))\n",
    "    if before_height==height:\n",
    "        break"
   ]
  },
  {
   "cell_type": "code",
   "execution_count": null,
   "metadata": {},
   "outputs": [],
   "source": [
    "# html 불러오기\n",
    "A=bs4.BeautifulSoup(driver.page_source)\n",
    "data1=list(map(lambda x:x.attrs[\"title\"],A.select(\".PlaceListItemBanner_container__ARsIm.banner-unit a\")))\n",
    "data2=list(map(lambda x:x.attrs[\"title\"],A.select('.PlaceListItemText_container__fUIgA.text-unit a')))"
   ]
  },
  {
   "cell_type": "code",
   "execution_count": null,
   "metadata": {},
   "outputs": [],
   "source": [
    "# 데이터 추출\n",
    "y_hotellist=data1+data2\n",
    "y_hotellist"
   ]
  },
  {
   "cell_type": "code",
   "execution_count": null,
   "metadata": {},
   "outputs": [],
   "source": [
    "# 공공데이터와 합치기\n",
    "# 1) 공공데이터 호텔명 리스트\n",
    "data = list(hotel_df['상호명'])\n",
    "len(data)"
   ]
  },
  {
   "cell_type": "code",
   "execution_count": null,
   "metadata": {},
   "outputs": [],
   "source": [
    "# 2) 만약 공공데이터 호텔리스트에 야놀자호텔 크롤링 데이터가 없다면 추가 \n",
    "for y in y_hotellist:\n",
    "    if y not in data:\n",
    "        data.append(y)\n",
    "len((data)) "
   ]
  },
  {
   "cell_type": "code",
   "execution_count": null,
   "metadata": {},
   "outputs": [],
   "source": [
    "# 3) data => 공공데이터 + 야놀자 크롤링 호텔리스트\n",
    "data"
   ]
  },
  {
   "cell_type": "markdown",
   "metadata": {},
   "source": [
    "* 4-2. 마이리얼트립 호텔\n",
    "    * Selenium을 이용한 수집"
   ]
  },
  {
   "cell_type": "code",
   "execution_count": null,
   "metadata": {},
   "outputs": [],
   "source": [
    "url='https://accommodation.myrealtrip.com/union/products?checkIn=2023-07-20&checkOut=2023-07-26&adultCount=2&childCount=0&childAges=&infantCount=0&infantAges=&regionId=&keyword=%EC%A0%9C%EC%A3%BC%EB%8F%84&roomCount=1'"
   ]
  },
  {
   "cell_type": "code",
   "execution_count": null,
   "metadata": {},
   "outputs": [],
   "source": [
    "# 필요한 패키지 설치 (야놀자 참조)\n",
    "# 객체 생성\n",
    "driver=Chrome()"
   ]
  },
  {
   "cell_type": "code",
   "execution_count": null,
   "metadata": {},
   "outputs": [],
   "source": [
    "# get 요청\n",
    "driver.get(url)"
   ]
  },
  {
   "cell_type": "code",
   "execution_count": null,
   "metadata": {},
   "outputs": [],
   "source": [
    "# 스크롤 내리기\n",
    "point=WebDriverWait(driver,1).until(lambda x:x.find_element(By.CSS_SELECTOR,\"body\"))"
   ]
  },
  {
   "cell_type": "code",
   "execution_count": null,
   "metadata": {},
   "outputs": [],
   "source": [
    "result=[]\n",
    "while True:\n",
    "    for i in range(2):\n",
    "        point.send_keys(Keys.PAGE_DOWN)\n",
    "    time.sleep(1)\n",
    "    M=bs4.BeautifulSoup(driver.page_source).select('.css-1xdhyk6 .e12a3oa10.css-121peml')\n",
    "    Now=list(set(sum([result,M],[])))\n",
    "    print(Now)\n",
    "    if Now==result:\n",
    "        break\n",
    "    result=Now"
   ]
  },
  {
   "cell_type": "code",
   "execution_count": null,
   "metadata": {},
   "outputs": [],
   "source": [
    "m_hotellist = []\n",
    "for r in result:\n",
    "    m_hotellist.append(r.text)\n",
    "len(set(m_hotellist)) "
   ]
  },
  {
   "cell_type": "code",
   "execution_count": null,
   "metadata": {},
   "outputs": [],
   "source": [
    "# 마이리얼트립 호텔리스트 m_hotellist를 공공데이터+야놀자데이터에 append\n",
    "for m in m_hotellist:\n",
    "    if m not in data:\n",
    "        data.append(m)\n",
    "\n",
    "data"
   ]
  },
  {
   "cell_type": "markdown",
   "metadata": {},
   "source": [
    "* 4-3. 통합 데이터"
   ]
  },
  {
   "cell_type": "code",
   "execution_count": null,
   "metadata": {},
   "outputs": [],
   "source": [
    "# 총 호텔 데이터 리스트 = data\n",
    "data\n",
    "\n",
    "# 공백과 띄어쓰기 제거한 최종 데이터 = pre_data\n",
    "pre_data=[]\n",
    "for d in data:\n",
    "    pre_data.append(d.strip().replace(\" \",''))\n",
    "pre_data"
   ]
  },
  {
   "cell_type": "markdown",
   "metadata": {},
   "source": [
    "<span style = 'color : blue '> 5.OPEN API 이용한 pre_data의 주소 도출</span>"
   ]
  },
  {
   "cell_type": "markdown",
   "metadata": {},
   "source": [
    "* 5-1. open api 이용한 주소 도출"
   ]
  },
  {
   "cell_type": "code",
   "execution_count": null,
   "metadata": {},
   "outputs": [],
   "source": [
    "# OPEN API 이용한 pre_data의 주소 도출\n",
    "\n",
    "url = \"https://dapi.kakao.com/v2/local/search/keyword.json?\"\n",
    "key = \"19111005ad4c10663591e0a55b344ba5\"\n",
    "query = pre_data\n",
    "\n",
    "Data = []\n",
    "for q in pre_data: \n",
    "    r = requests.get(url, params={'query':q}, headers={\"Authorization\": \"KakaoAK 19111005ad4c10663591e0a55b344ba5\"})\n",
    "    js = simplejson.JSONEncoder().encode(r.json())\n",
    "    result = r.json()\n",
    "    Data.append(result['documents'])\n",
    "Data"
   ]
  },
  {
   "cell_type": "code",
   "execution_count": null,
   "metadata": {},
   "outputs": [],
   "source": [
    "# place_name과 address_name만 추출한 데이터 = processing_Data  \n",
    "processing_Data=list(map(lambda x: (x[0][\"place_name\"],x[0]['address_name']) if x else None,Data))"
   ]
  },
  {
   "cell_type": "code",
   "execution_count": null,
   "metadata": {},
   "outputs": [],
   "source": [
    "# processing_Data를 데이터프레임으로 만든후 컬럼 재정의 & '숙박'xlsx으로 저장\n",
    "totalData = pd.DataFrame(data=[x for x in processing_Data if x]).rename(columns={0:\"place_name\",1:\"address_name\"}).to_excel(\"숙박2.xlsx\")\n",
    "totalData"
   ]
  },
  {
   "cell_type": "markdown",
   "metadata": {},
   "source": [
    "* 5-2. 데이터 전처리"
   ]
  },
  {
   "cell_type": "code",
   "execution_count": null,
   "metadata": {},
   "outputs": [],
   "source": [
    "# svg 파일의 행정구역 g id 확인\n",
    "path_id = ['구좌', '조천', '동제주', '중제주', '서제주', \n",
    "        '애월', '성산', '한림', '표선', '남원', '한경', '안덕', \n",
    "        '동서귀', '중서귀', '서서귀', '대정']\n",
    "\n",
    "# g_id에 따라 district_list 구분\n",
    "행정구역 = {'구좌':'구좌',\n",
    "  '조천':'조천', \n",
    "  '화북': '동제주','봉개':'동제주', '회천':'동제주','용강':'동제주',\n",
    "  '오라':'중제주','아라':'중제주','오등':'중제주','화북':'중제주','이도':'중제주','건입':'중제주','삼도':'중제주','용담':'중제주','일도':'중제주', \n",
    "  '도두':'서제주','이호':'서제주','외도':'서제주','내도':'서제주','도평':'서제주','노형':'서제주','연동':'서제주','강정':'서제주','도순':'서제주',\n",
    "  '영남':'서제주','월평':'서제주','해안':'서제주', '노형':'서제주',\n",
    "  '애월' :'애월',\n",
    "  '성산':'성산',\n",
    "  '한림':'한림',\n",
    "  '표선':'표선',\n",
    "  '남원':'남원',\n",
    "  '한경':'한경',\n",
    "  '안덕':'안덕',\n",
    "  '영천':'동서귀','동흥':'동서귀','효돈':'동서귀','송산':'동서귀','신효':'동서귀','하효':'동서귀','서귀':'동서귀','보목':'동서귀','동홍':'동서귀',\n",
    "  '대천':'중서귀','대륜':'중서귀','서홍':'중서귀', '강정':'중서귀','법환':'중서귀','서호':'중서귀','호근':'중서귀',\n",
    "  '여래':'서서귀','중문':'서서귀','회수':'서서귀', '하원':'서서귀','대포':'서서귀', '색달':'서서귀', '하예':'서서귀', '상예':'서서귀',  \n",
    "  '대정':'대정'}\n"
   ]
  },
  {
   "cell_type": "code",
   "execution_count": 5,
   "metadata": {},
   "outputs": [],
   "source": [
    "import pandas as pd\n",
    "import numpy as np\n",
    "from IPython.display import SVG,Image\n",
    "from bs4 import BeautifulSoup\n",
    "import requests\n",
    "import pandas as pd\n",
    "import numpy as np\n",
    "import os\n"
   ]
  },
  {
   "cell_type": "markdown",
   "metadata": {},
   "source": [
    "#### 최종 호텔 데이터 가져오기"
   ]
  },
  {
   "cell_type": "markdown",
   "metadata": {},
   "source": [
    "* 데이터 전처리"
   ]
  },
  {
   "cell_type": "code",
   "execution_count": null,
   "metadata": {},
   "outputs": [],
   "source": [
    "data=data[data[\"지번주소\"].str.find(\"제주특별\")!=-1]\n",
    "# data.drop(columns=\"Unnamed: 0\",inplace=True)\n",
    "data[\"행정구역\"]=np.nan"
   ]
  },
  {
   "cell_type": "code",
   "execution_count": null,
   "metadata": {},
   "outputs": [],
   "source": [
    "data"
   ]
  },
  {
   "cell_type": "code",
   "execution_count": null,
   "metadata": {},
   "outputs": [],
   "source": [
    "행정구역 = {'구좌':'구좌',\n",
    "  '조천':'조천', \n",
    "  '화북': '동제주','봉개':'동제주', '회천':'동제주','용강':'동제주',\n",
    "  '오라':'중제주','아라':'중제주','오등':'중제주','화북':'중제주','이도':'중제주','건입':'중제주','삼도':'중제주','용담':'중제주','일도':'중제주', \n",
    "  '도두':'서제주','이호':'서제주','외도':'서제주','내도':'서제주','도평':'서제주','노형':'서제주','연동':'서제주','강정':'서제주','도순':'서제주',\n",
    "  '영남':'서제주','월평':'서제주','해안':'서제주', '노형':'서제주',\n",
    "  '애월' :'애월',\n",
    "  '성산':'성산',\n",
    "  '한림':'한림',\n",
    "  '표선':'표선',\n",
    "  '남원':'남원',\n",
    "  '한경':'한경',\n",
    "  '안덕':'안덕',\n",
    "  '영천':'동서귀','동흥':'동서귀','효돈':'동서귀','송산':'동서귀','신효':'동서귀','하효':'동서귀','서귀':'동서귀','보목':'동서귀','동홍':'동서귀',\n",
    "  '대천':'중서귀','대륜':'중서귀','서홍':'중서귀', '강정':'중서귀','법환':'중서귀','서호':'중서귀','호근':'중서귀',\n",
    "  '여래':'서서귀','중문':'서서귀','회수':'서서귀', '하원':'서서귀','대포':'서서귀', '색달':'서서귀', '하예':'서서귀', '상예':'서서귀',  \n",
    "  '대정':'대정'}"
   ]
  },
  {
   "cell_type": "markdown",
   "metadata": {},
   "source": [
    "#### 데이터의 주소와 svg파일의 id값 불일치 -> 데이터 재배치(?)"
   ]
  },
  {
   "cell_type": "code",
   "execution_count": null,
   "metadata": {},
   "outputs": [],
   "source": [
    " # 지번주소를 도로명 주소로 바꾸는 함수.\n",
    "def trans(x):\n",
    "    for i in 행정구역.keys():\n",
    "        try:\n",
    "            if i in x:\n",
    "                return 행정구역[i]\n",
    "        except:\n",
    "            break"
   ]
  },
  {
   "cell_type": "code",
   "execution_count": null,
   "metadata": {},
   "outputs": [],
   "source": [
    "# 지번주소\n",
    "error=[]\n",
    "data[\"행정구역\"]=data[\"지번주소\"].apply(lambda x:trans(x))"
   ]
  },
  {
   "cell_type": "code",
   "execution_count": null,
   "metadata": {},
   "outputs": [],
   "source": [
    "# 도로명주소\n",
    "data.loc[data[\"행정구역\"].isna(),\"행정구역\"]=data[data[\"행정구역\"].isna()].apply(lambda x:trans(x))"
   ]
  },
  {
   "cell_type": "markdown",
   "metadata": {},
   "source": [
    "#### 시각화\n",
    "* 색상리스트 준비"
   ]
  },
  {
   "cell_type": "code",
   "execution_count": null,
   "metadata": {},
   "outputs": [],
   "source": [
    "colors = ['#fffae6', '#ffeb99', '#ffdb4d', '#ffcc00', '#e6b800','#cca300','#997a00','#4d3d00']"
   ]
  },
  {
   "cell_type": "markdown",
   "metadata": {},
   "source": [
    "* histogram 을 이용한 구간 설정"
   ]
  },
  {
   "cell_type": "code",
   "execution_count": null,
   "metadata": {},
   "outputs": [],
   "source": [
    "# 행정구역이 index , 행정구역별 count값이 column\n",
    "color_rule=pd.merge(pd.DataFrame(set(행정구역.values())).set_index(0),pd.DataFrame(data[\"행정구역\"].value_counts()),\n",
    "                    how=\"left\",left_index=True,right_index=True).fillna(0)"
   ]
  },
  {
   "cell_type": "code",
   "execution_count": null,
   "metadata": {},
   "outputs": [],
   "source": [
    "color_rule"
   ]
  },
  {
   "cell_type": "code",
   "execution_count": null,
   "metadata": {},
   "outputs": [],
   "source": [
    "# 히스토그램 구간 \n",
    "x,y=np.histogram(color_rule[\"count\"].values,bins=8)"
   ]
  },
  {
   "cell_type": "code",
   "execution_count": null,
   "metadata": {},
   "outputs": [],
   "source": [
    "y"
   ]
  },
  {
   "cell_type": "code",
   "execution_count": null,
   "metadata": {},
   "outputs": [],
   "source": [
    "# 구간 별 색상 \n",
    "dc=dict(zip(y[:-1],colors))"
   ]
  },
  {
   "cell_type": "code",
   "execution_count": null,
   "metadata": {},
   "outputs": [],
   "source": [
    "dc"
   ]
  },
  {
   "cell_type": "code",
   "execution_count": null,
   "metadata": {},
   "outputs": [],
   "source": [
    "# 행정구역 별 구간은 어디인지 \n",
    "for name in color_rule.index:\n",
    "    for i in y[:-1]:\n",
    "        if color_rule.loc[name]['count']>=i:\n",
    "            color_rule.loc[name,'color_id']=i"
   ]
  },
  {
   "cell_type": "code",
   "execution_count": null,
   "metadata": {},
   "outputs": [],
   "source": [
    "color_rule"
   ]
  },
  {
   "cell_type": "code",
   "execution_count": null,
   "metadata": {},
   "outputs": [],
   "source": [
    "# svg 파일 열기\n",
    "with open(\"./제주map.svg\",\"r\",encoding=\"utf-8\") as f:\n",
    "    jeju_map=f.readlines()"
   ]
  },
  {
   "cell_type": "code",
   "execution_count": null,
   "metadata": {},
   "outputs": [],
   "source": [
    "# svg파일의 색상을 color_rule의 color_id값으로 대체하기\n",
    "for name in color_rule.index:\n",
    "    idx=[]\n",
    "    for i in range(len(jeju_map)):\n",
    "        if name in jeju_map[i]:\n",
    "            idx.append(i)\n",
    "    for j in map(lambda x:x+1,idx):\n",
    "        jeju_map[j]=jeju_map[j].replace(\"#eeeeee\",dc[color_rule.loc[name][\"color_id\"]])"
   ]
  },
  {
   "cell_type": "code",
   "execution_count": null,
   "metadata": {},
   "outputs": [],
   "source": [
    "# \n",
    "with open(\"호텔시각화.html\",\"w\") as f:\n",
    "    for line in jeju_map:\n",
    "         f.write(line)"
   ]
  },
  {
   "cell_type": "markdown",
   "metadata": {},
   "source": [
    "![행정구역별_호텔_밀집도](./호텔_시각화.png)"
   ]
  },
  {
   "cell_type": "markdown",
   "metadata": {},
   "source": [
    "* 분석결과 \n",
    "제주시, 애월읍, 동서귀포시에 호텔의 밀집도가 높았다. "
   ]
  },
  {
   "cell_type": "markdown",
   "metadata": {},
   "source": [
    "<span style = 'color:blue'> 7. 관광지SVG시각화와 호텔SVG시각화 비교 </span>"
   ]
  },
  {
   "cell_type": "markdown",
   "metadata": {},
   "source": [
    "![관광지분포](./관광지_시각화.png)\n",
    "<b>*[행정구역별 관광지 분포현황]*<b>\n",
    "![호텔의분포](./호텔_시각화.png)\n",
    "<b>*[행정구역별 호텔의 분포 현황]*<b>"
   ]
  },
  {
   "cell_type": "markdown",
   "metadata": {},
   "source": [
    "* 관광지SVG시각화와 호텔SVG시각화 비교"
   ]
  },
  {
   "cell_type": "markdown",
   "metadata": {},
   "source": [
    "`'동서귀포시'`에 호텔과 관광지가 밀집되어 있음을 알 수 있다. <br> \n",
    "또한 `제주도 지역의 중심부`에 관광지와 호텔이 많이 분포되어 있는데, 왜 이런 현상이 나타났을까? <br>\n",
    "-> 가장 큰 이유는 `한라산` 때문이라고 할 수 있다. 제주도 중심에는 한라산이 위치해 있고 한라산을 찾는 관광객들이 가까운 숙소에 묵고, 숙소와 가까운 관광지를 찾는다고 볼 수 있을 것 같다. <br> \n"
   ]
  },
  {
   "cell_type": "markdown",
   "metadata": {},
   "source": [
    "<span style = 'color:blue'> 8. 음식점SVG시각화와 호텔SVG시각화 비교 </span>"
   ]
  },
  {
   "cell_type": "markdown",
   "metadata": {},
   "source": [
    "![음식점_시각화](./음식점_시각화.png)\n",
    "<b>*[행정구역별_음식점_분포도]*<b>\n",
    "![호텔_시각화](./호텔_시각화.png)\n",
    "<b>*[행정구역별_호텔_분포도]*<b>\n"
   ]
  },
  {
   "cell_type": "markdown",
   "metadata": {},
   "source": [
    "* 음식점SVG시각화와 호텔SVG시각화 비교"
   ]
  },
  {
   "cell_type": "markdown",
   "metadata": {},
   "source": [
    "`'동서귀포시'`에 호텔과 음식점이 밀집되어 있음을 알 수 있다. <br> \n",
    "또한 `제주도 지역의 중심부`에 음식점과 호텔이 많이 분포되어 있는데, 왜 이런 현상이 나타났을까? <br>\n",
    "-> 가장 큰 이유는 앞서 말한 이유와 동일하다. 바로 `한라산` 때문이라고 할 수 있다. 제주도 중심에는 한라산이 위치해 있고 한라산을 찾는 관광객들이 가까운 숙소에 묵고, 숙소와 가까운 관광지를 찾는다고 볼 수 있을 것 같다. <br>\n",
    "<br>\n",
    "하지만 관광지 시각화와 다른 점이 있다. <br>\n",
    "제주 조천읍, 구좌읍에는 호텔의 분포가 적은 반면, 음식점의 분포도가 높음을 알 수 있다. 왜 이런 현상이 나타났을까? <br>\n",
    "-> 앞서 본 관광지시각화 그림을 보면 '조천읍','구좌읍'에 관광지 분포도가 높았다. 따라서 관광산업이 주인 제주도에서는 `관광객`을 타켓층으로 음식점이 많이 분포되어 있음을 알 수 있다."
   ]
  },
  {
   "cell_type": "markdown",
   "metadata": {},
   "source": [
    "### <span style= 'color : blue' > *4단계 : 상관관계 분석* </span>"
   ]
  },
  {
   "cell_type": "markdown",
   "metadata": {},
   "source": [
    "#### <b>*1. 소비자의 `만족도`를 `평점`이라고 가정*</b> <br>\n",
    "-<b>*만족도의 요인 (제주공항과의 거리, 관광지와의 거리) 라고 할 때*<b><br>\n",
    "|단계|가설|\n",
    "|----|---|\n",
    "|`step1`| 호텔의 평점데이터 가져오기|<br>\n",
    "|`step2`| 호텔의 평점과 제주공항과의 거리와의 관계 : 제주공항과 거리가 가까울 수록 평점이 높은가?|<br>\n",
    "|`step3`| 호텔의 평점과 관광지와의 거리 상관관계: 관광지와 거리가 가까울 수록 평점이 높은가? |<br>"
   ]
  },
  {
   "cell_type": "markdown",
   "metadata": {},
   "source": [
    "1. 작업준비\n",
    "* 필요한 패키지 설치"
   ]
  },
  {
   "cell_type": "code",
   "execution_count": 2,
   "metadata": {},
   "outputs": [],
   "source": [
    "import pandas as pd\n",
    "from pandas import DataFrame, melt, read_excel\n",
    "from matplotlib import pyplot as plt\n",
    "import seaborn as sb\n",
    "import numpy as np\n",
    "import folium\n",
    "from os import path, mkdir\n",
    "import base64\n",
    "\n",
    "import bs4\n",
    "import requests\n",
    "import json\n",
    "import simplejson\n",
    "\n",
    "import chromedriver_autoinstaller\n",
    "from selenium import webdriver\n",
    "from selenium.webdriver.support.ui import WebDriverWait\n",
    "from bs4 import BeautifulSoup"
   ]
  },
  {
   "cell_type": "markdown",
   "metadata": {},
   "source": [
    "<span style= 'color : blue' > 2. 호텔의 평점 데이터 </span>"
   ]
  },
  {
   "cell_type": "markdown",
   "metadata": {},
   "source": [
    "* 데이터 크롤링"
   ]
  },
  {
   "cell_type": "code",
   "execution_count": null,
   "metadata": {},
   "outputs": [],
   "source": []
  },
  {
   "cell_type": "markdown",
   "metadata": {},
   "source": [
    "* 데이터 읽어오기"
   ]
  },
  {
   "cell_type": "code",
   "execution_count": null,
   "metadata": {},
   "outputs": [],
   "source": []
  },
  {
   "cell_type": "markdown",
   "metadata": {},
   "source": [
    "* 데이터 정제"
   ]
  },
  {
   "cell_type": "code",
   "execution_count": null,
   "metadata": {},
   "outputs": [],
   "source": []
  },
  {
   "cell_type": "markdown",
   "metadata": {},
   "source": [
    "* 분석결과"
   ]
  },
  {
   "cell_type": "code",
   "execution_count": null,
   "metadata": {},
   "outputs": [],
   "source": []
  },
  {
   "cell_type": "markdown",
   "metadata": {},
   "source": [
    "<span style= 'color : blue'> 3. 호텔의 평점과 제주공항과의 거리와의 관계 : 제주공항과 거리가 가까울 수록 평점이 높은가? </span>"
   ]
  },
  {
   "cell_type": "markdown",
   "metadata": {},
   "source": [
    "* 카카오맵을 이용한 소요시간 측정 함수"
   ]
  },
  {
   "cell_type": "code",
   "execution_count": null,
   "metadata": {},
   "outputs": [],
   "source": [
    "def KAKAO(START,FINISH):\n",
    "\n",
    "    import bs4\n",
    "    import selenium\n",
    "    import chromedriver_autoinstaller\n",
    "    from selenium.webdriver.common.by import By\n",
    "    from selenium.webdriver.support.ui import WebDriverWait\n",
    "    from selenium.webdriver import Chrome\n",
    "    import time\n",
    "    from selenium.webdriver.common.keys import Keys\n",
    "    import datetime as dt\n",
    "\n",
    "    driver=Chrome()\n",
    "    time.sleep(3)\n",
    "    driver.get('https://map.kakao.com/')\n",
    "    try:\n",
    "        need_remove=WebDriverWait(driver,3).until(lambda x: x.find_element(By.CSS_SELECTOR,\".coach_layer.coach_layer_type1 .view_coach\"))\n",
    "        need_remove.click()\n",
    "    except:\n",
    "        pass\n",
    "    path_page=WebDriverWait(driver,3).until(lambda x: x.find_element(By.ID,\"search.tab2\"))\n",
    "    path_page.click()\n",
    "    try:  \n",
    "        need_remove2=WebDriverWait(driver,3).until(lambda x: x.find_element(By.CSS_SELECTOR,\".layer_body .desc_coach\"))\n",
    "        need_remove2.click()\n",
    "    except:\n",
    "        pass\n",
    "\n",
    "    start=WebDriverWait(driver,3).until(lambda x: x.find_element(By.CSS_SELECTOR,\".waypointWindow>input\"))\n",
    "    start.send_keys(Keys.ENTER)\n",
    "    start.click()\n",
    "    #_______________________________________________________________#\n",
    "    start2=WebDriverWait(driver,3).until(lambda x: x.find_element(By.CSS_SELECTOR,\".WaypointInput>input\"))\n",
    "    start2.send_keys(START) #출발지 입력\n",
    "    start2.send_keys(Keys.DOWN)\n",
    "    start2.send_keys(Keys.ENTER)\n",
    "    time.sleep(1)\n",
    "\n",
    "    finish=WebDriverWait(driver,3).until(lambda x: x.find_element(By.ID,\"info.route.waypointSuggest.input1\"))\n",
    "    finish.send_keys(\"메가스터디IT 강남점\") #도착지 입력\n",
    "    finish.send_keys(Keys.DOWN)\n",
    "    finish.send_keys(Keys.ENTER)\n",
    "    time.sleep(1)\n",
    "\n",
    "    texi=WebDriverWait(driver,3).until(lambda x: x.find_element(By.ID,\"cartab\"))\n",
    "    texi.click()\n",
    "    print(\"준비완료\")\n",
    "    #________________________<반복>________________________________________#\n",
    "    final={}\n",
    "    for finishs in FINISH:\n",
    "        try:\n",
    "            refinish1=WebDriverWait(driver,3).until(lambda x: x.find_element(By.CSS_SELECTOR,\"#info .WaypointBoxView.dest .waypointWindow .valueBox\"))\n",
    "            refinish1.click()\n",
    "            refinish2=WebDriverWait(driver,3).until(lambda x: x.find_element(By.ID,\"info.route.waypointSuggest.input1\"))\n",
    "            refinish2.clear()\n",
    "            refinish2.send_keys(finishs)\n",
    "            refinish2.send_keys(Keys.ENTER)\n",
    "            time.sleep(1)\n",
    "            texi.click()\n",
    "            time.sleep(1)\n",
    "            soup=bs4.BeautifulSoup(driver.page_source)\n",
    "            datas=soup.select(\".contents\")[0]\n",
    "            info=dict.fromkeys(['time','distance','toll','taxi','oil'])\n",
    "            for key in info:\n",
    "                info[key]=datas.select(f\".{key}\")[0].text        \n",
    "            final[finishs]=info\n",
    "            time.sleep(1)\n",
    "        except:\n",
    "            continue\n",
    "    return final"
   ]
  },
  {
   "cell_type": "markdown",
   "metadata": {},
   "source": [
    "* 공항에서 호텔까지의 거리 측정"
   ]
  },
  {
   "cell_type": "markdown",
   "metadata": {},
   "source": [
    "        : 호텔 리스트 불러오기"
   ]
  },
  {
   "cell_type": "code",
   "execution_count": 12,
   "metadata": {},
   "outputs": [
    {
     "data": {
      "text/html": [
       "<div>\n",
       "<style scoped>\n",
       "    .dataframe tbody tr th:only-of-type {\n",
       "        vertical-align: middle;\n",
       "    }\n",
       "\n",
       "    .dataframe tbody tr th {\n",
       "        vertical-align: top;\n",
       "    }\n",
       "\n",
       "    .dataframe thead th {\n",
       "        text-align: right;\n",
       "    }\n",
       "</style>\n",
       "<table border=\"1\" class=\"dataframe\">\n",
       "  <thead>\n",
       "    <tr style=\"text-align: right;\">\n",
       "      <th></th>\n",
       "      <th>Unnamed: 0.1</th>\n",
       "      <th>place_name</th>\n",
       "      <th>address_name</th>\n",
       "    </tr>\n",
       "  </thead>\n",
       "  <tbody>\n",
       "    <tr>\n",
       "      <th>0</th>\n",
       "      <td>0</td>\n",
       "      <td>하니크라운호텔</td>\n",
       "      <td>제주특별자치도 제주시 이도일동 1315</td>\n",
       "    </tr>\n",
       "    <tr>\n",
       "      <th>1</th>\n",
       "      <td>1</td>\n",
       "      <td>제주썬호텔&amp;카지노</td>\n",
       "      <td>제주특별자치도 제주시 연동 291-30</td>\n",
       "    </tr>\n",
       "    <tr>\n",
       "      <th>2</th>\n",
       "      <td>2</td>\n",
       "      <td>제주로얄호텔</td>\n",
       "      <td>제주특별자치도 제주시 연동 272-34</td>\n",
       "    </tr>\n",
       "    <tr>\n",
       "      <th>3</th>\n",
       "      <td>3</td>\n",
       "      <td>제주팔레스호텔</td>\n",
       "      <td>제주특별자치도 제주시 삼도2동 1192-18</td>\n",
       "    </tr>\n",
       "    <tr>\n",
       "      <th>4</th>\n",
       "      <td>4</td>\n",
       "      <td>펄호텔 제주</td>\n",
       "      <td>제주특별자치도 제주시 연동 277-1</td>\n",
       "    </tr>\n",
       "    <tr>\n",
       "      <th>...</th>\n",
       "      <td>...</td>\n",
       "      <td>...</td>\n",
       "      <td>...</td>\n",
       "    </tr>\n",
       "    <tr>\n",
       "      <th>789</th>\n",
       "      <td>812</td>\n",
       "      <td>바이더힐펜션</td>\n",
       "      <td>제주특별자치도 제주시 애월읍 유수암리 2049-1</td>\n",
       "    </tr>\n",
       "    <tr>\n",
       "      <th>790</th>\n",
       "      <td>813</td>\n",
       "      <td>제주담스파빌</td>\n",
       "      <td>제주특별자치도 제주시 한림읍 금능리 1803-2</td>\n",
       "    </tr>\n",
       "    <tr>\n",
       "      <th>791</th>\n",
       "      <td>814</td>\n",
       "      <td>소서제주 745</td>\n",
       "      <td>제주특별자치도 제주시 애월읍 유수암리 719-9</td>\n",
       "    </tr>\n",
       "    <tr>\n",
       "      <th>792</th>\n",
       "      <td>815</td>\n",
       "      <td>브라운캐빈</td>\n",
       "      <td>제주특별자치도 제주시 애월읍 상가리 54-2</td>\n",
       "    </tr>\n",
       "    <tr>\n",
       "      <th>793</th>\n",
       "      <td>816</td>\n",
       "      <td>블루하와이리조트</td>\n",
       "      <td>제주특별자치도 제주시 한림읍 금능리 2005</td>\n",
       "    </tr>\n",
       "  </tbody>\n",
       "</table>\n",
       "<p>794 rows × 3 columns</p>\n",
       "</div>"
      ],
      "text/plain": [
       "     Unnamed: 0.1 place_name                 address_name\n",
       "0               0    하니크라운호텔        제주특별자치도 제주시 이도일동 1315\n",
       "1               1  제주썬호텔&카지노        제주특별자치도 제주시 연동 291-30\n",
       "2               2     제주로얄호텔        제주특별자치도 제주시 연동 272-34\n",
       "3               3    제주팔레스호텔     제주특별자치도 제주시 삼도2동 1192-18\n",
       "4               4     펄호텔 제주         제주특별자치도 제주시 연동 277-1\n",
       "..            ...        ...                          ...\n",
       "789           812     바이더힐펜션  제주특별자치도 제주시 애월읍 유수암리 2049-1\n",
       "790           813     제주담스파빌   제주특별자치도 제주시 한림읍 금능리 1803-2\n",
       "791           814   소서제주 745   제주특별자치도 제주시 애월읍 유수암리 719-9\n",
       "792           815      브라운캐빈     제주특별자치도 제주시 애월읍 상가리 54-2\n",
       "793           816   블루하와이리조트     제주특별자치도 제주시 한림읍 금능리 2005\n",
       "\n",
       "[794 rows x 3 columns]"
      ]
     },
     "execution_count": 12,
     "metadata": {},
     "output_type": "execute_result"
    }
   ],
   "source": [
    "df = pd.read_excel('./숙박3-1.xlsx')\n",
    "df.drop('Unnamed: 0',axis=1,inplace=True)\n",
    "df"
   ]
  },
  {
   "cell_type": "markdown",
   "metadata": {},
   "source": [
    "        : 공항(출발지) ~ 호텔(도착지) 소요시간 측정"
   ]
  },
  {
   "cell_type": "code",
   "execution_count": null,
   "metadata": {},
   "outputs": [],
   "source": [
    "hotel_distance = KAKAO('제주공항',df['address_name'])\n",
    "hotel_distance"
   ]
  },
  {
   "cell_type": "markdown",
   "metadata": {},
   "source": [
    "* 저장"
   ]
  },
  {
   "cell_type": "code",
   "execution_count": null,
   "metadata": {},
   "outputs": [],
   "source": [
    "with open(\"공항_호텔_거리\",\"w\",encoding=\"utf-8\") as f:\n",
    "    f.write(str(hotel_distance))"
   ]
  },
  {
   "cell_type": "markdown",
   "metadata": {},
   "source": [
    "* 확인"
   ]
  },
  {
   "cell_type": "code",
   "execution_count": 9,
   "metadata": {},
   "outputs": [
    {
     "data": {
      "text/html": [
       "<div>\n",
       "<style scoped>\n",
       "    .dataframe tbody tr th:only-of-type {\n",
       "        vertical-align: middle;\n",
       "    }\n",
       "\n",
       "    .dataframe tbody tr th {\n",
       "        vertical-align: top;\n",
       "    }\n",
       "\n",
       "    .dataframe thead th {\n",
       "        text-align: right;\n",
       "    }\n",
       "</style>\n",
       "<table border=\"1\" class=\"dataframe\">\n",
       "  <thead>\n",
       "    <tr style=\"text-align: right;\">\n",
       "      <th></th>\n",
       "      <th>Unnamed: 0</th>\n",
       "      <th>index</th>\n",
       "      <th>time</th>\n",
       "      <th>distance</th>\n",
       "      <th>toll</th>\n",
       "      <th>taxi</th>\n",
       "      <th>oil</th>\n",
       "    </tr>\n",
       "  </thead>\n",
       "  <tbody>\n",
       "    <tr>\n",
       "      <th>0</th>\n",
       "      <td>0</td>\n",
       "      <td>제주특별자치도 제주시 이도일동 1315</td>\n",
       "      <td>6시간 37분</td>\n",
       "      <td>535.5km</td>\n",
       "      <td>통행료 약 16,700원</td>\n",
       "      <td>택시비 약 557,900원</td>\n",
       "      <td>주유비 약 64,000원</td>\n",
       "    </tr>\n",
       "    <tr>\n",
       "      <th>1</th>\n",
       "      <td>1</td>\n",
       "      <td>제주특별자치도 제주시 연동 291-30</td>\n",
       "      <td>7분</td>\n",
       "      <td>3.0km</td>\n",
       "      <td>통행료 약 0원</td>\n",
       "      <td>택시비 약 4,200원</td>\n",
       "      <td>주유비 약 438원</td>\n",
       "    </tr>\n",
       "    <tr>\n",
       "      <th>2</th>\n",
       "      <td>2</td>\n",
       "      <td>제주특별자치도 제주시 연동 272-34</td>\n",
       "      <td>10분</td>\n",
       "      <td>3.3km</td>\n",
       "      <td>통행료 약 0원</td>\n",
       "      <td>택시비 약 4,800원</td>\n",
       "      <td>주유비 약 482원</td>\n",
       "    </tr>\n",
       "    <tr>\n",
       "      <th>3</th>\n",
       "      <td>3</td>\n",
       "      <td>제주특별자치도 제주시 삼도2동 1192-18</td>\n",
       "      <td>10분</td>\n",
       "      <td>4.3km</td>\n",
       "      <td>통행료 약 0원</td>\n",
       "      <td>택시비 약 5,200원</td>\n",
       "      <td>주유비 약 628원</td>\n",
       "    </tr>\n",
       "    <tr>\n",
       "      <th>4</th>\n",
       "      <td>4</td>\n",
       "      <td>제주특별자치도 제주시 연동 277-1</td>\n",
       "      <td>12분</td>\n",
       "      <td>4.0km</td>\n",
       "      <td>통행료 약 0원</td>\n",
       "      <td>택시비 약 5,500원</td>\n",
       "      <td>주유비 약 584원</td>\n",
       "    </tr>\n",
       "    <tr>\n",
       "      <th>...</th>\n",
       "      <td>...</td>\n",
       "      <td>...</td>\n",
       "      <td>...</td>\n",
       "      <td>...</td>\n",
       "      <td>...</td>\n",
       "      <td>...</td>\n",
       "      <td>...</td>\n",
       "    </tr>\n",
       "    <tr>\n",
       "      <th>324</th>\n",
       "      <td>324</td>\n",
       "      <td>제주특별자치도 서귀포시 법환동 745-1</td>\n",
       "      <td>52분</td>\n",
       "      <td>48.0km</td>\n",
       "      <td>통행료 약 0원</td>\n",
       "      <td>택시비 약 39,900원</td>\n",
       "      <td>주유비 약 7,009원</td>\n",
       "    </tr>\n",
       "    <tr>\n",
       "      <th>325</th>\n",
       "      <td>325</td>\n",
       "      <td>제주특별자치도 서귀포시 안덕면 서광리 산 24-15</td>\n",
       "      <td>36분</td>\n",
       "      <td>31.4km</td>\n",
       "      <td>통행료 약 0원</td>\n",
       "      <td>택시비 약 26,700원</td>\n",
       "      <td>주유비 약 4,585원</td>\n",
       "    </tr>\n",
       "    <tr>\n",
       "      <th>326</th>\n",
       "      <td>326</td>\n",
       "      <td>제주특별자치도 제주시 연동 284-8</td>\n",
       "      <td>8분</td>\n",
       "      <td>3.6km</td>\n",
       "      <td>통행료 약 0원</td>\n",
       "      <td>택시비 약 4,500원</td>\n",
       "      <td>주유비 약 526원</td>\n",
       "    </tr>\n",
       "    <tr>\n",
       "      <th>327</th>\n",
       "      <td>327</td>\n",
       "      <td>제주특별자치도 제주시 건입동 1443-2</td>\n",
       "      <td>12분</td>\n",
       "      <td>4.8km</td>\n",
       "      <td>통행료 약 0원</td>\n",
       "      <td>택시비 약 5,500원</td>\n",
       "      <td>주유비 약 701원</td>\n",
       "    </tr>\n",
       "    <tr>\n",
       "      <th>328</th>\n",
       "      <td>328</td>\n",
       "      <td>제주특별자치도 서귀포시 서호동 1524-7</td>\n",
       "      <td>12분</td>\n",
       "      <td>4.8km</td>\n",
       "      <td>통행료 약 0원</td>\n",
       "      <td>택시비 약 5,500원</td>\n",
       "      <td>주유비 약 701원</td>\n",
       "    </tr>\n",
       "  </tbody>\n",
       "</table>\n",
       "<p>329 rows × 7 columns</p>\n",
       "</div>"
      ],
      "text/plain": [
       "     Unnamed: 0                         index     time distance  \\\n",
       "0             0         제주특별자치도 제주시 이도일동 1315  6시간 37분  535.5km   \n",
       "1             1         제주특별자치도 제주시 연동 291-30       7분    3.0km   \n",
       "2             2         제주특별자치도 제주시 연동 272-34      10분    3.3km   \n",
       "3             3      제주특별자치도 제주시 삼도2동 1192-18      10분    4.3km   \n",
       "4             4          제주특별자치도 제주시 연동 277-1      12분    4.0km   \n",
       "..          ...                           ...      ...      ...   \n",
       "324         324        제주특별자치도 서귀포시 법환동 745-1      52분   48.0km   \n",
       "325         325  제주특별자치도 서귀포시 안덕면 서광리 산 24-15      36분   31.4km   \n",
       "326         326          제주특별자치도 제주시 연동 284-8       8분    3.6km   \n",
       "327         327        제주특별자치도 제주시 건입동 1443-2      12분    4.8km   \n",
       "328         328       제주특별자치도 서귀포시 서호동 1524-7      12분    4.8km   \n",
       "\n",
       "              toll            taxi            oil  \n",
       "0    통행료 약 16,700원  택시비 약 557,900원  주유비 약 64,000원  \n",
       "1         통행료 약 0원    택시비 약 4,200원     주유비 약 438원  \n",
       "2         통행료 약 0원    택시비 약 4,800원     주유비 약 482원  \n",
       "3         통행료 약 0원    택시비 약 5,200원     주유비 약 628원  \n",
       "4         통행료 약 0원    택시비 약 5,500원     주유비 약 584원  \n",
       "..             ...             ...            ...  \n",
       "324       통행료 약 0원   택시비 약 39,900원   주유비 약 7,009원  \n",
       "325       통행료 약 0원   택시비 약 26,700원   주유비 약 4,585원  \n",
       "326       통행료 약 0원    택시비 약 4,500원     주유비 약 526원  \n",
       "327       통행료 약 0원    택시비 약 5,500원     주유비 약 701원  \n",
       "328       통행료 약 0원    택시비 약 5,500원     주유비 약 701원  \n",
       "\n",
       "[329 rows x 7 columns]"
      ]
     },
     "execution_count": 9,
     "metadata": {},
     "output_type": "execute_result"
    }
   ],
   "source": [
    "df2 = pd.read_excel(\"./카카오맵(공항_숙박_거리).xlsx\")\n",
    "df2"
   ]
  },
  {
   "cell_type": "code",
   "execution_count": 10,
   "metadata": {},
   "outputs": [],
   "source": [
    "df2.drop('Unnamed: 0',axis=1, inplace=True)"
   ]
  },
  {
   "cell_type": "code",
   "execution_count": 13,
   "metadata": {},
   "outputs": [],
   "source": [
    "# 호텔명 컬럼 추가\n",
    "df2['호텔명'] = df['place_name']"
   ]
  },
  {
   "cell_type": "code",
   "execution_count": 14,
   "metadata": {},
   "outputs": [
    {
     "data": {
      "text/html": [
       "<div>\n",
       "<style scoped>\n",
       "    .dataframe tbody tr th:only-of-type {\n",
       "        vertical-align: middle;\n",
       "    }\n",
       "\n",
       "    .dataframe tbody tr th {\n",
       "        vertical-align: top;\n",
       "    }\n",
       "\n",
       "    .dataframe thead th {\n",
       "        text-align: right;\n",
       "    }\n",
       "</style>\n",
       "<table border=\"1\" class=\"dataframe\">\n",
       "  <thead>\n",
       "    <tr style=\"text-align: right;\">\n",
       "      <th></th>\n",
       "      <th>index</th>\n",
       "      <th>time</th>\n",
       "      <th>distance</th>\n",
       "      <th>toll</th>\n",
       "      <th>taxi</th>\n",
       "      <th>oil</th>\n",
       "      <th>호텔명</th>\n",
       "    </tr>\n",
       "  </thead>\n",
       "  <tbody>\n",
       "    <tr>\n",
       "      <th>0</th>\n",
       "      <td>제주특별자치도 제주시 이도일동 1315</td>\n",
       "      <td>6시간 37분</td>\n",
       "      <td>535.5km</td>\n",
       "      <td>통행료 약 16,700원</td>\n",
       "      <td>택시비 약 557,900원</td>\n",
       "      <td>주유비 약 64,000원</td>\n",
       "      <td>하니크라운호텔</td>\n",
       "    </tr>\n",
       "    <tr>\n",
       "      <th>1</th>\n",
       "      <td>제주특별자치도 제주시 연동 291-30</td>\n",
       "      <td>7분</td>\n",
       "      <td>3.0km</td>\n",
       "      <td>통행료 약 0원</td>\n",
       "      <td>택시비 약 4,200원</td>\n",
       "      <td>주유비 약 438원</td>\n",
       "      <td>제주썬호텔&amp;카지노</td>\n",
       "    </tr>\n",
       "    <tr>\n",
       "      <th>2</th>\n",
       "      <td>제주특별자치도 제주시 연동 272-34</td>\n",
       "      <td>10분</td>\n",
       "      <td>3.3km</td>\n",
       "      <td>통행료 약 0원</td>\n",
       "      <td>택시비 약 4,800원</td>\n",
       "      <td>주유비 약 482원</td>\n",
       "      <td>제주로얄호텔</td>\n",
       "    </tr>\n",
       "    <tr>\n",
       "      <th>3</th>\n",
       "      <td>제주특별자치도 제주시 삼도2동 1192-18</td>\n",
       "      <td>10분</td>\n",
       "      <td>4.3km</td>\n",
       "      <td>통행료 약 0원</td>\n",
       "      <td>택시비 약 5,200원</td>\n",
       "      <td>주유비 약 628원</td>\n",
       "      <td>제주팔레스호텔</td>\n",
       "    </tr>\n",
       "    <tr>\n",
       "      <th>4</th>\n",
       "      <td>제주특별자치도 제주시 연동 277-1</td>\n",
       "      <td>12분</td>\n",
       "      <td>4.0km</td>\n",
       "      <td>통행료 약 0원</td>\n",
       "      <td>택시비 약 5,500원</td>\n",
       "      <td>주유비 약 584원</td>\n",
       "      <td>펄호텔 제주</td>\n",
       "    </tr>\n",
       "    <tr>\n",
       "      <th>...</th>\n",
       "      <td>...</td>\n",
       "      <td>...</td>\n",
       "      <td>...</td>\n",
       "      <td>...</td>\n",
       "      <td>...</td>\n",
       "      <td>...</td>\n",
       "      <td>...</td>\n",
       "    </tr>\n",
       "    <tr>\n",
       "      <th>324</th>\n",
       "      <td>제주특별자치도 서귀포시 법환동 745-1</td>\n",
       "      <td>52분</td>\n",
       "      <td>48.0km</td>\n",
       "      <td>통행료 약 0원</td>\n",
       "      <td>택시비 약 39,900원</td>\n",
       "      <td>주유비 약 7,009원</td>\n",
       "      <td>호텔컬리넌 제주</td>\n",
       "    </tr>\n",
       "    <tr>\n",
       "      <th>325</th>\n",
       "      <td>제주특별자치도 서귀포시 안덕면 서광리 산 24-15</td>\n",
       "      <td>36분</td>\n",
       "      <td>31.4km</td>\n",
       "      <td>통행료 약 0원</td>\n",
       "      <td>택시비 약 26,700원</td>\n",
       "      <td>주유비 약 4,585원</td>\n",
       "      <td>호텔앨리스&amp;트렁크</td>\n",
       "    </tr>\n",
       "    <tr>\n",
       "      <th>326</th>\n",
       "      <td>제주특별자치도 제주시 연동 284-8</td>\n",
       "      <td>8분</td>\n",
       "      <td>3.6km</td>\n",
       "      <td>통행료 약 0원</td>\n",
       "      <td>택시비 약 4,500원</td>\n",
       "      <td>주유비 약 526원</td>\n",
       "      <td>함덕비치스테이제주</td>\n",
       "    </tr>\n",
       "    <tr>\n",
       "      <th>327</th>\n",
       "      <td>제주특별자치도 제주시 건입동 1443-2</td>\n",
       "      <td>12분</td>\n",
       "      <td>4.8km</td>\n",
       "      <td>통행료 약 0원</td>\n",
       "      <td>택시비 약 5,500원</td>\n",
       "      <td>주유비 약 701원</td>\n",
       "      <td>제주신화월드 서머셋</td>\n",
       "    </tr>\n",
       "    <tr>\n",
       "      <th>328</th>\n",
       "      <td>제주특별자치도 서귀포시 서호동 1524-7</td>\n",
       "      <td>12분</td>\n",
       "      <td>4.8km</td>\n",
       "      <td>통행료 약 0원</td>\n",
       "      <td>택시비 약 5,500원</td>\n",
       "      <td>주유비 약 701원</td>\n",
       "      <td>비스타케이호텔 월드컵</td>\n",
       "    </tr>\n",
       "  </tbody>\n",
       "</table>\n",
       "<p>329 rows × 7 columns</p>\n",
       "</div>"
      ],
      "text/plain": [
       "                            index     time distance           toll  \\\n",
       "0           제주특별자치도 제주시 이도일동 1315  6시간 37분  535.5km  통행료 약 16,700원   \n",
       "1           제주특별자치도 제주시 연동 291-30       7분    3.0km       통행료 약 0원   \n",
       "2           제주특별자치도 제주시 연동 272-34      10분    3.3km       통행료 약 0원   \n",
       "3        제주특별자치도 제주시 삼도2동 1192-18      10분    4.3km       통행료 약 0원   \n",
       "4            제주특별자치도 제주시 연동 277-1      12분    4.0km       통행료 약 0원   \n",
       "..                            ...      ...      ...            ...   \n",
       "324        제주특별자치도 서귀포시 법환동 745-1      52분   48.0km       통행료 약 0원   \n",
       "325  제주특별자치도 서귀포시 안덕면 서광리 산 24-15      36분   31.4km       통행료 약 0원   \n",
       "326          제주특별자치도 제주시 연동 284-8       8분    3.6km       통행료 약 0원   \n",
       "327        제주특별자치도 제주시 건입동 1443-2      12분    4.8km       통행료 약 0원   \n",
       "328       제주특별자치도 서귀포시 서호동 1524-7      12분    4.8km       통행료 약 0원   \n",
       "\n",
       "               taxi            oil          호텔명  \n",
       "0    택시비 약 557,900원  주유비 약 64,000원      하니크라운호텔  \n",
       "1      택시비 약 4,200원     주유비 약 438원    제주썬호텔&카지노  \n",
       "2      택시비 약 4,800원     주유비 약 482원       제주로얄호텔  \n",
       "3      택시비 약 5,200원     주유비 약 628원      제주팔레스호텔  \n",
       "4      택시비 약 5,500원     주유비 약 584원       펄호텔 제주  \n",
       "..              ...            ...          ...  \n",
       "324   택시비 약 39,900원   주유비 약 7,009원     호텔컬리넌 제주  \n",
       "325   택시비 약 26,700원   주유비 약 4,585원    호텔앨리스&트렁크  \n",
       "326    택시비 약 4,500원     주유비 약 526원    함덕비치스테이제주  \n",
       "327    택시비 약 5,500원     주유비 약 701원   제주신화월드 서머셋  \n",
       "328    택시비 약 5,500원     주유비 약 701원  비스타케이호텔 월드컵  \n",
       "\n",
       "[329 rows x 7 columns]"
      ]
     },
     "execution_count": 14,
     "metadata": {},
     "output_type": "execute_result"
    }
   ],
   "source": [
    "# 확인\n",
    "df2"
   ]
  },
  {
   "cell_type": "code",
   "execution_count": 15,
   "metadata": {},
   "outputs": [
    {
     "name": "stderr",
     "output_type": "stream",
     "text": [
      "C:\\Users\\hanjieun_2\\AppData\\Local\\Temp\\ipykernel_28212\\4050735251.py:4: SettingWithCopyWarning: \n",
      "A value is trying to be set on a copy of a slice from a DataFrame.\n",
      "Try using .loc[row_indexer,col_indexer] = value instead\n",
      "\n",
      "See the caveats in the documentation: https://pandas.pydata.org/pandas-docs/stable/user_guide/indexing.html#returning-a-view-versus-a-copy\n",
      "  df2[\"행정구역\"]=np.nan\n"
     ]
    }
   ],
   "source": [
    "# 행정구역 컬럼 추가하기 \n",
    "df2=df2[df2[\"index\"].str.find(\"제주특별\")!=-1]\n",
    "# data.drop(columns=\"Unnamed: 0\",inplace=True)\n",
    "df2[\"행정구역\"]=np.nan"
   ]
  },
  {
   "cell_type": "code",
   "execution_count": 17,
   "metadata": {},
   "outputs": [
    {
     "data": {
      "text/html": [
       "<div>\n",
       "<style scoped>\n",
       "    .dataframe tbody tr th:only-of-type {\n",
       "        vertical-align: middle;\n",
       "    }\n",
       "\n",
       "    .dataframe tbody tr th {\n",
       "        vertical-align: top;\n",
       "    }\n",
       "\n",
       "    .dataframe thead th {\n",
       "        text-align: right;\n",
       "    }\n",
       "</style>\n",
       "<table border=\"1\" class=\"dataframe\">\n",
       "  <thead>\n",
       "    <tr style=\"text-align: right;\">\n",
       "      <th></th>\n",
       "      <th>index</th>\n",
       "      <th>time</th>\n",
       "      <th>distance</th>\n",
       "      <th>toll</th>\n",
       "      <th>taxi</th>\n",
       "      <th>oil</th>\n",
       "      <th>호텔명</th>\n",
       "      <th>행정구역</th>\n",
       "    </tr>\n",
       "  </thead>\n",
       "  <tbody>\n",
       "    <tr>\n",
       "      <th>0</th>\n",
       "      <td>제주특별자치도 제주시 이도일동 1315</td>\n",
       "      <td>6시간 37분</td>\n",
       "      <td>535.5km</td>\n",
       "      <td>통행료 약 16,700원</td>\n",
       "      <td>택시비 약 557,900원</td>\n",
       "      <td>주유비 약 64,000원</td>\n",
       "      <td>하니크라운호텔</td>\n",
       "      <td>NaN</td>\n",
       "    </tr>\n",
       "    <tr>\n",
       "      <th>1</th>\n",
       "      <td>제주특별자치도 제주시 연동 291-30</td>\n",
       "      <td>7분</td>\n",
       "      <td>3.0km</td>\n",
       "      <td>통행료 약 0원</td>\n",
       "      <td>택시비 약 4,200원</td>\n",
       "      <td>주유비 약 438원</td>\n",
       "      <td>제주썬호텔&amp;카지노</td>\n",
       "      <td>NaN</td>\n",
       "    </tr>\n",
       "    <tr>\n",
       "      <th>2</th>\n",
       "      <td>제주특별자치도 제주시 연동 272-34</td>\n",
       "      <td>10분</td>\n",
       "      <td>3.3km</td>\n",
       "      <td>통행료 약 0원</td>\n",
       "      <td>택시비 약 4,800원</td>\n",
       "      <td>주유비 약 482원</td>\n",
       "      <td>제주로얄호텔</td>\n",
       "      <td>NaN</td>\n",
       "    </tr>\n",
       "    <tr>\n",
       "      <th>3</th>\n",
       "      <td>제주특별자치도 제주시 삼도2동 1192-18</td>\n",
       "      <td>10분</td>\n",
       "      <td>4.3km</td>\n",
       "      <td>통행료 약 0원</td>\n",
       "      <td>택시비 약 5,200원</td>\n",
       "      <td>주유비 약 628원</td>\n",
       "      <td>제주팔레스호텔</td>\n",
       "      <td>NaN</td>\n",
       "    </tr>\n",
       "    <tr>\n",
       "      <th>4</th>\n",
       "      <td>제주특별자치도 제주시 연동 277-1</td>\n",
       "      <td>12분</td>\n",
       "      <td>4.0km</td>\n",
       "      <td>통행료 약 0원</td>\n",
       "      <td>택시비 약 5,500원</td>\n",
       "      <td>주유비 약 584원</td>\n",
       "      <td>펄호텔 제주</td>\n",
       "      <td>NaN</td>\n",
       "    </tr>\n",
       "    <tr>\n",
       "      <th>...</th>\n",
       "      <td>...</td>\n",
       "      <td>...</td>\n",
       "      <td>...</td>\n",
       "      <td>...</td>\n",
       "      <td>...</td>\n",
       "      <td>...</td>\n",
       "      <td>...</td>\n",
       "      <td>...</td>\n",
       "    </tr>\n",
       "    <tr>\n",
       "      <th>324</th>\n",
       "      <td>제주특별자치도 서귀포시 법환동 745-1</td>\n",
       "      <td>52분</td>\n",
       "      <td>48.0km</td>\n",
       "      <td>통행료 약 0원</td>\n",
       "      <td>택시비 약 39,900원</td>\n",
       "      <td>주유비 약 7,009원</td>\n",
       "      <td>호텔컬리넌 제주</td>\n",
       "      <td>NaN</td>\n",
       "    </tr>\n",
       "    <tr>\n",
       "      <th>325</th>\n",
       "      <td>제주특별자치도 서귀포시 안덕면 서광리 산 24-15</td>\n",
       "      <td>36분</td>\n",
       "      <td>31.4km</td>\n",
       "      <td>통행료 약 0원</td>\n",
       "      <td>택시비 약 26,700원</td>\n",
       "      <td>주유비 약 4,585원</td>\n",
       "      <td>호텔앨리스&amp;트렁크</td>\n",
       "      <td>NaN</td>\n",
       "    </tr>\n",
       "    <tr>\n",
       "      <th>326</th>\n",
       "      <td>제주특별자치도 제주시 연동 284-8</td>\n",
       "      <td>8분</td>\n",
       "      <td>3.6km</td>\n",
       "      <td>통행료 약 0원</td>\n",
       "      <td>택시비 약 4,500원</td>\n",
       "      <td>주유비 약 526원</td>\n",
       "      <td>함덕비치스테이제주</td>\n",
       "      <td>NaN</td>\n",
       "    </tr>\n",
       "    <tr>\n",
       "      <th>327</th>\n",
       "      <td>제주특별자치도 제주시 건입동 1443-2</td>\n",
       "      <td>12분</td>\n",
       "      <td>4.8km</td>\n",
       "      <td>통행료 약 0원</td>\n",
       "      <td>택시비 약 5,500원</td>\n",
       "      <td>주유비 약 701원</td>\n",
       "      <td>제주신화월드 서머셋</td>\n",
       "      <td>NaN</td>\n",
       "    </tr>\n",
       "    <tr>\n",
       "      <th>328</th>\n",
       "      <td>제주특별자치도 서귀포시 서호동 1524-7</td>\n",
       "      <td>12분</td>\n",
       "      <td>4.8km</td>\n",
       "      <td>통행료 약 0원</td>\n",
       "      <td>택시비 약 5,500원</td>\n",
       "      <td>주유비 약 701원</td>\n",
       "      <td>비스타케이호텔 월드컵</td>\n",
       "      <td>NaN</td>\n",
       "    </tr>\n",
       "  </tbody>\n",
       "</table>\n",
       "<p>309 rows × 8 columns</p>\n",
       "</div>"
      ],
      "text/plain": [
       "                            index     time distance           toll  \\\n",
       "0           제주특별자치도 제주시 이도일동 1315  6시간 37분  535.5km  통행료 약 16,700원   \n",
       "1           제주특별자치도 제주시 연동 291-30       7분    3.0km       통행료 약 0원   \n",
       "2           제주특별자치도 제주시 연동 272-34      10분    3.3km       통행료 약 0원   \n",
       "3        제주특별자치도 제주시 삼도2동 1192-18      10분    4.3km       통행료 약 0원   \n",
       "4            제주특별자치도 제주시 연동 277-1      12분    4.0km       통행료 약 0원   \n",
       "..                            ...      ...      ...            ...   \n",
       "324        제주특별자치도 서귀포시 법환동 745-1      52분   48.0km       통행료 약 0원   \n",
       "325  제주특별자치도 서귀포시 안덕면 서광리 산 24-15      36분   31.4km       통행료 약 0원   \n",
       "326          제주특별자치도 제주시 연동 284-8       8분    3.6km       통행료 약 0원   \n",
       "327        제주특별자치도 제주시 건입동 1443-2      12분    4.8km       통행료 약 0원   \n",
       "328       제주특별자치도 서귀포시 서호동 1524-7      12분    4.8km       통행료 약 0원   \n",
       "\n",
       "               taxi            oil          호텔명  행정구역  \n",
       "0    택시비 약 557,900원  주유비 약 64,000원      하니크라운호텔   NaN  \n",
       "1      택시비 약 4,200원     주유비 약 438원    제주썬호텔&카지노   NaN  \n",
       "2      택시비 약 4,800원     주유비 약 482원       제주로얄호텔   NaN  \n",
       "3      택시비 약 5,200원     주유비 약 628원      제주팔레스호텔   NaN  \n",
       "4      택시비 약 5,500원     주유비 약 584원       펄호텔 제주   NaN  \n",
       "..              ...            ...          ...   ...  \n",
       "324   택시비 약 39,900원   주유비 약 7,009원     호텔컬리넌 제주   NaN  \n",
       "325   택시비 약 26,700원   주유비 약 4,585원    호텔앨리스&트렁크   NaN  \n",
       "326    택시비 약 4,500원     주유비 약 526원    함덕비치스테이제주   NaN  \n",
       "327    택시비 약 5,500원     주유비 약 701원   제주신화월드 서머셋   NaN  \n",
       "328    택시비 약 5,500원     주유비 약 701원  비스타케이호텔 월드컵   NaN  \n",
       "\n",
       "[309 rows x 8 columns]"
      ]
     },
     "execution_count": 17,
     "metadata": {},
     "output_type": "execute_result"
    }
   ],
   "source": [
    "df2"
   ]
  },
  {
   "cell_type": "code",
   "execution_count": 18,
   "metadata": {},
   "outputs": [],
   "source": [
    "행정구역 = {'구좌':'구좌',\n",
    "  '조천':'조천', \n",
    "  '화북': '동제주','봉개':'동제주', '회천':'동제주','용강':'동제주',\n",
    "  '오라':'중제주','아라':'중제주','오등':'중제주','화북':'중제주','이도':'중제주','건입':'중제주','삼도':'중제주','용담':'중제주','일도':'중제주', \n",
    "  '도두':'서제주','이호':'서제주','외도':'서제주','내도':'서제주','도평':'서제주','노형':'서제주','연동':'서제주','강정':'서제주','도순':'서제주',\n",
    "  '영남':'서제주','월평':'서제주','해안':'서제주', '노형':'서제주',\n",
    "  '애월' :'애월',\n",
    "  '성산':'성산',\n",
    "  '한림':'한림',\n",
    "  '표선':'표선',\n",
    "  '남원':'남원',\n",
    "  '한경':'한경',\n",
    "  '안덕':'안덕',\n",
    "  '영천':'동서귀','동흥':'동서귀','효돈':'동서귀','송산':'동서귀','신효':'동서귀','하효':'동서귀','서귀':'동서귀','보목':'동서귀','동홍':'동서귀',\n",
    "  '대천':'중서귀','대륜':'중서귀','서홍':'중서귀', '강정':'중서귀','법환':'중서귀','서호':'중서귀','호근':'중서귀',\n",
    "  '여래':'서서귀','중문':'서서귀','회수':'서서귀', '하원':'서서귀','대포':'서서귀', '색달':'서서귀', '하예':'서서귀', '상예':'서서귀',  \n",
    "  '대정':'대정'}"
   ]
  },
  {
   "cell_type": "code",
   "execution_count": 19,
   "metadata": {},
   "outputs": [],
   "source": [
    " # 지번주소를 도로명 주소로 바꾸는 함수.\n",
    "def trans(x):\n",
    "    for i in 행정구역.keys():\n",
    "        try:\n",
    "            if i in x:\n",
    "                return 행정구역[i]\n",
    "        except:\n",
    "            break"
   ]
  },
  {
   "cell_type": "code",
   "execution_count": 22,
   "metadata": {},
   "outputs": [
    {
     "name": "stderr",
     "output_type": "stream",
     "text": [
      "C:\\Users\\hanjieun_2\\AppData\\Local\\Temp\\ipykernel_28212\\2445740625.py:3: SettingWithCopyWarning: \n",
      "A value is trying to be set on a copy of a slice from a DataFrame.\n",
      "Try using .loc[row_indexer,col_indexer] = value instead\n",
      "\n",
      "See the caveats in the documentation: https://pandas.pydata.org/pandas-docs/stable/user_guide/indexing.html#returning-a-view-versus-a-copy\n",
      "  df2[\"행정구역\"]=df2[\"index\"].apply(lambda x:trans(x))\n"
     ]
    }
   ],
   "source": [
    "# 지번주소\n",
    "error=[]\n",
    "df2[\"행정구역\"]=df2[\"index\"].apply(lambda x:trans(x))"
   ]
  },
  {
   "cell_type": "code",
   "execution_count": 23,
   "metadata": {},
   "outputs": [],
   "source": [
    "# 도로명주소\n",
    "df2.loc[df2[\"행정구역\"].isna(),\"행정구역\"]=df2[df2[\"행정구역\"].isna()].apply(lambda x:trans(x))"
   ]
  },
  {
   "cell_type": "code",
   "execution_count": 24,
   "metadata": {},
   "outputs": [
    {
     "data": {
      "text/html": [
       "<div>\n",
       "<style scoped>\n",
       "    .dataframe tbody tr th:only-of-type {\n",
       "        vertical-align: middle;\n",
       "    }\n",
       "\n",
       "    .dataframe tbody tr th {\n",
       "        vertical-align: top;\n",
       "    }\n",
       "\n",
       "    .dataframe thead th {\n",
       "        text-align: right;\n",
       "    }\n",
       "</style>\n",
       "<table border=\"1\" class=\"dataframe\">\n",
       "  <thead>\n",
       "    <tr style=\"text-align: right;\">\n",
       "      <th></th>\n",
       "      <th>index</th>\n",
       "      <th>time</th>\n",
       "      <th>distance</th>\n",
       "      <th>toll</th>\n",
       "      <th>taxi</th>\n",
       "      <th>oil</th>\n",
       "      <th>호텔명</th>\n",
       "      <th>행정구역</th>\n",
       "    </tr>\n",
       "  </thead>\n",
       "  <tbody>\n",
       "    <tr>\n",
       "      <th>0</th>\n",
       "      <td>제주특별자치도 제주시 이도일동 1315</td>\n",
       "      <td>6시간 37분</td>\n",
       "      <td>535.5km</td>\n",
       "      <td>통행료 약 16,700원</td>\n",
       "      <td>택시비 약 557,900원</td>\n",
       "      <td>주유비 약 64,000원</td>\n",
       "      <td>하니크라운호텔</td>\n",
       "      <td>중제주</td>\n",
       "    </tr>\n",
       "    <tr>\n",
       "      <th>1</th>\n",
       "      <td>제주특별자치도 제주시 연동 291-30</td>\n",
       "      <td>7분</td>\n",
       "      <td>3.0km</td>\n",
       "      <td>통행료 약 0원</td>\n",
       "      <td>택시비 약 4,200원</td>\n",
       "      <td>주유비 약 438원</td>\n",
       "      <td>제주썬호텔&amp;카지노</td>\n",
       "      <td>서제주</td>\n",
       "    </tr>\n",
       "    <tr>\n",
       "      <th>2</th>\n",
       "      <td>제주특별자치도 제주시 연동 272-34</td>\n",
       "      <td>10분</td>\n",
       "      <td>3.3km</td>\n",
       "      <td>통행료 약 0원</td>\n",
       "      <td>택시비 약 4,800원</td>\n",
       "      <td>주유비 약 482원</td>\n",
       "      <td>제주로얄호텔</td>\n",
       "      <td>서제주</td>\n",
       "    </tr>\n",
       "    <tr>\n",
       "      <th>3</th>\n",
       "      <td>제주특별자치도 제주시 삼도2동 1192-18</td>\n",
       "      <td>10분</td>\n",
       "      <td>4.3km</td>\n",
       "      <td>통행료 약 0원</td>\n",
       "      <td>택시비 약 5,200원</td>\n",
       "      <td>주유비 약 628원</td>\n",
       "      <td>제주팔레스호텔</td>\n",
       "      <td>중제주</td>\n",
       "    </tr>\n",
       "    <tr>\n",
       "      <th>4</th>\n",
       "      <td>제주특별자치도 제주시 연동 277-1</td>\n",
       "      <td>12분</td>\n",
       "      <td>4.0km</td>\n",
       "      <td>통행료 약 0원</td>\n",
       "      <td>택시비 약 5,500원</td>\n",
       "      <td>주유비 약 584원</td>\n",
       "      <td>펄호텔 제주</td>\n",
       "      <td>서제주</td>\n",
       "    </tr>\n",
       "    <tr>\n",
       "      <th>...</th>\n",
       "      <td>...</td>\n",
       "      <td>...</td>\n",
       "      <td>...</td>\n",
       "      <td>...</td>\n",
       "      <td>...</td>\n",
       "      <td>...</td>\n",
       "      <td>...</td>\n",
       "      <td>...</td>\n",
       "    </tr>\n",
       "    <tr>\n",
       "      <th>324</th>\n",
       "      <td>제주특별자치도 서귀포시 법환동 745-1</td>\n",
       "      <td>52분</td>\n",
       "      <td>48.0km</td>\n",
       "      <td>통행료 약 0원</td>\n",
       "      <td>택시비 약 39,900원</td>\n",
       "      <td>주유비 약 7,009원</td>\n",
       "      <td>호텔컬리넌 제주</td>\n",
       "      <td>동서귀</td>\n",
       "    </tr>\n",
       "    <tr>\n",
       "      <th>325</th>\n",
       "      <td>제주특별자치도 서귀포시 안덕면 서광리 산 24-15</td>\n",
       "      <td>36분</td>\n",
       "      <td>31.4km</td>\n",
       "      <td>통행료 약 0원</td>\n",
       "      <td>택시비 약 26,700원</td>\n",
       "      <td>주유비 약 4,585원</td>\n",
       "      <td>호텔앨리스&amp;트렁크</td>\n",
       "      <td>안덕</td>\n",
       "    </tr>\n",
       "    <tr>\n",
       "      <th>326</th>\n",
       "      <td>제주특별자치도 제주시 연동 284-8</td>\n",
       "      <td>8분</td>\n",
       "      <td>3.6km</td>\n",
       "      <td>통행료 약 0원</td>\n",
       "      <td>택시비 약 4,500원</td>\n",
       "      <td>주유비 약 526원</td>\n",
       "      <td>함덕비치스테이제주</td>\n",
       "      <td>서제주</td>\n",
       "    </tr>\n",
       "    <tr>\n",
       "      <th>327</th>\n",
       "      <td>제주특별자치도 제주시 건입동 1443-2</td>\n",
       "      <td>12분</td>\n",
       "      <td>4.8km</td>\n",
       "      <td>통행료 약 0원</td>\n",
       "      <td>택시비 약 5,500원</td>\n",
       "      <td>주유비 약 701원</td>\n",
       "      <td>제주신화월드 서머셋</td>\n",
       "      <td>중제주</td>\n",
       "    </tr>\n",
       "    <tr>\n",
       "      <th>328</th>\n",
       "      <td>제주특별자치도 서귀포시 서호동 1524-7</td>\n",
       "      <td>12분</td>\n",
       "      <td>4.8km</td>\n",
       "      <td>통행료 약 0원</td>\n",
       "      <td>택시비 약 5,500원</td>\n",
       "      <td>주유비 약 701원</td>\n",
       "      <td>비스타케이호텔 월드컵</td>\n",
       "      <td>동서귀</td>\n",
       "    </tr>\n",
       "  </tbody>\n",
       "</table>\n",
       "<p>309 rows × 8 columns</p>\n",
       "</div>"
      ],
      "text/plain": [
       "                            index     time distance           toll  \\\n",
       "0           제주특별자치도 제주시 이도일동 1315  6시간 37분  535.5km  통행료 약 16,700원   \n",
       "1           제주특별자치도 제주시 연동 291-30       7분    3.0km       통행료 약 0원   \n",
       "2           제주특별자치도 제주시 연동 272-34      10분    3.3km       통행료 약 0원   \n",
       "3        제주특별자치도 제주시 삼도2동 1192-18      10분    4.3km       통행료 약 0원   \n",
       "4            제주특별자치도 제주시 연동 277-1      12분    4.0km       통행료 약 0원   \n",
       "..                            ...      ...      ...            ...   \n",
       "324        제주특별자치도 서귀포시 법환동 745-1      52분   48.0km       통행료 약 0원   \n",
       "325  제주특별자치도 서귀포시 안덕면 서광리 산 24-15      36분   31.4km       통행료 약 0원   \n",
       "326          제주특별자치도 제주시 연동 284-8       8분    3.6km       통행료 약 0원   \n",
       "327        제주특별자치도 제주시 건입동 1443-2      12분    4.8km       통행료 약 0원   \n",
       "328       제주특별자치도 서귀포시 서호동 1524-7      12분    4.8km       통행료 약 0원   \n",
       "\n",
       "               taxi            oil          호텔명 행정구역  \n",
       "0    택시비 약 557,900원  주유비 약 64,000원      하니크라운호텔  중제주  \n",
       "1      택시비 약 4,200원     주유비 약 438원    제주썬호텔&카지노  서제주  \n",
       "2      택시비 약 4,800원     주유비 약 482원       제주로얄호텔  서제주  \n",
       "3      택시비 약 5,200원     주유비 약 628원      제주팔레스호텔  중제주  \n",
       "4      택시비 약 5,500원     주유비 약 584원       펄호텔 제주  서제주  \n",
       "..              ...            ...          ...  ...  \n",
       "324   택시비 약 39,900원   주유비 약 7,009원     호텔컬리넌 제주  동서귀  \n",
       "325   택시비 약 26,700원   주유비 약 4,585원    호텔앨리스&트렁크   안덕  \n",
       "326    택시비 약 4,500원     주유비 약 526원    함덕비치스테이제주  서제주  \n",
       "327    택시비 약 5,500원     주유비 약 701원   제주신화월드 서머셋  중제주  \n",
       "328    택시비 약 5,500원     주유비 약 701원  비스타케이호텔 월드컵  동서귀  \n",
       "\n",
       "[309 rows x 8 columns]"
      ]
     },
     "execution_count": 24,
     "metadata": {},
     "output_type": "execute_result"
    }
   ],
   "source": [
    "df2"
   ]
  },
  {
   "cell_type": "code",
   "execution_count": 26,
   "metadata": {},
   "outputs": [
    {
     "data": {
      "text/html": [
       "<div>\n",
       "<style scoped>\n",
       "    .dataframe tbody tr th:only-of-type {\n",
       "        vertical-align: middle;\n",
       "    }\n",
       "\n",
       "    .dataframe tbody tr th {\n",
       "        vertical-align: top;\n",
       "    }\n",
       "\n",
       "    .dataframe thead th {\n",
       "        text-align: right;\n",
       "    }\n",
       "</style>\n",
       "<table border=\"1\" class=\"dataframe\">\n",
       "  <thead>\n",
       "    <tr style=\"text-align: right;\">\n",
       "      <th></th>\n",
       "      <th>count</th>\n",
       "    </tr>\n",
       "    <tr>\n",
       "      <th>행정구역</th>\n",
       "      <th></th>\n",
       "    </tr>\n",
       "  </thead>\n",
       "  <tbody>\n",
       "    <tr>\n",
       "      <th>동서귀</th>\n",
       "      <td>111</td>\n",
       "    </tr>\n",
       "    <tr>\n",
       "      <th>서제주</th>\n",
       "      <td>55</td>\n",
       "    </tr>\n",
       "    <tr>\n",
       "      <th>중제주</th>\n",
       "      <td>37</td>\n",
       "    </tr>\n",
       "    <tr>\n",
       "      <th>애월</th>\n",
       "      <td>30</td>\n",
       "    </tr>\n",
       "    <tr>\n",
       "      <th>성산</th>\n",
       "      <td>22</td>\n",
       "    </tr>\n",
       "    <tr>\n",
       "      <th>한림</th>\n",
       "      <td>14</td>\n",
       "    </tr>\n",
       "    <tr>\n",
       "      <th>안덕</th>\n",
       "      <td>10</td>\n",
       "    </tr>\n",
       "    <tr>\n",
       "      <th>중서귀</th>\n",
       "      <td>9</td>\n",
       "    </tr>\n",
       "    <tr>\n",
       "      <th>남원</th>\n",
       "      <td>5</td>\n",
       "    </tr>\n",
       "    <tr>\n",
       "      <th>조천</th>\n",
       "      <td>4</td>\n",
       "    </tr>\n",
       "    <tr>\n",
       "      <th>표선</th>\n",
       "      <td>4</td>\n",
       "    </tr>\n",
       "    <tr>\n",
       "      <th>구좌</th>\n",
       "      <td>3</td>\n",
       "    </tr>\n",
       "    <tr>\n",
       "      <th>한경</th>\n",
       "      <td>2</td>\n",
       "    </tr>\n",
       "    <tr>\n",
       "      <th>동제주</th>\n",
       "      <td>2</td>\n",
       "    </tr>\n",
       "  </tbody>\n",
       "</table>\n",
       "</div>"
      ],
      "text/plain": [
       "      count\n",
       "행정구역       \n",
       "동서귀     111\n",
       "서제주      55\n",
       "중제주      37\n",
       "애월       30\n",
       "성산       22\n",
       "한림       14\n",
       "안덕       10\n",
       "중서귀       9\n",
       "남원        5\n",
       "조천        4\n",
       "표선        4\n",
       "구좌        3\n",
       "한경        2\n",
       "동제주       2"
      ]
     },
     "execution_count": 26,
     "metadata": {},
     "output_type": "execute_result"
    }
   ],
   "source": [
    "# 행정구역별 value.count()\n",
    "df3= pd.DataFrame(df2['행정구역'].value_counts())\n",
    "df3"
   ]
  },
  {
   "cell_type": "code",
   "execution_count": 8,
   "metadata": {},
   "outputs": [],
   "source": [
    "# 평점데이터와 df3데이터 프레임 매칭 시키기\n"
   ]
  },
  {
   "cell_type": "markdown",
   "metadata": {},
   "source": [
    "<span style='color:blue'> 4. 호텔의 평점과 관광지와의 거리 상관관계(행정구역 별): 관광지와 거리가 가까울 수록 평점이 높은가? </span>"
   ]
  },
  {
   "cell_type": "markdown",
   "metadata": {},
   "source": [
    "* 카카오맵을 이용한 소요시간 측정 함수 (앞 참조)"
   ]
  },
  {
   "cell_type": "code",
   "execution_count": null,
   "metadata": {},
   "outputs": [],
   "source": [
    "# KAKAO함수"
   ]
  },
  {
   "cell_type": "markdown",
   "metadata": {},
   "source": [
    "* 호텔(출발지)과 관광지(도착지)까지의 거리 측정"
   ]
  },
  {
   "cell_type": "code",
   "execution_count": null,
   "metadata": {},
   "outputs": [],
   "source": []
  },
  {
   "cell_type": "markdown",
   "metadata": {},
   "source": [
    "* 호텔 평점 데이터"
   ]
  },
  {
   "cell_type": "code",
   "execution_count": null,
   "metadata": {},
   "outputs": [],
   "source": [
    "# 1번 참조"
   ]
  },
  {
   "cell_type": "markdown",
   "metadata": {},
   "source": [
    "* "
   ]
  },
  {
   "cell_type": "markdown",
   "metadata": {},
   "source": []
  },
  {
   "cell_type": "markdown",
   "metadata": {},
   "source": [
    "*********************"
   ]
  },
  {
   "cell_type": "markdown",
   "metadata": {},
   "source": [
    "<span style = 'font-size:40px'><b> 3. 분석결과</span>"
   ]
  },
  {
   "cell_type": "markdown",
   "metadata": {},
   "source": [
    "1. 호텔의 평점(행정구역 별)과 제주공항과의 거리의 상관관계 "
   ]
  },
  {
   "cell_type": "markdown",
   "metadata": {},
   "source": [
    "호텔의 평점과 제주공항 사이의 상관관계를 확인하기 어려웠다.\n",
    "다만 특정 거리 마다 모든 점수대(1,2,3대의 호텔은 데이터가 너무 적어 의미가 없을 수준)임을 미루어볼때,\n",
    "제주공항 근처에 호텔이 밀집해있다 점차 흩어져 바다쪽(오션뷰)로 밀집도가 높아짐을 확인할 수 있었다."
   ]
  },
  {
   "cell_type": "markdown",
   "metadata": {},
   "source": [
    "2. 호텔의 평점(행정구역 별)과 관광지,음식점과의 상관관계"
   ]
  },
  {
   "cell_type": "markdown",
   "metadata": {},
   "source": [
    "큰 상관관걔를 확인하지 못했다.\n",
    "같은 행정구역에 위치한 음식점의 수, 관광지의 수, 관광지의 평군평점 모두 낮은 상관관계를 보여주었다.\n",
    "하지만 추가로 조사한 관광지의 수, 음식점 수와 숙박업의 수에서의 상관관계가 있어보인다."
   ]
  },
  {
   "cell_type": "markdown",
   "metadata": {},
   "source": [
    "**************"
   ]
  },
  {
   "cell_type": "markdown",
   "metadata": {},
   "source": [
    "<span style = 'font-size:40px'><b> 4. 결론 <b></span>"
   ]
  },
  {
   "cell_type": "markdown",
   "metadata": {},
   "source": [
    "숙박업의 소비자 만족도(평점)과 외부적 요인(관광지,음식점)사이의 관련성이 적음으로 보여진다.\n",
    "하지만 숙박업의 수는 각각의 외부적인 요인의 수와 관련성이 있어보임을 알수 있었다."
   ]
  },
  {
   "cell_type": "markdown",
   "metadata": {},
   "source": []
  }
 ],
 "metadata": {
  "kernelspec": {
   "display_name": "Python 3",
   "language": "python",
   "name": "python3"
  },
  "language_info": {
   "codemirror_mode": {
    "name": "ipython",
    "version": 3
   },
   "file_extension": ".py",
   "mimetype": "text/x-python",
   "name": "python",
   "nbconvert_exporter": "python",
   "pygments_lexer": "ipython3",
   "version": "3.11.4"
  },
  "orig_nbformat": 4
 },
 "nbformat": 4,
 "nbformat_minor": 2
}
