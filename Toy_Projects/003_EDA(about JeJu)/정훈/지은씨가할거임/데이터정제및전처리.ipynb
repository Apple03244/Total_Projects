{
 "cells": [
  {
   "cell_type": "code",
   "execution_count": 15,
   "metadata": {},
   "outputs": [],
   "source": [
    "import pandas as pd\n",
    "import numpy as np"
   ]
  },
  {
   "cell_type": "code",
   "execution_count": 16,
   "metadata": {},
   "outputs": [],
   "source": [
    "Data1=pd.read_excel('../Database/제주관광공사_제주관광정보시스템(VISIT JEJU)_콘텐츠_20230315.xlsx') #제주도 전체 콘텐츠 데이터\n",
    "Data3=pd.read_csv('../Database/NXE_3rd_ORIGIN_NXEGGRESTRTAL_20210101000000.csv') #음식점 평점\n",
    "Data4=pd.read_csv('../Database/NXE_3rd_ORIGIN_NXEGGSTAYNGAL_20210101000000.csv') #숙박업 평점\n",
    "Data5=pd.read_csv('../Database/NXE_3rd_ORIGIN_NXEGGTRRSRTAL_20210101000000.csv') #관광지 평점\n",
    "\n",
    "data1=pd.DataFrame(Data1)\n",
    "data3=pd.DataFrame(Data3)\n",
    "data4=pd.DataFrame(Data4)\n",
    "data5=pd.DataFrame(Data5)\n",
    "\n",
    "add=[]\n",
    "for x in [data3,data4,data5]:\n",
    "    add.append(list(x.columns)) \n",
    "    \n",
    "add=list(map(lambda x: dict(zip([\"이름\",\"구분\",\"평점\",\"day1\"],x)),add))\n",
    "\n",
    "result=[]\n",
    "for x in [data3,data4,data5]:\n",
    "    result.append(x.rename(columns=dict(zip(x.columns,[\"이름\",\"구분\",\"평점\",\"구분1\",\"day1\",\"day2\"]))).drop(columns=[\"구분1\",\"day2\"]))\n",
    "\n",
    "for i in range(3):\n",
    "    result[i][\"평점\"]=result[i][\"평점\"].astype(\"float\") #평점 데이터가 str형태 -> 실수(float)으로 변경"
   ]
  },
  {
   "cell_type": "markdown",
   "metadata": {},
   "source": [
    "아래 코딩을 음식점,관광지에 동일 적용"
   ]
  },
  {
   "cell_type": "code",
   "execution_count": 17,
   "metadata": {},
   "outputs": [],
   "source": [
    "test1=pd.DataFrame(result[1].groupby(\"이름\")[\"평점\"].mean())\n",
    "test1.index.name=\"기준\"\n",
    "test2=data1[data1[\"콘텐츠분류\"]==\"숙박\"].set_index(\"제목\") # 콘텐츠 분류는 따로 적용\n",
    "test2.index.name=\"기준\"\n",
    "test3=pd.merge(test2,test1,how=\"left\")\n",
    "test3.to_excel('../수정데이터/숙박(평점포함).xlsx') # -> 임시 저장"
   ]
  },
  {
   "cell_type": "code",
   "execution_count": 18,
   "metadata": {},
   "outputs": [],
   "source": [
    "result={}\n",
    "for name in [\"숙박\",\"음식점\",\"관광지\"]:\n",
    "    data=pd.read_excel(f\"../수정데이터/{name}(평점포함).xlsx\")\n",
    "    drop_cols=[data.columns[i] for i in sum([list(range(26,42)),\n",
    "                                         list(range(51,73))],[])]\n",
    "    drop_cols.extend(sum([\n",
    "    [\"웹사용여부\",\"모바일사용여부\",\"작성상태\",'사용여부','공개여부','트립어드바이저코드','템플릿여부'],\n",
    "    [\"콘텐츠아이디\",\"연관콘텐츠\",\"외부검색어\",'번역요청일시'],\n",
    "    [\"언어\",\"작성상태_1\",\"수정자\",\"수정일시\",\"우편번호\"],\n",
    "    [\"웹사용여부\",\"모바일사용여부\",\"작성상태\",'사용여부','공개여부','트립어드바이저코드','템플릿여부']],[]))\n",
    "    Use_data=data.drop(columns=drop_cols)\n",
    "    Use_data=Use_data[(Use_data[\"지번주소\"].isna()==False)&(Use_data[\"도로명주소\"].isna()==False)]\n",
    "    result[name]=Use_data[Use_data[\"콘텐츠분류\"]==name]\n",
    "for name in result:\n",
    "    result[name].to_excel(f\"../수정데이터/{name}(최종).xlsx\")"
   ]
  },
  {
   "cell_type": "code",
   "execution_count": 21,
   "metadata": {},
   "outputs": [
    {
     "name": "stdout",
     "output_type": "stream",
     "text": [
      "숙박\n",
      "------------------------------\n",
      "<class 'pandas.core.frame.DataFrame'>\n",
      "Index: 8422 entries, 0 to 8500\n",
      "Data columns (total 19 columns):\n",
      " #   Column      Non-Null Count  Dtype         \n",
      "---  ------      --------------  -----         \n",
      " 0   Unnamed: 0  8422 non-null   int64         \n",
      " 1   콘텐츠분류       8422 non-null   object        \n",
      " 2   타이틀         8302 non-null   object        \n",
      " 3   지번주소        8422 non-null   object        \n",
      " 4   도로명주소       8422 non-null   object        \n",
      " 5   위도          8382 non-null   float64       \n",
      " 6   경도          8382 non-null   float64       \n",
      " 7   탐나오연동여부     8421 non-null   object        \n",
      " 8   평점          7715 non-null   float64       \n",
      " 9   소셜네트워크주소    1453 non-null   object        \n",
      " 10  조회수         8422 non-null   int64         \n",
      " 11  좋아요수        8422 non-null   int64         \n",
      " 12  리뷰수         8422 non-null   int64         \n",
      " 13  북마크수        8422 non-null   int64         \n",
      " 14  일정등록수       8422 non-null   int64         \n",
      " 15  다녀왔어요수      8422 non-null   int64         \n",
      " 16  등록일시        8422 non-null   datetime64[ns]\n",
      " 17  소셜네트워크공유수   8422 non-null   int64         \n",
      " 18  인기점수        8379 non-null   float64       \n",
      "dtypes: datetime64[ns](1), float64(4), int64(8), object(6)\n",
      "memory usage: 1.3+ MB\n",
      "None\n",
      "------------------------------\n",
      "음식점\n",
      "------------------------------\n",
      "<class 'pandas.core.frame.DataFrame'>\n",
      "Index: 24236 entries, 0 to 24969\n",
      "Data columns (total 19 columns):\n",
      " #   Column      Non-Null Count  Dtype         \n",
      "---  ------      --------------  -----         \n",
      " 0   Unnamed: 0  24236 non-null  int64         \n",
      " 1   콘텐츠분류       24236 non-null  object        \n",
      " 2   타이틀         24116 non-null  object        \n",
      " 3   지번주소        24236 non-null  object        \n",
      " 4   도로명주소       24236 non-null  object        \n",
      " 5   위도          24185 non-null  float64       \n",
      " 6   경도          24185 non-null  float64       \n",
      " 7   탐나오연동여부     24236 non-null  object        \n",
      " 8   평점          23742 non-null  float64       \n",
      " 9   소셜네트워크주소    4802 non-null   object        \n",
      " 10  조회수         24236 non-null  int64         \n",
      " 11  좋아요수        24236 non-null  int64         \n",
      " 12  리뷰수         24236 non-null  int64         \n",
      " 13  북마크수        24236 non-null  int64         \n",
      " 14  일정등록수       24236 non-null  int64         \n",
      " 15  다녀왔어요수      24236 non-null  int64         \n",
      " 16  등록일시        24236 non-null  datetime64[ns]\n",
      " 17  소셜네트워크공유수   24236 non-null  int64         \n",
      " 18  인기점수        24169 non-null  float64       \n",
      "dtypes: datetime64[ns](1), float64(4), int64(8), object(6)\n",
      "memory usage: 3.7+ MB\n",
      "None\n",
      "------------------------------\n",
      "관광지\n",
      "------------------------------\n",
      "<class 'pandas.core.frame.DataFrame'>\n",
      "Index: 11320 entries, 0 to 11520\n",
      "Data columns (total 19 columns):\n",
      " #   Column      Non-Null Count  Dtype         \n",
      "---  ------      --------------  -----         \n",
      " 0   Unnamed: 0  11320 non-null  int64         \n",
      " 1   콘텐츠분류       11320 non-null  object        \n",
      " 2   타이틀         11163 non-null  object        \n",
      " 3   지번주소        11320 non-null  object        \n",
      " 4   도로명주소       11320 non-null  object        \n",
      " 5   위도          11200 non-null  float64       \n",
      " 6   경도          11200 non-null  float64       \n",
      " 7   탐나오연동여부     11320 non-null  object        \n",
      " 8   평점          10939 non-null  float64       \n",
      " 9   소셜네트워크주소    875 non-null    object        \n",
      " 10  조회수         11320 non-null  int64         \n",
      " 11  좋아요수        11320 non-null  int64         \n",
      " 12  리뷰수         11320 non-null  int64         \n",
      " 13  북마크수        11320 non-null  int64         \n",
      " 14  일정등록수       11320 non-null  int64         \n",
      " 15  다녀왔어요수      11320 non-null  int64         \n",
      " 16  등록일시        11320 non-null  datetime64[ns]\n",
      " 17  소셜네트워크공유수   11320 non-null  int64         \n",
      " 18  인기점수        11197 non-null  float64       \n",
      "dtypes: datetime64[ns](1), float64(4), int64(8), object(6)\n",
      "memory usage: 1.7+ MB\n",
      "None\n",
      "------------------------------\n"
     ]
    }
   ],
   "source": [
    "for name in result:\n",
    "    print(f\"{name}\")\n",
    "    print(\"-\"*30)\n",
    "    print(result[name].info())\n",
    "    print(\"-\"*30)"
   ]
  },
  {
   "cell_type": "code",
   "execution_count": 27,
   "metadata": {},
   "outputs": [
    {
     "name": "stdout",
     "output_type": "stream",
     "text": [
      "숙박\n",
      "Nan개수 :  120\n",
      "------------------------------\n",
      "음식점\n",
      "Nan개수 :  120\n",
      "------------------------------\n",
      "관광지\n",
      "Nan개수 :  157\n",
      "------------------------------\n"
     ]
    }
   ],
   "source": [
    "#제목이 없는 데이터 삭제(nan값 처리)\n",
    "for name in result:\n",
    "    print(f\"{name}\")\n",
    "    print(\"Nan개수 : \",result[name][\"타이틀\"].isna().sum())\n",
    "    print(\"-\"*30)\n",
    "    final=result[name][result[name][\"타이틀\"].isna()==False]\n",
    "    final.to_excel(f\"../수정데이터/{name}(최종).xlsx\")"
   ]
  },
  {
   "cell_type": "code",
   "execution_count": null,
   "metadata": {},
   "outputs": [],
   "source": []
  }
 ],
 "metadata": {
  "kernelspec": {
   "display_name": "Python 3",
   "language": "python",
   "name": "python3"
  },
  "language_info": {
   "codemirror_mode": {
    "name": "ipython",
    "version": 3
   },
   "file_extension": ".py",
   "mimetype": "text/x-python",
   "name": "python",
   "nbconvert_exporter": "python",
   "pygments_lexer": "ipython3",
   "version": "3.11.3"
  },
  "orig_nbformat": 4
 },
 "nbformat": 4,
 "nbformat_minor": 2
}
