{
 "cells": [
  {
   "cell_type": "code",
   "execution_count": 1,
   "metadata": {},
   "outputs": [],
   "source": [
    "import pandas as pd\n",
    "import numpy as np\n",
    "import os\n",
    "import sys"
   ]
  },
  {
   "cell_type": "code",
   "execution_count": 2,
   "metadata": {},
   "outputs": [],
   "source": [
    "os.chdir(\"C://Users/SAMSUNG/Desktop/koweps_2022\")"
   ]
  },
  {
   "cell_type": "code",
   "execution_count": 3,
   "metadata": {},
   "outputs": [
    {
     "data": {
      "text/plain": [
       "['17차년도 조사표_가구용.pdf',\n",
       " '17차년도 조사표_가구원용.pdf',\n",
       " '17차년도 조사표_부가조사용(복지인식).pdf',\n",
       " '17차년도 조사표_신규가구용.pdf',\n",
       " '17차년도 조사표_신규가구원용.pdf',\n",
       " '한국복지패널조사_2022년_17차_가구용,가구원용,복지인식설문용_결합.xlsx',\n",
       " '한국복지패널조사_2022년_17차_가구용.xlsx',\n",
       " '한국복지패널조사_2022년_17차_가구용_코드북.xlsx',\n",
       " '한국복지패널조사_2022년_17차_가구원용.xlsx',\n",
       " '한국복지패널조사_2022년_17차_가구원용_코드북.xlsx',\n",
       " '한국복지패널조사_2022년_17차_복지인식용.xlsx',\n",
       " '한국복지패널조사_2022년_17차_복지인식용_코드북.xlsx',\n",
       " '혼또끝.xlsx']"
      ]
     },
     "execution_count": 3,
     "metadata": {},
     "output_type": "execute_result"
    }
   ],
   "source": [
    "os.listdir()"
   ]
  },
  {
   "cell_type": "code",
   "execution_count": 4,
   "metadata": {},
   "outputs": [],
   "source": [
    "Data=pd.read_excel(\"../koweps_2022/한국복지패널조사_2022년_17차_가구용,가구원용,복지인식설문용_결합.xlsx\")\n",
    "Data2=pd.read_excel(\"./한국복지패널조사_2022년_17차_가구용.xlsx\")\n",
    "Data3=pd.read_excel(\"./한국복지패널조사_2022년_17차_가구원용.xlsx\")"
   ]
  },
  {
   "cell_type": "code",
   "execution_count": 5,
   "metadata": {},
   "outputs": [],
   "source": [
    "data=pd.DataFrame(Data)\n",
    "data2=pd.DataFrame(Data2)\n",
    "data3=pd.DataFrame(Data3)"
   ]
  },
  {
   "cell_type": "code",
   "execution_count": 6,
   "metadata": {},
   "outputs": [],
   "source": [
    "cols=[\"h1701_1\",\"h1701_4\",\"h1701_6\",\"p1702_1\",\"p1702_6\",\"p1702_7\",\"h1702_2\",\"h1702_aq1\",\"p1704_8\",\"p1704_9\",\"p1704_10\",'p1705_12aq1','p1705_aq1','h1701_5',\"h1701_24\",\n",
    "\"h1706_2\",\"h1707_3aq1\",\"h1707_3aq2\",\"h1707_5aq1\",'h1706_1','h1706_4','h1706_5','h1707_9','p1702_7','p1703_5','p1703_6','p1703_7','p1703_8','p1703_9','p1703_10','p1703_11',\"h1701_11\",\"h1706_3\"]"
   ]
  },
  {
   "cell_type": "code",
   "execution_count": 7,
   "metadata": {},
   "outputs": [],
   "source": [
    "cols1=[col for col in cols if col in data.columns]\n",
    "cols1.append(\"h17_id\")"
   ]
  },
  {
   "cell_type": "code",
   "execution_count": 8,
   "metadata": {},
   "outputs": [],
   "source": [
    "step1=data[cols1]\n",
    "res_cols=[col for col in cols if col not in data.columns]    \n",
    "res_cols.append(\"h17_id\")"
   ]
  },
  {
   "cell_type": "code",
   "execution_count": 9,
   "metadata": {},
   "outputs": [],
   "source": [
    "Code1=pd.read_excel(\"./한국복지패널조사_2022년_17차_가구용_코드북.xlsx\")\n",
    "Code2=pd.read_excel(\"./한국복지패널조사_2022년_17차_가구원용_코드북.xlsx\")"
   ]
  },
  {
   "cell_type": "code",
   "execution_count": 10,
   "metadata": {},
   "outputs": [],
   "source": [
    "code=dict(zip(Code1[\"변수명\"],Code1[\"변수설명\"]))\n",
    "code.update(dict(zip(Code2[\"변수명\"],Code2[\"변수설명\"])))"
   ]
  },
  {
   "cell_type": "code",
   "execution_count": 11,
   "metadata": {},
   "outputs": [],
   "source": [
    "step2=data2[res_cols]\n",
    "step3=pd.merge(step1,step2,left_on=\"h17_id\",right_on=\"h17_id\")"
   ]
  },
  {
   "cell_type": "code",
   "execution_count": 12,
   "metadata": {},
   "outputs": [],
   "source": [
    "final=step3.rename(columns=code)"
   ]
  },
  {
   "cell_type": "code",
   "execution_count": 13,
   "metadata": {},
   "outputs": [],
   "source": [
    "final[\"연령\"]=final[[\"태어난 연도\"]].apply(lambda x:2023-x)"
   ]
  },
  {
   "cell_type": "code",
   "execution_count": 14,
   "metadata": {},
   "outputs": [],
   "source": [
    "final=final[final[\"가구원수\"]==1]\n",
    "final.drop([\"태어난 연도\",\"가구 패널 ID\",\"비동거부모님과 왕래정도 <주>\",\"비동거부모님과 왕래정도 (월)\",\"비동거부모님과 왕래정도 (년)\"],axis=1,inplace=True)"
   ]
  },
  {
   "cell_type": "code",
   "execution_count": 15,
   "metadata": {},
   "outputs": [],
   "source": [
    "final[final[\"삶의 사다리 점수\"]<99].to_excel(\"./진짜제발마지막으로.xlsx\")"
   ]
  },
  {
   "cell_type": "code",
   "execution_count": null,
   "metadata": {},
   "outputs": [],
   "source": []
  }
 ],
 "metadata": {
  "kernelspec": {
   "display_name": "Python 3",
   "language": "python",
   "name": "python3"
  },
  "language_info": {
   "codemirror_mode": {
    "name": "ipython",
    "version": 3
   },
   "file_extension": ".py",
   "mimetype": "text/x-python",
   "name": "python",
   "nbconvert_exporter": "python",
   "pygments_lexer": "ipython3",
   "version": "3.11.3"
  },
  "orig_nbformat": 4
 },
 "nbformat": 4,
 "nbformat_minor": 2
}
