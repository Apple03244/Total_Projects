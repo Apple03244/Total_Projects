{
 "cells": [
  {
   "cell_type": "code",
   "execution_count": 1,
   "metadata": {},
   "outputs": [],
   "source": [
    "import pandas as pd\n",
    "import matplotlib.pyplot as plt\n",
    "import seaborn as sb\n",
    "import numpy as np"
   ]
  },
  {
   "cell_type": "code",
   "execution_count": 2,
   "metadata": {},
   "outputs": [],
   "source": [
    "plt.rcParams[\"figure.figsize\"]=(7,4)\n",
    "plt.rcParams[\"font.family\"]=\"BM YEONSUNG\"\n",
    "plt.rcParams[\"axes.unicode_minus\"]=False"
   ]
  },
  {
   "cell_type": "code",
   "execution_count": 3,
   "metadata": {},
   "outputs": [],
   "source": [
    "Data=pd.read_excel(\"../진짜제발마지막으로.xlsx\")\n",
    "data=pd.DataFrame(Data)\n",
    "data.drop(data.columns[0],inplace=True,axis=1)\n",
    "use_data=data[data[\"가구원수\"]==1]"
   ]
  },
  {
   "cell_type": "code",
   "execution_count": 4,
   "metadata": {},
   "outputs": [
    {
     "data": {
      "image/png": "[encoded data removed]",
      "text/plain": [
       "<Figure size 700x400 with 1 Axes>"
      ]
     },
     "metadata": {},
     "output_type": "display_data"
    }
   ],
   "source": [
    "plt.figure()\n",
    "sb.countplot(data=use_data,x='삶의 사다리 점수',hue=\"성별\")\n",
    "plt.show()"
   ]
  },
  {
   "cell_type": "code",
   "execution_count": 111,
   "metadata": {},
   "outputs": [
    {
     "name": "stderr",
     "output_type": "stream",
     "text": [
      "C:\\Users\\SAMSUNG\\AppData\\Local\\Temp\\ipykernel_15856\\248498085.py:1: SettingWithCopyWarning: \n",
      "A value is trying to be set on a copy of a slice from a DataFrame.\n",
      "Try using .loc[row_indexer,col_indexer] = value instead\n",
      "\n",
      "See the caveats in the documentation: https://pandas.pydata.org/pandas-docs/stable/user_guide/indexing.html#returning-a-view-versus-a-copy\n",
      "  use_data[use_data.columns[4:7]]=use_data[use_data.columns[4:7]].fillna(0)\n"
     ]
    }
   ],
   "source": [
    "use_data[use_data.columns[4:7]]=use_data[use_data.columns[4:7]].fillna(0)"
   ]
  },
  {
   "cell_type": "code",
   "execution_count": 124,
   "metadata": {},
   "outputs": [
    {
     "name": "stderr",
     "output_type": "stream",
     "text": [
      "C:\\Users\\SAMSUNG\\AppData\\Local\\Temp\\ipykernel_15856\\2836430821.py:1: SettingWithCopyWarning: \n",
      "A value is trying to be set on a copy of a slice from a DataFrame\n",
      "\n",
      "See the caveats in the documentation: https://pandas.pydata.org/pandas-docs/stable/user_guide/indexing.html#returning-a-view-versus-a-copy\n",
      "  use_data[[\"근로일수(개월)\",\"근로일수(일)\"]].fillna(0,inplace=True)\n"
     ]
    }
   ],
   "source": [
    "use_data[[\"근로일수(개월)\",\"근로일수(일)\"]].fillna(0,inplace=True)"
   ]
  },
  {
   "cell_type": "code",
   "execution_count": 127,
   "metadata": {},
   "outputs": [
    {
     "data": {
      "text/plain": [
       "근로일수(일)\n",
       "0.0     1872\n",
       "20.0     592\n",
       "10.0     390\n",
       "22.0     168\n",
       "24.0     123\n",
       "15.0     105\n",
       "25.0      89\n",
       "12.0      51\n",
       "26.0      44\n",
       "16.0      36\n",
       "30.0      33\n",
       "21.0      30\n",
       "28.0      21\n",
       "13.0       9\n",
       "4.0        8\n",
       "18.0       7\n",
       "23.0       7\n",
       "17.0       6\n",
       "5.0        4\n",
       "8.0        4\n",
       "19.0       3\n",
       "6.0        3\n",
       "11.0       3\n",
       "7.0        2\n",
       "2.0        2\n",
       "29.0       2\n",
       "27.0       2\n",
       "3.0        1\n",
       "9.0        1\n",
       "14.0       1\n",
       "Name: count, dtype: int64"
      ]
     },
     "execution_count": 127,
     "metadata": {},
     "output_type": "execute_result"
    }
   ],
   "source": [
    "use_data[\"근로일수(일)\"].value_counts()"
   ]
  },
  {
   "cell_type": "code",
   "execution_count": 140,
   "metadata": {},
   "outputs": [
    {
     "data": {
      "image/png": "[encoded data removed]",
      "text/plain": [
       "<Figure size 700x400 with 1 Axes>"
      ]
     },
     "metadata": {},
     "output_type": "display_data"
    }
   ],
   "source": [
    "plt.figure()\n",
    "sb.countplot(data=use_data,x=\"건강상태\",hue=\"성별\")\n",
    "plt.show()"
   ]
  },
  {
   "cell_type": "code",
   "execution_count": 131,
   "metadata": {},
   "outputs": [
    {
     "data": {
      "text/plain": [
       "근로유형\n",
       "4.0    1842\n",
       "1.0    1373\n",
       "2.0     374\n",
       "5.0      30\n",
       "Name: count, dtype: int64"
      ]
     },
     "execution_count": 131,
     "metadata": {},
     "output_type": "execute_result"
    }
   ],
   "source": [
    "use_data[\"근로유형\"].value_counts()"
   ]
  },
  {
   "cell_type": "code",
   "execution_count": 133,
   "metadata": {},
   "outputs": [
    {
     "data": {
      "text/plain": [
       "가족생활에 대한 만족도\n",
       "6.0    1756\n",
       "4.0     649\n",
       "5.0     470\n",
       "7.0     248\n",
       "0.0     232\n",
       "3.0      96\n",
       "2.0      80\n",
       "9.0      53\n",
       "1.0      35\n",
       "Name: count, dtype: int64"
      ]
     },
     "execution_count": 133,
     "metadata": {},
     "output_type": "execute_result"
    }
   ],
   "source": [
    "use_data[\"가족생활에 대한 만족도\"].value_counts()"
   ]
  },
  {
   "cell_type": "code",
   "execution_count": null,
   "metadata": {},
   "outputs": [],
   "source": [
    "use_data[\"건강상태\"]"
   ]
  }
 ],
 "metadata": {
  "kernelspec": {
   "display_name": "Python 3",
   "language": "python",
   "name": "python3"
  },
  "language_info": {
   "codemirror_mode": {
    "name": "ipython",
    "version": 3
   },
   "file_extension": ".py",
   "mimetype": "text/x-python",
   "name": "python",
   "nbconvert_exporter": "python",
   "pygments_lexer": "ipython3",
   "version": "3.11.3"
  },
  "orig_nbformat": 4
 },
 "nbformat": 4,
 "nbformat_minor": 2
}
