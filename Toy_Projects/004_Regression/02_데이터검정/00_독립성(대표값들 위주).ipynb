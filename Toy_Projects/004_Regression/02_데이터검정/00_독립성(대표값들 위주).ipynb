{
 "cells": [
  {
   "cell_type": "code",
   "execution_count": 1,
   "metadata": {},
   "outputs": [],
   "source": [
    "import pandas as pd\n",
    "import matplotlib.pyplot as plt\n",
    "import seaborn as sb\n",
    "import sys\n",
    "import os\n",
    "sys.path.append(os.path.dirname(os.getcwd()))\n",
    "import chi2\n",
    "plt.rcParams[\"font.family\"]=\"BM YEONSUNG\"\n",
    "D=pd.read_excel(\"../더했다간미워할거야.xlsx\")\n",
    "save_data=pd.DataFrame(D)\n",
    "cols1=[x for x in D.columns if x.find(\"만족도\")!=-1]\n",
    "cols2=[\"삶의 사다리 점수\",\"성별\",\"연령\",\"교육수준\",\"종교\"]\n",
    "data=pd.DataFrame(D[cols1+cols2])\n",
    "total_test_data=data[data.columns.difference(([\"연령\",\"삶의 사다리 점수\"]))]"
   ]
  },
  {
   "cell_type": "markdown",
   "metadata": {},
   "source": [
    "# 데이터 불러오기\n",
    "> 가장 큰 카테고리 위주"
   ]
  },
  {
   "cell_type": "code",
   "execution_count": 2,
   "metadata": {},
   "outputs": [
    {
     "data": {
      "text/plain": [
       "Index(['가족생활에 대한 만족도', '(가)건강 만족도', '(나)가족의 수입 만족도', '(다)주거 환경 만족도',\n",
       "       '(라)가족관계 만족도', '(마)직업 만족도', '(바)사회적 친분관계 만족도', '(사)여가생활 만족도',\n",
       "       '삶의 사다리 점수', '성별', '연령', '교육수준', '종교'],\n",
       "      dtype='object')"
      ]
     },
     "execution_count": 2,
     "metadata": {},
     "output_type": "execute_result"
    }
   ],
   "source": [
    "data.columns"
   ]
  },
  {
   "cell_type": "markdown",
   "metadata": {},
   "source": [
    "# 독립성 검정을 위한 조건 만족하는 컬럼들 구하기"
   ]
  },
  {
   "cell_type": "code",
   "execution_count": 3,
   "metadata": {},
   "outputs": [],
   "source": [
    "result=chi2.chi2_try(total_test_data)"
   ]
  },
  {
   "cell_type": "markdown",
   "metadata": {},
   "source": [
    "## 조건성립"
   ]
  },
  {
   "cell_type": "code",
   "execution_count": 4,
   "metadata": {},
   "outputs": [],
   "source": [
    "ps=[x[\"Pairs\"] for x in result[\"Pass\"]]"
   ]
  },
  {
   "cell_type": "markdown",
   "metadata": {},
   "source": [
    "## 조건 미성립\n",
    "### type1(관측수<30)"
   ]
  },
  {
   "cell_type": "code",
   "execution_count": 6,
   "metadata": {},
   "outputs": [],
   "source": [
    "t1=[x[\"Pairs\"] for x in result[\"type1\"]]"
   ]
  },
  {
   "cell_type": "markdown",
   "metadata": {},
   "source": [
    "### type2(자유도=1,모든 기대도수가 5를 넘기지 못함)"
   ]
  },
  {
   "cell_type": "code",
   "execution_count": 7,
   "metadata": {},
   "outputs": [],
   "source": [
    "t2=[x[\"Pairs\"] for x in result[\"type2\"]]"
   ]
  },
  {
   "cell_type": "markdown",
   "metadata": {},
   "source": [
    "### type3(자유도>1,5를 넘긴 기대도수의 개수가 전체 관측가능한 기대도수 개수의 20%를 넘김)"
   ]
  },
  {
   "cell_type": "code",
   "execution_count": 8,
   "metadata": {},
   "outputs": [],
   "source": [
    "t3=[x[\"Pairs\"] for x in result[\"type3\"]]"
   ]
  },
  {
   "cell_type": "markdown",
   "metadata": {},
   "source": [
    "### type4(자유도>1,5를 넘긴 기대도수의 개수적으나 모든 기대도수가 1을 넘기진 않음)"
   ]
  },
  {
   "cell_type": "code",
   "execution_count": 9,
   "metadata": {},
   "outputs": [],
   "source": [
    "t4=[x[\"Pairs\"] for x in result[\"type4\"]]"
   ]
  },
  {
   "cell_type": "markdown",
   "metadata": {},
   "source": [
    "# 독립성 검정 기본조건을 만족하지 못하는 컬럼"
   ]
  },
  {
   "cell_type": "markdown",
   "metadata": {},
   "source": [
    "## 각 에러들의 발생 수\n",
    ">자유도가 1이상인 상황에서 기대도수 문제들이 발생함(type3,type4)"
   ]
  },
  {
   "cell_type": "code",
   "execution_count": 10,
   "metadata": {},
   "outputs": [
    {
     "name": "stdout",
     "output_type": "stream",
     "text": [
      "0\t0\t20\t0\t"
     ]
    }
   ],
   "source": [
    "for x in [t1,t2,t3,t4]:\n",
    "    print(f\"{len(x)}\",end=\"\\t\")"
   ]
  },
  {
   "cell_type": "markdown",
   "metadata": {},
   "source": [
    "## 가장 많은 문제를 가진 컬럼 알아보기\n",
    "> 교육수준과 사회적 친분관계 만족도가 독립성 검정을 하기 가장 어려운 column"
   ]
  },
  {
   "cell_type": "code",
   "execution_count": 11,
   "metadata": {},
   "outputs": [],
   "source": [
    "total=sum(sum([t1,t2,t3,t4],[]),[])\n",
    "count_col=dict.fromkeys(total)\n",
    "for col in set(total):\n",
    "    count_col[col]=total.count(col)\n",
    "x=pd.DataFrame(data=count_col,index=range(len(count_col))).T[[0]]\n",
    "x.rename(columns={0:'count'},inplace=True)"
   ]
  },
  {
   "cell_type": "code",
   "execution_count": 12,
   "metadata": {},
   "outputs": [
    {
     "data": {
      "text/html": [
       "<div>\n",
       "<style scoped>\n",
       "    .dataframe tbody tr th:only-of-type {\n",
       "        vertical-align: middle;\n",
       "    }\n",
       "\n",
       "    .dataframe tbody tr th {\n",
       "        vertical-align: top;\n",
       "    }\n",
       "\n",
       "    .dataframe thead th {\n",
       "        text-align: right;\n",
       "    }\n",
       "</style>\n",
       "<table border=\"1\" class=\"dataframe\">\n",
       "  <thead>\n",
       "    <tr style=\"text-align: right;\">\n",
       "      <th></th>\n",
       "      <th>count</th>\n",
       "    </tr>\n",
       "  </thead>\n",
       "  <tbody>\n",
       "    <tr>\n",
       "      <th>(나)가족의 수입 만족도</th>\n",
       "      <td>1</td>\n",
       "    </tr>\n",
       "    <tr>\n",
       "      <th>(바)사회적 친분관계 만족도</th>\n",
       "      <td>7</td>\n",
       "    </tr>\n",
       "    <tr>\n",
       "      <th>(다)주거 환경 만족도</th>\n",
       "      <td>4</td>\n",
       "    </tr>\n",
       "    <tr>\n",
       "      <th>(마)직업 만족도</th>\n",
       "      <td>6</td>\n",
       "    </tr>\n",
       "    <tr>\n",
       "      <th>가족생활에 대한 만족도</th>\n",
       "      <td>6</td>\n",
       "    </tr>\n",
       "    <tr>\n",
       "      <th>교육수준</th>\n",
       "      <td>6</td>\n",
       "    </tr>\n",
       "    <tr>\n",
       "      <th>(라)가족관계 만족도</th>\n",
       "      <td>5</td>\n",
       "    </tr>\n",
       "    <tr>\n",
       "      <th>(사)여가생활 만족도</th>\n",
       "      <td>5</td>\n",
       "    </tr>\n",
       "  </tbody>\n",
       "</table>\n",
       "</div>"
      ],
      "text/plain": [
       "                 count\n",
       "(나)가족의 수입 만족도        1\n",
       "(바)사회적 친분관계 만족도      7\n",
       "(다)주거 환경 만족도         4\n",
       "(마)직업 만족도            6\n",
       "가족생활에 대한 만족도         6\n",
       "교육수준                 6\n",
       "(라)가족관계 만족도          5\n",
       "(사)여가생활 만족도          5"
      ]
     },
     "execution_count": 12,
     "metadata": {},
     "output_type": "execute_result"
    }
   ],
   "source": [
    "x"
   ]
  },
  {
   "cell_type": "markdown",
   "metadata": {},
   "source": [
    "## 문제되는 column의 분포 시각화"
   ]
  },
  {
   "cell_type": "markdown",
   "metadata": {},
   "source": [
    "### 교육\n",
    "> 7:대학교, 8:대학원(석사), 9:대학원(박사) -> 수가 너무 적음\n",
    "* 해결책 : 이들을 하나의 카테고리로 묶어줄 필요가 있음"
   ]
  },
  {
   "cell_type": "code",
   "execution_count": 20,
   "metadata": {},
   "outputs": [
    {
     "data": {
      "image/png": "[encoded data removed]",
      "text/plain": [
       "<Figure size 1000x300 with 1 Axes>"
      ]
     },
     "metadata": {},
     "output_type": "display_data"
    }
   ],
   "source": [
    "visual_ed=data[[\"교육수준\"]].value_counts().to_frame().sort_index()\n",
    "visual_ed.index=list(map(lambda x:x[0],visual_ed.index))\n",
    "plt.figure(figsize=(10,3))\n",
    "sb.barplot(data=visual_ed,x=visual_ed.index,y=visual_ed[\"count\"])\n",
    "plt.grid()\n",
    "plt.show()"
   ]
  },
  {
   "cell_type": "markdown",
   "metadata": {},
   "source": [
    "#### 대학교 이상의 학벌은 모두 하나의 카테고리로 분류\n",
    "> 따라서 대학교, 대학원은 모두 7"
   ]
  },
  {
   "cell_type": "code",
   "execution_count": 21,
   "metadata": {},
   "outputs": [],
   "source": [
    "data[\"교육수준\"]=data[\"교육수준\"].apply(lambda x:7 if x>=7 else x)\n",
    "save_data[\"교육수준\"]=save_data[\"교육수준\"].apply(lambda x:7 if x>=7 else x)"
   ]
  },
  {
   "cell_type": "markdown",
   "metadata": {},
   "source": [
    "#### 수정 후 시각화"
   ]
  },
  {
   "cell_type": "code",
   "execution_count": 22,
   "metadata": {},
   "outputs": [
    {
     "data": {
      "image/png": "[encoded data removed]",
      "text/plain": [
       "<Figure size 1000x300 with 1 Axes>"
      ]
     },
     "metadata": {},
     "output_type": "display_data"
    }
   ],
   "source": [
    "visual_ed=data[[\"교육수준\"]].value_counts().to_frame().sort_index()\n",
    "visual_ed.index=list(map(lambda x:x[0],visual_ed.index))\n",
    "plt.figure(figsize=(10,3))\n",
    "sb.barplot(data=visual_ed,x=visual_ed.index,y=visual_ed[\"count\"])\n",
    "plt.grid()\n",
    "plt.show()"
   ]
  },
  {
   "cell_type": "markdown",
   "metadata": {},
   "source": [
    "### (바)사회적 친분관계 만족도\n",
    "> 1:매우 불만족 2:불만족, 5:매우 만족 -> 수가 너무 부족함\n",
    "* 해결책 : 이들을 근방의 카테고리에 함께 묶어줄 필요가 있음"
   ]
  },
  {
   "cell_type": "code",
   "execution_count": 13,
   "metadata": {},
   "outputs": [
    {
     "data": {
      "image/png": "[encoded data removed]",
      "text/plain": [
       "<Figure size 1000x300 with 1 Axes>"
      ]
     },
     "metadata": {},
     "output_type": "display_data"
    }
   ],
   "source": [
    "visual_so=data[[\"(바)사회적 친분관계 만족도\"]].value_counts().to_frame().sort_index()\n",
    "visual_so.index=list(map(lambda x:x[0],visual_so.index))\n",
    "plt.figure(figsize=(10,3))\n",
    "sb.barplot(data=visual_so,x=visual_so.index,y=visual_so[\"count\"])\n",
    "plt.grid()\n",
    "plt.show()"
   ]
  },
  {
   "cell_type": "markdown",
   "metadata": {},
   "source": [
    "#### 아래와 같이 다시 분류\n",
    "> 1,2의 답변을 한 사람은 모두 3         \n",
    "> 5의 답변을 한 사람은 4"
   ]
  },
  {
   "cell_type": "code",
   "execution_count": 14,
   "metadata": {},
   "outputs": [],
   "source": [
    "def soci(x):\n",
    "    if x<=2:\n",
    "        return 2\n",
    "    # elif x>=5:\n",
    "        # return 4\n",
    "    else:\n",
    "        return x\n",
    "data[\"(바)사회적 친분관계 만족도\"]=data[\"(바)사회적 친분관계 만족도\"].apply(soci)\n",
    "save_data[\"(바)사회적 친분관계 만족도\"]=save_data[\"(바)사회적 친분관계 만족도\"].apply(soci)"
   ]
  },
  {
   "cell_type": "markdown",
   "metadata": {},
   "source": [
    "#### 수정 후 시각화"
   ]
  },
  {
   "cell_type": "code",
   "execution_count": 15,
   "metadata": {},
   "outputs": [
    {
     "data": {
      "image/png": "[encoded data removed]",
      "text/plain": [
       "<Figure size 1000x300 with 1 Axes>"
      ]
     },
     "metadata": {},
     "output_type": "display_data"
    }
   ],
   "source": [
    "visual_so=data[[\"(바)사회적 친분관계 만족도\"]].value_counts().to_frame().sort_index()\n",
    "visual_so.index=list(map(lambda x:x[0],visual_so.index))\n",
    "plt.figure(figsize=(10,3))\n",
    "sb.barplot(data=visual_so,x=visual_so.index,y=visual_so[\"count\"])\n",
    "plt.grid()\n",
    "plt.show()"
   ]
  },
  {
   "cell_type": "markdown",
   "metadata": {},
   "source": [
    "## 독립성 검정 가능 여부 재확인"
   ]
  },
  {
   "cell_type": "code",
   "execution_count": 23,
   "metadata": {},
   "outputs": [],
   "source": [
    "total_test_data2=data[data.columns.difference(([\"연령\",\"삶의 사다리 점수\"]))]\n",
    "result2=chi2.chi2_try(total_test_data2)"
   ]
  },
  {
   "cell_type": "markdown",
   "metadata": {},
   "source": [
    "### 에러 발생 수"
   ]
  },
  {
   "cell_type": "code",
   "execution_count": 24,
   "metadata": {},
   "outputs": [
    {
     "name": "stdout",
     "output_type": "stream",
     "text": [
      "0\t0\t8\t0\t"
     ]
    }
   ],
   "source": [
    "temp=[]\n",
    "for x in [\"type1\",\"type2\",\"type3\",\"type4\"]:\n",
    "    temp.append([x['Pairs'] for x in result2[x]])\n",
    "    print(len([x['Pairs'] for x in result2[x]]),end=\"\\t\")"
   ]
  },
  {
   "cell_type": "code",
   "execution_count": 25,
   "metadata": {},
   "outputs": [],
   "source": [
    "total2=sum(sum(temp,[]),[])\n",
    "count_col2=dict.fromkeys(total2)\n",
    "for col in set(total2):\n",
    "    count_col2[col]=total2.count(col)\n",
    "x2=pd.DataFrame(data=count_col2,index=range(len(count_col2))).T[[0]]\n",
    "x2.rename(columns={0:'count'},inplace=True)"
   ]
  },
  {
   "cell_type": "code",
   "execution_count": 26,
   "metadata": {},
   "outputs": [
    {
     "data": {
      "text/html": [
       "<div>\n",
       "<style scoped>\n",
       "    .dataframe tbody tr th:only-of-type {\n",
       "        vertical-align: middle;\n",
       "    }\n",
       "\n",
       "    .dataframe tbody tr th {\n",
       "        vertical-align: top;\n",
       "    }\n",
       "\n",
       "    .dataframe thead th {\n",
       "        text-align: right;\n",
       "    }\n",
       "</style>\n",
       "<table border=\"1\" class=\"dataframe\">\n",
       "  <thead>\n",
       "    <tr style=\"text-align: right;\">\n",
       "      <th></th>\n",
       "      <th>count</th>\n",
       "    </tr>\n",
       "  </thead>\n",
       "  <tbody>\n",
       "    <tr>\n",
       "      <th>(다)주거 환경 만족도</th>\n",
       "      <td>2</td>\n",
       "    </tr>\n",
       "    <tr>\n",
       "      <th>(마)직업 만족도</th>\n",
       "      <td>4</td>\n",
       "    </tr>\n",
       "    <tr>\n",
       "      <th>가족생활에 대한 만족도</th>\n",
       "      <td>4</td>\n",
       "    </tr>\n",
       "    <tr>\n",
       "      <th>(라)가족관계 만족도</th>\n",
       "      <td>3</td>\n",
       "    </tr>\n",
       "    <tr>\n",
       "      <th>(사)여가생활 만족도</th>\n",
       "      <td>3</td>\n",
       "    </tr>\n",
       "  </tbody>\n",
       "</table>\n",
       "</div>"
      ],
      "text/plain": [
       "              count\n",
       "(다)주거 환경 만족도      2\n",
       "(마)직업 만족도         4\n",
       "가족생활에 대한 만족도      4\n",
       "(라)가족관계 만족도       3\n",
       "(사)여가생활 만족도       3"
      ]
     },
     "execution_count": 26,
     "metadata": {},
     "output_type": "execute_result"
    }
   ],
   "source": [
    "x2"
   ]
  },
  {
   "cell_type": "markdown",
   "metadata": {},
   "source": [
    "> 위에서 처리한 두가지 column은 문제를 발생시키지 않음          \n",
    "> 다음 column을 설정해야함          \n",
    "> 가족생활에 대한 만족도 Vs 가족관계 만족도를 주시해보자"
   ]
  },
  {
   "cell_type": "markdown",
   "metadata": {},
   "source": [
    "## 문제가 되는 column 처리2\n",
    "> 가족생활에 대한 만족도 VS 가족관계 만족도 에 대한 처리"
   ]
  },
  {
   "cell_type": "markdown",
   "metadata": {},
   "source": [
    "### 시각화"
   ]
  },
  {
   "cell_type": "code",
   "execution_count": 27,
   "metadata": {},
   "outputs": [
    {
     "data": {
      "image/png": "[encoded data removed]",
      "text/plain": [
       "<Figure size 1000x300 with 1 Axes>"
      ]
     },
     "metadata": {},
     "output_type": "display_data"
    }
   ],
   "source": [
    "visual_fam=data[['가족생활에 대한 만족도']].value_counts().to_frame().sort_index()\n",
    "visual_fam.index=list(map(lambda x:x[0],visual_fam.index))\n",
    "plt.figure(figsize=(10,3),label=\"가족생활에 대한 만족도\")\n",
    "sb.barplot(data=visual_fam,x=visual_fam.index,y=visual_fam[\"count\"])\n",
    "plt.title(\"가족생활에 대한 만족도\")\n",
    "plt.grid()\n",
    "plt.show()"
   ]
  },
  {
   "cell_type": "code",
   "execution_count": 28,
   "metadata": {},
   "outputs": [
    {
     "data": {
      "image/png": "[encoded data removed]",
      "text/plain": [
       "<Figure size 1000x300 with 1 Axes>"
      ]
     },
     "metadata": {},
     "output_type": "display_data"
    }
   ],
   "source": [
    "visual_fam2=data[['(라)가족관계 만족도']].value_counts().to_frame().sort_index()\n",
    "visual_fam2.index=list(map(lambda x:x[0],visual_fam2.index))\n",
    "plt.figure(figsize=(10,3),label=\"(라)가족관계 만족도\")\n",
    "sb.barplot(data=visual_fam2,x=visual_fam2.index,y=visual_fam2[\"count\"])\n",
    "plt.title(\"(라)가족관계 만족도\")\n",
    "plt.grid()\n",
    "plt.show()"
   ]
  },
  {
   "cell_type": "markdown",
   "metadata": {},
   "source": [
    "### 둘 사이의 기대도수 확인하기"
   ]
  },
  {
   "cell_type": "code",
   "execution_count": 29,
   "metadata": {},
   "outputs": [
    {
     "data": {
      "text/html": [
       "<style type=\"text/css\">\n",
       "#T_6639a_row0_col0, #T_6639a_row0_col1, #T_6639a_row0_col2, #T_6639a_row0_col3, #T_6639a_row0_col4, #T_6639a_row0_col5, #T_6639a_row0_col6 {\n",
       "  background-color: #fff7fb;\n",
       "  color: #000000;\n",
       "}\n",
       "#T_6639a_row1_col0, #T_6639a_row1_col1, #T_6639a_row1_col2, #T_6639a_row1_col3, #T_6639a_row1_col4, #T_6639a_row1_col5, #T_6639a_row1_col6 {\n",
       "  background-color: #f7f0f7;\n",
       "  color: #000000;\n",
       "}\n",
       "#T_6639a_row2_col0, #T_6639a_row2_col1, #T_6639a_row2_col2, #T_6639a_row2_col3, #T_6639a_row2_col4, #T_6639a_row2_col5, #T_6639a_row2_col6 {\n",
       "  background-color: #bfc9e1;\n",
       "  color: #000000;\n",
       "}\n",
       "#T_6639a_row3_col0, #T_6639a_row3_col1, #T_6639a_row3_col2, #T_6639a_row3_col3, #T_6639a_row3_col4, #T_6639a_row3_col5, #T_6639a_row3_col6 {\n",
       "  background-color: #023858;\n",
       "  color: #f1f1f1;\n",
       "}\n",
       "#T_6639a_row4_col0, #T_6639a_row4_col1, #T_6639a_row4_col2, #T_6639a_row4_col3, #T_6639a_row4_col4, #T_6639a_row4_col5, #T_6639a_row4_col6 {\n",
       "  background-color: #ebe6f2;\n",
       "  color: #000000;\n",
       "}\n",
       "</style>\n",
       "<table id=\"T_6639a\">\n",
       "  <thead>\n",
       "    <tr>\n",
       "      <th class=\"index_name level0\" >가족생활에 대한 만족도</th>\n",
       "      <th id=\"T_6639a_level0_col0\" class=\"col_heading level0 col0\" >1</th>\n",
       "      <th id=\"T_6639a_level0_col1\" class=\"col_heading level0 col1\" >2</th>\n",
       "      <th id=\"T_6639a_level0_col2\" class=\"col_heading level0 col2\" >3</th>\n",
       "      <th id=\"T_6639a_level0_col3\" class=\"col_heading level0 col3\" >4</th>\n",
       "      <th id=\"T_6639a_level0_col4\" class=\"col_heading level0 col4\" >5</th>\n",
       "      <th id=\"T_6639a_level0_col5\" class=\"col_heading level0 col5\" >6</th>\n",
       "      <th id=\"T_6639a_level0_col6\" class=\"col_heading level0 col6\" >7</th>\n",
       "    </tr>\n",
       "    <tr>\n",
       "      <th class=\"index_name level0\" >(라)가족관계 만족도</th>\n",
       "      <th class=\"blank col0\" >&nbsp;</th>\n",
       "      <th class=\"blank col1\" >&nbsp;</th>\n",
       "      <th class=\"blank col2\" >&nbsp;</th>\n",
       "      <th class=\"blank col3\" >&nbsp;</th>\n",
       "      <th class=\"blank col4\" >&nbsp;</th>\n",
       "      <th class=\"blank col5\" >&nbsp;</th>\n",
       "      <th class=\"blank col6\" >&nbsp;</th>\n",
       "    </tr>\n",
       "  </thead>\n",
       "  <tbody>\n",
       "    <tr>\n",
       "      <th id=\"T_6639a_level0_row0\" class=\"row_heading level0 row0\" >1</th>\n",
       "      <td id=\"T_6639a_row0_col0\" class=\"data row0 col0\" >0.241452</td>\n",
       "      <td id=\"T_6639a_row0_col1\" class=\"data row0 col1\" >0.551890</td>\n",
       "      <td id=\"T_6639a_row0_col2\" class=\"data row0 col2\" >0.662268</td>\n",
       "      <td id=\"T_6639a_row0_col3\" class=\"data row0 col3\" >4.477205</td>\n",
       "      <td id=\"T_6639a_row0_col4\" class=\"data row0 col4\" >3.242352</td>\n",
       "      <td id=\"T_6639a_row0_col5\" class=\"data row0 col5\" >12.113977</td>\n",
       "      <td id=\"T_6639a_row0_col6\" class=\"data row0 col6\" >1.710858</td>\n",
       "    </tr>\n",
       "    <tr>\n",
       "      <th id=\"T_6639a_level0_row1\" class=\"row_heading level0 row1\" >2</th>\n",
       "      <td id=\"T_6639a_row1_col0\" class=\"data row1 col0\" >1.522196</td>\n",
       "      <td id=\"T_6639a_row1_col1\" class=\"data row1 col1\" >3.479304</td>\n",
       "      <td id=\"T_6639a_row1_col2\" class=\"data row1 col2\" >4.175165</td>\n",
       "      <td id=\"T_6639a_row1_col3\" class=\"data row1 col3\" >28.225855</td>\n",
       "      <td id=\"T_6639a_row1_col4\" class=\"data row1 col4\" >20.440912</td>\n",
       "      <td id=\"T_6639a_row1_col5\" class=\"data row1 col5\" >76.370726</td>\n",
       "      <td id=\"T_6639a_row1_col6\" class=\"data row1 col6\" >10.785843</td>\n",
       "    </tr>\n",
       "    <tr>\n",
       "      <th id=\"T_6639a_level0_row2\" class=\"row_heading level0 row2\" >3</th>\n",
       "      <td id=\"T_6639a_row2_col0\" class=\"data row2 col0\" >7.117576</td>\n",
       "      <td id=\"T_6639a_row2_col1\" class=\"data row2 col1\" >16.268746</td>\n",
       "      <td id=\"T_6639a_row2_col2\" class=\"data row2 col2\" >19.522496</td>\n",
       "      <td id=\"T_6639a_row2_col3\" class=\"data row2 col3\" >131.980204</td>\n",
       "      <td id=\"T_6639a_row2_col4\" class=\"data row2 col4\" >95.578884</td>\n",
       "      <td id=\"T_6639a_row2_col5\" class=\"data row2 col5\" >357.098980</td>\n",
       "      <td id=\"T_6639a_row2_col6\" class=\"data row2 col6\" >50.433113</td>\n",
       "    </tr>\n",
       "    <tr>\n",
       "      <th id=\"T_6639a_level0_row3\" class=\"row_heading level0 row3\" >4</th>\n",
       "      <td id=\"T_6639a_row3_col0\" class=\"data row3 col0\" >22.916917</td>\n",
       "      <td id=\"T_6639a_row3_col1\" class=\"data row3 col1\" >52.381524</td>\n",
       "      <td id=\"T_6639a_row3_col2\" class=\"data row3 col2\" >62.857828</td>\n",
       "      <td id=\"T_6639a_row3_col3\" class=\"data row3 col3\" >424.945111</td>\n",
       "      <td id=\"T_6639a_row3_col4\" class=\"data row3 col4\" >307.741452</td>\n",
       "      <td id=\"T_6639a_row3_col5\" class=\"data row3 col5\" >1149.774445</td>\n",
       "      <td id=\"T_6639a_row3_col6\" class=\"data row3 col6\" >162.382723</td>\n",
       "    </tr>\n",
       "    <tr>\n",
       "      <th id=\"T_6639a_level0_row4\" class=\"row_heading level0 row4\" >5</th>\n",
       "      <td id=\"T_6639a_row4_col0\" class=\"data row4 col0\" >3.201860</td>\n",
       "      <td id=\"T_6639a_row4_col1\" class=\"data row4 col1\" >7.318536</td>\n",
       "      <td id=\"T_6639a_row4_col2\" class=\"data row4 col2\" >8.782244</td>\n",
       "      <td id=\"T_6639a_row4_col3\" class=\"data row4 col3\" >59.371626</td>\n",
       "      <td id=\"T_6639a_row4_col4\" class=\"data row4 col4\" >42.996401</td>\n",
       "      <td id=\"T_6639a_row4_col5\" class=\"data row4 col5\" >160.641872</td>\n",
       "      <td id=\"T_6639a_row4_col6\" class=\"data row4 col6\" >22.687463</td>\n",
       "    </tr>\n",
       "  </tbody>\n",
       "</table>\n"
      ],
      "text/plain": [
       "<pandas.io.formats.style.Styler at 0x26d4e6b1cd0>"
      ]
     },
     "execution_count": 29,
     "metadata": {},
     "output_type": "execute_result"
    }
   ],
   "source": [
    "[x for x in result[\"type3\"]][8][\"DataFrame\"].style.background_gradient(cmap='PuBu')"
   ]
  },
  {
   "cell_type": "markdown",
   "metadata": {},
   "source": [
    "### 상관계수 확인하기\n",
    "> 해당 column이 얼마나 종속변수와 상관관계를 가지는지 확인하자          \n",
    "> 두개의 column 사이의 상관관계도 확인하자"
   ]
  },
  {
   "cell_type": "markdown",
   "metadata": {},
   "source": [
    "#### 종속변수와의 상관관계"
   ]
  },
  {
   "cell_type": "code",
   "execution_count": 30,
   "metadata": {},
   "outputs": [
    {
     "data": {
      "text/html": [
       "<div>\n",
       "<style scoped>\n",
       "    .dataframe tbody tr th:only-of-type {\n",
       "        vertical-align: middle;\n",
       "    }\n",
       "\n",
       "    .dataframe tbody tr th {\n",
       "        vertical-align: top;\n",
       "    }\n",
       "\n",
       "    .dataframe thead th {\n",
       "        text-align: right;\n",
       "    }\n",
       "</style>\n",
       "<table border=\"1\" class=\"dataframe\">\n",
       "  <thead>\n",
       "    <tr style=\"text-align: right;\">\n",
       "      <th></th>\n",
       "      <th>삶의 사다리 점수</th>\n",
       "      <th>가족생활에 대한 만족도</th>\n",
       "      <th>(라)가족관계 만족도</th>\n",
       "    </tr>\n",
       "  </thead>\n",
       "  <tbody>\n",
       "    <tr>\n",
       "      <th>삶의 사다리 점수</th>\n",
       "      <td>1.000000</td>\n",
       "      <td>0.437341</td>\n",
       "      <td>0.393413</td>\n",
       "    </tr>\n",
       "    <tr>\n",
       "      <th>가족생활에 대한 만족도</th>\n",
       "      <td>0.437341</td>\n",
       "      <td>1.000000</td>\n",
       "      <td>0.622428</td>\n",
       "    </tr>\n",
       "    <tr>\n",
       "      <th>(라)가족관계 만족도</th>\n",
       "      <td>0.393413</td>\n",
       "      <td>0.622428</td>\n",
       "      <td>1.000000</td>\n",
       "    </tr>\n",
       "  </tbody>\n",
       "</table>\n",
       "</div>"
      ],
      "text/plain": [
       "              삶의 사다리 점수  가족생활에 대한 만족도  (라)가족관계 만족도\n",
       "삶의 사다리 점수      1.000000      0.437341     0.393413\n",
       "가족생활에 대한 만족도   0.437341      1.000000     0.622428\n",
       "(라)가족관계 만족도    0.393413      0.622428     1.000000"
      ]
     },
     "execution_count": 30,
     "metadata": {},
     "output_type": "execute_result"
    }
   ],
   "source": [
    "data[[\"삶의 사다리 점수\",'가족생활에 대한 만족도','(라)가족관계 만족도']].corr(method=\"spearman\")"
   ]
  },
  {
   "cell_type": "code",
   "execution_count": 31,
   "metadata": {},
   "outputs": [],
   "source": [
    "import scipy.stats as sps"
   ]
  },
  {
   "cell_type": "code",
   "execution_count": 32,
   "metadata": {},
   "outputs": [
    {
     "data": {
      "text/plain": [
       "SignificanceResult(statistic=0.6224284614638246, pvalue=0.0)"
      ]
     },
     "execution_count": 32,
     "metadata": {},
     "output_type": "execute_result"
    }
   ],
   "source": [
    "#p value 를 확인해도 0.05보다 낮으니 둘 사이의 강한 상관관계가 있음\n",
    "sps.spearmanr(data[['가족생활에 대한 만족도','(라)가족관계 만족도']])"
   ]
  },
  {
   "cell_type": "markdown",
   "metadata": {},
   "source": [
    "### 가장 간단히 범주 확장\n",
    "> 가족관계 만족도에서 1을 대답한 사람           \n",
    "> 이를 만족도 2에 대답한 사람과 통합"
   ]
  },
  {
   "cell_type": "code",
   "execution_count": 33,
   "metadata": {},
   "outputs": [],
   "source": [
    "data['(라)가족관계 만족도']=data['(라)가족관계 만족도'].apply(lambda x:x if x>=2 else 2)\n",
    "save_data['(라)가족관계 만족도']=save_data['(라)가족관계 만족도'].apply(lambda x:x if x>=2 else 2)"
   ]
  },
  {
   "cell_type": "markdown",
   "metadata": {},
   "source": [
    "### 통합 후 시각화"
   ]
  },
  {
   "cell_type": "code",
   "execution_count": 34,
   "metadata": {},
   "outputs": [
    {
     "data": {
      "image/png": "[encoded data removed]",
      "text/plain": [
       "<Figure size 1000x300 with 1 Axes>"
      ]
     },
     "metadata": {},
     "output_type": "display_data"
    }
   ],
   "source": [
    "visual_fam2=data[['(라)가족관계 만족도']].value_counts().to_frame().sort_index()\n",
    "visual_fam2.index=list(map(lambda x:x[0],visual_fam2.index))\n",
    "plt.figure(figsize=(10,3),label=\"(라)가족관계 만족도\")\n",
    "sb.barplot(data=visual_fam2,x=visual_fam2.index,y=visual_fam2[\"count\"])\n",
    "plt.title(\"(라)가족관계 만족도\")\n",
    "plt.grid()\n",
    "plt.show()"
   ]
  },
  {
   "cell_type": "markdown",
   "metadata": {},
   "source": [
    "### 변경 후의 상관계수 및 p-value\n",
    "> 변화없음"
   ]
  },
  {
   "cell_type": "code",
   "execution_count": 35,
   "metadata": {},
   "outputs": [
    {
     "data": {
      "text/html": [
       "<div>\n",
       "<style scoped>\n",
       "    .dataframe tbody tr th:only-of-type {\n",
       "        vertical-align: middle;\n",
       "    }\n",
       "\n",
       "    .dataframe tbody tr th {\n",
       "        vertical-align: top;\n",
       "    }\n",
       "\n",
       "    .dataframe thead th {\n",
       "        text-align: right;\n",
       "    }\n",
       "</style>\n",
       "<table border=\"1\" class=\"dataframe\">\n",
       "  <thead>\n",
       "    <tr style=\"text-align: right;\">\n",
       "      <th></th>\n",
       "      <th>삶의 사다리 점수</th>\n",
       "      <th>가족생활에 대한 만족도</th>\n",
       "      <th>(라)가족관계 만족도</th>\n",
       "    </tr>\n",
       "  </thead>\n",
       "  <tbody>\n",
       "    <tr>\n",
       "      <th>삶의 사다리 점수</th>\n",
       "      <td>1.000000</td>\n",
       "      <td>0.437341</td>\n",
       "      <td>0.393069</td>\n",
       "    </tr>\n",
       "    <tr>\n",
       "      <th>가족생활에 대한 만족도</th>\n",
       "      <td>0.437341</td>\n",
       "      <td>1.000000</td>\n",
       "      <td>0.622267</td>\n",
       "    </tr>\n",
       "    <tr>\n",
       "      <th>(라)가족관계 만족도</th>\n",
       "      <td>0.393069</td>\n",
       "      <td>0.622267</td>\n",
       "      <td>1.000000</td>\n",
       "    </tr>\n",
       "  </tbody>\n",
       "</table>\n",
       "</div>"
      ],
      "text/plain": [
       "              삶의 사다리 점수  가족생활에 대한 만족도  (라)가족관계 만족도\n",
       "삶의 사다리 점수      1.000000      0.437341     0.393069\n",
       "가족생활에 대한 만족도   0.437341      1.000000     0.622267\n",
       "(라)가족관계 만족도    0.393069      0.622267     1.000000"
      ]
     },
     "execution_count": 35,
     "metadata": {},
     "output_type": "execute_result"
    }
   ],
   "source": [
    "data[[\"삶의 사다리 점수\",'가족생활에 대한 만족도','(라)가족관계 만족도']].corr(method=\"spearman\")"
   ]
  },
  {
   "cell_type": "markdown",
   "metadata": {},
   "source": [
    "### 변경 후의 독립성 검정 가능여부 확인\n",
    "### 가족생활에 대한 만족도 -> 삭제\n",
    "> 이미 가족관계만족도와 높은 상관관계를 보였으므로"
   ]
  },
  {
   "cell_type": "code",
   "execution_count": 36,
   "metadata": {},
   "outputs": [],
   "source": [
    "data.drop(\"가족생활에 대한 만족도\",axis=1,inplace=True)\n",
    "save_data.drop(\"가족생활에 대한 만족도\",axis=1,inplace=True)"
   ]
  },
  {
   "cell_type": "code",
   "execution_count": 37,
   "metadata": {},
   "outputs": [],
   "source": [
    "total_test_data3=data[data.columns.difference(([\"연령\",\"삶의 사다리 점수\"]))]\n",
    "result3=chi2.chi2_try(total_test_data3)"
   ]
  },
  {
   "cell_type": "markdown",
   "metadata": {},
   "source": [
    "#### 확연히 error의 수가 줄어들었음"
   ]
  },
  {
   "cell_type": "code",
   "execution_count": 38,
   "metadata": {},
   "outputs": [
    {
     "name": "stdout",
     "output_type": "stream",
     "text": [
      "0\t0\t2\t0\t"
     ]
    }
   ],
   "source": [
    "temp=[]\n",
    "for x in [\"type1\",\"type2\",\"type3\",\"type4\"]:\n",
    "    temp.append([x['Pairs'] for x in result3[x]])\n",
    "    print(len([x['Pairs'] for x in result3[x]]),end=\"\\t\")"
   ]
  },
  {
   "cell_type": "code",
   "execution_count": 39,
   "metadata": {},
   "outputs": [],
   "source": [
    "total3=sum(sum(temp,[]),[])\n",
    "count_col3=dict.fromkeys(total3)\n",
    "for col in set(total3):\n",
    "    count_col3[col]=total3.count(col)\n",
    "x3=pd.DataFrame(data=count_col3,index=range(len(count_col3))).T[[0]]\n",
    "x3.rename(columns={0:'count'},inplace=True)"
   ]
  },
  {
   "cell_type": "code",
   "execution_count": 40,
   "metadata": {},
   "outputs": [
    {
     "data": {
      "text/html": [
       "<div>\n",
       "<style scoped>\n",
       "    .dataframe tbody tr th:only-of-type {\n",
       "        vertical-align: middle;\n",
       "    }\n",
       "\n",
       "    .dataframe tbody tr th {\n",
       "        vertical-align: top;\n",
       "    }\n",
       "\n",
       "    .dataframe thead th {\n",
       "        text-align: right;\n",
       "    }\n",
       "</style>\n",
       "<table border=\"1\" class=\"dataframe\">\n",
       "  <thead>\n",
       "    <tr style=\"text-align: right;\">\n",
       "      <th></th>\n",
       "      <th>count</th>\n",
       "    </tr>\n",
       "  </thead>\n",
       "  <tbody>\n",
       "    <tr>\n",
       "      <th>(다)주거 환경 만족도</th>\n",
       "      <td>1</td>\n",
       "    </tr>\n",
       "    <tr>\n",
       "      <th>(마)직업 만족도</th>\n",
       "      <td>2</td>\n",
       "    </tr>\n",
       "    <tr>\n",
       "      <th>(사)여가생활 만족도</th>\n",
       "      <td>1</td>\n",
       "    </tr>\n",
       "  </tbody>\n",
       "</table>\n",
       "</div>"
      ],
      "text/plain": [
       "              count\n",
       "(다)주거 환경 만족도      1\n",
       "(마)직업 만족도         2\n",
       "(사)여가생활 만족도       1"
      ]
     },
     "execution_count": 40,
     "metadata": {},
     "output_type": "execute_result"
    }
   ],
   "source": [
    "x3"
   ]
  },
  {
   "cell_type": "markdown",
   "metadata": {},
   "source": [
    "### 직업만족도와 여가생활 만족도 column 보기"
   ]
  },
  {
   "cell_type": "markdown",
   "metadata": {},
   "source": [
    "#### 직업만족도\n",
    "> 1,5에 해당하는 사람이 적음."
   ]
  },
  {
   "cell_type": "code",
   "execution_count": 41,
   "metadata": {},
   "outputs": [
    {
     "data": {
      "image/png": "[encoded data removed]",
      "text/plain": [
       "<Figure size 1000x300 with 1 Axes>"
      ]
     },
     "metadata": {},
     "output_type": "display_data"
    }
   ],
   "source": [
    "visual_ed=data[[\"(마)직업 만족도\"]].value_counts().to_frame().sort_index()\n",
    "visual_ed.index=list(map(lambda x:x[0],visual_ed.index))\n",
    "plt.figure(figsize=(10,3))\n",
    "sb.barplot(data=visual_ed,x=visual_ed.index,y=visual_ed[\"count\"])\n",
    "plt.grid()\n",
    "plt.show()"
   ]
  },
  {
   "cell_type": "markdown",
   "metadata": {},
   "source": [
    "#### 여가생활 만족도 또한 마찬가지"
   ]
  },
  {
   "cell_type": "code",
   "execution_count": 42,
   "metadata": {},
   "outputs": [
    {
     "data": {
      "image/png": "[encoded data removed]",
      "text/plain": [
       "<Figure size 1000x300 with 1 Axes>"
      ]
     },
     "metadata": {},
     "output_type": "display_data"
    }
   ],
   "source": [
    "visual_ed=data[[\"(사)여가생활 만족도\"]].value_counts().to_frame().sort_index()\n",
    "visual_ed.index=list(map(lambda x:x[0],visual_ed.index))\n",
    "plt.figure(figsize=(10,3))\n",
    "sb.barplot(data=visual_ed,x=visual_ed.index,y=visual_ed[\"count\"])\n",
    "plt.grid()\n",
    "plt.show()"
   ]
  },
  {
   "cell_type": "markdown",
   "metadata": {},
   "source": [
    "### 위의 과정을 동일하게 반복하자"
   ]
  },
  {
   "cell_type": "code",
   "execution_count": 43,
   "metadata": {},
   "outputs": [],
   "source": [
    "def scale_score(x):\n",
    "    if x<=2:\n",
    "        return 2\n",
    "    elif x>=5:\n",
    "        return 4\n",
    "    else:\n",
    "        return x\n",
    "data[\"(마)직업 만족도\"]=data[\"(마)직업 만족도\"].apply(scale_score)\n",
    "save_data[\"(마)직업 만족도\"]=save_data[\"(마)직업 만족도\"].apply(scale_score)\n",
    "data[\"(사)여가생활 만족도\"]=data[\"(사)여가생활 만족도\"].apply(scale_score)\n",
    "save_data[\"(사)여가생활 만족도\"]=save_data[\"(사)여가생활 만족도\"].apply(scale_score)"
   ]
  },
  {
   "cell_type": "markdown",
   "metadata": {},
   "source": [
    "### 변경 후 각각의 시각화"
   ]
  },
  {
   "cell_type": "code",
   "execution_count": 44,
   "metadata": {},
   "outputs": [
    {
     "data": {
      "image/png": "[encoded data removed]",
      "text/plain": [
       "<Figure size 1000x300 with 1 Axes>"
      ]
     },
     "metadata": {},
     "output_type": "display_data"
    }
   ],
   "source": [
    "visual_ed=data[[\"(마)직업 만족도\"]].value_counts().to_frame().sort_index()\n",
    "visual_ed.index=list(map(lambda x:x[0],visual_ed.index))\n",
    "plt.figure(figsize=(10,3))\n",
    "sb.barplot(data=visual_ed,x=visual_ed.index,y=visual_ed[\"count\"])\n",
    "plt.title(\"직업만족도\")\n",
    "plt.grid()\n",
    "plt.show()"
   ]
  },
  {
   "cell_type": "code",
   "execution_count": 45,
   "metadata": {},
   "outputs": [
    {
     "data": {
      "image/png": "[encoded data removed]",
      "text/plain": [
       "<Figure size 1000x300 with 1 Axes>"
      ]
     },
     "metadata": {},
     "output_type": "display_data"
    }
   ],
   "source": [
    "visual_ed=data[[\"(사)여가생활 만족도\"]].value_counts().to_frame().sort_index()\n",
    "visual_ed.index=list(map(lambda x:x[0],visual_ed.index))\n",
    "plt.figure(figsize=(10,3))\n",
    "sb.barplot(data=visual_ed,x=visual_ed.index,y=visual_ed[\"count\"])\n",
    "plt.title(\"여가생활 만족도\")\n",
    "plt.grid()\n",
    "plt.show()"
   ]
  },
  {
   "cell_type": "markdown",
   "metadata": {},
   "source": [
    "### 독립성 검정 가능여부 확인"
   ]
  },
  {
   "cell_type": "code",
   "execution_count": 46,
   "metadata": {},
   "outputs": [],
   "source": [
    "total_test_data4=data[data.columns.difference(([\"연령\",\"삶의 사다리 점수\"]))]\n",
    "result4=chi2.chi2_try(total_test_data4)"
   ]
  },
  {
   "cell_type": "code",
   "execution_count": 47,
   "metadata": {},
   "outputs": [
    {
     "name": "stdout",
     "output_type": "stream",
     "text": [
      "0\t0\t0\t0\t"
     ]
    }
   ],
   "source": [
    "temp=[]\n",
    "for x in [\"type1\",\"type2\",\"type3\",\"type4\"]:\n",
    "    temp.append([x['Pairs'] for x in result4[x]])\n",
    "    print(len([x['Pairs'] for x in result4[x]]),end=\"\\t\")"
   ]
  },
  {
   "cell_type": "code",
   "execution_count": 48,
   "metadata": {},
   "outputs": [
    {
     "ename": "KeyError",
     "evalue": "\"None of [Index([0], dtype='int32')] are in the [columns]\"",
     "output_type": "error",
     "traceback": [
      "\u001b[1;31m---------------------------------------------------------------------------\u001b[0m",
      "\u001b[1;31mKeyError\u001b[0m                                  Traceback (most recent call last)",
      "Cell \u001b[1;32mIn[48], line 5\u001b[0m\n\u001b[0;32m      3\u001b[0m \u001b[39mfor\u001b[39;00m col \u001b[39min\u001b[39;00m \u001b[39mset\u001b[39m(total4):\n\u001b[0;32m      4\u001b[0m     count_col4[col]\u001b[39m=\u001b[39mtotal4\u001b[39m.\u001b[39mcount(col)\n\u001b[1;32m----> 5\u001b[0m x4\u001b[39m=\u001b[39mpd\u001b[39m.\u001b[39;49mDataFrame(data\u001b[39m=\u001b[39;49mcount_col4,index\u001b[39m=\u001b[39;49m\u001b[39mrange\u001b[39;49m(\u001b[39mlen\u001b[39;49m(count_col4)))\u001b[39m.\u001b[39;49mT[[\u001b[39m0\u001b[39;49m]]\n\u001b[0;32m      6\u001b[0m x4\u001b[39m.\u001b[39mrename(columns\u001b[39m=\u001b[39m{\u001b[39m0\u001b[39m:\u001b[39m'\u001b[39m\u001b[39mcount\u001b[39m\u001b[39m'\u001b[39m},inplace\u001b[39m=\u001b[39m\u001b[39mTrue\u001b[39;00m)\n",
      "File \u001b[1;32mc:\\Users\\SAMSUNG\\AppData\\Local\\Programs\\Python\\Python311\\Lib\\site-packages\\pandas\\core\\frame.py:3767\u001b[0m, in \u001b[0;36mDataFrame.__getitem__\u001b[1;34m(self, key)\u001b[0m\n\u001b[0;32m   3765\u001b[0m     \u001b[39mif\u001b[39;00m is_iterator(key):\n\u001b[0;32m   3766\u001b[0m         key \u001b[39m=\u001b[39m \u001b[39mlist\u001b[39m(key)\n\u001b[1;32m-> 3767\u001b[0m     indexer \u001b[39m=\u001b[39m \u001b[39mself\u001b[39;49m\u001b[39m.\u001b[39;49mcolumns\u001b[39m.\u001b[39;49m_get_indexer_strict(key, \u001b[39m\"\u001b[39;49m\u001b[39mcolumns\u001b[39;49m\u001b[39m\"\u001b[39;49m)[\u001b[39m1\u001b[39m]\n\u001b[0;32m   3769\u001b[0m \u001b[39m# take() does not accept boolean indexers\u001b[39;00m\n\u001b[0;32m   3770\u001b[0m \u001b[39mif\u001b[39;00m \u001b[39mgetattr\u001b[39m(indexer, \u001b[39m\"\u001b[39m\u001b[39mdtype\u001b[39m\u001b[39m\"\u001b[39m, \u001b[39mNone\u001b[39;00m) \u001b[39m==\u001b[39m \u001b[39mbool\u001b[39m:\n",
      "File \u001b[1;32mc:\\Users\\SAMSUNG\\AppData\\Local\\Programs\\Python\\Python311\\Lib\\site-packages\\pandas\\core\\indexes\\base.py:5876\u001b[0m, in \u001b[0;36mIndex._get_indexer_strict\u001b[1;34m(self, key, axis_name)\u001b[0m\n\u001b[0;32m   5873\u001b[0m \u001b[39melse\u001b[39;00m:\n\u001b[0;32m   5874\u001b[0m     keyarr, indexer, new_indexer \u001b[39m=\u001b[39m \u001b[39mself\u001b[39m\u001b[39m.\u001b[39m_reindex_non_unique(keyarr)\n\u001b[1;32m-> 5876\u001b[0m \u001b[39mself\u001b[39;49m\u001b[39m.\u001b[39;49m_raise_if_missing(keyarr, indexer, axis_name)\n\u001b[0;32m   5878\u001b[0m keyarr \u001b[39m=\u001b[39m \u001b[39mself\u001b[39m\u001b[39m.\u001b[39mtake(indexer)\n\u001b[0;32m   5879\u001b[0m \u001b[39mif\u001b[39;00m \u001b[39misinstance\u001b[39m(key, Index):\n\u001b[0;32m   5880\u001b[0m     \u001b[39m# GH 42790 - Preserve name from an Index\u001b[39;00m\n",
      "File \u001b[1;32mc:\\Users\\SAMSUNG\\AppData\\Local\\Programs\\Python\\Python311\\Lib\\site-packages\\pandas\\core\\indexes\\base.py:5935\u001b[0m, in \u001b[0;36mIndex._raise_if_missing\u001b[1;34m(self, key, indexer, axis_name)\u001b[0m\n\u001b[0;32m   5933\u001b[0m     \u001b[39mif\u001b[39;00m use_interval_msg:\n\u001b[0;32m   5934\u001b[0m         key \u001b[39m=\u001b[39m \u001b[39mlist\u001b[39m(key)\n\u001b[1;32m-> 5935\u001b[0m     \u001b[39mraise\u001b[39;00m \u001b[39mKeyError\u001b[39;00m(\u001b[39mf\u001b[39m\u001b[39m\"\u001b[39m\u001b[39mNone of [\u001b[39m\u001b[39m{\u001b[39;00mkey\u001b[39m}\u001b[39;00m\u001b[39m] are in the [\u001b[39m\u001b[39m{\u001b[39;00maxis_name\u001b[39m}\u001b[39;00m\u001b[39m]\u001b[39m\u001b[39m\"\u001b[39m)\n\u001b[0;32m   5937\u001b[0m not_found \u001b[39m=\u001b[39m \u001b[39mlist\u001b[39m(ensure_index(key)[missing_mask\u001b[39m.\u001b[39mnonzero()[\u001b[39m0\u001b[39m]]\u001b[39m.\u001b[39munique())\n\u001b[0;32m   5938\u001b[0m \u001b[39mraise\u001b[39;00m \u001b[39mKeyError\u001b[39;00m(\u001b[39mf\u001b[39m\u001b[39m\"\u001b[39m\u001b[39m{\u001b[39;00mnot_found\u001b[39m}\u001b[39;00m\u001b[39m not in index\u001b[39m\u001b[39m\"\u001b[39m)\n",
      "\u001b[1;31mKeyError\u001b[0m: \"None of [Index([0], dtype='int32')] are in the [columns]\""
     ]
    }
   ],
   "source": [
    "total4=sum(sum(temp,[]),[])\n",
    "count_col4=dict.fromkeys(total4)\n",
    "for col in set(total4):\n",
    "    count_col4[col]=total4.count(col)\n",
    "x4=pd.DataFrame(data=count_col4,index=range(len(count_col4))).T[[0]]\n",
    "x4.rename(columns={0:'count'},inplace=True)"
   ]
  },
  {
   "cell_type": "code",
   "execution_count": null,
   "metadata": {},
   "outputs": [
    {
     "data": {
      "text/html": [
       "<div>\n",
       "<style scoped>\n",
       "    .dataframe tbody tr th:only-of-type {\n",
       "        vertical-align: middle;\n",
       "    }\n",
       "\n",
       "    .dataframe tbody tr th {\n",
       "        vertical-align: top;\n",
       "    }\n",
       "\n",
       "    .dataframe thead th {\n",
       "        text-align: right;\n",
       "    }\n",
       "</style>\n",
       "<table border=\"1\" class=\"dataframe\">\n",
       "  <thead>\n",
       "    <tr style=\"text-align: right;\">\n",
       "      <th></th>\n",
       "      <th>count</th>\n",
       "    </tr>\n",
       "  </thead>\n",
       "  <tbody>\n",
       "    <tr>\n",
       "      <th>(나)가족의 수입 만족도</th>\n",
       "      <td>1</td>\n",
       "    </tr>\n",
       "    <tr>\n",
       "      <th>(다)주거 환경 만족도</th>\n",
       "      <td>1</td>\n",
       "    </tr>\n",
       "  </tbody>\n",
       "</table>\n",
       "</div>"
      ],
      "text/plain": [
       "               count\n",
       "(나)가족의 수입 만족도      1\n",
       "(다)주거 환경 만족도       1"
      ]
     },
     "execution_count": 215,
     "metadata": {},
     "output_type": "execute_result"
    }
   ],
   "source": [
    "x4"
   ]
  },
  {
   "cell_type": "markdown",
   "metadata": {},
   "source": [
    "### 가족의 수입 만족도와 주거 환경 만족도 column"
   ]
  },
  {
   "cell_type": "markdown",
   "metadata": {},
   "source": [
    "#### 각각의 시각화"
   ]
  },
  {
   "cell_type": "code",
   "execution_count": 216,
   "metadata": {},
   "outputs": [
    {
     "data": {
      "image/png": "[encoded data removed]",
      "text/plain": [
       "<Figure size 1000x300 with 1 Axes>"
      ]
     },
     "metadata": {},
     "output_type": "display_data"
    }
   ],
   "source": [
    "visual_ed=data[[\"(나)가족의 수입 만족도\"]].value_counts().to_frame().sort_index()\n",
    "visual_ed.index=list(map(lambda x:x[0],visual_ed.index))\n",
    "plt.figure(figsize=(10,3))\n",
    "sb.barplot(data=visual_ed,x=visual_ed.index,y=visual_ed[\"count\"])\n",
    "plt.title(\"가족수입 만족도\")\n",
    "plt.grid()\n",
    "plt.show()"
   ]
  },
  {
   "cell_type": "code",
   "execution_count": 217,
   "metadata": {},
   "outputs": [
    {
     "data": {
      "image/png": "[encoded data removed]",
      "text/plain": [
       "<Figure size 1000x300 with 1 Axes>"
      ]
     },
     "metadata": {},
     "output_type": "display_data"
    }
   ],
   "source": [
    "visual_ed=data[[\"(다)주거 환경 만족도\"]].value_counts().to_frame().sort_index()\n",
    "visual_ed.index=list(map(lambda x:x[0],visual_ed.index))\n",
    "plt.figure(figsize=(10,3))\n",
    "sb.barplot(data=visual_ed,x=visual_ed.index,y=visual_ed[\"count\"])\n",
    "plt.title(\"주거환경 만족도\")\n",
    "plt.grid()\n",
    "plt.show()"
   ]
  },
  {
   "cell_type": "markdown",
   "metadata": {},
   "source": [
    "#### 기대도수 확인하기"
   ]
  },
  {
   "cell_type": "code",
   "execution_count": 218,
   "metadata": {},
   "outputs": [
    {
     "data": {
      "text/html": [
       "<div>\n",
       "<style scoped>\n",
       "    .dataframe tbody tr th:only-of-type {\n",
       "        vertical-align: middle;\n",
       "    }\n",
       "\n",
       "    .dataframe tbody tr th {\n",
       "        vertical-align: top;\n",
       "    }\n",
       "\n",
       "    .dataframe thead th {\n",
       "        text-align: right;\n",
       "    }\n",
       "</style>\n",
       "<table border=\"1\" class=\"dataframe\">\n",
       "  <thead>\n",
       "    <tr style=\"text-align: right;\">\n",
       "      <th>(다)주거 환경 만족도</th>\n",
       "      <th>1</th>\n",
       "      <th>2</th>\n",
       "      <th>3</th>\n",
       "      <th>4</th>\n",
       "      <th>5</th>\n",
       "    </tr>\n",
       "    <tr>\n",
       "      <th>(나)가족의 수입 만족도</th>\n",
       "      <th></th>\n",
       "      <th></th>\n",
       "      <th></th>\n",
       "      <th></th>\n",
       "      <th></th>\n",
       "    </tr>\n",
       "  </thead>\n",
       "  <tbody>\n",
       "    <tr>\n",
       "      <th>1</th>\n",
       "      <td>1.009598</td>\n",
       "      <td>6.799940</td>\n",
       "      <td>27.140372</td>\n",
       "      <td>59.358428</td>\n",
       "      <td>4.691662</td>\n",
       "    </tr>\n",
       "    <tr>\n",
       "      <th>2</th>\n",
       "      <td>7.985003</td>\n",
       "      <td>53.781344</td>\n",
       "      <td>214.655669</td>\n",
       "      <td>469.471206</td>\n",
       "      <td>37.106779</td>\n",
       "    </tr>\n",
       "    <tr>\n",
       "      <th>3</th>\n",
       "      <td>14.093581</td>\n",
       "      <td>94.924415</td>\n",
       "      <td>378.868626</td>\n",
       "      <td>828.619676</td>\n",
       "      <td>65.493701</td>\n",
       "    </tr>\n",
       "    <tr>\n",
       "      <th>4</th>\n",
       "      <td>10.381524</td>\n",
       "      <td>69.922615</td>\n",
       "      <td>279.079784</td>\n",
       "      <td>610.372525</td>\n",
       "      <td>48.243551</td>\n",
       "    </tr>\n",
       "    <tr>\n",
       "      <th>5</th>\n",
       "      <td>0.530294</td>\n",
       "      <td>3.571686</td>\n",
       "      <td>14.255549</td>\n",
       "      <td>31.178164</td>\n",
       "      <td>2.464307</td>\n",
       "    </tr>\n",
       "  </tbody>\n",
       "</table>\n",
       "</div>"
      ],
      "text/plain": [
       "(다)주거 환경 만족도           1          2           3           4          5\n",
       "(나)가족의 수입 만족도                                                         \n",
       "1               1.009598   6.799940   27.140372   59.358428   4.691662\n",
       "2               7.985003  53.781344  214.655669  469.471206  37.106779\n",
       "3              14.093581  94.924415  378.868626  828.619676  65.493701\n",
       "4              10.381524  69.922615  279.079784  610.372525  48.243551\n",
       "5               0.530294   3.571686   14.255549   31.178164   2.464307"
      ]
     },
     "execution_count": 218,
     "metadata": {},
     "output_type": "execute_result"
    }
   ],
   "source": [
    "result4[\"type4\"][0][\"DataFrame\"]"
   ]
  },
  {
   "cell_type": "markdown",
   "metadata": {},
   "source": [
    "### 주거환경 만족도\n",
    "> 1,5의 값이 부족함"
   ]
  },
  {
   "cell_type": "code",
   "execution_count": 49,
   "metadata": {},
   "outputs": [],
   "source": [
    "def scale_score(x):\n",
    "    if x<=2:\n",
    "        return 2\n",
    "    elif x>=5:\n",
    "        return 4\n",
    "    else:\n",
    "        return x\n",
    "data[\"(다)주거 환경 만족도\"]=data[\"(다)주거 환경 만족도\"].apply(scale_score)\n",
    "save_data[\"(다)주거 환경 만족도\"]=save_data[\"(다)주거 환경 만족도\"].apply(scale_score)"
   ]
  },
  {
   "cell_type": "markdown",
   "metadata": {},
   "source": [
    "### 변경 후 시각화"
   ]
  },
  {
   "cell_type": "code",
   "execution_count": 220,
   "metadata": {},
   "outputs": [
    {
     "data": {
      "image/png": "[encoded data removed]",
      "text/plain": [
       "<Figure size 1000x300 with 1 Axes>"
      ]
     },
     "metadata": {},
     "output_type": "display_data"
    }
   ],
   "source": [
    "visual_ed=data[[\"(다)주거 환경 만족도\"]].value_counts().to_frame().sort_index()\n",
    "visual_ed.index=list(map(lambda x:x[0],visual_ed.index))\n",
    "plt.figure(figsize=(10,3))\n",
    "sb.barplot(data=visual_ed,x=visual_ed.index,y=visual_ed[\"count\"])\n",
    "plt.title(\"주거환경 만족도\")\n",
    "plt.grid()\n",
    "plt.show()"
   ]
  },
  {
   "cell_type": "markdown",
   "metadata": {},
   "source": [
    "### 독립성 검정여부 확인"
   ]
  },
  {
   "cell_type": "code",
   "execution_count": 50,
   "metadata": {},
   "outputs": [],
   "source": [
    "total_test_data5=data[data.columns.difference(([\"연령\",\"삶의 사다리 점수\"]))]\n",
    "result5=chi2.chi2_try(total_test_data5)"
   ]
  },
  {
   "cell_type": "code",
   "execution_count": 51,
   "metadata": {},
   "outputs": [
    {
     "name": "stdout",
     "output_type": "stream",
     "text": [
      "0\t0\t0\t0\t"
     ]
    }
   ],
   "source": [
    "temp=[]\n",
    "for x in [\"type1\",\"type2\",\"type3\",\"type4\"]:\n",
    "    temp.append([x['Pairs'] for x in result5[x]])\n",
    "    print(len([x['Pairs'] for x in result5[x]]),end=\"\\t\")"
   ]
  },
  {
   "cell_type": "markdown",
   "metadata": {},
   "source": [
    "### 이로써 독립성 검정(카이제곱 검정)의 조건을 모두 만족"
   ]
  },
  {
   "cell_type": "markdown",
   "metadata": {},
   "source": [
    "## 독립성 검정(p-value 확인)"
   ]
  },
  {
   "cell_type": "code",
   "execution_count": 52,
   "metadata": {},
   "outputs": [],
   "source": [
    "pvalues=[(x['Pairs'],x['pvalue']) for x in result5[\"Pass\"]]\n",
    "Indep=pd.DataFrame(index=range(len(pvalues)),data=pvalues)\n",
    "Indep.rename(columns={0:'검정대상',1:'pvalue'},inplace=True)\n",
    "Indep[\"독립성\"]=Indep[\"pvalue\"]>=0.1"
   ]
  },
  {
   "cell_type": "code",
   "execution_count": 53,
   "metadata": {},
   "outputs": [
    {
     "data": {
      "text/html": [
       "<div>\n",
       "<style scoped>\n",
       "    .dataframe tbody tr th:only-of-type {\n",
       "        vertical-align: middle;\n",
       "    }\n",
       "\n",
       "    .dataframe tbody tr th {\n",
       "        vertical-align: top;\n",
       "    }\n",
       "\n",
       "    .dataframe thead th {\n",
       "        text-align: right;\n",
       "    }\n",
       "</style>\n",
       "<table border=\"1\" class=\"dataframe\">\n",
       "  <thead>\n",
       "    <tr style=\"text-align: right;\">\n",
       "      <th></th>\n",
       "      <th>검정대상</th>\n",
       "      <th>pvalue</th>\n",
       "      <th>독립성</th>\n",
       "    </tr>\n",
       "  </thead>\n",
       "  <tbody>\n",
       "    <tr>\n",
       "      <th>21</th>\n",
       "      <td>[(다)주거 환경 만족도, 교육수준]</td>\n",
       "      <td>0.402592</td>\n",
       "      <td>True</td>\n",
       "    </tr>\n",
       "    <tr>\n",
       "      <th>23</th>\n",
       "      <td>[(다)주거 환경 만족도, 종교]</td>\n",
       "      <td>0.423322</td>\n",
       "      <td>True</td>\n",
       "    </tr>\n",
       "  </tbody>\n",
       "</table>\n",
       "</div>"
      ],
      "text/plain": [
       "                    검정대상    pvalue   독립성\n",
       "21  [(다)주거 환경 만족도, 교육수준]  0.402592  True\n",
       "23    [(다)주거 환경 만족도, 종교]  0.423322  True"
      ]
     },
     "execution_count": 53,
     "metadata": {},
     "output_type": "execute_result"
    }
   ],
   "source": [
    "Indep[Indep[\"독립성\"]==True]"
   ]
  },
  {
   "cell_type": "code",
   "execution_count": 232,
   "metadata": {},
   "outputs": [
    {
     "data": {
      "text/html": [
       "<div>\n",
       "<style scoped>\n",
       "    .dataframe tbody tr th:only-of-type {\n",
       "        vertical-align: middle;\n",
       "    }\n",
       "\n",
       "    .dataframe tbody tr th {\n",
       "        vertical-align: top;\n",
       "    }\n",
       "\n",
       "    .dataframe thead th {\n",
       "        text-align: right;\n",
       "    }\n",
       "</style>\n",
       "<table border=\"1\" class=\"dataframe\">\n",
       "  <thead>\n",
       "    <tr style=\"text-align: right;\">\n",
       "      <th></th>\n",
       "      <th>검정대상</th>\n",
       "      <th>pvalue</th>\n",
       "      <th>독립성</th>\n",
       "    </tr>\n",
       "  </thead>\n",
       "  <tbody>\n",
       "    <tr>\n",
       "      <th>0</th>\n",
       "      <td>[(가)건강 만족도, (나)가족의 수입 만족도]</td>\n",
       "      <td>1.932109e-139</td>\n",
       "      <td>False</td>\n",
       "    </tr>\n",
       "    <tr>\n",
       "      <th>1</th>\n",
       "      <td>[(가)건강 만족도, (다)주거 환경 만족도]</td>\n",
       "      <td>3.637324e-20</td>\n",
       "      <td>False</td>\n",
       "    </tr>\n",
       "    <tr>\n",
       "      <th>2</th>\n",
       "      <td>[(가)건강 만족도, (라)가족관계 만족도]</td>\n",
       "      <td>1.740178e-64</td>\n",
       "      <td>False</td>\n",
       "    </tr>\n",
       "    <tr>\n",
       "      <th>3</th>\n",
       "      <td>[(가)건강 만족도, (마)직업 만족도]</td>\n",
       "      <td>2.692873e-89</td>\n",
       "      <td>False</td>\n",
       "    </tr>\n",
       "    <tr>\n",
       "      <th>4</th>\n",
       "      <td>[(가)건강 만족도, (바)사회적 친분관계 만족도]</td>\n",
       "      <td>6.398657e-90</td>\n",
       "      <td>False</td>\n",
       "    </tr>\n",
       "    <tr>\n",
       "      <th>5</th>\n",
       "      <td>[(가)건강 만족도, (사)여가생활 만족도]</td>\n",
       "      <td>9.238996e-87</td>\n",
       "      <td>False</td>\n",
       "    </tr>\n",
       "    <tr>\n",
       "      <th>6</th>\n",
       "      <td>[(가)건강 만족도, 교육수준]</td>\n",
       "      <td>2.487007e-96</td>\n",
       "      <td>False</td>\n",
       "    </tr>\n",
       "    <tr>\n",
       "      <th>7</th>\n",
       "      <td>[(가)건강 만족도, 성별]</td>\n",
       "      <td>5.348046e-57</td>\n",
       "      <td>False</td>\n",
       "    </tr>\n",
       "    <tr>\n",
       "      <th>8</th>\n",
       "      <td>[(가)건강 만족도, 종교]</td>\n",
       "      <td>7.459737e-33</td>\n",
       "      <td>False</td>\n",
       "    </tr>\n",
       "    <tr>\n",
       "      <th>9</th>\n",
       "      <td>[(나)가족의 수입 만족도, (다)주거 환경 만족도]</td>\n",
       "      <td>2.439185e-104</td>\n",
       "      <td>False</td>\n",
       "    </tr>\n",
       "    <tr>\n",
       "      <th>10</th>\n",
       "      <td>[(나)가족의 수입 만족도, (라)가족관계 만족도]</td>\n",
       "      <td>5.819932e-150</td>\n",
       "      <td>False</td>\n",
       "    </tr>\n",
       "    <tr>\n",
       "      <th>11</th>\n",
       "      <td>[(나)가족의 수입 만족도, (마)직업 만족도]</td>\n",
       "      <td>4.137718e-129</td>\n",
       "      <td>False</td>\n",
       "    </tr>\n",
       "    <tr>\n",
       "      <th>12</th>\n",
       "      <td>[(나)가족의 수입 만족도, (바)사회적 친분관계 만족도]</td>\n",
       "      <td>2.804415e-131</td>\n",
       "      <td>False</td>\n",
       "    </tr>\n",
       "    <tr>\n",
       "      <th>13</th>\n",
       "      <td>[(나)가족의 수입 만족도, (사)여가생활 만족도]</td>\n",
       "      <td>2.067317e-81</td>\n",
       "      <td>False</td>\n",
       "    </tr>\n",
       "    <tr>\n",
       "      <th>14</th>\n",
       "      <td>[(나)가족의 수입 만족도, 교육수준]</td>\n",
       "      <td>9.359644e-23</td>\n",
       "      <td>False</td>\n",
       "    </tr>\n",
       "    <tr>\n",
       "      <th>15</th>\n",
       "      <td>[(나)가족의 수입 만족도, 성별]</td>\n",
       "      <td>3.172815e-08</td>\n",
       "      <td>False</td>\n",
       "    </tr>\n",
       "    <tr>\n",
       "      <th>16</th>\n",
       "      <td>[(나)가족의 수입 만족도, 종교]</td>\n",
       "      <td>5.199848e-12</td>\n",
       "      <td>False</td>\n",
       "    </tr>\n",
       "    <tr>\n",
       "      <th>17</th>\n",
       "      <td>[(다)주거 환경 만족도, (라)가족관계 만족도]</td>\n",
       "      <td>3.881279e-128</td>\n",
       "      <td>False</td>\n",
       "    </tr>\n",
       "    <tr>\n",
       "      <th>18</th>\n",
       "      <td>[(다)주거 환경 만족도, (마)직업 만족도]</td>\n",
       "      <td>3.729724e-92</td>\n",
       "      <td>False</td>\n",
       "    </tr>\n",
       "    <tr>\n",
       "      <th>19</th>\n",
       "      <td>[(다)주거 환경 만족도, (바)사회적 친분관계 만족도]</td>\n",
       "      <td>7.916918e-80</td>\n",
       "      <td>False</td>\n",
       "    </tr>\n",
       "    <tr>\n",
       "      <th>20</th>\n",
       "      <td>[(다)주거 환경 만족도, (사)여가생활 만족도]</td>\n",
       "      <td>4.867450e-67</td>\n",
       "      <td>False</td>\n",
       "    </tr>\n",
       "    <tr>\n",
       "      <th>21</th>\n",
       "      <td>[(다)주거 환경 만족도, 교육수준]</td>\n",
       "      <td>4.025916e-01</td>\n",
       "      <td>True</td>\n",
       "    </tr>\n",
       "    <tr>\n",
       "      <th>22</th>\n",
       "      <td>[(다)주거 환경 만족도, 성별]</td>\n",
       "      <td>1.305886e-02</td>\n",
       "      <td>False</td>\n",
       "    </tr>\n",
       "    <tr>\n",
       "      <th>23</th>\n",
       "      <td>[(다)주거 환경 만족도, 종교]</td>\n",
       "      <td>4.233215e-01</td>\n",
       "      <td>True</td>\n",
       "    </tr>\n",
       "    <tr>\n",
       "      <th>24</th>\n",
       "      <td>[(라)가족관계 만족도, (마)직업 만족도]</td>\n",
       "      <td>4.867642e-117</td>\n",
       "      <td>False</td>\n",
       "    </tr>\n",
       "    <tr>\n",
       "      <th>25</th>\n",
       "      <td>[(라)가족관계 만족도, (바)사회적 친분관계 만족도]</td>\n",
       "      <td>2.085247e-239</td>\n",
       "      <td>False</td>\n",
       "    </tr>\n",
       "    <tr>\n",
       "      <th>26</th>\n",
       "      <td>[(라)가족관계 만족도, (사)여가생활 만족도]</td>\n",
       "      <td>1.326936e-90</td>\n",
       "      <td>False</td>\n",
       "    </tr>\n",
       "    <tr>\n",
       "      <th>27</th>\n",
       "      <td>[(라)가족관계 만족도, 교육수준]</td>\n",
       "      <td>5.647286e-24</td>\n",
       "      <td>False</td>\n",
       "    </tr>\n",
       "    <tr>\n",
       "      <th>28</th>\n",
       "      <td>[(라)가족관계 만족도, 성별]</td>\n",
       "      <td>1.258986e-05</td>\n",
       "      <td>False</td>\n",
       "    </tr>\n",
       "    <tr>\n",
       "      <th>29</th>\n",
       "      <td>[(라)가족관계 만족도, 종교]</td>\n",
       "      <td>6.194014e-20</td>\n",
       "      <td>False</td>\n",
       "    </tr>\n",
       "    <tr>\n",
       "      <th>30</th>\n",
       "      <td>[(마)직업 만족도, (바)사회적 친분관계 만족도]</td>\n",
       "      <td>1.142023e-226</td>\n",
       "      <td>False</td>\n",
       "    </tr>\n",
       "    <tr>\n",
       "      <th>31</th>\n",
       "      <td>[(마)직업 만족도, (사)여가생활 만족도]</td>\n",
       "      <td>1.125722e-201</td>\n",
       "      <td>False</td>\n",
       "    </tr>\n",
       "    <tr>\n",
       "      <th>32</th>\n",
       "      <td>[(마)직업 만족도, 교육수준]</td>\n",
       "      <td>1.282199e-23</td>\n",
       "      <td>False</td>\n",
       "    </tr>\n",
       "    <tr>\n",
       "      <th>33</th>\n",
       "      <td>[(마)직업 만족도, 성별]</td>\n",
       "      <td>5.323901e-05</td>\n",
       "      <td>False</td>\n",
       "    </tr>\n",
       "    <tr>\n",
       "      <th>34</th>\n",
       "      <td>[(마)직업 만족도, 종교]</td>\n",
       "      <td>1.688104e-06</td>\n",
       "      <td>False</td>\n",
       "    </tr>\n",
       "    <tr>\n",
       "      <th>35</th>\n",
       "      <td>[(바)사회적 친분관계 만족도, (사)여가생활 만족도]</td>\n",
       "      <td>0.000000e+00</td>\n",
       "      <td>False</td>\n",
       "    </tr>\n",
       "    <tr>\n",
       "      <th>36</th>\n",
       "      <td>[(바)사회적 친분관계 만족도, 교육수준]</td>\n",
       "      <td>9.045574e-24</td>\n",
       "      <td>False</td>\n",
       "    </tr>\n",
       "    <tr>\n",
       "      <th>37</th>\n",
       "      <td>[(바)사회적 친분관계 만족도, 성별]</td>\n",
       "      <td>4.070990e-03</td>\n",
       "      <td>False</td>\n",
       "    </tr>\n",
       "    <tr>\n",
       "      <th>38</th>\n",
       "      <td>[(바)사회적 친분관계 만족도, 종교]</td>\n",
       "      <td>7.565566e-07</td>\n",
       "      <td>False</td>\n",
       "    </tr>\n",
       "    <tr>\n",
       "      <th>39</th>\n",
       "      <td>[(사)여가생활 만족도, 교육수준]</td>\n",
       "      <td>1.352646e-18</td>\n",
       "      <td>False</td>\n",
       "    </tr>\n",
       "    <tr>\n",
       "      <th>40</th>\n",
       "      <td>[(사)여가생활 만족도, 성별]</td>\n",
       "      <td>1.250681e-05</td>\n",
       "      <td>False</td>\n",
       "    </tr>\n",
       "    <tr>\n",
       "      <th>41</th>\n",
       "      <td>[(사)여가생활 만족도, 종교]</td>\n",
       "      <td>1.379751e-08</td>\n",
       "      <td>False</td>\n",
       "    </tr>\n",
       "    <tr>\n",
       "      <th>42</th>\n",
       "      <td>[교육수준, 성별]</td>\n",
       "      <td>7.173448e-162</td>\n",
       "      <td>False</td>\n",
       "    </tr>\n",
       "    <tr>\n",
       "      <th>43</th>\n",
       "      <td>[교육수준, 종교]</td>\n",
       "      <td>2.291779e-81</td>\n",
       "      <td>False</td>\n",
       "    </tr>\n",
       "    <tr>\n",
       "      <th>44</th>\n",
       "      <td>[성별, 종교]</td>\n",
       "      <td>3.369118e-143</td>\n",
       "      <td>False</td>\n",
       "    </tr>\n",
       "  </tbody>\n",
       "</table>\n",
       "</div>"
      ],
      "text/plain": [
       "                                검정대상         pvalue    독립성\n",
       "0         [(가)건강 만족도, (나)가족의 수입 만족도]  1.932109e-139  False\n",
       "1          [(가)건강 만족도, (다)주거 환경 만족도]   3.637324e-20  False\n",
       "2           [(가)건강 만족도, (라)가족관계 만족도]   1.740178e-64  False\n",
       "3             [(가)건강 만족도, (마)직업 만족도]   2.692873e-89  False\n",
       "4       [(가)건강 만족도, (바)사회적 친분관계 만족도]   6.398657e-90  False\n",
       "5           [(가)건강 만족도, (사)여가생활 만족도]   9.238996e-87  False\n",
       "6                  [(가)건강 만족도, 교육수준]   2.487007e-96  False\n",
       "7                    [(가)건강 만족도, 성별]   5.348046e-57  False\n",
       "8                    [(가)건강 만족도, 종교]   7.459737e-33  False\n",
       "9      [(나)가족의 수입 만족도, (다)주거 환경 만족도]  2.439185e-104  False\n",
       "10      [(나)가족의 수입 만족도, (라)가족관계 만족도]  5.819932e-150  False\n",
       "11        [(나)가족의 수입 만족도, (마)직업 만족도]  4.137718e-129  False\n",
       "12  [(나)가족의 수입 만족도, (바)사회적 친분관계 만족도]  2.804415e-131  False\n",
       "13      [(나)가족의 수입 만족도, (사)여가생활 만족도]   2.067317e-81  False\n",
       "14             [(나)가족의 수입 만족도, 교육수준]   9.359644e-23  False\n",
       "15               [(나)가족의 수입 만족도, 성별]   3.172815e-08  False\n",
       "16               [(나)가족의 수입 만족도, 종교]   5.199848e-12  False\n",
       "17       [(다)주거 환경 만족도, (라)가족관계 만족도]  3.881279e-128  False\n",
       "18         [(다)주거 환경 만족도, (마)직업 만족도]   3.729724e-92  False\n",
       "19   [(다)주거 환경 만족도, (바)사회적 친분관계 만족도]   7.916918e-80  False\n",
       "20       [(다)주거 환경 만족도, (사)여가생활 만족도]   4.867450e-67  False\n",
       "21              [(다)주거 환경 만족도, 교육수준]   4.025916e-01   True\n",
       "22                [(다)주거 환경 만족도, 성별]   1.305886e-02  False\n",
       "23                [(다)주거 환경 만족도, 종교]   4.233215e-01   True\n",
       "24          [(라)가족관계 만족도, (마)직업 만족도]  4.867642e-117  False\n",
       "25    [(라)가족관계 만족도, (바)사회적 친분관계 만족도]  2.085247e-239  False\n",
       "26        [(라)가족관계 만족도, (사)여가생활 만족도]   1.326936e-90  False\n",
       "27               [(라)가족관계 만족도, 교육수준]   5.647286e-24  False\n",
       "28                 [(라)가족관계 만족도, 성별]   1.258986e-05  False\n",
       "29                 [(라)가족관계 만족도, 종교]   6.194014e-20  False\n",
       "30      [(마)직업 만족도, (바)사회적 친분관계 만족도]  1.142023e-226  False\n",
       "31          [(마)직업 만족도, (사)여가생활 만족도]  1.125722e-201  False\n",
       "32                 [(마)직업 만족도, 교육수준]   1.282199e-23  False\n",
       "33                   [(마)직업 만족도, 성별]   5.323901e-05  False\n",
       "34                   [(마)직업 만족도, 종교]   1.688104e-06  False\n",
       "35    [(바)사회적 친분관계 만족도, (사)여가생활 만족도]   0.000000e+00  False\n",
       "36           [(바)사회적 친분관계 만족도, 교육수준]   9.045574e-24  False\n",
       "37             [(바)사회적 친분관계 만족도, 성별]   4.070990e-03  False\n",
       "38             [(바)사회적 친분관계 만족도, 종교]   7.565566e-07  False\n",
       "39               [(사)여가생활 만족도, 교육수준]   1.352646e-18  False\n",
       "40                 [(사)여가생활 만족도, 성별]   1.250681e-05  False\n",
       "41                 [(사)여가생활 만족도, 종교]   1.379751e-08  False\n",
       "42                        [교육수준, 성별]  7.173448e-162  False\n",
       "43                        [교육수준, 종교]   2.291779e-81  False\n",
       "44                          [성별, 종교]  3.369118e-143  False"
      ]
     },
     "execution_count": 232,
     "metadata": {},
     "output_type": "execute_result"
    }
   ],
   "source": [
    "Indep"
   ]
  },
  {
   "cell_type": "code",
   "execution_count": 226,
   "metadata": {},
   "outputs": [],
   "source": [
    "save_data.to_excel(\"./대표값위주스케일링.xlsx\")"
   ]
  },
  {
   "cell_type": "code",
   "execution_count": null,
   "metadata": {},
   "outputs": [],
   "source": []
  }
 ],
 "metadata": {
  "kernelspec": {
   "display_name": "Python 3",
   "language": "python",
   "name": "python3"
  },
  "language_info": {
   "codemirror_mode": {
    "name": "ipython",
    "version": 3
   },
   "file_extension": ".py",
   "mimetype": "text/x-python",
   "name": "python",
   "nbconvert_exporter": "python",
   "pygments_lexer": "ipython3",
   "version": "3.11.3"
  },
  "orig_nbformat": 4
 },
 "nbformat": 4,
 "nbformat_minor": 2
}
