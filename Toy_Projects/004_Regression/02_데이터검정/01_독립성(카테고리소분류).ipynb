{
 "cells": [
  {
   "cell_type": "code",
   "execution_count": 58,
   "metadata": {},
   "outputs": [],
   "source": [
    "import pandas as pd\n",
    "import sys\n",
    "import os\n",
    "sys.path.append(os.path.dirname(os.getcwd()))\n",
    "import chi2\n",
    "import matplotlib.pyplot as plt\n",
    "import seaborn as sb"
   ]
  },
  {
   "cell_type": "code",
   "execution_count": 59,
   "metadata": {},
   "outputs": [],
   "source": [
    "plt.rcParams[\"figure.figsize\"]=(10,3)\n",
    "plt.rcParams[\"font.family\"]=\"BM YEONSUNG\""
   ]
  },
  {
   "cell_type": "code",
   "execution_count": 60,
   "metadata": {},
   "outputs": [],
   "source": [
    "# 이미 검사 완료한 column\n",
    "already=['(가)건강 만족도', '(나)가족의 수입 만족도', '(다)주거 환경 만족도', '(라)가족관계 만족도', '(마)직업 만족도', '(바)사회적 친분관계 만족도', '(사)여가생활 만족도', '성별','교육수준', '종교']"
   ]
  },
  {
   "cell_type": "code",
   "execution_count": 61,
   "metadata": {},
   "outputs": [],
   "source": [
    "D=pd.read_excel(\"./대표값위주스케일링.xlsx\")\n",
    "data=pd.DataFrame(D)\n",
    "data.drop(columns=['Unnamed: 0.2','Unnamed: 0.1','Unnamed: 0'],inplace=True)"
   ]
  },
  {
   "cell_type": "markdown",
   "metadata": {},
   "source": [
    "# 서열 척도가 아닌 명목변수(카테고리 내에서 확인)\n",
    "혹은 대분류에서 다루지 않았던 것들 추가"
   ]
  },
  {
   "cell_type": "markdown",
   "metadata": {},
   "source": [
    "## 건강 만족도 "
   ]
  },
  {
   "cell_type": "code",
   "execution_count": 62,
   "metadata": {},
   "outputs": [],
   "source": [
    "cols=[\"(가)건강 만족도\",\"만성질환\",\"건강상태\"]\n",
    "other=[x for x in cols if x not in already]"
   ]
  },
  {
   "cell_type": "markdown",
   "metadata": {},
   "source": [
    "### heat맵\n",
    "> 각각에는 상관관계가 있어보이며, 특히 건강상태와 건강만족도 사이에는 강한 상관관계가 보인다"
   ]
  },
  {
   "cell_type": "code",
   "execution_count": 63,
   "metadata": {},
   "outputs": [
    {
     "data": {
      "text/html": [
       "<style type=\"text/css\">\n",
       "#T_2a55e_row0_col0, #T_2a55e_row1_col1, #T_2a55e_row2_col2 {\n",
       "  background-color: #023858;\n",
       "  color: #f1f1f1;\n",
       "}\n",
       "#T_2a55e_row0_col1, #T_2a55e_row1_col0, #T_2a55e_row1_col2 {\n",
       "  background-color: #fff7fb;\n",
       "  color: #000000;\n",
       "}\n",
       "#T_2a55e_row0_col2 {\n",
       "  background-color: #e3e0ee;\n",
       "  color: #000000;\n",
       "}\n",
       "#T_2a55e_row2_col0 {\n",
       "  background-color: #a2bcda;\n",
       "  color: #000000;\n",
       "}\n",
       "#T_2a55e_row2_col1 {\n",
       "  background-color: #cdd0e5;\n",
       "  color: #000000;\n",
       "}\n",
       "</style>\n",
       "<table id=\"T_2a55e\">\n",
       "  <thead>\n",
       "    <tr>\n",
       "      <th class=\"blank level0\" >&nbsp;</th>\n",
       "      <th id=\"T_2a55e_level0_col0\" class=\"col_heading level0 col0\" >(가)건강 만족도</th>\n",
       "      <th id=\"T_2a55e_level0_col1\" class=\"col_heading level0 col1\" >만성질환</th>\n",
       "      <th id=\"T_2a55e_level0_col2\" class=\"col_heading level0 col2\" >건강상태</th>\n",
       "    </tr>\n",
       "  </thead>\n",
       "  <tbody>\n",
       "    <tr>\n",
       "      <th id=\"T_2a55e_level0_row0\" class=\"row_heading level0 row0\" >(가)건강 만족도</th>\n",
       "      <td id=\"T_2a55e_row0_col0\" class=\"data row0 col0\" >1.000000</td>\n",
       "      <td id=\"T_2a55e_row0_col1\" class=\"data row0 col1\" >0.371761</td>\n",
       "      <td id=\"T_2a55e_row0_col2\" class=\"data row0 col2\" >0.612478</td>\n",
       "    </tr>\n",
       "    <tr>\n",
       "      <th id=\"T_2a55e_level0_row1\" class=\"row_heading level0 row1\" >만성질환</th>\n",
       "      <td id=\"T_2a55e_row1_col0\" class=\"data row1 col0\" >0.371761</td>\n",
       "      <td id=\"T_2a55e_row1_col1\" class=\"data row1 col1\" >1.000000</td>\n",
       "      <td id=\"T_2a55e_row1_col2\" class=\"data row1 col2\" >0.534669</td>\n",
       "    </tr>\n",
       "    <tr>\n",
       "      <th id=\"T_2a55e_level0_row2\" class=\"row_heading level0 row2\" >건강상태</th>\n",
       "      <td id=\"T_2a55e_row2_col0\" class=\"data row2 col0\" >0.612478</td>\n",
       "      <td id=\"T_2a55e_row2_col1\" class=\"data row2 col1\" >0.534669</td>\n",
       "      <td id=\"T_2a55e_row2_col2\" class=\"data row2 col2\" >1.000000</td>\n",
       "    </tr>\n",
       "  </tbody>\n",
       "</table>\n"
      ],
      "text/plain": [
       "<pandas.io.formats.style.Styler at 0x22563768610>"
      ]
     },
     "execution_count": 63,
     "metadata": {},
     "output_type": "execute_result"
    }
   ],
   "source": [
    "data[cols].corr(method='spearman').abs().style.background_gradient(cmap=\"PuBu\")"
   ]
  },
  {
   "cell_type": "markdown",
   "metadata": {},
   "source": [
    "### 독립성 검정(카이제곱)"
   ]
  },
  {
   "cell_type": "code",
   "execution_count": 64,
   "metadata": {},
   "outputs": [],
   "source": [
    "result=chi2.chi2_try(data[cols])"
   ]
  },
  {
   "cell_type": "code",
   "execution_count": 65,
   "metadata": {},
   "outputs": [
    {
     "data": {
      "text/html": [
       "<div>\n",
       "<style scoped>\n",
       "    .dataframe tbody tr th:only-of-type {\n",
       "        vertical-align: middle;\n",
       "    }\n",
       "\n",
       "    .dataframe tbody tr th {\n",
       "        vertical-align: top;\n",
       "    }\n",
       "\n",
       "    .dataframe thead th {\n",
       "        text-align: right;\n",
       "    }\n",
       "</style>\n",
       "<table border=\"1\" class=\"dataframe\">\n",
       "  <thead>\n",
       "    <tr style=\"text-align: right;\">\n",
       "      <th></th>\n",
       "      <th>검정대상</th>\n",
       "      <th>pvalue</th>\n",
       "      <th>독립성</th>\n",
       "    </tr>\n",
       "  </thead>\n",
       "  <tbody>\n",
       "    <tr>\n",
       "      <th>0</th>\n",
       "      <td>[(가)건강 만족도, 만성질환]</td>\n",
       "      <td>6.780674e-102</td>\n",
       "      <td>False</td>\n",
       "    </tr>\n",
       "    <tr>\n",
       "      <th>1</th>\n",
       "      <td>[(가)건강 만족도, 건강상태]</td>\n",
       "      <td>0.000000e+00</td>\n",
       "      <td>False</td>\n",
       "    </tr>\n",
       "    <tr>\n",
       "      <th>2</th>\n",
       "      <td>[만성질환, 건강상태]</td>\n",
       "      <td>2.557166e-229</td>\n",
       "      <td>False</td>\n",
       "    </tr>\n",
       "  </tbody>\n",
       "</table>\n",
       "</div>"
      ],
      "text/plain": [
       "                검정대상         pvalue    독립성\n",
       "0  [(가)건강 만족도, 만성질환]  6.780674e-102  False\n",
       "1  [(가)건강 만족도, 건강상태]   0.000000e+00  False\n",
       "2       [만성질환, 건강상태]  2.557166e-229  False"
      ]
     },
     "execution_count": 65,
     "metadata": {},
     "output_type": "execute_result"
    }
   ],
   "source": [
    "pvalues=[(x['Pairs'],x['pvalue']) for x in result[\"Pass\"]]\n",
    "Indep=pd.DataFrame(index=range(len(pvalues)),data=pvalues)\n",
    "Indep.rename(columns={0:'검정대상',1:'pvalue'},inplace=True)\n",
    "Indep[\"독립성\"]=Indep[\"pvalue\"]>=0.05\n",
    "Indep"
   ]
  },
  {
   "cell_type": "markdown",
   "metadata": {},
   "source": [
    "## 주거 만족도 "
   ]
  },
  {
   "cell_type": "code",
   "execution_count": 66,
   "metadata": {},
   "outputs": [
    {
     "data": {
      "text/plain": [
       "['만성질환', '건강상태', '주택유형', '집의 (등기상) 점유형태']"
      ]
     },
     "execution_count": 66,
     "metadata": {},
     "output_type": "execute_result"
    }
   ],
   "source": [
    "col2=[\"주택유형\",\"집의 (등기상) 점유형태\",\"(다)주거 환경 만족도\"]\n",
    "other.extend([x for x in col2 if x not in already])\n",
    "other"
   ]
  },
  {
   "cell_type": "markdown",
   "metadata": {},
   "source": [
    "### 독립성 검정\n",
    "> 서열척도가 아니므로 상관계수를 볼 수 없음"
   ]
  },
  {
   "cell_type": "code",
   "execution_count": 67,
   "metadata": {},
   "outputs": [],
   "source": [
    "result2=chi2.chi2_try(data[col2])"
   ]
  },
  {
   "cell_type": "code",
   "execution_count": 68,
   "metadata": {},
   "outputs": [
    {
     "data": {
      "text/html": [
       "<div>\n",
       "<style scoped>\n",
       "    .dataframe tbody tr th:only-of-type {\n",
       "        vertical-align: middle;\n",
       "    }\n",
       "\n",
       "    .dataframe tbody tr th {\n",
       "        vertical-align: top;\n",
       "    }\n",
       "\n",
       "    .dataframe thead th {\n",
       "        text-align: right;\n",
       "    }\n",
       "</style>\n",
       "<table border=\"1\" class=\"dataframe\">\n",
       "  <thead>\n",
       "    <tr style=\"text-align: right;\">\n",
       "      <th></th>\n",
       "      <th>검정대상</th>\n",
       "      <th>pvalue</th>\n",
       "      <th>독립성</th>\n",
       "    </tr>\n",
       "  </thead>\n",
       "  <tbody>\n",
       "    <tr>\n",
       "      <th>0</th>\n",
       "      <td>[집의 (등기상) 점유형태, (다)주거 환경 만족도]</td>\n",
       "      <td>5.958329e-19</td>\n",
       "      <td>False</td>\n",
       "    </tr>\n",
       "  </tbody>\n",
       "</table>\n",
       "</div>"
      ],
      "text/plain": [
       "                            검정대상        pvalue    독립성\n",
       "0  [집의 (등기상) 점유형태, (다)주거 환경 만족도]  5.958329e-19  False"
      ]
     },
     "execution_count": 68,
     "metadata": {},
     "output_type": "execute_result"
    }
   ],
   "source": [
    "pvalues=[(x['Pairs'],x['pvalue']) for x in result2[\"Pass\"]]\n",
    "Indep=pd.DataFrame(index=range(len(pvalues)),data=pvalues)\n",
    "Indep.rename(columns={0:'검정대상',1:'pvalue'},inplace=True)\n",
    "Indep[\"독립성\"]=Indep[\"pvalue\"]>=0.05\n",
    "Indep"
   ]
  },
  {
   "cell_type": "markdown",
   "metadata": {},
   "source": [
    "#### 대표본 가정을 만족하지 못함\n",
    "> 주택유형이 문제가 된듯"
   ]
  },
  {
   "cell_type": "code",
   "execution_count": 69,
   "metadata": {},
   "outputs": [
    {
     "data": {
      "text/plain": [
       "[['주택유형', '집의 (등기상) 점유형태'], ['주택유형', '(다)주거 환경 만족도']]"
      ]
     },
     "execution_count": 69,
     "metadata": {},
     "output_type": "execute_result"
    }
   ],
   "source": [
    "[x[\"Pairs\"] for x in result2[\"type3\"]]"
   ]
  },
  {
   "cell_type": "markdown",
   "metadata": {},
   "source": [
    "#### 시각화"
   ]
  },
  {
   "cell_type": "code",
   "execution_count": 13,
   "metadata": {},
   "outputs": [
    {
     "data": {
      "image/png": "[encoded data removed]",
      "text/plain": [
       "<Figure size 1000x300 with 1 Axes>"
      ]
     },
     "metadata": {},
     "output_type": "display_data"
    }
   ],
   "source": [
    "visual=data[['주택유형']].value_counts().to_frame().sort_index()\n",
    "visual.index=list(map(lambda x:x[0],visual.index))\n",
    "plt.figure(figsize=(10,3))\n",
    "sb.barplot(data=visual,x=visual.index,y=visual[\"count\"])\n",
    "plt.title(\"주택유형\")\n",
    "plt.grid()\n",
    "plt.show()"
   ]
  },
  {
   "cell_type": "markdown",
   "metadata": {},
   "source": [
    "#### 변수통일\n",
    "|변경된 변수|이전 변수|\n",
    "|--|--|\n",
    "|9. 오피스텔|9.오피스텔|\n",
    "||10. 오피스텔|\n",
    "|12. 기타|11. 임시가건물(건테이너 등)|\n",
    "||12. 기타|\n",
    "||8. 비거주용 건물 내 주택(상가,공장 등)|"
   ]
  },
  {
   "cell_type": "code",
   "execution_count": 14,
   "metadata": {},
   "outputs": [],
   "source": [
    "def trans(x):\n",
    "    if x in [9,10]:\n",
    "        return 9\n",
    "    elif x in [11,12,8]:\n",
    "        return 12\n",
    "    else:\n",
    "        return x"
   ]
  },
  {
   "cell_type": "code",
   "execution_count": 15,
   "metadata": {},
   "outputs": [],
   "source": [
    "data[\"주택유형\"]=data[\"주택유형\"].apply(trans)"
   ]
  },
  {
   "cell_type": "markdown",
   "metadata": {},
   "source": [
    "#### 변경 후 시각화"
   ]
  },
  {
   "cell_type": "code",
   "execution_count": 16,
   "metadata": {},
   "outputs": [
    {
     "data": {
      "image/png": "[encoded data removed]",
      "text/plain": [
       "<Figure size 1000x300 with 1 Axes>"
      ]
     },
     "metadata": {},
     "output_type": "display_data"
    }
   ],
   "source": [
    "visual=data[['주택유형']].value_counts().to_frame().sort_index()\n",
    "visual.index=list(map(lambda x:x[0],visual.index))\n",
    "plt.figure(figsize=(10,3))\n",
    "sb.barplot(data=visual,x=visual.index,y=visual[\"count\"])\n",
    "plt.title(\"주택유형\")\n",
    "plt.grid()\n",
    "plt.show()"
   ]
  },
  {
   "cell_type": "markdown",
   "metadata": {},
   "source": [
    "#### 변경 후 독립성 검정"
   ]
  },
  {
   "cell_type": "code",
   "execution_count": 17,
   "metadata": {},
   "outputs": [],
   "source": [
    "result=chi2.chi2_try(data[col2])"
   ]
  },
  {
   "cell_type": "code",
   "execution_count": 18,
   "metadata": {},
   "outputs": [],
   "source": [
    "pvalues=[(x['Pairs'],x['pvalue']) for x in result[\"Pass\"]]\n",
    "Indep=pd.DataFrame(index=range(len(pvalues)),data=pvalues)\n",
    "Indep.rename(columns={0:'검정대상',1:'pvalue'},inplace=True)\n",
    "Indep[\"독립성\"]=Indep[\"pvalue\"]>=0.1"
   ]
  },
  {
   "cell_type": "code",
   "execution_count": 19,
   "metadata": {},
   "outputs": [
    {
     "data": {
      "text/html": [
       "<div>\n",
       "<style scoped>\n",
       "    .dataframe tbody tr th:only-of-type {\n",
       "        vertical-align: middle;\n",
       "    }\n",
       "\n",
       "    .dataframe tbody tr th {\n",
       "        vertical-align: top;\n",
       "    }\n",
       "\n",
       "    .dataframe thead th {\n",
       "        text-align: right;\n",
       "    }\n",
       "</style>\n",
       "<table border=\"1\" class=\"dataframe\">\n",
       "  <thead>\n",
       "    <tr style=\"text-align: right;\">\n",
       "      <th></th>\n",
       "      <th>검정대상</th>\n",
       "      <th>pvalue</th>\n",
       "      <th>독립성</th>\n",
       "    </tr>\n",
       "  </thead>\n",
       "  <tbody>\n",
       "    <tr>\n",
       "      <th>0</th>\n",
       "      <td>[주택유형, 집의 (등기상) 점유형태]</td>\n",
       "      <td>0.000000e+00</td>\n",
       "      <td>False</td>\n",
       "    </tr>\n",
       "    <tr>\n",
       "      <th>1</th>\n",
       "      <td>[주택유형, (다)주거 환경 만족도]</td>\n",
       "      <td>1.965955e-21</td>\n",
       "      <td>False</td>\n",
       "    </tr>\n",
       "    <tr>\n",
       "      <th>2</th>\n",
       "      <td>[집의 (등기상) 점유형태, (다)주거 환경 만족도]</td>\n",
       "      <td>5.958329e-19</td>\n",
       "      <td>False</td>\n",
       "    </tr>\n",
       "  </tbody>\n",
       "</table>\n",
       "</div>"
      ],
      "text/plain": [
       "                            검정대상        pvalue    독립성\n",
       "0          [주택유형, 집의 (등기상) 점유형태]  0.000000e+00  False\n",
       "1           [주택유형, (다)주거 환경 만족도]  1.965955e-21  False\n",
       "2  [집의 (등기상) 점유형태, (다)주거 환경 만족도]  5.958329e-19  False"
      ]
     },
     "execution_count": 19,
     "metadata": {},
     "output_type": "execute_result"
    }
   ],
   "source": [
    "Indep"
   ]
  },
  {
   "cell_type": "markdown",
   "metadata": {},
   "source": [
    "### 근로 만족도"
   ]
  },
  {
   "cell_type": "code",
   "execution_count": 20,
   "metadata": {},
   "outputs": [],
   "source": [
    "col3=[\"(마)직업 만족도\",\"근로유형\"]\n",
    "other.extend([x for x in col3 if x not in already])"
   ]
  },
  {
   "cell_type": "code",
   "execution_count": 21,
   "metadata": {},
   "outputs": [],
   "source": [
    "result3=chi2.chi2_try(data[col3])"
   ]
  },
  {
   "cell_type": "code",
   "execution_count": 22,
   "metadata": {},
   "outputs": [
    {
     "data": {
      "text/plain": [
       "[['(마)직업 만족도', '근로유형']]"
      ]
     },
     "execution_count": 22,
     "metadata": {},
     "output_type": "execute_result"
    }
   ],
   "source": [
    "[x[\"Pairs\"] for x in result3[\"type3\"]]"
   ]
  },
  {
   "cell_type": "markdown",
   "metadata": {},
   "source": [
    "#### 대표본 가정을 만족하지 못함\n",
    "> 근로유형이 문제"
   ]
  },
  {
   "cell_type": "markdown",
   "metadata": {},
   "source": [
    "#### 시각화"
   ]
  },
  {
   "cell_type": "code",
   "execution_count": 23,
   "metadata": {},
   "outputs": [
    {
     "data": {
      "image/png": "[encoded data removed]",
      "text/plain": [
       "<Figure size 1000x300 with 1 Axes>"
      ]
     },
     "metadata": {},
     "output_type": "display_data"
    }
   ],
   "source": [
    "visual=data[['근로유형']].value_counts().to_frame().sort_index()\n",
    "visual.index=list(map(lambda x:x[0],visual.index))\n",
    "plt.figure(figsize=(10,3))\n",
    "sb.barplot(data=visual,x=visual.index,y=visual[\"count\"])\n",
    "plt.title(\"근로유형\")\n",
    "plt.grid()\n",
    "plt.show()"
   ]
  },
  {
   "cell_type": "markdown",
   "metadata": {},
   "source": [
    "#### 변수변경\n",
    "|변경된 변수|이전 변수|\n",
    "|--|--|\n",
    "|4.근로능력 있는 미취업자|4.근로능력 있는 미취업자|\n",
    "||5.근로능력 없는 미취업자|"
   ]
  },
  {
   "cell_type": "code",
   "execution_count": 24,
   "metadata": {},
   "outputs": [],
   "source": [
    "trans=lambda x:4 if x>=5 else x\n",
    "data[\"근로유형\"]=data[\"근로유형\"].apply(trans)"
   ]
  },
  {
   "cell_type": "markdown",
   "metadata": {},
   "source": [
    "#### 변경 후 시각화"
   ]
  },
  {
   "cell_type": "code",
   "execution_count": 25,
   "metadata": {},
   "outputs": [
    {
     "data": {
      "image/png": "[encoded data removed]",
      "text/plain": [
       "<Figure size 1000x300 with 1 Axes>"
      ]
     },
     "metadata": {},
     "output_type": "display_data"
    }
   ],
   "source": [
    "visual=data[['근로유형']].value_counts().to_frame().sort_index()\n",
    "visual.index=list(map(lambda x:x[0],visual.index))\n",
    "plt.figure(figsize=(10,3))\n",
    "sb.barplot(data=visual,x=visual.index,y=visual[\"count\"])\n",
    "plt.title(\"근로유형\")\n",
    "plt.grid()\n",
    "plt.show()"
   ]
  },
  {
   "cell_type": "markdown",
   "metadata": {},
   "source": [
    "#### 변경 후 독립성 검정"
   ]
  },
  {
   "cell_type": "code",
   "execution_count": 26,
   "metadata": {},
   "outputs": [],
   "source": [
    "result3=chi2.chi2_try(data[col3])"
   ]
  },
  {
   "cell_type": "code",
   "execution_count": 27,
   "metadata": {},
   "outputs": [
    {
     "data": {
      "text/html": [
       "<div>\n",
       "<style scoped>\n",
       "    .dataframe tbody tr th:only-of-type {\n",
       "        vertical-align: middle;\n",
       "    }\n",
       "\n",
       "    .dataframe tbody tr th {\n",
       "        vertical-align: top;\n",
       "    }\n",
       "\n",
       "    .dataframe thead th {\n",
       "        text-align: right;\n",
       "    }\n",
       "</style>\n",
       "<table border=\"1\" class=\"dataframe\">\n",
       "  <thead>\n",
       "    <tr style=\"text-align: right;\">\n",
       "      <th></th>\n",
       "      <th>검정대상</th>\n",
       "      <th>pvalue</th>\n",
       "      <th>독립성</th>\n",
       "    </tr>\n",
       "  </thead>\n",
       "  <tbody>\n",
       "    <tr>\n",
       "      <th>0</th>\n",
       "      <td>[(마)직업 만족도, 근로유형]</td>\n",
       "      <td>2.276229e-76</td>\n",
       "      <td>False</td>\n",
       "    </tr>\n",
       "  </tbody>\n",
       "</table>\n",
       "</div>"
      ],
      "text/plain": [
       "                검정대상        pvalue    독립성\n",
       "0  [(마)직업 만족도, 근로유형]  2.276229e-76  False"
      ]
     },
     "execution_count": 27,
     "metadata": {},
     "output_type": "execute_result"
    }
   ],
   "source": [
    "pvalues=[(x['Pairs'],x['pvalue']) for x in result3[\"Pass\"]]\n",
    "Indep=pd.DataFrame(index=range(len(pvalues)),data=pvalues)\n",
    "Indep.rename(columns={0:'검정대상',1:'pvalue'},inplace=True)\n",
    "Indep[\"독립성\"]=Indep[\"pvalue\"]>=0.05\n",
    "Indep"
   ]
  },
  {
   "cell_type": "markdown",
   "metadata": {},
   "source": [
    "## 가족 만족도"
   ]
  },
  {
   "cell_type": "code",
   "execution_count": 28,
   "metadata": {},
   "outputs": [],
   "source": [
    "col4=[\"혼인상태\",'(나)가족의 수입 만족도', '(라)가족관계 만족도']\n",
    "other.extend([x for x in col4 if x not in already])"
   ]
  },
  {
   "cell_type": "markdown",
   "metadata": {},
   "source": [
    "#### 상관관계\n",
    "> 서열척도"
   ]
  },
  {
   "cell_type": "code",
   "execution_count": 29,
   "metadata": {},
   "outputs": [
    {
     "data": {
      "text/html": [
       "<div>\n",
       "<style scoped>\n",
       "    .dataframe tbody tr th:only-of-type {\n",
       "        vertical-align: middle;\n",
       "    }\n",
       "\n",
       "    .dataframe tbody tr th {\n",
       "        vertical-align: top;\n",
       "    }\n",
       "\n",
       "    .dataframe thead th {\n",
       "        text-align: right;\n",
       "    }\n",
       "</style>\n",
       "<table border=\"1\" class=\"dataframe\">\n",
       "  <thead>\n",
       "    <tr style=\"text-align: right;\">\n",
       "      <th></th>\n",
       "      <th>(나)가족의 수입 만족도</th>\n",
       "      <th>(라)가족관계 만족도</th>\n",
       "    </tr>\n",
       "  </thead>\n",
       "  <tbody>\n",
       "    <tr>\n",
       "      <th>(나)가족의 수입 만족도</th>\n",
       "      <td>1.000000</td>\n",
       "      <td>0.360057</td>\n",
       "    </tr>\n",
       "    <tr>\n",
       "      <th>(라)가족관계 만족도</th>\n",
       "      <td>0.360057</td>\n",
       "      <td>1.000000</td>\n",
       "    </tr>\n",
       "  </tbody>\n",
       "</table>\n",
       "</div>"
      ],
      "text/plain": [
       "               (나)가족의 수입 만족도  (라)가족관계 만족도\n",
       "(나)가족의 수입 만족도       1.000000     0.360057\n",
       "(라)가족관계 만족도         0.360057     1.000000"
      ]
     },
     "execution_count": 29,
     "metadata": {},
     "output_type": "execute_result"
    }
   ],
   "source": [
    "data[['(나)가족의 수입 만족도', '(라)가족관계 만족도']].corr()"
   ]
  },
  {
   "cell_type": "markdown",
   "metadata": {},
   "source": [
    "#### 독립성 검정"
   ]
  },
  {
   "cell_type": "code",
   "execution_count": 30,
   "metadata": {},
   "outputs": [],
   "source": [
    "result4=chi2.chi2_try(data[col4])"
   ]
  },
  {
   "cell_type": "code",
   "execution_count": 31,
   "metadata": {},
   "outputs": [
    {
     "data": {
      "text/plain": [
       "[{'Pairs': ['혼인상태', '(나)가족의 수입 만족도'],\n",
       "  'DataFrame': (나)가족의 수입 만족도          1           2           3           4          5\n",
       "  혼인상태                                                                   \n",
       "  1              13.807738  109.206659  192.750450  141.982603   7.252549\n",
       "  2              53.003899  419.212657  739.913017  545.029994  27.840432\n",
       "  3              15.173665  120.009898  211.818236  156.028194   7.970006\n",
       "  4               1.811338   14.326035   25.285543   18.625675   0.951410\n",
       "  5              15.203359  120.244751  212.232753  156.333533   7.985603,\n",
       "  'pvalue': 1.4533466013484173e-27,\n",
       "  'dof': 16}]"
      ]
     },
     "execution_count": 31,
     "metadata": {},
     "output_type": "execute_result"
    }
   ],
   "source": [
    "result4[\"type4\"]"
   ]
  },
  {
   "cell_type": "code",
   "execution_count": 32,
   "metadata": {},
   "outputs": [
    {
     "data": {
      "text/html": [
       "<div>\n",
       "<style scoped>\n",
       "    .dataframe tbody tr th:only-of-type {\n",
       "        vertical-align: middle;\n",
       "    }\n",
       "\n",
       "    .dataframe tbody tr th {\n",
       "        vertical-align: top;\n",
       "    }\n",
       "\n",
       "    .dataframe thead th {\n",
       "        text-align: right;\n",
       "    }\n",
       "</style>\n",
       "<table border=\"1\" class=\"dataframe\">\n",
       "  <thead>\n",
       "    <tr style=\"text-align: right;\">\n",
       "      <th></th>\n",
       "      <th>검정대상</th>\n",
       "      <th>pvalue</th>\n",
       "      <th>독립성</th>\n",
       "    </tr>\n",
       "  </thead>\n",
       "  <tbody>\n",
       "    <tr>\n",
       "      <th>0</th>\n",
       "      <td>[혼인상태, (라)가족관계 만족도]</td>\n",
       "      <td>2.890382e-54</td>\n",
       "      <td>False</td>\n",
       "    </tr>\n",
       "    <tr>\n",
       "      <th>1</th>\n",
       "      <td>[(나)가족의 수입 만족도, (라)가족관계 만족도]</td>\n",
       "      <td>5.819932e-150</td>\n",
       "      <td>False</td>\n",
       "    </tr>\n",
       "  </tbody>\n",
       "</table>\n",
       "</div>"
      ],
      "text/plain": [
       "                           검정대상         pvalue    독립성\n",
       "0           [혼인상태, (라)가족관계 만족도]   2.890382e-54  False\n",
       "1  [(나)가족의 수입 만족도, (라)가족관계 만족도]  5.819932e-150  False"
      ]
     },
     "execution_count": 32,
     "metadata": {},
     "output_type": "execute_result"
    }
   ],
   "source": [
    "pvalues=[(x['Pairs'],x['pvalue']) for x in result4[\"Pass\"]]\n",
    "Indep=pd.DataFrame(index=range(len(pvalues)),data=pvalues)\n",
    "Indep.rename(columns={0:'검정대상',1:'pvalue'},inplace=True)\n",
    "Indep[\"독립성\"]=Indep[\"pvalue\"]>=0.05\n",
    "Indep"
   ]
  },
  {
   "cell_type": "markdown",
   "metadata": {},
   "source": [
    "#### 대표본 가정을 만족하지 못함\n",
    "> 혼인상태가 문제"
   ]
  },
  {
   "cell_type": "code",
   "execution_count": 33,
   "metadata": {},
   "outputs": [
    {
     "data": {
      "image/png": "[encoded data removed]",
      "text/plain": [
       "<Figure size 1000x300 with 1 Axes>"
      ]
     },
     "metadata": {},
     "output_type": "display_data"
    }
   ],
   "source": [
    "visual=data[['혼인상태']].value_counts().to_frame().sort_index()\n",
    "visual.index=list(map(lambda x:x[0],visual.index))\n",
    "plt.figure(figsize=(10,3))\n",
    "sb.barplot(data=visual,x=visual.index,y=visual[\"count\"])\n",
    "plt.title(\"혼인상태\")\n",
    "plt.grid()\n",
    "plt.show()"
   ]
  },
  {
   "cell_type": "markdown",
   "metadata": {},
   "source": [
    "#### 변수변경\n",
    "|변경된 변수|이전 변수|\n",
    "|--|--|\n",
    "|1.유배우|1.유배우|\n",
    "||4.별거|"
   ]
  },
  {
   "cell_type": "code",
   "execution_count": 34,
   "metadata": {},
   "outputs": [],
   "source": [
    "trans=lambda x:1 if x==4 else x\n",
    "data[\"혼인상태\"]=data[\"혼인상태\"].apply(trans)"
   ]
  },
  {
   "cell_type": "markdown",
   "metadata": {},
   "source": [
    "#### 변경 후 시각화"
   ]
  },
  {
   "cell_type": "code",
   "execution_count": 35,
   "metadata": {},
   "outputs": [
    {
     "data": {
      "image/png": "[encoded data removed]",
      "text/plain": [
       "<Figure size 1000x300 with 1 Axes>"
      ]
     },
     "metadata": {},
     "output_type": "display_data"
    }
   ],
   "source": [
    "visual=data[['혼인상태']].value_counts().to_frame().sort_index()\n",
    "visual.index=list(map(lambda x:x[0],visual.index))\n",
    "plt.figure(figsize=(10,3))\n",
    "sb.barplot(data=visual,x=visual.index,y=visual[\"count\"])\n",
    "plt.title(\"혼인상태\")\n",
    "plt.grid()\n",
    "plt.show()"
   ]
  },
  {
   "cell_type": "markdown",
   "metadata": {},
   "source": [
    "#### 변경 후 독립성 검정"
   ]
  },
  {
   "cell_type": "code",
   "execution_count": 36,
   "metadata": {},
   "outputs": [],
   "source": [
    "result4=chi2.chi2_try(data[col4])"
   ]
  },
  {
   "cell_type": "code",
   "execution_count": 37,
   "metadata": {},
   "outputs": [
    {
     "data": {
      "text/html": [
       "<div>\n",
       "<style scoped>\n",
       "    .dataframe tbody tr th:only-of-type {\n",
       "        vertical-align: middle;\n",
       "    }\n",
       "\n",
       "    .dataframe tbody tr th {\n",
       "        vertical-align: top;\n",
       "    }\n",
       "\n",
       "    .dataframe thead th {\n",
       "        text-align: right;\n",
       "    }\n",
       "</style>\n",
       "<table border=\"1\" class=\"dataframe\">\n",
       "  <thead>\n",
       "    <tr style=\"text-align: right;\">\n",
       "      <th></th>\n",
       "      <th>검정대상</th>\n",
       "      <th>pvalue</th>\n",
       "      <th>독립성</th>\n",
       "    </tr>\n",
       "  </thead>\n",
       "  <tbody>\n",
       "    <tr>\n",
       "      <th>0</th>\n",
       "      <td>[혼인상태, (나)가족의 수입 만족도]</td>\n",
       "      <td>7.507794e-26</td>\n",
       "      <td>False</td>\n",
       "    </tr>\n",
       "    <tr>\n",
       "      <th>1</th>\n",
       "      <td>[혼인상태, (라)가족관계 만족도]</td>\n",
       "      <td>2.503669e-49</td>\n",
       "      <td>False</td>\n",
       "    </tr>\n",
       "    <tr>\n",
       "      <th>2</th>\n",
       "      <td>[(나)가족의 수입 만족도, (라)가족관계 만족도]</td>\n",
       "      <td>5.819932e-150</td>\n",
       "      <td>False</td>\n",
       "    </tr>\n",
       "  </tbody>\n",
       "</table>\n",
       "</div>"
      ],
      "text/plain": [
       "                           검정대상         pvalue    독립성\n",
       "0         [혼인상태, (나)가족의 수입 만족도]   7.507794e-26  False\n",
       "1           [혼인상태, (라)가족관계 만족도]   2.503669e-49  False\n",
       "2  [(나)가족의 수입 만족도, (라)가족관계 만족도]  5.819932e-150  False"
      ]
     },
     "execution_count": 37,
     "metadata": {},
     "output_type": "execute_result"
    }
   ],
   "source": [
    "pvalues=[(x['Pairs'],x['pvalue']) for x in result4[\"Pass\"]]\n",
    "Indep=pd.DataFrame(index=range(len(pvalues)),data=pvalues)\n",
    "Indep.rename(columns={0:'검정대상',1:'pvalue'},inplace=True)\n",
    "Indep[\"독립성\"]=Indep[\"pvalue\"]>=0.05\n",
    "Indep"
   ]
  },
  {
   "cell_type": "markdown",
   "metadata": {},
   "source": [
    "## 결론\n",
    "카테고리 내에서 독립적인 변수들을 찾읗 수 없었다"
   ]
  },
  {
   "cell_type": "code",
   "execution_count": 39,
   "metadata": {},
   "outputs": [],
   "source": [
    "final=chi2.chi2_try(data[other])"
   ]
  },
  {
   "cell_type": "code",
   "execution_count": 40,
   "metadata": {},
   "outputs": [
    {
     "data": {
      "text/html": [
       "<div>\n",
       "<style scoped>\n",
       "    .dataframe tbody tr th:only-of-type {\n",
       "        vertical-align: middle;\n",
       "    }\n",
       "\n",
       "    .dataframe tbody tr th {\n",
       "        vertical-align: top;\n",
       "    }\n",
       "\n",
       "    .dataframe thead th {\n",
       "        text-align: right;\n",
       "    }\n",
       "</style>\n",
       "<table border=\"1\" class=\"dataframe\">\n",
       "  <thead>\n",
       "    <tr style=\"text-align: right;\">\n",
       "      <th></th>\n",
       "      <th>검정대상</th>\n",
       "      <th>pvalue</th>\n",
       "      <th>독립성</th>\n",
       "    </tr>\n",
       "  </thead>\n",
       "  <tbody>\n",
       "    <tr>\n",
       "      <th>0</th>\n",
       "      <td>[만성질환, 건강상태]</td>\n",
       "      <td>2.557166e-229</td>\n",
       "      <td>False</td>\n",
       "    </tr>\n",
       "    <tr>\n",
       "      <th>1</th>\n",
       "      <td>[만성질환, 집의 (등기상) 점유형태]</td>\n",
       "      <td>2.700940e-30</td>\n",
       "      <td>False</td>\n",
       "    </tr>\n",
       "    <tr>\n",
       "      <th>2</th>\n",
       "      <td>[만성질환, 근로유형]</td>\n",
       "      <td>5.267645e-59</td>\n",
       "      <td>False</td>\n",
       "    </tr>\n",
       "    <tr>\n",
       "      <th>3</th>\n",
       "      <td>[만성질환, 혼인상태]</td>\n",
       "      <td>6.077431e-252</td>\n",
       "      <td>False</td>\n",
       "    </tr>\n",
       "    <tr>\n",
       "      <th>4</th>\n",
       "      <td>[건강상태, 주택유형]</td>\n",
       "      <td>2.566076e-39</td>\n",
       "      <td>False</td>\n",
       "    </tr>\n",
       "    <tr>\n",
       "      <th>5</th>\n",
       "      <td>[건강상태, 집의 (등기상) 점유형태]</td>\n",
       "      <td>2.218301e-22</td>\n",
       "      <td>False</td>\n",
       "    </tr>\n",
       "    <tr>\n",
       "      <th>6</th>\n",
       "      <td>[건강상태, 근로유형]</td>\n",
       "      <td>1.579390e-75</td>\n",
       "      <td>False</td>\n",
       "    </tr>\n",
       "    <tr>\n",
       "      <th>7</th>\n",
       "      <td>[건강상태, 혼인상태]</td>\n",
       "      <td>2.290605e-191</td>\n",
       "      <td>False</td>\n",
       "    </tr>\n",
       "    <tr>\n",
       "      <th>8</th>\n",
       "      <td>[주택유형, 집의 (등기상) 점유형태]</td>\n",
       "      <td>0.000000e+00</td>\n",
       "      <td>False</td>\n",
       "    </tr>\n",
       "    <tr>\n",
       "      <th>9</th>\n",
       "      <td>[주택유형, 근로유형]</td>\n",
       "      <td>2.587738e-81</td>\n",
       "      <td>False</td>\n",
       "    </tr>\n",
       "    <tr>\n",
       "      <th>10</th>\n",
       "      <td>[주택유형, 혼인상태]</td>\n",
       "      <td>3.593497e-132</td>\n",
       "      <td>False</td>\n",
       "    </tr>\n",
       "    <tr>\n",
       "      <th>11</th>\n",
       "      <td>[집의 (등기상) 점유형태, 근로유형]</td>\n",
       "      <td>1.657112e-47</td>\n",
       "      <td>False</td>\n",
       "    </tr>\n",
       "    <tr>\n",
       "      <th>12</th>\n",
       "      <td>[집의 (등기상) 점유형태, 혼인상태]</td>\n",
       "      <td>9.235428e-133</td>\n",
       "      <td>False</td>\n",
       "    </tr>\n",
       "    <tr>\n",
       "      <th>13</th>\n",
       "      <td>[근로유형, 혼인상태]</td>\n",
       "      <td>5.129032e-95</td>\n",
       "      <td>False</td>\n",
       "    </tr>\n",
       "  </tbody>\n",
       "</table>\n",
       "</div>"
      ],
      "text/plain": [
       "                     검정대상         pvalue    독립성\n",
       "0            [만성질환, 건강상태]  2.557166e-229  False\n",
       "1   [만성질환, 집의 (등기상) 점유형태]   2.700940e-30  False\n",
       "2            [만성질환, 근로유형]   5.267645e-59  False\n",
       "3            [만성질환, 혼인상태]  6.077431e-252  False\n",
       "4            [건강상태, 주택유형]   2.566076e-39  False\n",
       "5   [건강상태, 집의 (등기상) 점유형태]   2.218301e-22  False\n",
       "6            [건강상태, 근로유형]   1.579390e-75  False\n",
       "7            [건강상태, 혼인상태]  2.290605e-191  False\n",
       "8   [주택유형, 집의 (등기상) 점유형태]   0.000000e+00  False\n",
       "9            [주택유형, 근로유형]   2.587738e-81  False\n",
       "10           [주택유형, 혼인상태]  3.593497e-132  False\n",
       "11  [집의 (등기상) 점유형태, 근로유형]   1.657112e-47  False\n",
       "12  [집의 (등기상) 점유형태, 혼인상태]  9.235428e-133  False\n",
       "13           [근로유형, 혼인상태]   5.129032e-95  False"
      ]
     },
     "execution_count": 40,
     "metadata": {},
     "output_type": "execute_result"
    }
   ],
   "source": [
    "pvalues=[(x['Pairs'],x['pvalue']) for x in final[\"Pass\"]]\n",
    "Indep=pd.DataFrame(index=range(len(pvalues)),data=pvalues)\n",
    "Indep.rename(columns={0:'검정대상',1:'pvalue'},inplace=True)\n",
    "Indep[\"독립성\"]=Indep[\"pvalue\"]>=0.05\n",
    "Indep"
   ]
  },
  {
   "cell_type": "markdown",
   "metadata": {},
   "source": [
    "### type3 문제 한쌍만 발생함"
   ]
  },
  {
   "cell_type": "code",
   "execution_count": 46,
   "metadata": {},
   "outputs": [
    {
     "data": {
      "text/plain": [
       "['만성질환', '주택유형']"
      ]
     },
     "execution_count": 46,
     "metadata": {},
     "output_type": "execute_result"
    }
   ],
   "source": [
    "final[\"type3\"][0][\"Pairs\"]"
   ]
  },
  {
   "cell_type": "markdown",
   "metadata": {},
   "source": [
    "### 시각화\n",
    "> 1,2에 해당되는 사람이 너무 적음"
   ]
  },
  {
   "cell_type": "code",
   "execution_count": 47,
   "metadata": {},
   "outputs": [
    {
     "data": {
      "image/png": "[encoded data removed]",
      "text/plain": [
       "<Figure size 1000x300 with 1 Axes>"
      ]
     },
     "metadata": {},
     "output_type": "display_data"
    }
   ],
   "source": [
    "visual=data[['만성질환']].value_counts().to_frame().sort_index()\n",
    "visual.index=list(map(lambda x:x[0],visual.index))\n",
    "plt.figure(figsize=(10,3))\n",
    "sb.barplot(data=visual,x=visual.index,y=visual[\"count\"])\n",
    "plt.title(\"만성질환\")\n",
    "plt.grid()\n",
    "plt.show()"
   ]
  },
  {
   "cell_type": "code",
   "execution_count": 50,
   "metadata": {},
   "outputs": [],
   "source": [
    "# 만성질환을 복용여부로 바꾸기\n",
    "data[\"만성질환\"]=data[\"만성질환\"].apply(lambda x:1 if x>=1 else 0)"
   ]
  },
  {
   "cell_type": "markdown",
   "metadata": {},
   "source": [
    "### 변경 후 시각화"
   ]
  },
  {
   "cell_type": "code",
   "execution_count": 51,
   "metadata": {},
   "outputs": [
    {
     "data": {
      "image/png": "[encoded data removed]",
      "text/plain": [
       "<Figure size 1000x300 with 1 Axes>"
      ]
     },
     "metadata": {},
     "output_type": "display_data"
    }
   ],
   "source": [
    "visual=data[['만성질환']].value_counts().to_frame().sort_index()\n",
    "visual.index=list(map(lambda x:x[0],visual.index))\n",
    "plt.figure(figsize=(10,3))\n",
    "sb.barplot(data=visual,x=visual.index,y=visual[\"count\"])\n",
    "plt.title(\"만성질환\")\n",
    "plt.grid()\n",
    "plt.show()"
   ]
  },
  {
   "cell_type": "markdown",
   "metadata": {},
   "source": [
    "### 변경 후 카이제곱 검정"
   ]
  },
  {
   "cell_type": "code",
   "execution_count": 52,
   "metadata": {},
   "outputs": [],
   "source": [
    "final=chi2.chi2_try(data[other])"
   ]
  },
  {
   "cell_type": "code",
   "execution_count": 53,
   "metadata": {},
   "outputs": [
    {
     "data": {
      "text/html": [
       "<div>\n",
       "<style scoped>\n",
       "    .dataframe tbody tr th:only-of-type {\n",
       "        vertical-align: middle;\n",
       "    }\n",
       "\n",
       "    .dataframe tbody tr th {\n",
       "        vertical-align: top;\n",
       "    }\n",
       "\n",
       "    .dataframe thead th {\n",
       "        text-align: right;\n",
       "    }\n",
       "</style>\n",
       "<table border=\"1\" class=\"dataframe\">\n",
       "  <thead>\n",
       "    <tr style=\"text-align: right;\">\n",
       "      <th></th>\n",
       "      <th>검정대상</th>\n",
       "      <th>pvalue</th>\n",
       "      <th>독립성</th>\n",
       "    </tr>\n",
       "  </thead>\n",
       "  <tbody>\n",
       "    <tr>\n",
       "      <th>0</th>\n",
       "      <td>[만성질환, 건강상태]</td>\n",
       "      <td>4.640433e-211</td>\n",
       "      <td>False</td>\n",
       "    </tr>\n",
       "    <tr>\n",
       "      <th>1</th>\n",
       "      <td>[만성질환, 주택유형]</td>\n",
       "      <td>3.987624e-46</td>\n",
       "      <td>False</td>\n",
       "    </tr>\n",
       "    <tr>\n",
       "      <th>2</th>\n",
       "      <td>[만성질환, 집의 (등기상) 점유형태]</td>\n",
       "      <td>1.349388e-31</td>\n",
       "      <td>False</td>\n",
       "    </tr>\n",
       "    <tr>\n",
       "      <th>3</th>\n",
       "      <td>[만성질환, 근로유형]</td>\n",
       "      <td>7.367597e-55</td>\n",
       "      <td>False</td>\n",
       "    </tr>\n",
       "    <tr>\n",
       "      <th>4</th>\n",
       "      <td>[만성질환, 혼인상태]</td>\n",
       "      <td>9.747568e-234</td>\n",
       "      <td>False</td>\n",
       "    </tr>\n",
       "    <tr>\n",
       "      <th>5</th>\n",
       "      <td>[건강상태, 주택유형]</td>\n",
       "      <td>2.566076e-39</td>\n",
       "      <td>False</td>\n",
       "    </tr>\n",
       "    <tr>\n",
       "      <th>6</th>\n",
       "      <td>[건강상태, 집의 (등기상) 점유형태]</td>\n",
       "      <td>2.218301e-22</td>\n",
       "      <td>False</td>\n",
       "    </tr>\n",
       "    <tr>\n",
       "      <th>7</th>\n",
       "      <td>[건강상태, 근로유형]</td>\n",
       "      <td>1.579390e-75</td>\n",
       "      <td>False</td>\n",
       "    </tr>\n",
       "    <tr>\n",
       "      <th>8</th>\n",
       "      <td>[건강상태, 혼인상태]</td>\n",
       "      <td>2.290605e-191</td>\n",
       "      <td>False</td>\n",
       "    </tr>\n",
       "    <tr>\n",
       "      <th>9</th>\n",
       "      <td>[주택유형, 집의 (등기상) 점유형태]</td>\n",
       "      <td>0.000000e+00</td>\n",
       "      <td>False</td>\n",
       "    </tr>\n",
       "    <tr>\n",
       "      <th>10</th>\n",
       "      <td>[주택유형, 근로유형]</td>\n",
       "      <td>2.587738e-81</td>\n",
       "      <td>False</td>\n",
       "    </tr>\n",
       "    <tr>\n",
       "      <th>11</th>\n",
       "      <td>[주택유형, 혼인상태]</td>\n",
       "      <td>3.593497e-132</td>\n",
       "      <td>False</td>\n",
       "    </tr>\n",
       "    <tr>\n",
       "      <th>12</th>\n",
       "      <td>[집의 (등기상) 점유형태, 근로유형]</td>\n",
       "      <td>1.657112e-47</td>\n",
       "      <td>False</td>\n",
       "    </tr>\n",
       "    <tr>\n",
       "      <th>13</th>\n",
       "      <td>[집의 (등기상) 점유형태, 혼인상태]</td>\n",
       "      <td>9.235428e-133</td>\n",
       "      <td>False</td>\n",
       "    </tr>\n",
       "    <tr>\n",
       "      <th>14</th>\n",
       "      <td>[근로유형, 혼인상태]</td>\n",
       "      <td>5.129032e-95</td>\n",
       "      <td>False</td>\n",
       "    </tr>\n",
       "  </tbody>\n",
       "</table>\n",
       "</div>"
      ],
      "text/plain": [
       "                     검정대상         pvalue    독립성\n",
       "0            [만성질환, 건강상태]  4.640433e-211  False\n",
       "1            [만성질환, 주택유형]   3.987624e-46  False\n",
       "2   [만성질환, 집의 (등기상) 점유형태]   1.349388e-31  False\n",
       "3            [만성질환, 근로유형]   7.367597e-55  False\n",
       "4            [만성질환, 혼인상태]  9.747568e-234  False\n",
       "5            [건강상태, 주택유형]   2.566076e-39  False\n",
       "6   [건강상태, 집의 (등기상) 점유형태]   2.218301e-22  False\n",
       "7            [건강상태, 근로유형]   1.579390e-75  False\n",
       "8            [건강상태, 혼인상태]  2.290605e-191  False\n",
       "9   [주택유형, 집의 (등기상) 점유형태]   0.000000e+00  False\n",
       "10           [주택유형, 근로유형]   2.587738e-81  False\n",
       "11           [주택유형, 혼인상태]  3.593497e-132  False\n",
       "12  [집의 (등기상) 점유형태, 근로유형]   1.657112e-47  False\n",
       "13  [집의 (등기상) 점유형태, 혼인상태]  9.235428e-133  False\n",
       "14           [근로유형, 혼인상태]   5.129032e-95  False"
      ]
     },
     "execution_count": 53,
     "metadata": {},
     "output_type": "execute_result"
    }
   ],
   "source": [
    "pvalues=[(x['Pairs'],x['pvalue']) for x in final[\"Pass\"]]\n",
    "Indep=pd.DataFrame(index=range(len(pvalues)),data=pvalues)\n",
    "Indep.rename(columns={0:'검정대상',1:'pvalue'},inplace=True)\n",
    "Indep[\"독립성\"]=Indep[\"pvalue\"]>=0.05\n",
    "Indep"
   ]
  },
  {
   "cell_type": "code",
   "execution_count": 57,
   "metadata": {},
   "outputs": [],
   "source": [
    "data.to_excel(\"./카테고리_소분류완료.xlsx\")"
   ]
  },
  {
   "cell_type": "code",
   "execution_count": null,
   "metadata": {},
   "outputs": [],
   "source": []
  }
 ],
 "metadata": {
  "kernelspec": {
   "display_name": "Python 3",
   "language": "python",
   "name": "python3"
  },
  "language_info": {
   "codemirror_mode": {
    "name": "ipython",
    "version": 3
   },
   "file_extension": ".py",
   "mimetype": "text/x-python",
   "name": "python",
   "nbconvert_exporter": "python",
   "pygments_lexer": "ipython3",
   "version": "3.11.3"
  },
  "orig_nbformat": 4
 },
 "nbformat": 4,
 "nbformat_minor": 2
}
