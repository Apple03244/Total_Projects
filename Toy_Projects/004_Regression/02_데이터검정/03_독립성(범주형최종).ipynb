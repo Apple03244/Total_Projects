{
 "cells": [
  {
   "cell_type": "code",
   "execution_count": 11,
   "metadata": {},
   "outputs": [],
   "source": [
    "import pandas as pd\n",
    "import scipy as sp\n",
    "import matplotlib.pyplot as plt\n",
    "import seaborn as sb\n",
    "plt.rcParams[\"font.family\"]=\"BM YEONSUNG\""
   ]
  },
  {
   "cell_type": "code",
   "execution_count": 12,
   "metadata": {},
   "outputs": [],
   "source": [
    "import sys\n",
    "import os\n",
    "sys.path.append(os.path.dirname(os.getcwd()))"
   ]
  },
  {
   "cell_type": "code",
   "execution_count": 13,
   "metadata": {},
   "outputs": [],
   "source": [
    "import chi2"
   ]
  },
  {
   "cell_type": "markdown",
   "metadata": {},
   "source": [
    "독립성 검정(범주형 최종)\n",
    "=============="
   ]
  },
  {
   "cell_type": "code",
   "execution_count": 14,
   "metadata": {},
   "outputs": [],
   "source": [
    "D=pd.read_excel(\"./카테고리_소분류완료.xlsx\")"
   ]
  },
  {
   "cell_type": "code",
   "execution_count": 15,
   "metadata": {},
   "outputs": [],
   "source": [
    "data=pd.DataFrame((D))"
   ]
  },
  {
   "cell_type": "code",
   "execution_count": 16,
   "metadata": {},
   "outputs": [],
   "source": [
    "data.drop(data.columns[0],inplace=True,axis=1)"
   ]
  },
  {
   "cell_type": "code",
   "execution_count": 17,
   "metadata": {},
   "outputs": [],
   "source": [
    "already=['(가)건강 만족도', '(나)가족의 수입 만족도', '(다)주거 환경 만족도', '(라)가족관계 만족도', '(마)직업 만족도', '(바)사회적 친분관계 만족도', '(사)여가생활 만족도', '성별','교육수준', '종교']\n",
    "other=['만성질환', '건강상태', '주택유형', '집의 (등기상) 점유형태', '근로유형', '혼인상태']"
   ]
  },
  {
   "cell_type": "code",
   "execution_count": 18,
   "metadata": {},
   "outputs": [],
   "source": [
    "범주형=data[already+other]"
   ]
  },
  {
   "cell_type": "markdown",
   "metadata": {},
   "source": [
    "## 카이제곱 검정"
   ]
  },
  {
   "cell_type": "code",
   "execution_count": 19,
   "metadata": {},
   "outputs": [],
   "source": [
    "final=chi2.chi2_try(범주형)"
   ]
  },
  {
   "cell_type": "markdown",
   "metadata": {},
   "source": [
    "### 카이제곱 대표본 가정을 만족못하는 column\n",
    "> 대표본 가정을 만족하지 못하더라도         \n",
    "> 독립적이지 않다고 판단"
   ]
  },
  {
   "cell_type": "code",
   "execution_count": 20,
   "metadata": {},
   "outputs": [
    {
     "data": {
      "text/plain": [
       "{'Pairs': ['(나)가족의 수입 만족도', '주택유형'],\n",
       " 'DataFrame': 주택유형                   1           2           3          4           5   \\\n",
       " (나)가족의 수입 만족도                                                              \n",
       " 1               27.674865   19.627774    7.779844   2.791242   24.586683   \n",
       " 2              218.883023  155.237852   61.531494  22.076185  194.458308   \n",
       " 3              386.329934  273.995801  108.603479  38.964607  343.220156   \n",
       " 4              284.575885  201.829034   79.998800  28.701860  252.820636   \n",
       " 5               14.536293   10.309538    4.086383   1.466107   12.914217   \n",
       " \n",
       " 주택유형                  6          7          9          12         13  \n",
       " (나)가족의 수입 만족도                                                         \n",
       " 1               3.830534   2.553689   3.325735   1.276845   5.552789  \n",
       " 2              30.296041  20.197361  26.303539  10.098680  43.917516  \n",
       " 3              53.472705  35.648470  46.425915  17.824235  77.514697  \n",
       " 4              39.388722  26.259148  34.197960  13.129574  57.098380  \n",
       " 5               2.011998   1.341332   1.746851   0.670666   2.916617  ,\n",
       " 'pvalue': 4.51402548980568e-15,\n",
       " 'dof': 36}"
      ]
     },
     "execution_count": 20,
     "metadata": {},
     "output_type": "execute_result"
    }
   ],
   "source": [
    "[x for x in final[\"type3\"]][0]"
   ]
  },
  {
   "cell_type": "code",
   "execution_count": 23,
   "metadata": {},
   "outputs": [],
   "source": [
    "pvalues=[(x['Pairs'],x['pvalue']) for x in final[\"Pass\"]]\n",
    "Indep=pd.DataFrame(index=range(len(pvalues)),data=pvalues)\n",
    "Indep.rename(columns={0:'검정대상',1:'pvalue'},inplace=True)\n",
    "Indep[\"독립성\"]=Indep[\"pvalue\"]>=0.05\n",
    "final=Indep[Indep[\"독립성\"]==True]"
   ]
  },
  {
   "cell_type": "code",
   "execution_count": 24,
   "metadata": {},
   "outputs": [
    {
     "data": {
      "text/plain": [
       "array([list(['(다)주거 환경 만족도', '교육수준']), list(['(다)주거 환경 만족도', '종교']),\n",
       "       list(['(다)주거 환경 만족도', '만성질환']), list(['(다)주거 환경 만족도', '근로유형'])],\n",
       "      dtype=object)"
      ]
     },
     "execution_count": 24,
     "metadata": {},
     "output_type": "execute_result"
    }
   ],
   "source": [
    "final[\"검정대상\"].values"
   ]
  },
  {
   "cell_type": "code",
   "execution_count": null,
   "metadata": {},
   "outputs": [],
   "source": []
  }
 ],
 "metadata": {
  "kernelspec": {
   "display_name": "Python 3",
   "language": "python",
   "name": "python3"
  },
  "language_info": {
   "codemirror_mode": {
    "name": "ipython",
    "version": 3
   },
   "file_extension": ".py",
   "mimetype": "text/x-python",
   "name": "python",
   "nbconvert_exporter": "python",
   "pygments_lexer": "ipython3",
   "version": "3.11.3"
  },
  "orig_nbformat": 4
 },
 "nbformat": 4,
 "nbformat_minor": 2
}
