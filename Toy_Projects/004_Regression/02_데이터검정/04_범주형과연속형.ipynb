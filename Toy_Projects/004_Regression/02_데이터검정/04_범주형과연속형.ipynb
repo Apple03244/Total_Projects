{
 "cells": [
  {
   "cell_type": "code",
   "execution_count": 129,
   "metadata": {},
   "outputs": [],
   "source": [
    "import pandas as pd\n",
    "import matplotlib.pyplot as plt\n",
    "import seaborn as sb"
   ]
  },
  {
   "cell_type": "code",
   "execution_count": 130,
   "metadata": {},
   "outputs": [],
   "source": [
    "D=pd.read_excel(\"./카테고리_소분류완료.xlsx\")\n",
    "data=pd.DataFrame(D)\n",
    "data.drop(columns='Unnamed: 0',inplace=True)\n",
    "plt.rcParams[\"font.family\"]=\"BM YEONSuNG\""
   ]
  },
  {
   "cell_type": "code",
   "execution_count": 131,
   "metadata": {},
   "outputs": [],
   "source": [
    "범주형=['(가)건강 만족도', '(나)가족의 수입 만족도', '(다)주거 환경 만족도', '(라)가족관계 만족도', '(마)직업 만족도', '(바)사회적 친분관계 만족도', '(사)여가생활 만족도', '성별','교육수준', '종교','만성질환', '건강상태', '주택유형', '집의 (등기상) 점유형태', '근로유형', '혼인상태']\n",
    "연속형=[\"총생활비\",\"연령\",\"주거면적\",\"방수\"]"
   ]
  },
  {
   "cell_type": "markdown",
   "metadata": {},
   "source": [
    "# 범주형과 연속형 사이의 독립성 검정"
   ]
  },
  {
   "cell_type": "markdown",
   "metadata": {},
   "source": [
    "## 범주형과 연속형 사이의 combination"
   ]
  },
  {
   "cell_type": "code",
   "execution_count": 132,
   "metadata": {},
   "outputs": [],
   "source": [
    "import itertools\n",
    "comb=[list(x) for x in itertools.product(범주형,연속형)]"
   ]
  },
  {
   "cell_type": "markdown",
   "metadata": {},
   "source": [
    "### 등분산성\n",
    "F-test 진행"
   ]
  },
  {
   "cell_type": "code",
   "execution_count": 133,
   "metadata": {},
   "outputs": [],
   "source": [
    "import scipy as sp"
   ]
  },
  {
   "cell_type": "code",
   "execution_count": 134,
   "metadata": {},
   "outputs": [],
   "source": [
    "# 그룹\n",
    "dc={}\n",
    "for x in data[comb[0][0]].unique():\n",
    "    temp=pd.DataFrame(data[data[comb[0][0]]==x][comb[0][1]])\n",
    "    dc[x]=temp.reset_index().drop(\"index\",axis=1)"
   ]
  },
  {
   "cell_type": "code",
   "execution_count": 135,
   "metadata": {},
   "outputs": [],
   "source": [
    "formula=\",\".join([f'dc[{i}]' for i in dc.keys()])"
   ]
  },
  {
   "cell_type": "code",
   "execution_count": 136,
   "metadata": {},
   "outputs": [
    {
     "data": {
      "text/plain": [
       "[101.74301392534885, 7.696997783169532e-82]"
      ]
     },
     "execution_count": 136,
     "metadata": {},
     "output_type": "execute_result"
    }
   ],
   "source": [
    "list(map(lambda x:x[0],sp.stats.f_oneway(dc[2],dc[5],dc[4],dc[3],dc[1])))"
   ]
  },
  {
   "cell_type": "markdown",
   "metadata": {},
   "source": [
    "#### F-test"
   ]
  },
  {
   "cell_type": "code",
   "execution_count": 137,
   "metadata": {},
   "outputs": [],
   "source": [
    "result=[]\n",
    "for c in comb:\n",
    "    part_result,dc={},{}\n",
    "    for x in data[c[0]].unique():\n",
    "        temp=pd.DataFrame(data[data[c[0]]==x][c[1]])\n",
    "        dc[x]=temp.reset_index().drop(\"index\",axis=1)\n",
    "    formula=\",\".join([f'dc[{i}]' for i in dc.keys()])\n",
    "    part_result['combination']=c\n",
    "    part_result[\"pvalue\"]=eval(f'sp.stats.f_oneway({formula})')[1][0]\n",
    "    result.append(part_result)"
   ]
  },
  {
   "cell_type": "code",
   "execution_count": 138,
   "metadata": {},
   "outputs": [],
   "source": [
    "df=pd.DataFrame(result)"
   ]
  },
  {
   "cell_type": "code",
   "execution_count": 139,
   "metadata": {},
   "outputs": [
    {
     "data": {
      "text/html": [
       "<div>\n",
       "<style scoped>\n",
       "    .dataframe tbody tr th:only-of-type {\n",
       "        vertical-align: middle;\n",
       "    }\n",
       "\n",
       "    .dataframe tbody tr th {\n",
       "        vertical-align: top;\n",
       "    }\n",
       "\n",
       "    .dataframe thead th {\n",
       "        text-align: right;\n",
       "    }\n",
       "</style>\n",
       "<table border=\"1\" class=\"dataframe\">\n",
       "  <thead>\n",
       "    <tr style=\"text-align: right;\">\n",
       "      <th></th>\n",
       "      <th>combination</th>\n",
       "      <th>pvalue</th>\n",
       "    </tr>\n",
       "  </thead>\n",
       "  <tbody>\n",
       "    <tr>\n",
       "      <th>9</th>\n",
       "      <td>[(다)주거 환경 만족도, 연령]</td>\n",
       "      <td>0.063552</td>\n",
       "    </tr>\n",
       "    <tr>\n",
       "      <th>19</th>\n",
       "      <td>[(마)직업 만족도, 방수]</td>\n",
       "      <td>0.323229</td>\n",
       "    </tr>\n",
       "    <tr>\n",
       "      <th>23</th>\n",
       "      <td>[(바)사회적 친분관계 만족도, 방수]</td>\n",
       "      <td>0.076107</td>\n",
       "    </tr>\n",
       "    <tr>\n",
       "      <th>27</th>\n",
       "      <td>[(사)여가생활 만족도, 방수]</td>\n",
       "      <td>0.804913</td>\n",
       "    </tr>\n",
       "  </tbody>\n",
       "</table>\n",
       "</div>"
      ],
      "text/plain": [
       "              combination    pvalue\n",
       "9      [(다)주거 환경 만족도, 연령]  0.063552\n",
       "19        [(마)직업 만족도, 방수]  0.323229\n",
       "23  [(바)사회적 친분관계 만족도, 방수]  0.076107\n",
       "27      [(사)여가생활 만족도, 방수]  0.804913"
      ]
     },
     "execution_count": 139,
     "metadata": {},
     "output_type": "execute_result"
    }
   ],
   "source": [
    "df[df[\"pvalue\"]>=0.05]"
   ]
  },
  {
   "cell_type": "markdown",
   "metadata": {},
   "source": [
    "#### 정규성 가정이 없다면?"
   ]
  },
  {
   "cell_type": "code",
   "execution_count": 140,
   "metadata": {},
   "outputs": [],
   "source": [
    "result2=[]\n",
    "for c in comb:\n",
    "    part_result,dc={},{}\n",
    "    for x in data[c[0]].unique():\n",
    "        temp=pd.DataFrame(data[data[c[0]]==x][c[1]])\n",
    "        dc[x]=temp.reset_index().drop(\"index\",axis=1)\n",
    "    formula=\",\".join([f'dc[{i}].squeeze()' for i in dc.keys()])\n",
    "    part_result['combination']=c\n",
    "    part_result[\"pvalue\"]=eval(f'sp.stats.levene({formula}).pvalue')\n",
    "    result2.append(part_result)\n"
   ]
  },
  {
   "cell_type": "code",
   "execution_count": 141,
   "metadata": {},
   "outputs": [
    {
     "data": {
      "text/html": [
       "<div>\n",
       "<style scoped>\n",
       "    .dataframe tbody tr th:only-of-type {\n",
       "        vertical-align: middle;\n",
       "    }\n",
       "\n",
       "    .dataframe tbody tr th {\n",
       "        vertical-align: top;\n",
       "    }\n",
       "\n",
       "    .dataframe thead th {\n",
       "        text-align: right;\n",
       "    }\n",
       "</style>\n",
       "<table border=\"1\" class=\"dataframe\">\n",
       "  <thead>\n",
       "    <tr style=\"text-align: right;\">\n",
       "      <th></th>\n",
       "      <th>combination</th>\n",
       "      <th>pvalue</th>\n",
       "    </tr>\n",
       "  </thead>\n",
       "  <tbody>\n",
       "    <tr>\n",
       "      <th>9</th>\n",
       "      <td>[(다)주거 환경 만족도, 연령]</td>\n",
       "      <td>0.063552</td>\n",
       "    </tr>\n",
       "    <tr>\n",
       "      <th>19</th>\n",
       "      <td>[(마)직업 만족도, 방수]</td>\n",
       "      <td>0.323229</td>\n",
       "    </tr>\n",
       "    <tr>\n",
       "      <th>23</th>\n",
       "      <td>[(바)사회적 친분관계 만족도, 방수]</td>\n",
       "      <td>0.076107</td>\n",
       "    </tr>\n",
       "    <tr>\n",
       "      <th>27</th>\n",
       "      <td>[(사)여가생활 만족도, 방수]</td>\n",
       "      <td>0.804913</td>\n",
       "    </tr>\n",
       "  </tbody>\n",
       "</table>\n",
       "</div>"
      ],
      "text/plain": [
       "              combination    pvalue\n",
       "9      [(다)주거 환경 만족도, 연령]  0.063552\n",
       "19        [(마)직업 만족도, 방수]  0.323229\n",
       "23  [(바)사회적 친분관계 만족도, 방수]  0.076107\n",
       "27      [(사)여가생활 만족도, 방수]  0.804913"
      ]
     },
     "execution_count": 141,
     "metadata": {},
     "output_type": "execute_result"
    }
   ],
   "source": [
    "df=pd.DataFrame(result)\n",
    "df[df[\"pvalue\"]>=0.05]"
   ]
  },
  {
   "cell_type": "markdown",
   "metadata": {},
   "source": [
    "### anova"
   ]
  },
  {
   "cell_type": "code",
   "execution_count": 142,
   "metadata": {},
   "outputs": [],
   "source": [
    "import statsmodels.stats.anova as anova\n",
    "import statsmodels.formula.api as sf\n",
    "import statsmodels.api as sm"
   ]
  },
  {
   "cell_type": "code",
   "execution_count": 143,
   "metadata": {},
   "outputs": [],
   "source": [
    "data[['(다)주거 환경 만족도','총생활비']]\n",
    "add_exog=sm.add_constant(data[['(다)주거 환경 만족도']])"
   ]
  },
  {
   "cell_type": "code",
   "execution_count": 144,
   "metadata": {},
   "outputs": [],
   "source": [
    "model=sm.OLS(endog=data[\"총생활비\"],exog=add_exog)"
   ]
  },
  {
   "cell_type": "code",
   "execution_count": 145,
   "metadata": {},
   "outputs": [],
   "source": [
    "fit=model.fit()"
   ]
  },
  {
   "cell_type": "code",
   "execution_count": 146,
   "metadata": {},
   "outputs": [
    {
     "data": {
      "text/html": [
       "<table class=\"simpletable\">\n",
       "<caption>OLS Regression Results</caption>\n",
       "<tr>\n",
       "  <th>Dep. Variable:</th>          <td>총생활비</td>       <th>  R-squared:         </th> <td>   0.005</td> \n",
       "</tr>\n",
       "<tr>\n",
       "  <th>Model:</th>                   <td>OLS</td>       <th>  Adj. R-squared:    </th> <td>   0.004</td> \n",
       "</tr>\n",
       "<tr>\n",
       "  <th>Method:</th>             <td>Least Squares</td>  <th>  F-statistic:       </th> <td>   15.38</td> \n",
       "</tr>\n",
       "<tr>\n",
       "  <th>Date:</th>             <td>Wed, 16 Aug 2023</td> <th>  Prob (F-statistic):</th> <td>8.95e-05</td> \n",
       "</tr>\n",
       "<tr>\n",
       "  <th>Time:</th>                 <td>15:47:06</td>     <th>  Log-Likelihood:    </th> <td> -20817.</td> \n",
       "</tr>\n",
       "<tr>\n",
       "  <th>No. Observations:</th>      <td>  3334</td>      <th>  AIC:               </th> <td>4.164e+04</td>\n",
       "</tr>\n",
       "<tr>\n",
       "  <th>Df Residuals:</th>          <td>  3332</td>      <th>  BIC:               </th> <td>4.165e+04</td>\n",
       "</tr>\n",
       "<tr>\n",
       "  <th>Df Model:</th>              <td>     1</td>      <th>                     </th>     <td> </td>    \n",
       "</tr>\n",
       "<tr>\n",
       "  <th>Covariance Type:</th>      <td>nonrobust</td>    <th>                     </th>     <td> </td>    \n",
       "</tr>\n",
       "</table>\n",
       "<table class=\"simpletable\">\n",
       "<tr>\n",
       "        <td></td>          <th>coef</th>     <th>std err</th>      <th>t</th>      <th>P>|t|</th>  <th>[0.025</th>    <th>0.975]</th>  \n",
       "</tr>\n",
       "<tr>\n",
       "  <th>const</th>        <td>  111.4655</td> <td>   12.319</td> <td>    9.048</td> <td> 0.000</td> <td>   87.311</td> <td>  135.619</td>\n",
       "</tr>\n",
       "<tr>\n",
       "  <th>(다)주거 환경 만족도</th> <td>   13.3326</td> <td>    3.399</td> <td>    3.922</td> <td> 0.000</td> <td>    6.668</td> <td>   19.997</td>\n",
       "</tr>\n",
       "</table>\n",
       "<table class=\"simpletable\">\n",
       "<tr>\n",
       "  <th>Omnibus:</th>       <td>3966.616</td> <th>  Durbin-Watson:     </th>  <td>   1.246</td> \n",
       "</tr>\n",
       "<tr>\n",
       "  <th>Prob(Omnibus):</th>  <td> 0.000</td>  <th>  Jarque-Bera (JB):  </th> <td>885609.350</td>\n",
       "</tr>\n",
       "<tr>\n",
       "  <th>Skew:</th>           <td> 5.989</td>  <th>  Prob(JB):          </th>  <td>    0.00</td> \n",
       "</tr>\n",
       "<tr>\n",
       "  <th>Kurtosis:</th>       <td>81.941</td>  <th>  Cond. No.          </th>  <td>    22.2</td> \n",
       "</tr>\n",
       "</table><br/><br/>Notes:<br/>[1] Standard Errors assume that the covariance matrix of the errors is correctly specified."
      ],
      "text/latex": [
       "\\begin{center}\n",
       "\\begin{tabular}{lclc}\n",
       "\\toprule\n",
       "\\textbf{Dep. Variable:}    &       총생활비       & \\textbf{  R-squared:         } &     0.005   \\\\\n",
       "\\textbf{Model:}            &       OLS        & \\textbf{  Adj. R-squared:    } &     0.004   \\\\\n",
       "\\textbf{Method:}           &  Least Squares   & \\textbf{  F-statistic:       } &     15.38   \\\\\n",
       "\\textbf{Date:}             & Wed, 16 Aug 2023 & \\textbf{  Prob (F-statistic):} &  8.95e-05   \\\\\n",
       "\\textbf{Time:}             &     15:47:06     & \\textbf{  Log-Likelihood:    } &   -20817.   \\\\\n",
       "\\textbf{No. Observations:} &        3334      & \\textbf{  AIC:               } & 4.164e+04   \\\\\n",
       "\\textbf{Df Residuals:}     &        3332      & \\textbf{  BIC:               } & 4.165e+04   \\\\\n",
       "\\textbf{Df Model:}         &           1      & \\textbf{                     } &             \\\\\n",
       "\\textbf{Covariance Type:}  &    nonrobust     & \\textbf{                     } &             \\\\\n",
       "\\bottomrule\n",
       "\\end{tabular}\n",
       "\\begin{tabular}{lcccccc}\n",
       "                      & \\textbf{coef} & \\textbf{std err} & \\textbf{t} & \\textbf{P$> |$t$|$} & \\textbf{[0.025} & \\textbf{0.975]}  \\\\\n",
       "\\midrule\n",
       "\\textbf{const}        &     111.4655  &       12.319     &     9.048  &         0.000        &       87.311    &      135.619     \\\\\n",
       "\\textbf{(다)주거 환경 만족도} &      13.3326  &        3.399     &     3.922  &         0.000        &        6.668    &       19.997     \\\\\n",
       "\\bottomrule\n",
       "\\end{tabular}\n",
       "\\begin{tabular}{lclc}\n",
       "\\textbf{Omnibus:}       & 3966.616 & \\textbf{  Durbin-Watson:     } &     1.246   \\\\\n",
       "\\textbf{Prob(Omnibus):} &   0.000  & \\textbf{  Jarque-Bera (JB):  } & 885609.350  \\\\\n",
       "\\textbf{Skew:}          &   5.989  & \\textbf{  Prob(JB):          } &      0.00   \\\\\n",
       "\\textbf{Kurtosis:}      &  81.941  & \\textbf{  Cond. No.          } &      22.2   \\\\\n",
       "\\bottomrule\n",
       "\\end{tabular}\n",
       "%\\caption{OLS Regression Results}\n",
       "\\end{center}\n",
       "\n",
       "Notes: \\newline\n",
       " [1] Standard Errors assume that the covariance matrix of the errors is correctly specified."
      ],
      "text/plain": [
       "<class 'statsmodels.iolib.summary.Summary'>\n",
       "\"\"\"\n",
       "                            OLS Regression Results                            \n",
       "==============================================================================\n",
       "Dep. Variable:                   총생활비   R-squared:                       0.005\n",
       "Model:                            OLS   Adj. R-squared:                  0.004\n",
       "Method:                 Least Squares   F-statistic:                     15.38\n",
       "Date:                Wed, 16 Aug 2023   Prob (F-statistic):           8.95e-05\n",
       "Time:                        15:47:06   Log-Likelihood:                -20817.\n",
       "No. Observations:                3334   AIC:                         4.164e+04\n",
       "Df Residuals:                    3332   BIC:                         4.165e+04\n",
       "Df Model:                           1                                         \n",
       "Covariance Type:            nonrobust                                         \n",
       "================================================================================\n",
       "                   coef    std err          t      P>|t|      [0.025      0.975]\n",
       "--------------------------------------------------------------------------------\n",
       "const          111.4655     12.319      9.048      0.000      87.311     135.619\n",
       "(다)주거 환경 만족도    13.3326      3.399      3.922      0.000       6.668      19.997\n",
       "==============================================================================\n",
       "Omnibus:                     3966.616   Durbin-Watson:                   1.246\n",
       "Prob(Omnibus):                  0.000   Jarque-Bera (JB):           885609.350\n",
       "Skew:                           5.989   Prob(JB):                         0.00\n",
       "Kurtosis:                      81.941   Cond. No.                         22.2\n",
       "==============================================================================\n",
       "\n",
       "Notes:\n",
       "[1] Standard Errors assume that the covariance matrix of the errors is correctly specified.\n",
       "\"\"\""
      ]
     },
     "execution_count": 146,
     "metadata": {},
     "output_type": "execute_result"
    }
   ],
   "source": [
    "fit.summary()"
   ]
  },
  {
   "cell_type": "code",
   "execution_count": 147,
   "metadata": {},
   "outputs": [
    {
     "data": {
      "text/plain": [
       "8.949568651699636e-05"
      ]
     },
     "execution_count": 147,
     "metadata": {},
     "output_type": "execute_result"
    }
   ],
   "source": [
    "list(fit.pvalues)[1]"
   ]
  },
  {
   "cell_type": "code",
   "execution_count": 148,
   "metadata": {},
   "outputs": [],
   "source": [
    "anova_result=[]\n",
    "for col in [x[\"combination\"] for x in result]:\n",
    "    temp={}\n",
    "    model=sm.OLS(endog=data[col[1]],exog=sm.add_constant(data[col[0]])).fit()\n",
    "    temp[\"combination\"],temp[\"pvalue\"]=col,model.pvalues[1]\n",
    "    anova_result.append(temp)"
   ]
  },
  {
   "cell_type": "code",
   "execution_count": 149,
   "metadata": {},
   "outputs": [
    {
     "data": {
      "text/html": [
       "<div>\n",
       "<style scoped>\n",
       "    .dataframe tbody tr th:only-of-type {\n",
       "        vertical-align: middle;\n",
       "    }\n",
       "\n",
       "    .dataframe tbody tr th {\n",
       "        vertical-align: top;\n",
       "    }\n",
       "\n",
       "    .dataframe thead th {\n",
       "        text-align: right;\n",
       "    }\n",
       "</style>\n",
       "<table border=\"1\" class=\"dataframe\">\n",
       "  <thead>\n",
       "    <tr style=\"text-align: right;\">\n",
       "      <th></th>\n",
       "      <th>combination</th>\n",
       "      <th>pvalue</th>\n",
       "    </tr>\n",
       "  </thead>\n",
       "  <tbody>\n",
       "    <tr>\n",
       "      <th>7</th>\n",
       "      <td>[(나)가족의 수입 만족도, 방수]</td>\n",
       "      <td>0.464404</td>\n",
       "    </tr>\n",
       "    <tr>\n",
       "      <th>9</th>\n",
       "      <td>[(다)주거 환경 만족도, 연령]</td>\n",
       "      <td>0.080135</td>\n",
       "    </tr>\n",
       "    <tr>\n",
       "      <th>19</th>\n",
       "      <td>[(마)직업 만족도, 방수]</td>\n",
       "      <td>0.287758</td>\n",
       "    </tr>\n",
       "    <tr>\n",
       "      <th>23</th>\n",
       "      <td>[(바)사회적 친분관계 만족도, 방수]</td>\n",
       "      <td>0.971917</td>\n",
       "    </tr>\n",
       "    <tr>\n",
       "      <th>27</th>\n",
       "      <td>[(사)여가생활 만족도, 방수]</td>\n",
       "      <td>0.510343</td>\n",
       "    </tr>\n",
       "  </tbody>\n",
       "</table>\n",
       "</div>"
      ],
      "text/plain": [
       "              combination    pvalue\n",
       "7     [(나)가족의 수입 만족도, 방수]  0.464404\n",
       "9      [(다)주거 환경 만족도, 연령]  0.080135\n",
       "19        [(마)직업 만족도, 방수]  0.287758\n",
       "23  [(바)사회적 친분관계 만족도, 방수]  0.971917\n",
       "27      [(사)여가생활 만족도, 방수]  0.510343"
      ]
     },
     "execution_count": 149,
     "metadata": {},
     "output_type": "execute_result"
    }
   ],
   "source": [
    "df=pd.DataFrame(anova_result)\n",
    "df[df[\"pvalue\"]>=0.05]"
   ]
  },
  {
   "cell_type": "code",
   "execution_count": 150,
   "metadata": {},
   "outputs": [],
   "source": [
    "anova_result2=[]\n",
    "for col in [x[\"combination\"] for x in result2]:\n",
    "    temp={}\n",
    "    model=sm.OLS(endog=data[col[1]],exog=sm.add_constant(data[col[0]])).fit()\n",
    "    temp[\"combination\"],temp[\"pvalue\"]=col,model.pvalues[1]\n",
    "    anova_result2.append(temp)"
   ]
  },
  {
   "cell_type": "code",
   "execution_count": 151,
   "metadata": {},
   "outputs": [],
   "source": [
    "df2=pd.DataFrame(anova_result2)\n",
    "final=df2[df2[\"pvalue\"]>=0.05]"
   ]
  },
  {
   "cell_type": "code",
   "execution_count": 153,
   "metadata": {},
   "outputs": [
    {
     "data": {
      "text/plain": [
       "array([list(['(나)가족의 수입 만족도', '방수']), list(['(다)주거 환경 만족도', '연령']),\n",
       "       list(['(마)직업 만족도', '방수']), list(['(바)사회적 친분관계 만족도', '방수']),\n",
       "       list(['(사)여가생활 만족도', '방수'])], dtype=object)"
      ]
     },
     "execution_count": 153,
     "metadata": {},
     "output_type": "execute_result"
    }
   ],
   "source": [
    "final[\"combination\"].values"
   ]
  },
  {
   "cell_type": "code",
   "execution_count": null,
   "metadata": {},
   "outputs": [],
   "source": []
  }
 ],
 "metadata": {
  "kernelspec": {
   "display_name": "Python 3",
   "language": "python",
   "name": "python3"
  },
  "language_info": {
   "codemirror_mode": {
    "name": "ipython",
    "version": 3
   },
   "file_extension": ".py",
   "mimetype": "text/x-python",
   "name": "python",
   "nbconvert_exporter": "python",
   "pygments_lexer": "ipython3",
   "version": "3.11.3"
  },
  "orig_nbformat": 4
 },
 "nbformat": 4,
 "nbformat_minor": 2
}
