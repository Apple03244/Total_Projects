{
 "cells": [
  {
   "cell_type": "code",
   "execution_count": 2,
   "metadata": {},
   "outputs": [],
   "source": [
    "import pandas as pd\n",
    "import matplotlib.pyplot as plt\n",
    "import seaborn as sb"
   ]
  },
  {
   "cell_type": "code",
   "execution_count": 3,
   "metadata": {},
   "outputs": [],
   "source": [
    "plt.rcParams[\"font.family\"]=\"BM YEONSUNG\""
   ]
  },
  {
   "cell_type": "code",
   "execution_count": 4,
   "metadata": {},
   "outputs": [],
   "source": [
    "D=pd.read_excel(r\"C:\\Users\\SAMSUNG\\Desktop\\Projects\\004_Regression\\더했다간미워할거야.xlsx\")"
   ]
  },
  {
   "cell_type": "code",
   "execution_count": 10,
   "metadata": {},
   "outputs": [
    {
     "data": {
      "text/plain": [
       "['가족생활에 대한 만족도',\n",
       " '(가)건강 만족도',\n",
       " '(나)가족의 수입 만족도',\n",
       " '(다)주거 환경 만족도',\n",
       " '(라)가족관계 만족도',\n",
       " '(마)직업 만족도',\n",
       " '(바)사회적 친분관계 만족도',\n",
       " '(사)여가생활 만족도']"
      ]
     },
     "execution_count": 10,
     "metadata": {},
     "output_type": "execute_result"
    }
   ],
   "source": [
    "cols1=[x for x in D.columns if x.find(\"만족도\")!=-1]\n",
    "cols2=[\"삶의 사다리 점수\",\"성별\",\"연령\",\"교육수준\",\"종교\"]"
   ]
  },
  {
   "cell_type": "code",
   "execution_count": 12,
   "metadata": {},
   "outputs": [],
   "source": [
    "data=pd.DataFrame(D[cols1+cols2])"
   ]
  },
  {
   "cell_type": "markdown",
   "metadata": {},
   "source": [
    "## 데이터 분리"
   ]
  },
  {
   "cell_type": "code",
   "execution_count": 13,
   "metadata": {},
   "outputs": [],
   "source": [
    "import sklearn.model_selection as sm"
   ]
  },
  {
   "cell_type": "code",
   "execution_count": 16,
   "metadata": {},
   "outputs": [],
   "source": [
    "train_data,test_data=sm.train_test_split(data,stratify=data[\"삶의 사다리 점수\"],train_size=0.7,random_state=3)"
   ]
  },
  {
   "cell_type": "code",
   "execution_count": 17,
   "metadata": {},
   "outputs": [
    {
     "data": {
      "text/html": [
       "<div>\n",
       "<style scoped>\n",
       "    .dataframe tbody tr th:only-of-type {\n",
       "        vertical-align: middle;\n",
       "    }\n",
       "\n",
       "    .dataframe tbody tr th {\n",
       "        vertical-align: top;\n",
       "    }\n",
       "\n",
       "    .dataframe thead th {\n",
       "        text-align: right;\n",
       "    }\n",
       "</style>\n",
       "<table border=\"1\" class=\"dataframe\">\n",
       "  <thead>\n",
       "    <tr style=\"text-align: right;\">\n",
       "      <th></th>\n",
       "      <th>가족생활에 대한 만족도</th>\n",
       "      <th>(가)건강 만족도</th>\n",
       "      <th>(나)가족의 수입 만족도</th>\n",
       "      <th>(다)주거 환경 만족도</th>\n",
       "      <th>(라)가족관계 만족도</th>\n",
       "      <th>(마)직업 만족도</th>\n",
       "      <th>(바)사회적 친분관계 만족도</th>\n",
       "      <th>(사)여가생활 만족도</th>\n",
       "      <th>삶의 사다리 점수</th>\n",
       "      <th>성별</th>\n",
       "      <th>연령</th>\n",
       "      <th>교육수준</th>\n",
       "      <th>종교</th>\n",
       "    </tr>\n",
       "  </thead>\n",
       "  <tbody>\n",
       "    <tr>\n",
       "      <th>2501</th>\n",
       "      <td>6</td>\n",
       "      <td>4</td>\n",
       "      <td>3</td>\n",
       "      <td>4</td>\n",
       "      <td>4</td>\n",
       "      <td>4</td>\n",
       "      <td>4</td>\n",
       "      <td>3</td>\n",
       "      <td>6</td>\n",
       "      <td>2</td>\n",
       "      <td>78</td>\n",
       "      <td>3</td>\n",
       "      <td>0</td>\n",
       "    </tr>\n",
       "    <tr>\n",
       "      <th>3138</th>\n",
       "      <td>6</td>\n",
       "      <td>3</td>\n",
       "      <td>2</td>\n",
       "      <td>3</td>\n",
       "      <td>4</td>\n",
       "      <td>3</td>\n",
       "      <td>3</td>\n",
       "      <td>2</td>\n",
       "      <td>5</td>\n",
       "      <td>2</td>\n",
       "      <td>72</td>\n",
       "      <td>3</td>\n",
       "      <td>0</td>\n",
       "    </tr>\n",
       "    <tr>\n",
       "      <th>3288</th>\n",
       "      <td>6</td>\n",
       "      <td>2</td>\n",
       "      <td>3</td>\n",
       "      <td>4</td>\n",
       "      <td>4</td>\n",
       "      <td>4</td>\n",
       "      <td>4</td>\n",
       "      <td>3</td>\n",
       "      <td>6</td>\n",
       "      <td>2</td>\n",
       "      <td>73</td>\n",
       "      <td>2</td>\n",
       "      <td>0</td>\n",
       "    </tr>\n",
       "    <tr>\n",
       "      <th>3409</th>\n",
       "      <td>6</td>\n",
       "      <td>1</td>\n",
       "      <td>3</td>\n",
       "      <td>4</td>\n",
       "      <td>4</td>\n",
       "      <td>3</td>\n",
       "      <td>3</td>\n",
       "      <td>3</td>\n",
       "      <td>5</td>\n",
       "      <td>2</td>\n",
       "      <td>87</td>\n",
       "      <td>3</td>\n",
       "      <td>0</td>\n",
       "    </tr>\n",
       "    <tr>\n",
       "      <th>1000</th>\n",
       "      <td>6</td>\n",
       "      <td>2</td>\n",
       "      <td>2</td>\n",
       "      <td>3</td>\n",
       "      <td>3</td>\n",
       "      <td>3</td>\n",
       "      <td>3</td>\n",
       "      <td>3</td>\n",
       "      <td>6</td>\n",
       "      <td>1</td>\n",
       "      <td>53</td>\n",
       "      <td>6</td>\n",
       "      <td>2</td>\n",
       "    </tr>\n",
       "    <tr>\n",
       "      <th>...</th>\n",
       "      <td>...</td>\n",
       "      <td>...</td>\n",
       "      <td>...</td>\n",
       "      <td>...</td>\n",
       "      <td>...</td>\n",
       "      <td>...</td>\n",
       "      <td>...</td>\n",
       "      <td>...</td>\n",
       "      <td>...</td>\n",
       "      <td>...</td>\n",
       "      <td>...</td>\n",
       "      <td>...</td>\n",
       "      <td>...</td>\n",
       "    </tr>\n",
       "    <tr>\n",
       "      <th>3331</th>\n",
       "      <td>6</td>\n",
       "      <td>4</td>\n",
       "      <td>4</td>\n",
       "      <td>4</td>\n",
       "      <td>4</td>\n",
       "      <td>4</td>\n",
       "      <td>4</td>\n",
       "      <td>4</td>\n",
       "      <td>8</td>\n",
       "      <td>2</td>\n",
       "      <td>64</td>\n",
       "      <td>5</td>\n",
       "      <td>0</td>\n",
       "    </tr>\n",
       "    <tr>\n",
       "      <th>149</th>\n",
       "      <td>6</td>\n",
       "      <td>4</td>\n",
       "      <td>2</td>\n",
       "      <td>4</td>\n",
       "      <td>4</td>\n",
       "      <td>3</td>\n",
       "      <td>4</td>\n",
       "      <td>3</td>\n",
       "      <td>9</td>\n",
       "      <td>2</td>\n",
       "      <td>85</td>\n",
       "      <td>7</td>\n",
       "      <td>0</td>\n",
       "    </tr>\n",
       "    <tr>\n",
       "      <th>364</th>\n",
       "      <td>6</td>\n",
       "      <td>4</td>\n",
       "      <td>4</td>\n",
       "      <td>4</td>\n",
       "      <td>4</td>\n",
       "      <td>4</td>\n",
       "      <td>3</td>\n",
       "      <td>4</td>\n",
       "      <td>7</td>\n",
       "      <td>1</td>\n",
       "      <td>83</td>\n",
       "      <td>5</td>\n",
       "      <td>0</td>\n",
       "    </tr>\n",
       "    <tr>\n",
       "      <th>656</th>\n",
       "      <td>4</td>\n",
       "      <td>1</td>\n",
       "      <td>3</td>\n",
       "      <td>3</td>\n",
       "      <td>3</td>\n",
       "      <td>3</td>\n",
       "      <td>2</td>\n",
       "      <td>2</td>\n",
       "      <td>3</td>\n",
       "      <td>1</td>\n",
       "      <td>84</td>\n",
       "      <td>3</td>\n",
       "      <td>0</td>\n",
       "    </tr>\n",
       "    <tr>\n",
       "      <th>2281</th>\n",
       "      <td>2</td>\n",
       "      <td>3</td>\n",
       "      <td>2</td>\n",
       "      <td>2</td>\n",
       "      <td>2</td>\n",
       "      <td>2</td>\n",
       "      <td>2</td>\n",
       "      <td>2</td>\n",
       "      <td>4</td>\n",
       "      <td>1</td>\n",
       "      <td>39</td>\n",
       "      <td>5</td>\n",
       "      <td>0</td>\n",
       "    </tr>\n",
       "  </tbody>\n",
       "</table>\n",
       "<p>2496 rows × 13 columns</p>\n",
       "</div>"
      ],
      "text/plain": [
       "      가족생활에 대한 만족도  (가)건강 만족도  (나)가족의 수입 만족도  (다)주거 환경 만족도  (라)가족관계 만족도  \\\n",
       "2501             6          4              3             4            4   \n",
       "3138             6          3              2             3            4   \n",
       "3288             6          2              3             4            4   \n",
       "3409             6          1              3             4            4   \n",
       "1000             6          2              2             3            3   \n",
       "...            ...        ...            ...           ...          ...   \n",
       "3331             6          4              4             4            4   \n",
       "149              6          4              2             4            4   \n",
       "364              6          4              4             4            4   \n",
       "656              4          1              3             3            3   \n",
       "2281             2          3              2             2            2   \n",
       "\n",
       "      (마)직업 만족도  (바)사회적 친분관계 만족도  (사)여가생활 만족도  삶의 사다리 점수  성별  연령  교육수준  종교  \n",
       "2501          4                4            3          6   2  78     3   0  \n",
       "3138          3                3            2          5   2  72     3   0  \n",
       "3288          4                4            3          6   2  73     2   0  \n",
       "3409          3                3            3          5   2  87     3   0  \n",
       "1000          3                3            3          6   1  53     6   2  \n",
       "...         ...              ...          ...        ...  ..  ..   ...  ..  \n",
       "3331          4                4            4          8   2  64     5   0  \n",
       "149           3                4            3          9   2  85     7   0  \n",
       "364           4                3            4          7   1  83     5   0  \n",
       "656           3                2            2          3   1  84     3   0  \n",
       "2281          2                2            2          4   1  39     5   0  \n",
       "\n",
       "[2496 rows x 13 columns]"
      ]
     },
     "execution_count": 17,
     "metadata": {},
     "output_type": "execute_result"
    }
   ],
   "source": [
    "train_data"
   ]
  },
  {
   "cell_type": "code",
   "execution_count": 18,
   "metadata": {},
   "outputs": [
    {
     "data": {
      "text/plain": [
       "<Axes: xlabel='삶의 사다리 점수', ylabel='count'>"
      ]
     },
     "execution_count": 18,
     "metadata": {},
     "output_type": "execute_result"
    },
    {
     "data": {
      "image/png": "[encoded data removed]",
      "text/plain": [
       "<Figure size 400x200 with 1 Axes>"
      ]
     },
     "metadata": {},
     "output_type": "display_data"
    }
   ],
   "source": [
    "plt.figure(figsize=(4,2))\n",
    "sb.countplot(data=train_data,x=\"삶의 사다리 점수\")"
   ]
  },
  {
   "cell_type": "code",
   "execution_count": 19,
   "metadata": {},
   "outputs": [
    {
     "data": {
      "text/plain": [
       "<Axes: xlabel='삶의 사다리 점수', ylabel='count'>"
      ]
     },
     "execution_count": 19,
     "metadata": {},
     "output_type": "execute_result"
    },
    {
     "data": {
      "image/png": "[encoded data removed]",
      "text/plain": [
       "<Figure size 400x200 with 1 Axes>"
      ]
     },
     "metadata": {},
     "output_type": "display_data"
    }
   ],
   "source": [
    "plt.figure(figsize=(4,2))\n",
    "sb.countplot(data=test_data,x=\"삶의 사다리 점수\")"
   ]
  },
  {
   "cell_type": "markdown",
   "metadata": {},
   "source": [
    "# 회귀분석"
   ]
  },
  {
   "cell_type": "code",
   "execution_count": 20,
   "metadata": {},
   "outputs": [],
   "source": [
    "import statsmodels.formula.api as smf\n",
    "import statsmodels.api as sm"
   ]
  },
  {
   "cell_type": "markdown",
   "metadata": {},
   "source": [
    "### 종속,독립"
   ]
  },
  {
   "cell_type": "code",
   "execution_count": 21,
   "metadata": {},
   "outputs": [],
   "source": [
    "y=train_data[\"삶의 사다리 점수\"]\n",
    "x=train_data[train_data.columns.difference([\"삶의 사다리 점수\"])]"
   ]
  },
  {
   "cell_type": "code",
   "execution_count": 22,
   "metadata": {},
   "outputs": [],
   "source": [
    "pre_x=sm.add_constant(x)"
   ]
  },
  {
   "cell_type": "code",
   "execution_count": 23,
   "metadata": {},
   "outputs": [],
   "source": [
    "model=sm.OLS(endog=y,exog=pre_x)\n",
    "fit=model.fit()"
   ]
  },
  {
   "cell_type": "code",
   "execution_count": 24,
   "metadata": {},
   "outputs": [
    {
     "data": {
      "text/html": [
       "<table class=\"simpletable\">\n",
       "<caption>OLS Regression Results</caption>\n",
       "<tr>\n",
       "  <th>Dep. Variable:</th>        <td>삶의 사다리 점수</td>    <th>  R-squared:         </th> <td>   0.392</td> \n",
       "</tr>\n",
       "<tr>\n",
       "  <th>Model:</th>                   <td>OLS</td>       <th>  Adj. R-squared:    </th> <td>   0.389</td> \n",
       "</tr>\n",
       "<tr>\n",
       "  <th>Method:</th>             <td>Least Squares</td>  <th>  F-statistic:       </th> <td>   133.2</td> \n",
       "</tr>\n",
       "<tr>\n",
       "  <th>Date:</th>             <td>Thu, 10 Aug 2023</td> <th>  Prob (F-statistic):</th> <td>3.01e-257</td>\n",
       "</tr>\n",
       "<tr>\n",
       "  <th>Time:</th>                 <td>15:17:52</td>     <th>  Log-Likelihood:    </th> <td> -4461.8</td> \n",
       "</tr>\n",
       "<tr>\n",
       "  <th>No. Observations:</th>      <td>  2496</td>      <th>  AIC:               </th> <td>   8950.</td> \n",
       "</tr>\n",
       "<tr>\n",
       "  <th>Df Residuals:</th>          <td>  2483</td>      <th>  BIC:               </th> <td>   9025.</td> \n",
       "</tr>\n",
       "<tr>\n",
       "  <th>Df Model:</th>              <td>    12</td>      <th>                     </th>     <td> </td>    \n",
       "</tr>\n",
       "<tr>\n",
       "  <th>Covariance Type:</th>      <td>nonrobust</td>    <th>                     </th>     <td> </td>    \n",
       "</tr>\n",
       "</table>\n",
       "<table class=\"simpletable\">\n",
       "<tr>\n",
       "         <td></td>            <th>coef</th>     <th>std err</th>      <th>t</th>      <th>P>|t|</th>  <th>[0.025</th>    <th>0.975]</th>  \n",
       "</tr>\n",
       "<tr>\n",
       "  <th>const</th>           <td>   -1.2409</td> <td>    0.340</td> <td>   -3.655</td> <td> 0.000</td> <td>   -1.907</td> <td>   -0.575</td>\n",
       "</tr>\n",
       "<tr>\n",
       "  <th>(가)건강 만족도</th>       <td>    0.3012</td> <td>    0.036</td> <td>    8.481</td> <td> 0.000</td> <td>    0.232</td> <td>    0.371</td>\n",
       "</tr>\n",
       "<tr>\n",
       "  <th>(나)가족의 수입 만족도</th>   <td>    0.1911</td> <td>    0.041</td> <td>    4.702</td> <td> 0.000</td> <td>    0.111</td> <td>    0.271</td>\n",
       "</tr>\n",
       "<tr>\n",
       "  <th>(다)주거 환경 만족도</th>    <td>    0.2228</td> <td>    0.045</td> <td>    5.002</td> <td> 0.000</td> <td>    0.135</td> <td>    0.310</td>\n",
       "</tr>\n",
       "<tr>\n",
       "  <th>(라)가족관계 만족도</th>     <td>    0.1872</td> <td>    0.055</td> <td>    3.410</td> <td> 0.001</td> <td>    0.080</td> <td>    0.295</td>\n",
       "</tr>\n",
       "<tr>\n",
       "  <th>(마)직업 만족도</th>       <td>    0.3003</td> <td>    0.050</td> <td>    6.024</td> <td> 0.000</td> <td>    0.203</td> <td>    0.398</td>\n",
       "</tr>\n",
       "<tr>\n",
       "  <th>(바)사회적 친분관계 만족도</th> <td>    0.2883</td> <td>    0.055</td> <td>    5.215</td> <td> 0.000</td> <td>    0.180</td> <td>    0.397</td>\n",
       "</tr>\n",
       "<tr>\n",
       "  <th>(사)여가생활 만족도</th>     <td>    0.3158</td> <td>    0.048</td> <td>    6.616</td> <td> 0.000</td> <td>    0.222</td> <td>    0.409</td>\n",
       "</tr>\n",
       "<tr>\n",
       "  <th>가족생활에 대한 만족도</th>    <td>    0.1444</td> <td>    0.021</td> <td>    7.035</td> <td> 0.000</td> <td>    0.104</td> <td>    0.185</td>\n",
       "</tr>\n",
       "<tr>\n",
       "  <th>교육수준</th>            <td>    0.0882</td> <td>    0.027</td> <td>    3.290</td> <td> 0.001</td> <td>    0.036</td> <td>    0.141</td>\n",
       "</tr>\n",
       "<tr>\n",
       "  <th>성별</th>              <td>    0.0008</td> <td>    0.072</td> <td>    0.012</td> <td> 0.991</td> <td>   -0.141</td> <td>    0.142</td>\n",
       "</tr>\n",
       "<tr>\n",
       "  <th>연령</th>              <td>    0.0027</td> <td>    0.002</td> <td>    1.147</td> <td> 0.251</td> <td>   -0.002</td> <td>    0.007</td>\n",
       "</tr>\n",
       "<tr>\n",
       "  <th>종교</th>              <td>   -0.0367</td> <td>    0.057</td> <td>   -0.643</td> <td> 0.520</td> <td>   -0.148</td> <td>    0.075</td>\n",
       "</tr>\n",
       "</table>\n",
       "<table class=\"simpletable\">\n",
       "<tr>\n",
       "  <th>Omnibus:</th>       <td>13.703</td> <th>  Durbin-Watson:     </th> <td>   1.995</td>\n",
       "</tr>\n",
       "<tr>\n",
       "  <th>Prob(Omnibus):</th> <td> 0.001</td> <th>  Jarque-Bera (JB):  </th> <td>  18.210</td>\n",
       "</tr>\n",
       "<tr>\n",
       "  <th>Skew:</th>          <td> 0.052</td> <th>  Prob(JB):          </th> <td>0.000111</td>\n",
       "</tr>\n",
       "<tr>\n",
       "  <th>Kurtosis:</th>      <td> 3.406</td> <th>  Cond. No.          </th> <td>    835.</td>\n",
       "</tr>\n",
       "</table><br/><br/>Notes:<br/>[1] Standard Errors assume that the covariance matrix of the errors is correctly specified."
      ],
      "text/latex": [
       "\\begin{center}\n",
       "\\begin{tabular}{lclc}\n",
       "\\toprule\n",
       "\\textbf{Dep. Variable:}    &    삶의 사다리 점수     & \\textbf{  R-squared:         } &     0.392   \\\\\n",
       "\\textbf{Model:}            &       OLS        & \\textbf{  Adj. R-squared:    } &     0.389   \\\\\n",
       "\\textbf{Method:}           &  Least Squares   & \\textbf{  F-statistic:       } &     133.2   \\\\\n",
       "\\textbf{Date:}             & Thu, 10 Aug 2023 & \\textbf{  Prob (F-statistic):} & 3.01e-257   \\\\\n",
       "\\textbf{Time:}             &     15:17:52     & \\textbf{  Log-Likelihood:    } &   -4461.8   \\\\\n",
       "\\textbf{No. Observations:} &        2496      & \\textbf{  AIC:               } &     8950.   \\\\\n",
       "\\textbf{Df Residuals:}     &        2483      & \\textbf{  BIC:               } &     9025.   \\\\\n",
       "\\textbf{Df Model:}         &          12      & \\textbf{                     } &             \\\\\n",
       "\\textbf{Covariance Type:}  &    nonrobust     & \\textbf{                     } &             \\\\\n",
       "\\bottomrule\n",
       "\\end{tabular}\n",
       "\\begin{tabular}{lcccccc}\n",
       "                         & \\textbf{coef} & \\textbf{std err} & \\textbf{t} & \\textbf{P$> |$t$|$} & \\textbf{[0.025} & \\textbf{0.975]}  \\\\\n",
       "\\midrule\n",
       "\\textbf{const}           &      -1.2409  &        0.340     &    -3.655  &         0.000        &       -1.907    &       -0.575     \\\\\n",
       "\\textbf{(가)건강 만족도}       &       0.3012  &        0.036     &     8.481  &         0.000        &        0.232    &        0.371     \\\\\n",
       "\\textbf{(나)가족의 수입 만족도}   &       0.1911  &        0.041     &     4.702  &         0.000        &        0.111    &        0.271     \\\\\n",
       "\\textbf{(다)주거 환경 만족도}    &       0.2228  &        0.045     &     5.002  &         0.000        &        0.135    &        0.310     \\\\\n",
       "\\textbf{(라)가족관계 만족도}     &       0.1872  &        0.055     &     3.410  &         0.001        &        0.080    &        0.295     \\\\\n",
       "\\textbf{(마)직업 만족도}       &       0.3003  &        0.050     &     6.024  &         0.000        &        0.203    &        0.398     \\\\\n",
       "\\textbf{(바)사회적 친분관계 만족도} &       0.2883  &        0.055     &     5.215  &         0.000        &        0.180    &        0.397     \\\\\n",
       "\\textbf{(사)여가생활 만족도}     &       0.3158  &        0.048     &     6.616  &         0.000        &        0.222    &        0.409     \\\\\n",
       "\\textbf{가족생활에 대한 만족도}    &       0.1444  &        0.021     &     7.035  &         0.000        &        0.104    &        0.185     \\\\\n",
       "\\textbf{교육수준}            &       0.0882  &        0.027     &     3.290  &         0.001        &        0.036    &        0.141     \\\\\n",
       "\\textbf{성별}              &       0.0008  &        0.072     &     0.012  &         0.991        &       -0.141    &        0.142     \\\\\n",
       "\\textbf{연령}              &       0.0027  &        0.002     &     1.147  &         0.251        &       -0.002    &        0.007     \\\\\n",
       "\\textbf{종교}              &      -0.0367  &        0.057     &    -0.643  &         0.520        &       -0.148    &        0.075     \\\\\n",
       "\\bottomrule\n",
       "\\end{tabular}\n",
       "\\begin{tabular}{lclc}\n",
       "\\textbf{Omnibus:}       & 13.703 & \\textbf{  Durbin-Watson:     } &    1.995  \\\\\n",
       "\\textbf{Prob(Omnibus):} &  0.001 & \\textbf{  Jarque-Bera (JB):  } &   18.210  \\\\\n",
       "\\textbf{Skew:}          &  0.052 & \\textbf{  Prob(JB):          } & 0.000111  \\\\\n",
       "\\textbf{Kurtosis:}      &  3.406 & \\textbf{  Cond. No.          } &     835.  \\\\\n",
       "\\bottomrule\n",
       "\\end{tabular}\n",
       "%\\caption{OLS Regression Results}\n",
       "\\end{center}\n",
       "\n",
       "Notes: \\newline\n",
       " [1] Standard Errors assume that the covariance matrix of the errors is correctly specified."
      ],
      "text/plain": [
       "<class 'statsmodels.iolib.summary.Summary'>\n",
       "\"\"\"\n",
       "                            OLS Regression Results                            \n",
       "==============================================================================\n",
       "Dep. Variable:              삶의 사다리 점수   R-squared:                       0.392\n",
       "Model:                            OLS   Adj. R-squared:                  0.389\n",
       "Method:                 Least Squares   F-statistic:                     133.2\n",
       "Date:                Thu, 10 Aug 2023   Prob (F-statistic):          3.01e-257\n",
       "Time:                        15:17:52   Log-Likelihood:                -4461.8\n",
       "No. Observations:                2496   AIC:                             8950.\n",
       "Df Residuals:                    2483   BIC:                             9025.\n",
       "Df Model:                          12                                         \n",
       "Covariance Type:            nonrobust                                         \n",
       "===================================================================================\n",
       "                      coef    std err          t      P>|t|      [0.025      0.975]\n",
       "-----------------------------------------------------------------------------------\n",
       "const              -1.2409      0.340     -3.655      0.000      -1.907      -0.575\n",
       "(가)건강 만족도           0.3012      0.036      8.481      0.000       0.232       0.371\n",
       "(나)가족의 수입 만족도       0.1911      0.041      4.702      0.000       0.111       0.271\n",
       "(다)주거 환경 만족도        0.2228      0.045      5.002      0.000       0.135       0.310\n",
       "(라)가족관계 만족도         0.1872      0.055      3.410      0.001       0.080       0.295\n",
       "(마)직업 만족도           0.3003      0.050      6.024      0.000       0.203       0.398\n",
       "(바)사회적 친분관계 만족도     0.2883      0.055      5.215      0.000       0.180       0.397\n",
       "(사)여가생활 만족도         0.3158      0.048      6.616      0.000       0.222       0.409\n",
       "가족생활에 대한 만족도        0.1444      0.021      7.035      0.000       0.104       0.185\n",
       "교육수준                0.0882      0.027      3.290      0.001       0.036       0.141\n",
       "성별                  0.0008      0.072      0.012      0.991      -0.141       0.142\n",
       "연령                  0.0027      0.002      1.147      0.251      -0.002       0.007\n",
       "종교                 -0.0367      0.057     -0.643      0.520      -0.148       0.075\n",
       "==============================================================================\n",
       "Omnibus:                       13.703   Durbin-Watson:                   1.995\n",
       "Prob(Omnibus):                  0.001   Jarque-Bera (JB):               18.210\n",
       "Skew:                           0.052   Prob(JB):                     0.000111\n",
       "Kurtosis:                       3.406   Cond. No.                         835.\n",
       "==============================================================================\n",
       "\n",
       "Notes:\n",
       "[1] Standard Errors assume that the covariance matrix of the errors is correctly specified.\n",
       "\"\"\""
      ]
     },
     "execution_count": 24,
     "metadata": {},
     "output_type": "execute_result"
    }
   ],
   "source": [
    "fit.summary()"
   ]
  },
  {
   "cell_type": "code",
   "execution_count": 30,
   "metadata": {},
   "outputs": [
    {
     "data": {
      "text/plain": [
       "2501    6\n",
       "3138    5\n",
       "3288    6\n",
       "3409    5\n",
       "1000    6\n",
       "       ..\n",
       "3331    8\n",
       "149     9\n",
       "364     7\n",
       "656     3\n",
       "2281    4\n",
       "Name: 삶의 사다리 점수, Length: 2496, dtype: int64"
      ]
     },
     "execution_count": 30,
     "metadata": {},
     "output_type": "execute_result"
    }
   ],
   "source": [
    "y"
   ]
  },
  {
   "cell_type": "code",
   "execution_count": 29,
   "metadata": {},
   "outputs": [
    {
     "data": {
      "text/plain": [
       "2501    7.0\n",
       "3138    5.0\n",
       "3288    6.0\n",
       "3409    5.0\n",
       "1000    5.0\n",
       "       ... \n",
       "3331    7.0\n",
       "149     7.0\n",
       "364     7.0\n",
       "656     4.0\n",
       "2281    4.0\n",
       "Length: 2496, dtype: float64"
      ]
     },
     "execution_count": 29,
     "metadata": {},
     "output_type": "execute_result"
    }
   ],
   "source": [
    "round(fit.fittedvalues)"
   ]
  },
  {
   "cell_type": "markdown",
   "metadata": {},
   "source": [
    "### 모델 평가"
   ]
  },
  {
   "cell_type": "code",
   "execution_count": 105,
   "metadata": {},
   "outputs": [
    {
     "name": "stderr",
     "output_type": "stream",
     "text": [
      "C:\\Users\\SAMSUNG\\AppData\\Local\\Temp\\ipykernel_20908\\3315617018.py:3: SettingWithCopyWarning: \n",
      "A value is trying to be set on a copy of a slice from a DataFrame\n",
      "\n",
      "See the caveats in the documentation: https://pandas.pydata.org/pandas-docs/stable/user_guide/indexing.html#returning-a-view-versus-a-copy\n",
      "  test_x.drop(\"가구원수\",axis=1,inplace=True)\n"
     ]
    }
   ],
   "source": [
    "test_y=test_data[\"삶의 사다리 점수\"]\n",
    "test_x=test_data[train_data.columns.difference([\"삶의 사다리 점수\"])]\n",
    "test_x.drop(\"가구원수\",axis=1,inplace=True)"
   ]
  },
  {
   "cell_type": "code",
   "execution_count": 25,
   "metadata": {},
   "outputs": [
    {
     "ename": "ValueError",
     "evalue": "shapes (1070,12) and (13,) not aligned: 12 (dim 1) != 13 (dim 0)",
     "output_type": "error",
     "traceback": [
      "\u001b[1;31m---------------------------------------------------------------------------\u001b[0m",
      "\u001b[1;31mValueError\u001b[0m                                Traceback (most recent call last)",
      "Cell \u001b[1;32mIn[25], line 1\u001b[0m\n\u001b[1;32m----> 1\u001b[0m \u001b[39mround\u001b[39m(fit\u001b[39m.\u001b[39;49mpredict(test_data[train_data\u001b[39m.\u001b[39;49mcolumns\u001b[39m.\u001b[39;49mdifference([\u001b[39m\"\u001b[39;49m\u001b[39m삶의 사다리 점수\u001b[39;49m\u001b[39m\"\u001b[39;49m])]))\n",
      "File \u001b[1;32mc:\\Users\\SAMSUNG\\AppData\\Local\\Programs\\Python\\Python311\\Lib\\site-packages\\statsmodels\\base\\model.py:1176\u001b[0m, in \u001b[0;36mResults.predict\u001b[1;34m(self, exog, transform, *args, **kwargs)\u001b[0m\n\u001b[0;32m   1129\u001b[0m \u001b[39m\u001b[39m\u001b[39m\"\"\"\u001b[39;00m\n\u001b[0;32m   1130\u001b[0m \u001b[39mCall self.model.predict with self.params as the first argument.\u001b[39;00m\n\u001b[0;32m   1131\u001b[0m \n\u001b[1;32m   (...)\u001b[0m\n\u001b[0;32m   1171\u001b[0m \u001b[39mreturned prediction.\u001b[39;00m\n\u001b[0;32m   1172\u001b[0m \u001b[39m\"\"\"\u001b[39;00m\n\u001b[0;32m   1173\u001b[0m exog, exog_index \u001b[39m=\u001b[39m \u001b[39mself\u001b[39m\u001b[39m.\u001b[39m_transform_predict_exog(exog,\n\u001b[0;32m   1174\u001b[0m                                                 transform\u001b[39m=\u001b[39mtransform)\n\u001b[1;32m-> 1176\u001b[0m predict_results \u001b[39m=\u001b[39m \u001b[39mself\u001b[39;49m\u001b[39m.\u001b[39;49mmodel\u001b[39m.\u001b[39;49mpredict(\u001b[39mself\u001b[39;49m\u001b[39m.\u001b[39;49mparams, exog, \u001b[39m*\u001b[39;49margs,\n\u001b[0;32m   1177\u001b[0m                                      \u001b[39m*\u001b[39;49m\u001b[39m*\u001b[39;49mkwargs)\n\u001b[0;32m   1179\u001b[0m \u001b[39mif\u001b[39;00m exog_index \u001b[39mis\u001b[39;00m \u001b[39mnot\u001b[39;00m \u001b[39mNone\u001b[39;00m \u001b[39mand\u001b[39;00m \u001b[39mnot\u001b[39;00m \u001b[39mhasattr\u001b[39m(predict_results,\n\u001b[0;32m   1180\u001b[0m                                           \u001b[39m'\u001b[39m\u001b[39mpredicted_values\u001b[39m\u001b[39m'\u001b[39m):\n\u001b[0;32m   1181\u001b[0m     \u001b[39mif\u001b[39;00m predict_results\u001b[39m.\u001b[39mndim \u001b[39m==\u001b[39m \u001b[39m1\u001b[39m:\n",
      "File \u001b[1;32mc:\\Users\\SAMSUNG\\AppData\\Local\\Programs\\Python\\Python311\\Lib\\site-packages\\statsmodels\\regression\\linear_model.py:411\u001b[0m, in \u001b[0;36mRegressionModel.predict\u001b[1;34m(self, params, exog)\u001b[0m\n\u001b[0;32m    408\u001b[0m \u001b[39mif\u001b[39;00m exog \u001b[39mis\u001b[39;00m \u001b[39mNone\u001b[39;00m:\n\u001b[0;32m    409\u001b[0m     exog \u001b[39m=\u001b[39m \u001b[39mself\u001b[39m\u001b[39m.\u001b[39mexog\n\u001b[1;32m--> 411\u001b[0m \u001b[39mreturn\u001b[39;00m np\u001b[39m.\u001b[39;49mdot(exog, params)\n",
      "\u001b[1;31mValueError\u001b[0m: shapes (1070,12) and (13,) not aligned: 12 (dim 1) != 13 (dim 0)"
     ]
    }
   ],
   "source": [
    "round(fit.predict(test_data[train_data.columns.difference([\"삶의 사다리 점수\"])]))"
   ]
  },
  {
   "cell_type": "code",
   "execution_count": 115,
   "metadata": {},
   "outputs": [
    {
     "data": {
      "text/plain": [
       "91      7\n",
       "224     6\n",
       "1611    6\n",
       "1916    8\n",
       "1413    7\n",
       "       ..\n",
       "3530    5\n",
       "2946    6\n",
       "794     8\n",
       "255     6\n",
       "990     8\n",
       "Name: 삶의 사다리 점수, Length: 1086, dtype: int64"
      ]
     },
     "execution_count": 115,
     "metadata": {},
     "output_type": "execute_result"
    }
   ],
   "source": [
    "test_y"
   ]
  },
  {
   "cell_type": "code",
   "execution_count": null,
   "metadata": {},
   "outputs": [],
   "source": []
  }
 ],
 "metadata": {
  "kernelspec": {
   "display_name": "Python 3",
   "language": "python",
   "name": "python3"
  },
  "language_info": {
   "codemirror_mode": {
    "name": "ipython",
    "version": 3
   },
   "file_extension": ".py",
   "mimetype": "text/x-python",
   "name": "python",
   "nbconvert_exporter": "python",
   "pygments_lexer": "ipython3",
   "version": "3.11.3"
  },
  "orig_nbformat": 4
 },
 "nbformat": 4,
 "nbformat_minor": 2
}
