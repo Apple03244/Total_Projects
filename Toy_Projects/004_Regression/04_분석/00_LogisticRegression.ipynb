{
 "cells": [
  {
   "cell_type": "code",
   "execution_count": 116,
   "metadata": {},
   "outputs": [],
   "source": [
    "import pandas as pd\n",
    "import numpy as np\n",
    "from sklearn.model_selection import train_test_split"
   ]
  },
  {
   "cell_type": "code",
   "execution_count": 117,
   "metadata": {},
   "outputs": [],
   "source": [
    "import statsmodels.api as sm\n",
    "import statsmodels.formula.api as sf"
   ]
  },
  {
   "cell_type": "code",
   "execution_count": 118,
   "metadata": {},
   "outputs": [],
   "source": [
    "# 서열척도\n",
    "col1=[('(가)건강 만족도', '(다)주거 환경 만족도'), ('(나)가족의 수입 만족도', '교육수준'),\n",
    "       ('(다)주거 환경 만족도', '교육수준'), ('(라)가족관계 만족도', '교육수준'),\n",
    "       ('(마)직업 만족도', '교육수준'), ('(바)사회적 친분관계 만족도', '교육수준'),\n",
    "       ('(사)여가생활 만족도', '교육수준')]\n",
    "# 카이제곱\n",
    "col2=[['(다)주거 환경 만족도', '교육수준'],['(다)주거 환경 만족도', '종교'],\n",
    "       ['(다)주거 환경 만족도', '만성질환'],['(다)주거 환경 만족도', '근로유형']]\n",
    "# 범주~연속형(anova)\n",
    "col3=[['(나)가족의 수입 만족도', '방수'],['(다)주거 환경 만족도', '연령'],\n",
    "       ['(마)직업 만족도', '방수'],['(바)사회적 친분관계 만족도', '방수'],\n",
    "       ['(사)여가생활 만족도', '방수']]\n",
    "# 연속형~연속형(regression)\n",
    "col4=[['방수','연령'],['연령','주거면적'],['총생활비','방수'],['주거면적','총생활비'],['총생활비','주거면적']]\n",
    "c1=list(sum(list(map(list,col1)),[]))\n",
    "c1.extend(list(set(sum(list(map(list,col2)),[]))))\n",
    "c2=list(sum(list(map(list,col3)),[]))\n",
    "c3=list(sum(list(map(list,col4)),[]))"
   ]
  },
  {
   "cell_type": "code",
   "execution_count": 119,
   "metadata": {},
   "outputs": [],
   "source": [
    "D=pd.read_excel(\"../02_데이터검정/카테고리_소분류완료.xlsx\",usecols=list(set(c1+c2+c3))+[\"삶의 사다리 점수\"])\n",
    "data=pd.DataFrame(D)\n",
    "# 명목형의 데이터 형태 바꾸기\n",
    "for col in [\"근로유형\",\"종교\",\"만성질환\"]:\n",
    "    data[col]=data[col].astype(\"category\")"
   ]
  },
  {
   "cell_type": "markdown",
   "metadata": {},
   "source": [
    "## train,test 데이터 분리"
   ]
  },
  {
   "cell_type": "code",
   "execution_count": 120,
   "metadata": {},
   "outputs": [],
   "source": [
    "train_x,test_x,train_y,test_y=train_test_split(data[data.columns.difference([\"삶의 사다리 점수\"])],data[\"삶의 사다리 점수\"],train_size=0.7,stratify=data[\"삶의 사다리 점수\"],random_state=10)"
   ]
  },
  {
   "cell_type": "code",
   "execution_count": 121,
   "metadata": {},
   "outputs": [],
   "source": [
    "# logist regression(1)\n",
    "test=pd.DataFrame(train_y.apply(lambda x:1 if x==1 else 0))"
   ]
  },
  {
   "cell_type": "code",
   "execution_count": 122,
   "metadata": {},
   "outputs": [
    {
     "name": "stdout",
     "output_type": "stream",
     "text": [
      "Warning: Maximum number of iterations has been exceeded.\n",
      "         Current function value: 0.029597\n",
      "         Iterations: 35\n"
     ]
    },
    {
     "name": "stderr",
     "output_type": "stream",
     "text": [
      "c:\\Users\\SAMSUNG\\AppData\\Local\\Programs\\Python\\Python311\\Lib\\site-packages\\statsmodels\\base\\model.py:607: ConvergenceWarning: Maximum Likelihood optimization failed to converge. Check mle_retvals\n",
      "  warnings.warn(\"Maximum Likelihood optimization failed to \"\n"
     ]
    }
   ],
   "source": [
    "fit=sm.Logit(endog=train_y.apply(lambda x:1 if x==1 else 0),exog=pd.get_dummies(sm.add_constant(train_x),drop_first=True,dtype='int')).fit()"
   ]
  },
  {
   "cell_type": "code",
   "execution_count": 123,
   "metadata": {},
   "outputs": [],
   "source": [
    "result=pd.DataFrame(fit.fittedvalues)"
   ]
  },
  {
   "cell_type": "code",
   "execution_count": 124,
   "metadata": {},
   "outputs": [
    {
     "data": {
      "text/plain": [
       "3206    5.293854e-05\n",
       "934     2.800431e-14\n",
       "2919    1.058362e-04\n",
       "2937    1.466708e-05\n",
       "1501    1.192793e-01\n",
       "            ...     \n",
       "2627    5.155985e-02\n",
       "1151    6.699144e-04\n",
       "137     7.186429e-05\n",
       "584     7.872005e-03\n",
       "868     9.332531e-03\n",
       "Length: 2333, dtype: float64"
      ]
     },
     "execution_count": 124,
     "metadata": {},
     "output_type": "execute_result"
    }
   ],
   "source": [
    "fit.fittedvalues.apply(np.exp)"
   ]
  },
  {
   "cell_type": "code",
   "execution_count": 125,
   "metadata": {},
   "outputs": [],
   "source": [
    "설명2=pd.DataFrame(fit.predict(pd.get_dummies(sm.add_constant(train_x),drop_first=True,dtype='int')))"
   ]
  },
  {
   "cell_type": "code",
   "execution_count": 126,
   "metadata": {},
   "outputs": [
    {
     "data": {
      "text/html": [
       "<div>\n",
       "<style scoped>\n",
       "    .dataframe tbody tr th:only-of-type {\n",
       "        vertical-align: middle;\n",
       "    }\n",
       "\n",
       "    .dataframe tbody tr th {\n",
       "        vertical-align: top;\n",
       "    }\n",
       "\n",
       "    .dataframe thead th {\n",
       "        text-align: right;\n",
       "    }\n",
       "</style>\n",
       "<table border=\"1\" class=\"dataframe\">\n",
       "  <thead>\n",
       "    <tr style=\"text-align: right;\">\n",
       "      <th></th>\n",
       "      <th>0</th>\n",
       "    </tr>\n",
       "  </thead>\n",
       "  <tbody>\n",
       "    <tr>\n",
       "      <th>2460</th>\n",
       "      <td>0.531080</td>\n",
       "    </tr>\n",
       "    <tr>\n",
       "      <th>142</th>\n",
       "      <td>0.732285</td>\n",
       "    </tr>\n",
       "    <tr>\n",
       "      <th>319</th>\n",
       "      <td>0.599736</td>\n",
       "    </tr>\n",
       "  </tbody>\n",
       "</table>\n",
       "</div>"
      ],
      "text/plain": [
       "             0\n",
       "2460  0.531080\n",
       "142   0.732285\n",
       "319   0.599736"
      ]
     },
     "execution_count": 126,
     "metadata": {},
     "output_type": "execute_result"
    }
   ],
   "source": [
    "설명2[설명2[0]>=0.5]"
   ]
  },
  {
   "cell_type": "code",
   "execution_count": 127,
   "metadata": {},
   "outputs": [
    {
     "data": {
      "text/plain": [
       "3206    5.293854e-05\n",
       "934     2.800431e-14\n",
       "2919    1.058362e-04\n",
       "2937    1.466708e-05\n",
       "1501    1.192793e-01\n",
       "            ...     \n",
       "2627    5.155985e-02\n",
       "1151    6.699144e-04\n",
       "137     7.186429e-05\n",
       "584     7.872005e-03\n",
       "868     9.332531e-03\n",
       "Name: 0, Length: 2333, dtype: float64"
      ]
     },
     "execution_count": 127,
     "metadata": {},
     "output_type": "execute_result"
    }
   ],
   "source": [
    "설명=pd.merge(result,test,right_index=True,left_index=True)\n",
    "설명[0].apply(np.exp)"
   ]
  },
  {
   "cell_type": "code",
   "execution_count": 128,
   "metadata": {},
   "outputs": [],
   "source": [
    "설명[0]=설명[0].apply(np.exp).apply(lambda x:x/(1+x))"
   ]
  },
  {
   "cell_type": "code",
   "execution_count": 129,
   "metadata": {},
   "outputs": [
    {
     "data": {
      "text/html": [
       "<div>\n",
       "<style scoped>\n",
       "    .dataframe tbody tr th:only-of-type {\n",
       "        vertical-align: middle;\n",
       "    }\n",
       "\n",
       "    .dataframe tbody tr th {\n",
       "        vertical-align: top;\n",
       "    }\n",
       "\n",
       "    .dataframe thead th {\n",
       "        text-align: right;\n",
       "    }\n",
       "</style>\n",
       "<table border=\"1\" class=\"dataframe\">\n",
       "  <thead>\n",
       "    <tr style=\"text-align: right;\">\n",
       "      <th></th>\n",
       "      <th>0</th>\n",
       "      <th>삶의 사다리 점수</th>\n",
       "    </tr>\n",
       "  </thead>\n",
       "  <tbody>\n",
       "    <tr>\n",
       "      <th>2460</th>\n",
       "      <td>0.531080</td>\n",
       "      <td>1</td>\n",
       "    </tr>\n",
       "    <tr>\n",
       "      <th>142</th>\n",
       "      <td>0.732285</td>\n",
       "      <td>1</td>\n",
       "    </tr>\n",
       "    <tr>\n",
       "      <th>319</th>\n",
       "      <td>0.599736</td>\n",
       "      <td>0</td>\n",
       "    </tr>\n",
       "  </tbody>\n",
       "</table>\n",
       "</div>"
      ],
      "text/plain": [
       "             0  삶의 사다리 점수\n",
       "2460  0.531080          1\n",
       "142   0.732285          1\n",
       "319   0.599736          0"
      ]
     },
     "execution_count": 129,
     "metadata": {},
     "output_type": "execute_result"
    }
   ],
   "source": [
    "설명[설명[0]>=0.5]"
   ]
  },
  {
   "cell_type": "code",
   "execution_count": 130,
   "metadata": {},
   "outputs": [],
   "source": [
    "acc=(fit.pred_table()[0,0]+fit.pred_table()[1,1])/fit.pred_table().sum()"
   ]
  },
  {
   "cell_type": "code",
   "execution_count": 131,
   "metadata": {},
   "outputs": [],
   "source": [
    "aic=fit.aic"
   ]
  },
  {
   "cell_type": "code",
   "execution_count": 132,
   "metadata": {},
   "outputs": [
    {
     "name": "stdout",
     "output_type": "stream",
     "text": [
      "Warning: Maximum number of iterations has been exceeded.\n",
      "         Current function value: 0.029597\n",
      "         Iterations: 35\n",
      "Warning: Maximum number of iterations has been exceeded.\n",
      "         Current function value: 0.066573\n",
      "         Iterations: 35\n",
      "Optimization terminated successfully.\n",
      "         Current function value: 0.168493\n",
      "         Iterations 9\n",
      "Optimization terminated successfully.\n",
      "         Current function value: 0.263871\n",
      "         Iterations 8\n",
      "Optimization terminated successfully.\n",
      "         Current function value: 0.470567\n",
      "         Iterations 7\n"
     ]
    },
    {
     "name": "stderr",
     "output_type": "stream",
     "text": [
      "c:\\Users\\SAMSUNG\\AppData\\Local\\Programs\\Python\\Python311\\Lib\\site-packages\\statsmodels\\base\\model.py:607: ConvergenceWarning: Maximum Likelihood optimization failed to converge. Check mle_retvals\n",
      "  warnings.warn(\"Maximum Likelihood optimization failed to \"\n",
      "c:\\Users\\SAMSUNG\\AppData\\Local\\Programs\\Python\\Python311\\Lib\\site-packages\\statsmodels\\base\\model.py:607: ConvergenceWarning: Maximum Likelihood optimization failed to converge. Check mle_retvals\n",
      "  warnings.warn(\"Maximum Likelihood optimization failed to \"\n"
     ]
    },
    {
     "name": "stdout",
     "output_type": "stream",
     "text": [
      "Optimization terminated successfully.\n",
      "         Current function value: 0.502396\n",
      "         Iterations 5\n",
      "Optimization terminated successfully.\n",
      "         Current function value: 0.459089\n",
      "         Iterations 6\n",
      "Optimization terminated successfully.\n",
      "         Current function value: 0.378541\n",
      "         Iterations 7\n",
      "Optimization terminated successfully.\n",
      "         Current function value: 0.178855\n",
      "         Iterations 8\n",
      "Optimization terminated successfully.\n",
      "         Current function value: 0.116335\n",
      "         Iterations 9\n"
     ]
    }
   ],
   "source": [
    "result=[]\n",
    "for num in range(1,11):\n",
    "    temp={}\n",
    "    train_x=sm.add_constant(train_x)\n",
    "    #카테고리형 x는 get_dummies\n",
    "    fit=sm.Logit(endog=train_y.apply(lambda x:1 if x==num else 0),exog=pd.get_dummies(sm.add_constant(train_x),drop_first=True,dtype='int')).fit()\n",
    "    temp[\"accuracy\"]=(fit.pred_table()[0,0]+fit.pred_table()[1,1])/fit.pred_table().sum()\n",
    "    temp[\"aic\"]=fit.aic\n",
    "    temp[\"model\"]=fit\n",
    "    result.append(temp)"
   ]
  },
  {
   "cell_type": "code",
   "execution_count": 133,
   "metadata": {},
   "outputs": [],
   "source": [
    "def logit(y,x):\n",
    "    result=[]\n",
    "    # 1~10 사이의 값을\n",
    "    for num in y.unique():\n",
    "        temp={}\n",
    "        x=sm.add_constant(x)\n",
    "        #카테고리형 x는 get_dummies\n",
    "        fit=sm.Logit(endog=y.apply(lambda x:1 if x==num else 0),exog=pd.get_dummies(sm.add_constant(x),drop_first=True,dtype='int')).fit()\n",
    "        temp[\"accuracy\"]=(fit.pred_table()[0,0]+fit.pred_table()[1,1])/fit.pred_table().sum()\n",
    "        temp[\"aic\"]=fit.aic\n",
    "        temp[\"model\"]=fit\n",
    "        result.append(temp)\n",
    "    return result"
   ]
  },
  {
   "cell_type": "code",
   "execution_count": 134,
   "metadata": {},
   "outputs": [
    {
     "name": "stdout",
     "output_type": "stream",
     "text": [
      "Optimization terminated successfully.\n",
      "         Current function value: 0.401511\n",
      "         Iterations 7\n",
      "Optimization terminated successfully.\n",
      "         Current function value: 0.470806\n",
      "         Iterations 6\n",
      "Optimization terminated successfully.\n",
      "         Current function value: 0.040637\n",
      "         Iterations 10\n",
      "Optimization terminated successfully.\n",
      "         Current function value: 0.507291\n",
      "         Iterations 5\n",
      "Optimization terminated successfully.\n",
      "         Current function value: 0.275938\n",
      "         Iterations 7\n",
      "Optimization terminated successfully.\n",
      "         Current function value: 0.485517\n",
      "         Iterations 6\n",
      "Optimization terminated successfully.\n",
      "         Current function value: 0.192580\n",
      "         Iterations 8\n",
      "Optimization terminated successfully.\n",
      "         Current function value: 0.189577\n",
      "         Iterations 8\n",
      "Optimization terminated successfully.\n",
      "         Current function value: 0.131899\n",
      "         Iterations 8\n",
      "Optimization terminated successfully.\n",
      "         Current function value: 0.075925\n",
      "         Iterations 9\n",
      "Optimization terminated successfully.\n",
      "         Current function value: 0.007665\n",
      "         Iterations 13\n"
     ]
    }
   ],
   "source": [
    "models=[x[\"model\"] for x in logit(train_y,train_x[['(가)건강 만족도', '(다)주거 환경 만족도']])]"
   ]
  },
  {
   "cell_type": "code",
   "execution_count": 141,
   "metadata": {},
   "outputs": [],
   "source": [
    "test=pd.DataFrame({i:models[i].fittedvalues for i in range(10) }).apply(np.exp)"
   ]
  },
  {
   "cell_type": "code",
   "execution_count": 143,
   "metadata": {},
   "outputs": [],
   "source": [
    "test[\"max\"]=test.apply(max,axis=1)"
   ]
  },
  {
   "cell_type": "code",
   "execution_count": 144,
   "metadata": {},
   "outputs": [
    {
     "data": {
      "text/html": [
       "<div>\n",
       "<style scoped>\n",
       "    .dataframe tbody tr th:only-of-type {\n",
       "        vertical-align: middle;\n",
       "    }\n",
       "\n",
       "    .dataframe tbody tr th {\n",
       "        vertical-align: top;\n",
       "    }\n",
       "\n",
       "    .dataframe thead th {\n",
       "        text-align: right;\n",
       "    }\n",
       "</style>\n",
       "<table border=\"1\" class=\"dataframe\">\n",
       "  <thead>\n",
       "    <tr style=\"text-align: right;\">\n",
       "      <th></th>\n",
       "      <th>0</th>\n",
       "      <th>1</th>\n",
       "      <th>2</th>\n",
       "      <th>3</th>\n",
       "      <th>4</th>\n",
       "      <th>5</th>\n",
       "      <th>6</th>\n",
       "      <th>7</th>\n",
       "      <th>8</th>\n",
       "      <th>9</th>\n",
       "      <th>max</th>\n",
       "    </tr>\n",
       "  </thead>\n",
       "  <tbody>\n",
       "    <tr>\n",
       "      <th>3206</th>\n",
       "      <td>0.111132</td>\n",
       "      <td>0.197060</td>\n",
       "      <td>0.004090</td>\n",
       "      <td>0.257622</td>\n",
       "      <td>0.100813</td>\n",
       "      <td>0.301478</td>\n",
       "      <td>0.039865</td>\n",
       "      <td>0.064998</td>\n",
       "      <td>0.022301</td>\n",
       "      <td>0.017385</td>\n",
       "      <td>0.301478</td>\n",
       "    </tr>\n",
       "    <tr>\n",
       "      <th>934</th>\n",
       "      <td>0.396624</td>\n",
       "      <td>0.337160</td>\n",
       "      <td>0.000665</td>\n",
       "      <td>0.290991</td>\n",
       "      <td>0.034577</td>\n",
       "      <td>0.150206</td>\n",
       "      <td>0.097242</td>\n",
       "      <td>0.010310</td>\n",
       "      <td>0.053773</td>\n",
       "      <td>0.001818</td>\n",
       "      <td>0.396624</td>\n",
       "    </tr>\n",
       "    <tr>\n",
       "      <th>2919</th>\n",
       "      <td>0.209947</td>\n",
       "      <td>0.257761</td>\n",
       "      <td>0.001649</td>\n",
       "      <td>0.273799</td>\n",
       "      <td>0.059041</td>\n",
       "      <td>0.212800</td>\n",
       "      <td>0.062262</td>\n",
       "      <td>0.025887</td>\n",
       "      <td>0.034629</td>\n",
       "      <td>0.005621</td>\n",
       "      <td>0.273799</td>\n",
       "    </tr>\n",
       "    <tr>\n",
       "      <th>2937</th>\n",
       "      <td>0.209947</td>\n",
       "      <td>0.257761</td>\n",
       "      <td>0.001649</td>\n",
       "      <td>0.273799</td>\n",
       "      <td>0.059041</td>\n",
       "      <td>0.212800</td>\n",
       "      <td>0.062262</td>\n",
       "      <td>0.025887</td>\n",
       "      <td>0.034629</td>\n",
       "      <td>0.005621</td>\n",
       "      <td>0.273799</td>\n",
       "    </tr>\n",
       "    <tr>\n",
       "      <th>1501</th>\n",
       "      <td>0.029753</td>\n",
       "      <td>0.099286</td>\n",
       "      <td>0.063459</td>\n",
       "      <td>0.198823</td>\n",
       "      <td>0.316895</td>\n",
       "      <td>0.437846</td>\n",
       "      <td>0.009187</td>\n",
       "      <td>0.249129</td>\n",
       "      <td>0.007806</td>\n",
       "      <td>0.075356</td>\n",
       "      <td>0.437846</td>\n",
       "    </tr>\n",
       "    <tr>\n",
       "      <th>...</th>\n",
       "      <td>...</td>\n",
       "      <td>...</td>\n",
       "      <td>...</td>\n",
       "      <td>...</td>\n",
       "      <td>...</td>\n",
       "      <td>...</td>\n",
       "      <td>...</td>\n",
       "      <td>...</td>\n",
       "      <td>...</td>\n",
       "      <td>...</td>\n",
       "      <td>...</td>\n",
       "    </tr>\n",
       "    <tr>\n",
       "      <th>2627</th>\n",
       "      <td>0.111132</td>\n",
       "      <td>0.197060</td>\n",
       "      <td>0.004090</td>\n",
       "      <td>0.257622</td>\n",
       "      <td>0.100813</td>\n",
       "      <td>0.301478</td>\n",
       "      <td>0.039865</td>\n",
       "      <td>0.064998</td>\n",
       "      <td>0.022301</td>\n",
       "      <td>0.017385</td>\n",
       "      <td>0.301478</td>\n",
       "    </tr>\n",
       "    <tr>\n",
       "      <th>1151</th>\n",
       "      <td>0.205221</td>\n",
       "      <td>0.239321</td>\n",
       "      <td>0.002618</td>\n",
       "      <td>0.255636</td>\n",
       "      <td>0.061304</td>\n",
       "      <td>0.181018</td>\n",
       "      <td>0.046682</td>\n",
       "      <td>0.020185</td>\n",
       "      <td>0.031814</td>\n",
       "      <td>0.003784</td>\n",
       "      <td>0.255636</td>\n",
       "    </tr>\n",
       "    <tr>\n",
       "      <th>137</th>\n",
       "      <td>0.111132</td>\n",
       "      <td>0.197060</td>\n",
       "      <td>0.004090</td>\n",
       "      <td>0.257622</td>\n",
       "      <td>0.100813</td>\n",
       "      <td>0.301478</td>\n",
       "      <td>0.039865</td>\n",
       "      <td>0.064998</td>\n",
       "      <td>0.022301</td>\n",
       "      <td>0.017385</td>\n",
       "      <td>0.301478</td>\n",
       "    </tr>\n",
       "    <tr>\n",
       "      <th>584</th>\n",
       "      <td>0.111132</td>\n",
       "      <td>0.197060</td>\n",
       "      <td>0.004090</td>\n",
       "      <td>0.257622</td>\n",
       "      <td>0.100813</td>\n",
       "      <td>0.301478</td>\n",
       "      <td>0.039865</td>\n",
       "      <td>0.064998</td>\n",
       "      <td>0.022301</td>\n",
       "      <td>0.017385</td>\n",
       "      <td>0.301478</td>\n",
       "    </tr>\n",
       "    <tr>\n",
       "      <th>868</th>\n",
       "      <td>0.030438</td>\n",
       "      <td>0.106936</td>\n",
       "      <td>0.039965</td>\n",
       "      <td>0.212949</td>\n",
       "      <td>0.305197</td>\n",
       "      <td>0.514721</td>\n",
       "      <td>0.012253</td>\n",
       "      <td>0.319508</td>\n",
       "      <td>0.008497</td>\n",
       "      <td>0.111940</td>\n",
       "      <td>0.514721</td>\n",
       "    </tr>\n",
       "  </tbody>\n",
       "</table>\n",
       "<p>2333 rows × 11 columns</p>\n",
       "</div>"
      ],
      "text/plain": [
       "             0         1         2         3         4         5         6  \\\n",
       "3206  0.111132  0.197060  0.004090  0.257622  0.100813  0.301478  0.039865   \n",
       "934   0.396624  0.337160  0.000665  0.290991  0.034577  0.150206  0.097242   \n",
       "2919  0.209947  0.257761  0.001649  0.273799  0.059041  0.212800  0.062262   \n",
       "2937  0.209947  0.257761  0.001649  0.273799  0.059041  0.212800  0.062262   \n",
       "1501  0.029753  0.099286  0.063459  0.198823  0.316895  0.437846  0.009187   \n",
       "...        ...       ...       ...       ...       ...       ...       ...   \n",
       "2627  0.111132  0.197060  0.004090  0.257622  0.100813  0.301478  0.039865   \n",
       "1151  0.205221  0.239321  0.002618  0.255636  0.061304  0.181018  0.046682   \n",
       "137   0.111132  0.197060  0.004090  0.257622  0.100813  0.301478  0.039865   \n",
       "584   0.111132  0.197060  0.004090  0.257622  0.100813  0.301478  0.039865   \n",
       "868   0.030438  0.106936  0.039965  0.212949  0.305197  0.514721  0.012253   \n",
       "\n",
       "             7         8         9       max  \n",
       "3206  0.064998  0.022301  0.017385  0.301478  \n",
       "934   0.010310  0.053773  0.001818  0.396624  \n",
       "2919  0.025887  0.034629  0.005621  0.273799  \n",
       "2937  0.025887  0.034629  0.005621  0.273799  \n",
       "1501  0.249129  0.007806  0.075356  0.437846  \n",
       "...        ...       ...       ...       ...  \n",
       "2627  0.064998  0.022301  0.017385  0.301478  \n",
       "1151  0.020185  0.031814  0.003784  0.255636  \n",
       "137   0.064998  0.022301  0.017385  0.301478  \n",
       "584   0.064998  0.022301  0.017385  0.301478  \n",
       "868   0.319508  0.008497  0.111940  0.514721  \n",
       "\n",
       "[2333 rows x 11 columns]"
      ]
     },
     "execution_count": 144,
     "metadata": {},
     "output_type": "execute_result"
    }
   ],
   "source": [
    "test"
   ]
  },
  {
   "cell_type": "code",
   "execution_count": 147,
   "metadata": {},
   "outputs": [],
   "source": [
    "test[\"result\"]=0\n",
    "for i in test.index:\n",
    "    for col in test.columns:\n",
    "        if test.loc[i,col]==test.loc[i,'max']:\n",
    "            test.loc[i,'result']=col\n",
    "            break"
   ]
  },
  {
   "cell_type": "code",
   "execution_count": 153,
   "metadata": {},
   "outputs": [
    {
     "data": {
      "text/html": [
       "<div>\n",
       "<style scoped>\n",
       "    .dataframe tbody tr th:only-of-type {\n",
       "        vertical-align: middle;\n",
       "    }\n",
       "\n",
       "    .dataframe tbody tr th {\n",
       "        vertical-align: top;\n",
       "    }\n",
       "\n",
       "    .dataframe thead th {\n",
       "        text-align: right;\n",
       "    }\n",
       "</style>\n",
       "<table border=\"1\" class=\"dataframe\">\n",
       "  <thead>\n",
       "    <tr style=\"text-align: right;\">\n",
       "      <th></th>\n",
       "      <th>result</th>\n",
       "      <th>삶의 사다리 점수</th>\n",
       "    </tr>\n",
       "  </thead>\n",
       "  <tbody>\n",
       "    <tr>\n",
       "      <th>3206</th>\n",
       "      <td>5</td>\n",
       "      <td>8</td>\n",
       "    </tr>\n",
       "    <tr>\n",
       "      <th>934</th>\n",
       "      <td>0</td>\n",
       "      <td>7</td>\n",
       "    </tr>\n",
       "    <tr>\n",
       "      <th>2919</th>\n",
       "      <td>3</td>\n",
       "      <td>7</td>\n",
       "    </tr>\n",
       "    <tr>\n",
       "      <th>2937</th>\n",
       "      <td>3</td>\n",
       "      <td>8</td>\n",
       "    </tr>\n",
       "    <tr>\n",
       "      <th>1501</th>\n",
       "      <td>5</td>\n",
       "      <td>1</td>\n",
       "    </tr>\n",
       "    <tr>\n",
       "      <th>...</th>\n",
       "      <td>...</td>\n",
       "      <td>...</td>\n",
       "    </tr>\n",
       "    <tr>\n",
       "      <th>2627</th>\n",
       "      <td>5</td>\n",
       "      <td>5</td>\n",
       "    </tr>\n",
       "    <tr>\n",
       "      <th>1151</th>\n",
       "      <td>3</td>\n",
       "      <td>7</td>\n",
       "    </tr>\n",
       "    <tr>\n",
       "      <th>137</th>\n",
       "      <td>5</td>\n",
       "      <td>9</td>\n",
       "    </tr>\n",
       "    <tr>\n",
       "      <th>584</th>\n",
       "      <td>5</td>\n",
       "      <td>5</td>\n",
       "    </tr>\n",
       "    <tr>\n",
       "      <th>868</th>\n",
       "      <td>5</td>\n",
       "      <td>10</td>\n",
       "    </tr>\n",
       "  </tbody>\n",
       "</table>\n",
       "<p>2333 rows × 2 columns</p>\n",
       "</div>"
      ],
      "text/plain": [
       "      result  삶의 사다리 점수\n",
       "3206       5          8\n",
       "934        0          7\n",
       "2919       3          7\n",
       "2937       3          8\n",
       "1501       5          1\n",
       "...      ...        ...\n",
       "2627       5          5\n",
       "1151       3          7\n",
       "137        5          9\n",
       "584        5          5\n",
       "868        5         10\n",
       "\n",
       "[2333 rows x 2 columns]"
      ]
     },
     "execution_count": 153,
     "metadata": {},
     "output_type": "execute_result"
    }
   ],
   "source": [
    "pd.merge(test[\"result\"],train_y,right_index=True,left_index=True)"
   ]
  },
  {
   "cell_type": "code",
   "execution_count": null,
   "metadata": {},
   "outputs": [],
   "source": []
  }
 ],
 "metadata": {
  "kernelspec": {
   "display_name": "Python 3",
   "language": "python",
   "name": "python3"
  },
  "language_info": {
   "codemirror_mode": {
    "name": "ipython",
    "version": 3
   },
   "file_extension": ".py",
   "mimetype": "text/x-python",
   "name": "python",
   "nbconvert_exporter": "python",
   "pygments_lexer": "ipython3",
   "version": "3.11.3"
  },
  "orig_nbformat": 4
 },
 "nbformat": 4,
 "nbformat_minor": 2
}
