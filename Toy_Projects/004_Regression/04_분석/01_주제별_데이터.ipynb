{
 "cells": [
  {
   "cell_type": "code",
   "execution_count": 1,
   "metadata": {},
   "outputs": [],
   "source": [
    "import pandas as pd\n",
    "import numpy as np\n",
    "import os\n",
    "import sys\n",
    "sys.path.append(os.path.dirname(os.getcwd()))\n",
    "import statsmodels.api as sm\n",
    "import statsmodels.formula.api as sf "
   ]
  },
  {
   "cell_type": "code",
   "execution_count": 2,
   "metadata": {},
   "outputs": [],
   "source": [
    "import chi2\n",
    "import Allogit"
   ]
  },
  {
   "cell_type": "code",
   "execution_count": 3,
   "metadata": {},
   "outputs": [],
   "source": [
    "col_base=[\"삶의 사다리 점수\",'(가)건강 만족도','(나)가족의 수입 만족도','(다)주거 환경 만족도','(라)가족관계 만족도','(마)직업 만족도','(바)사회적 친분관계 만족도','(사)여가생활 만족도']\n",
    "col_sub=[\"성별\",\"연령\",\"교육수준\"]\n",
    "D=pd.read_excel(\"../02_데이터검정/카테고리_소분류완료.xlsx\",usecols=col_base+col_sub)"
   ]
  },
  {
   "cell_type": "code",
   "execution_count": 4,
   "metadata": {},
   "outputs": [],
   "source": [
    "data=pd.DataFrame(D)"
   ]
  },
  {
   "cell_type": "markdown",
   "metadata": {},
   "source": [
    "# 전체"
   ]
  },
  {
   "cell_type": "markdown",
   "metadata": {},
   "source": [
    "### 모듈 적용 "
   ]
  },
  {
   "cell_type": "code",
   "execution_count": 46,
   "metadata": {},
   "outputs": [
    {
     "name": "stdout",
     "output_type": "stream",
     "text": [
      "Optimization terminated successfully.\n",
      "         Current function value: 0.541904\n",
      "         Iterations 6\n",
      "Optimization terminated successfully.\n",
      "         Current function value: 0.652613\n",
      "         Iterations 5\n",
      "Optimization terminated successfully.\n",
      "         Current function value: 0.652670\n",
      "         Iterations 5\n",
      "Optimization terminated successfully.\n",
      "         Current function value: 0.652935\n",
      "         Iterations 5\n",
      "Optimization terminated successfully.\n",
      "         Current function value: 0.653686\n",
      "         Iterations 5\n",
      "Optimization terminated successfully.\n",
      "         Current function value: 0.654799\n",
      "         Iterations 5\n",
      "Optimization terminated successfully.\n",
      "         Current function value: 0.517124\n",
      "         Iterations 6\n",
      "Optimization terminated successfully.\n",
      "         Current function value: 0.517368\n",
      "         Iterations 6\n",
      "Optimization terminated successfully.\n",
      "         Current function value: 0.518016\n",
      "         Iterations 6\n"
     ]
    }
   ],
   "source": [
    "전체=Allogit.Lgt(data)"
   ]
  },
  {
   "cell_type": "markdown",
   "metadata": {},
   "source": [
    "#### 전체 요약\n",
    "|구분|기준(평균)|유효독립변수|\n",
    "|--|--|--|\n",
    "|최상위|7.82|건강,가족관계,직업 만족도|\n",
    "|중상위|6.11|모든 만족도|\n",
    "|최하위|4.84|건강,가족 수입,주거환경,가족관계,여가생활 만족도|"
   ]
  },
  {
   "cell_type": "code",
   "execution_count": 48,
   "metadata": {},
   "outputs": [
    {
     "name": "stdout",
     "output_type": "stream",
     "text": [
      "평균: 6.116076784643071\n"
     ]
    },
    {
     "data": {
      "text/html": [
       "<div>\n",
       "<style scoped>\n",
       "    .dataframe tbody tr th:only-of-type {\n",
       "        vertical-align: middle;\n",
       "    }\n",
       "\n",
       "    .dataframe tbody tr th {\n",
       "        vertical-align: top;\n",
       "    }\n",
       "\n",
       "    .dataframe thead th {\n",
       "        text-align: right;\n",
       "    }\n",
       "</style>\n",
       "<table border=\"1\" class=\"dataframe\">\n",
       "  <thead>\n",
       "    <tr style=\"text-align: right;\">\n",
       "      <th></th>\n",
       "      <th>(중상위, coef)</th>\n",
       "      <th>(중상위, pvalue)</th>\n",
       "    </tr>\n",
       "  </thead>\n",
       "  <tbody>\n",
       "    <tr>\n",
       "      <th>const</th>\n",
       "      <td>-9.622729</td>\n",
       "      <td>2.632948e-118</td>\n",
       "    </tr>\n",
       "    <tr>\n",
       "      <th>(가)건강 만족도</th>\n",
       "      <td>0.371857</td>\n",
       "      <td>4.696007e-16</td>\n",
       "    </tr>\n",
       "    <tr>\n",
       "      <th>(나)가족의 수입 만족도</th>\n",
       "      <td>0.274914</td>\n",
       "      <td>8.439821e-07</td>\n",
       "    </tr>\n",
       "    <tr>\n",
       "      <th>(다)주거 환경 만족도</th>\n",
       "      <td>0.257816</td>\n",
       "      <td>6.280581e-04</td>\n",
       "    </tr>\n",
       "    <tr>\n",
       "      <th>(라)가족관계 만족도</th>\n",
       "      <td>0.403394</td>\n",
       "      <td>1.122983e-07</td>\n",
       "    </tr>\n",
       "    <tr>\n",
       "      <th>(마)직업 만족도</th>\n",
       "      <td>0.308263</td>\n",
       "      <td>2.348552e-05</td>\n",
       "    </tr>\n",
       "    <tr>\n",
       "      <th>(바)사회적 친분관계 만족도</th>\n",
       "      <td>0.621741</td>\n",
       "      <td>4.665250e-14</td>\n",
       "    </tr>\n",
       "    <tr>\n",
       "      <th>(사)여가생활 만족도</th>\n",
       "      <td>0.461951</td>\n",
       "      <td>1.115545e-11</td>\n",
       "    </tr>\n",
       "  </tbody>\n",
       "</table>\n",
       "</div>"
      ],
      "text/plain": [
       "                 (중상위, coef)  (중상위, pvalue)\n",
       "const              -9.622729  2.632948e-118\n",
       "(가)건강 만족도           0.371857   4.696007e-16\n",
       "(나)가족의 수입 만족도       0.274914   8.439821e-07\n",
       "(다)주거 환경 만족도        0.257816   6.280581e-04\n",
       "(라)가족관계 만족도         0.403394   1.122983e-07\n",
       "(마)직업 만족도           0.308263   2.348552e-05\n",
       "(바)사회적 친분관계 만족도     0.621741   4.665250e-14\n",
       "(사)여가생활 만족도         0.461951   1.115545e-11"
      ]
     },
     "execution_count": 48,
     "metadata": {},
     "output_type": "execute_result"
    }
   ],
   "source": [
    "result=pd.merge(전체[\"중상위\"][0].params.to_frame(),전체[\"중상위\"][0].pvalues.to_frame(),right_index=True,left_index=True)\n",
    "result.rename(columns=dict(zip(result.columns,[(\"중상위\",\"coef\"),(\"중상위\",\"pvalue\")])),inplace=True)\n",
    "print('평균:',전체[\"중상위\"][1])\n",
    "result"
   ]
  },
  {
   "cell_type": "code",
   "execution_count": 49,
   "metadata": {},
   "outputs": [
    {
     "name": "stdout",
     "output_type": "stream",
     "text": [
      "평균: 7.824647887323944\n"
     ]
    },
    {
     "data": {
      "text/html": [
       "<div>\n",
       "<style scoped>\n",
       "    .dataframe tbody tr th:only-of-type {\n",
       "        vertical-align: middle;\n",
       "    }\n",
       "\n",
       "    .dataframe tbody tr th {\n",
       "        vertical-align: top;\n",
       "    }\n",
       "\n",
       "    .dataframe thead th {\n",
       "        text-align: right;\n",
       "    }\n",
       "</style>\n",
       "<table border=\"1\" class=\"dataframe\">\n",
       "  <thead>\n",
       "    <tr style=\"text-align: right;\">\n",
       "      <th></th>\n",
       "      <th>(최상위, coef)</th>\n",
       "      <th>(최상위, pvalue)</th>\n",
       "    </tr>\n",
       "  </thead>\n",
       "  <tbody>\n",
       "    <tr>\n",
       "      <th>const</th>\n",
       "      <td>-3.760402</td>\n",
       "      <td>1.134329e-13</td>\n",
       "    </tr>\n",
       "    <tr>\n",
       "      <th>(가)건강 만족도</th>\n",
       "      <td>0.248874</td>\n",
       "      <td>5.358255e-05</td>\n",
       "    </tr>\n",
       "    <tr>\n",
       "      <th>(라)가족관계 만족도</th>\n",
       "      <td>0.277623</td>\n",
       "      <td>7.146349e-03</td>\n",
       "    </tr>\n",
       "    <tr>\n",
       "      <th>(마)직업 만족도</th>\n",
       "      <td>0.572275</td>\n",
       "      <td>1.182699e-08</td>\n",
       "    </tr>\n",
       "  </tbody>\n",
       "</table>\n",
       "</div>"
      ],
      "text/plain": [
       "             (최상위, coef)  (최상위, pvalue)\n",
       "const          -3.760402   1.134329e-13\n",
       "(가)건강 만족도       0.248874   5.358255e-05\n",
       "(라)가족관계 만족도     0.277623   7.146349e-03\n",
       "(마)직업 만족도       0.572275   1.182699e-08"
      ]
     },
     "execution_count": 49,
     "metadata": {},
     "output_type": "execute_result"
    }
   ],
   "source": [
    "result=pd.merge(전체[\"최상위\"][0].params.to_frame(),전체[\"최상위\"][0].pvalues.to_frame(),right_index=True,left_index=True)\n",
    "result.rename(columns=dict(zip(result.columns,[(\"최상위\",\"coef\"),(\"최상위\",\"pvalue\")])),inplace=True)\n",
    "print('평균:',전체[\"최상위\"][1])\n",
    "result"
   ]
  },
  {
   "cell_type": "code",
   "execution_count": 50,
   "metadata": {},
   "outputs": [
    {
     "name": "stdout",
     "output_type": "stream",
     "text": [
      "평균: 4.848484848484849\n"
     ]
    },
    {
     "data": {
      "text/html": [
       "<div>\n",
       "<style scoped>\n",
       "    .dataframe tbody tr th:only-of-type {\n",
       "        vertical-align: middle;\n",
       "    }\n",
       "\n",
       "    .dataframe tbody tr th {\n",
       "        vertical-align: top;\n",
       "    }\n",
       "\n",
       "    .dataframe thead th {\n",
       "        text-align: right;\n",
       "    }\n",
       "</style>\n",
       "<table border=\"1\" class=\"dataframe\">\n",
       "  <thead>\n",
       "    <tr style=\"text-align: right;\">\n",
       "      <th></th>\n",
       "      <th>(최하위, coef)</th>\n",
       "      <th>(최하위, pvalue)</th>\n",
       "    </tr>\n",
       "  </thead>\n",
       "  <tbody>\n",
       "    <tr>\n",
       "      <th>const</th>\n",
       "      <td>-5.554574</td>\n",
       "      <td>2.784895e-43</td>\n",
       "    </tr>\n",
       "    <tr>\n",
       "      <th>(가)건강 만족도</th>\n",
       "      <td>0.458175</td>\n",
       "      <td>1.272288e-12</td>\n",
       "    </tr>\n",
       "    <tr>\n",
       "      <th>(나)가족의 수입 만족도</th>\n",
       "      <td>0.383834</td>\n",
       "      <td>1.112127e-06</td>\n",
       "    </tr>\n",
       "    <tr>\n",
       "      <th>(다)주거 환경 만족도</th>\n",
       "      <td>0.276803</td>\n",
       "      <td>1.061060e-03</td>\n",
       "    </tr>\n",
       "    <tr>\n",
       "      <th>(라)가족관계 만족도</th>\n",
       "      <td>0.527065</td>\n",
       "      <td>6.739643e-10</td>\n",
       "    </tr>\n",
       "    <tr>\n",
       "      <th>(사)여가생활 만족도</th>\n",
       "      <td>0.474266</td>\n",
       "      <td>6.586727e-08</td>\n",
       "    </tr>\n",
       "  </tbody>\n",
       "</table>\n",
       "</div>"
      ],
      "text/plain": [
       "               (최하위, coef)  (최하위, pvalue)\n",
       "const            -5.554574   2.784895e-43\n",
       "(가)건강 만족도         0.458175   1.272288e-12\n",
       "(나)가족의 수입 만족도     0.383834   1.112127e-06\n",
       "(다)주거 환경 만족도      0.276803   1.061060e-03\n",
       "(라)가족관계 만족도       0.527065   6.739643e-10\n",
       "(사)여가생활 만족도       0.474266   6.586727e-08"
      ]
     },
     "execution_count": 50,
     "metadata": {},
     "output_type": "execute_result"
    }
   ],
   "source": [
    "result=pd.merge(전체[\"최하위\"][0].params.to_frame(),전체[\"최하위\"][0].pvalues.to_frame(),right_index=True,left_index=True)\n",
    "result.rename(columns=dict(zip(result.columns,[(\"최하위\",\"coef\"),(\"최하위\",\"pvalue\")])),inplace=True)\n",
    "print('평균:',전체[\"최하위\"][1])\n",
    "result"
   ]
  },
  {
   "cell_type": "markdown",
   "metadata": {},
   "source": [
    "# 연령"
   ]
  },
  {
   "cell_type": "markdown",
   "metadata": {},
   "source": [
    "# 교육수준"
   ]
  },
  {
   "cell_type": "markdown",
   "metadata": {},
   "source": [
    "## 교육수준과 삶의 만족도 사이의 연관성\n",
    "1. 서열척도"
   ]
  },
  {
   "cell_type": "code",
   "execution_count": 9,
   "metadata": {},
   "outputs": [
    {
     "data": {
      "text/html": [
       "<div>\n",
       "<style scoped>\n",
       "    .dataframe tbody tr th:only-of-type {\n",
       "        vertical-align: middle;\n",
       "    }\n",
       "\n",
       "    .dataframe tbody tr th {\n",
       "        vertical-align: top;\n",
       "    }\n",
       "\n",
       "    .dataframe thead th {\n",
       "        text-align: right;\n",
       "    }\n",
       "</style>\n",
       "<table border=\"1\" class=\"dataframe\">\n",
       "  <thead>\n",
       "    <tr style=\"text-align: right;\">\n",
       "      <th></th>\n",
       "      <th>삶의 사다리 점수</th>\n",
       "      <th>교육수준</th>\n",
       "    </tr>\n",
       "  </thead>\n",
       "  <tbody>\n",
       "    <tr>\n",
       "      <th>삶의 사다리 점수</th>\n",
       "      <td>1.000000</td>\n",
       "      <td>0.232986</td>\n",
       "    </tr>\n",
       "    <tr>\n",
       "      <th>교육수준</th>\n",
       "      <td>0.232986</td>\n",
       "      <td>1.000000</td>\n",
       "    </tr>\n",
       "  </tbody>\n",
       "</table>\n",
       "</div>"
      ],
      "text/plain": [
       "           삶의 사다리 점수      교육수준\n",
       "삶의 사다리 점수   1.000000  0.232986\n",
       "교육수준        0.232986  1.000000"
      ]
     },
     "execution_count": 9,
     "metadata": {},
     "output_type": "execute_result"
    }
   ],
   "source": [
    "# 스피어만\n",
    "data[[\"삶의 사다리 점수\",'교육수준']].corr(method=\"spearman\")"
   ]
  },
  {
   "cell_type": "markdown",
   "metadata": {},
   "source": [
    "2. 카이제곱 검정(독립성)<br>\n",
    "> 독립적이지 않다는 결론"
   ]
  },
  {
   "cell_type": "code",
   "execution_count": 10,
   "metadata": {},
   "outputs": [
    {
     "data": {
      "text/plain": [
       "9.068242536445476e-32"
      ]
     },
     "execution_count": 10,
     "metadata": {},
     "output_type": "execute_result"
    }
   ],
   "source": [
    "chi2.chi2_try(data[[\"삶의 사다리 점수\",'교육수준']])[\"type4\"][0][\"pvalue\"]"
   ]
  },
  {
   "cell_type": "markdown",
   "metadata": {},
   "source": [
    "## 교육수준별 삶의 만족도~삶의 사다리 점수간의 관계\n",
    "> 분석방법    \n",
    "> 회귀계수의 pvalue가 0.05보다 높으면 높은 순으로 해당 column을 제거하고 다시 분석          \n",
    "> 만약 남은 column은 최소 2개를 유지"
   ]
  },
  {
   "cell_type": "markdown",
   "metadata": {},
   "source": [
    "#### 모듈 적용"
   ]
  },
  {
   "cell_type": "code",
   "execution_count": 12,
   "metadata": {},
   "outputs": [
    {
     "name": "stdout",
     "output_type": "stream",
     "text": [
      "Optimization terminated successfully.\n",
      "         Current function value: 0.553254\n",
      "         Iterations 6\n",
      "Optimization terminated successfully.\n",
      "         Current function value: 0.555247\n",
      "         Iterations 6\n",
      "Optimization terminated successfully.\n",
      "         Current function value: 0.557538\n",
      "         Iterations 6\n",
      "Optimization terminated successfully.\n",
      "         Current function value: 0.561872\n",
      "         Iterations 6\n",
      "Optimization terminated successfully.\n",
      "         Current function value: 0.648605\n",
      "         Iterations 5\n",
      "Optimization terminated successfully.\n",
      "         Current function value: 0.648816\n",
      "         Iterations 5\n",
      "Optimization terminated successfully.\n",
      "         Current function value: 0.649314\n",
      "         Iterations 5\n",
      "Optimization terminated successfully.\n",
      "         Current function value: 0.650114\n",
      "         Iterations 5\n",
      "Optimization terminated successfully.\n",
      "         Current function value: 0.653045\n",
      "         Iterations 5\n",
      "Optimization terminated successfully.\n",
      "         Current function value: 0.657150\n",
      "         Iterations 5\n",
      "Optimization terminated successfully.\n",
      "         Current function value: 0.510714\n",
      "         Iterations 6\n",
      "Optimization terminated successfully.\n",
      "         Current function value: 0.511375\n",
      "         Iterations 6\n",
      "Optimization terminated successfully.\n",
      "         Current function value: 0.514283\n",
      "         Iterations 6\n",
      "Optimization terminated successfully.\n",
      "         Current function value: 0.518436\n",
      "         Iterations 6\n",
      "Optimization terminated successfully.\n",
      "         Current function value: 0.524035\n",
      "         Iterations 6\n",
      "Optimization terminated successfully.\n",
      "         Current function value: 0.563440\n",
      "         Iterations 6\n",
      "Optimization terminated successfully.\n",
      "         Current function value: 0.565130\n",
      "         Iterations 6\n",
      "Optimization terminated successfully.\n",
      "         Current function value: 0.582936\n",
      "         Iterations 6\n",
      "Optimization terminated successfully.\n",
      "         Current function value: 0.583080\n",
      "         Iterations 6\n",
      "Optimization terminated successfully.\n",
      "         Current function value: 0.583787\n",
      "         Iterations 6\n",
      "Optimization terminated successfully.\n",
      "         Current function value: 0.584510\n",
      "         Iterations 6\n",
      "Optimization terminated successfully.\n",
      "         Current function value: 0.585829\n",
      "         Iterations 6\n",
      "Optimization terminated successfully.\n",
      "         Current function value: 0.588215\n",
      "         Iterations 6\n",
      "Optimization terminated successfully.\n",
      "         Current function value: 0.618272\n",
      "         Iterations 5\n",
      "Optimization terminated successfully.\n",
      "         Current function value: 0.618341\n",
      "         Iterations 5\n",
      "Optimization terminated successfully.\n",
      "         Current function value: 0.619200\n",
      "         Iterations 5\n",
      "Optimization terminated successfully.\n",
      "         Current function value: 0.620821\n",
      "         Iterations 5\n",
      "Optimization terminated successfully.\n",
      "         Current function value: 0.484029\n",
      "         Iterations 6\n",
      "Optimization terminated successfully.\n",
      "         Current function value: 0.484288\n",
      "         Iterations 6\n",
      "Optimization terminated successfully.\n",
      "         Current function value: 0.485058\n",
      "         Iterations 6\n",
      "Optimization terminated successfully.\n",
      "         Current function value: 0.610725\n",
      "         Iterations 5\n",
      "Optimization terminated successfully.\n",
      "         Current function value: 0.611319\n",
      "         Iterations 5\n",
      "Optimization terminated successfully.\n",
      "         Current function value: 0.612091\n",
      "         Iterations 5\n",
      "Optimization terminated successfully.\n",
      "         Current function value: 0.614347\n",
      "         Iterations 5\n",
      "Optimization terminated successfully.\n",
      "         Current function value: 0.617410\n",
      "         Iterations 5\n",
      "Optimization terminated successfully.\n",
      "         Current function value: 0.621253\n",
      "         Iterations 5\n",
      "Optimization terminated successfully.\n",
      "         Current function value: 0.535469\n",
      "         Iterations 6\n",
      "Optimization terminated successfully.\n",
      "         Current function value: 0.536706\n",
      "         Iterations 6\n",
      "Optimization terminated successfully.\n",
      "         Current function value: 0.539162\n",
      "         Iterations 6\n",
      "Optimization terminated successfully.\n",
      "         Current function value: 0.546800\n",
      "         Iterations 6\n",
      "Optimization terminated successfully.\n",
      "         Current function value: 0.550808\n",
      "         Iterations 6\n",
      "Optimization terminated successfully.\n",
      "         Current function value: 0.540776\n",
      "         Iterations 6\n",
      "Optimization terminated successfully.\n",
      "         Current function value: 0.541226\n",
      "         Iterations 6\n",
      "Optimization terminated successfully.\n",
      "         Current function value: 0.541942\n",
      "         Iterations 6\n",
      "Optimization terminated successfully.\n",
      "         Current function value: 0.542569\n",
      "         Iterations 6\n",
      "Optimization terminated successfully.\n",
      "         Current function value: 0.549900\n",
      "         Iterations 6\n",
      "Optimization terminated successfully.\n",
      "         Current function value: 0.625350\n",
      "         Iterations 6\n",
      "Optimization terminated successfully.\n",
      "         Current function value: 0.626080\n",
      "         Iterations 6\n",
      "Optimization terminated successfully.\n",
      "         Current function value: 0.628957\n",
      "         Iterations 6\n",
      "Optimization terminated successfully.\n",
      "         Current function value: 0.634824\n",
      "         Iterations 5\n",
      "Optimization terminated successfully.\n",
      "         Current function value: 0.645346\n",
      "         Iterations 5\n",
      "Optimization terminated successfully.\n",
      "         Current function value: 0.661111\n",
      "         Iterations 5\n",
      "Optimization terminated successfully.\n",
      "         Current function value: 0.635797\n",
      "         Iterations 5\n",
      "Optimization terminated successfully.\n",
      "         Current function value: 0.635811\n",
      "         Iterations 5\n",
      "Optimization terminated successfully.\n",
      "         Current function value: 0.636079\n",
      "         Iterations 5\n",
      "Optimization terminated successfully.\n",
      "         Current function value: 0.636749\n",
      "         Iterations 5\n",
      "Optimization terminated successfully.\n",
      "         Current function value: 0.638907\n",
      "         Iterations 5\n",
      "Optimization terminated successfully.\n",
      "         Current function value: 0.641950\n",
      "         Iterations 5\n",
      "Optimization terminated successfully.\n",
      "         Current function value: 0.565986\n",
      "         Iterations 6\n",
      "Optimization terminated successfully.\n",
      "         Current function value: 0.568021\n",
      "         Iterations 6\n",
      "Optimization terminated successfully.\n",
      "         Current function value: 0.643445\n",
      "         Iterations 5\n",
      "Optimization terminated successfully.\n",
      "         Current function value: 0.643449\n",
      "         Iterations 5\n",
      "Optimization terminated successfully.\n",
      "         Current function value: 0.643481\n",
      "         Iterations 5\n",
      "Optimization terminated successfully.\n",
      "         Current function value: 0.644741\n",
      "         Iterations 5\n",
      "Optimization terminated successfully.\n",
      "         Current function value: 0.646044\n",
      "         Iterations 5\n",
      "Optimization terminated successfully.\n",
      "         Current function value: 0.650951\n",
      "         Iterations 5\n",
      "Optimization terminated successfully.\n",
      "         Current function value: 0.474612\n",
      "         Iterations 6\n",
      "Optimization terminated successfully.\n",
      "         Current function value: 0.476149\n",
      "         Iterations 6\n",
      "Optimization terminated successfully.\n",
      "         Current function value: 0.477490\n",
      "         Iterations 6\n",
      "Optimization terminated successfully.\n",
      "         Current function value: 0.479146\n",
      "         Iterations 6\n",
      "Optimization terminated successfully.\n",
      "         Current function value: 0.571845\n",
      "         Iterations 6\n",
      "Optimization terminated successfully.\n",
      "         Current function value: 0.572123\n",
      "         Iterations 6\n",
      "Optimization terminated successfully.\n",
      "         Current function value: 0.572567\n",
      "         Iterations 6\n",
      "Optimization terminated successfully.\n",
      "         Current function value: 0.575704\n",
      "         Iterations 6\n",
      "Optimization terminated successfully.\n",
      "         Current function value: 0.539294\n",
      "         Iterations 6\n",
      "Optimization terminated successfully.\n",
      "         Current function value: 0.539717\n",
      "         Iterations 6\n",
      "Optimization terminated successfully.\n",
      "         Current function value: 0.541107\n",
      "         Iterations 6\n",
      "Optimization terminated successfully.\n",
      "         Current function value: 0.543672\n",
      "         Iterations 6\n",
      "Optimization terminated successfully.\n",
      "         Current function value: 0.545662\n",
      "         Iterations 6\n",
      "Optimization terminated successfully.\n",
      "         Current function value: 0.549025\n",
      "         Iterations 6\n",
      "Optimization terminated successfully.\n",
      "         Current function value: 0.640980\n",
      "         Iterations 5\n",
      "Optimization terminated successfully.\n",
      "         Current function value: 0.641071\n",
      "         Iterations 5\n",
      "Optimization terminated successfully.\n",
      "         Current function value: 0.641454\n",
      "         Iterations 5\n",
      "Optimization terminated successfully.\n",
      "         Current function value: 0.642328\n",
      "         Iterations 5\n",
      "Optimization terminated successfully.\n",
      "         Current function value: 0.643958\n",
      "         Iterations 5\n",
      "Optimization terminated successfully.\n",
      "         Current function value: 0.650489\n",
      "         Iterations 5\n"
     ]
    }
   ],
   "source": [
    "교육수준=Allogit.Lgt(data,\"교육수준\")"
   ]
  },
  {
   "cell_type": "markdown",
   "metadata": {},
   "source": [
    "### 교욱수준별 분석"
   ]
  },
  {
   "cell_type": "markdown",
   "metadata": {},
   "source": [
    "#### 교육수준 2 : 무학\n",
    "|구분|기준(평균)|유효독립변수|\n",
    "|--|--|--|\n",
    "|최상위|7.10|가족수입,사회적친분관계|\n",
    "|중상위|5.56|건강,가족수입,사회적친분관계,여가생활만족도|\n",
    "|최하위|4.09|가족수입,주거환경만족도|"
   ]
  },
  {
   "cell_type": "code",
   "execution_count": 20,
   "metadata": {},
   "outputs": [
    {
     "name": "stdout",
     "output_type": "stream",
     "text": [
      "평균: 5.560311284046692\n"
     ]
    },
    {
     "data": {
      "text/html": [
       "<div>\n",
       "<style scoped>\n",
       "    .dataframe tbody tr th:only-of-type {\n",
       "        vertical-align: middle;\n",
       "    }\n",
       "\n",
       "    .dataframe tbody tr th {\n",
       "        vertical-align: top;\n",
       "    }\n",
       "\n",
       "    .dataframe thead th {\n",
       "        text-align: right;\n",
       "    }\n",
       "</style>\n",
       "<table border=\"1\" class=\"dataframe\">\n",
       "  <thead>\n",
       "    <tr style=\"text-align: right;\">\n",
       "      <th></th>\n",
       "      <th>(중상위, coef)</th>\n",
       "      <th>(중상위, pvalue)</th>\n",
       "    </tr>\n",
       "  </thead>\n",
       "  <tbody>\n",
       "    <tr>\n",
       "      <th>const</th>\n",
       "      <td>-6.354932</td>\n",
       "      <td>3.174635e-19</td>\n",
       "    </tr>\n",
       "    <tr>\n",
       "      <th>(가)건강 만족도</th>\n",
       "      <td>0.576536</td>\n",
       "      <td>4.935974e-06</td>\n",
       "    </tr>\n",
       "    <tr>\n",
       "      <th>(나)가족의 수입 만족도</th>\n",
       "      <td>0.486149</td>\n",
       "      <td>7.103450e-04</td>\n",
       "    </tr>\n",
       "    <tr>\n",
       "      <th>(바)사회적 친분관계 만족도</th>\n",
       "      <td>0.625167</td>\n",
       "      <td>7.132104e-04</td>\n",
       "    </tr>\n",
       "    <tr>\n",
       "      <th>(사)여가생활 만족도</th>\n",
       "      <td>0.429370</td>\n",
       "      <td>1.425509e-02</td>\n",
       "    </tr>\n",
       "  </tbody>\n",
       "</table>\n",
       "</div>"
      ],
      "text/plain": [
       "                 (중상위, coef)  (중상위, pvalue)\n",
       "const              -6.354932   3.174635e-19\n",
       "(가)건강 만족도           0.576536   4.935974e-06\n",
       "(나)가족의 수입 만족도       0.486149   7.103450e-04\n",
       "(바)사회적 친분관계 만족도     0.625167   7.132104e-04\n",
       "(사)여가생활 만족도         0.429370   1.425509e-02"
      ]
     },
     "execution_count": 20,
     "metadata": {},
     "output_type": "execute_result"
    }
   ],
   "source": [
    "result=pd.merge(교육수준[2][\"중상위\"][0].params.to_frame(),교육수준[2][\"중상위\"][0].pvalues.to_frame(),right_index=True,left_index=True)\n",
    "result.rename(columns=dict(zip(result.columns,[(\"중상위\",\"coef\"),(\"중상위\",\"pvalue\")])),inplace=True)\n",
    "print('평균:',교육수준[2][\"중상위\"][1])\n",
    "result"
   ]
  },
  {
   "cell_type": "code",
   "execution_count": 21,
   "metadata": {},
   "outputs": [
    {
     "name": "stdout",
     "output_type": "stream",
     "text": [
      "평균: 7.108\n"
     ]
    },
    {
     "data": {
      "text/html": [
       "<div>\n",
       "<style scoped>\n",
       "    .dataframe tbody tr th:only-of-type {\n",
       "        vertical-align: middle;\n",
       "    }\n",
       "\n",
       "    .dataframe tbody tr th {\n",
       "        vertical-align: top;\n",
       "    }\n",
       "\n",
       "    .dataframe thead th {\n",
       "        text-align: right;\n",
       "    }\n",
       "</style>\n",
       "<table border=\"1\" class=\"dataframe\">\n",
       "  <thead>\n",
       "    <tr style=\"text-align: right;\">\n",
       "      <th></th>\n",
       "      <th>(최상위, coef)</th>\n",
       "      <th>(최상위, pvalue)</th>\n",
       "    </tr>\n",
       "  </thead>\n",
       "  <tbody>\n",
       "    <tr>\n",
       "      <th>const</th>\n",
       "      <td>-6.571894</td>\n",
       "      <td>1.663667e-07</td>\n",
       "    </tr>\n",
       "    <tr>\n",
       "      <th>(나)가족의 수입 만족도</th>\n",
       "      <td>0.875105</td>\n",
       "      <td>4.227774e-05</td>\n",
       "    </tr>\n",
       "    <tr>\n",
       "      <th>(바)사회적 친분관계 만족도</th>\n",
       "      <td>0.787632</td>\n",
       "      <td>6.253928e-03</td>\n",
       "    </tr>\n",
       "  </tbody>\n",
       "</table>\n",
       "</div>"
      ],
      "text/plain": [
       "                 (최상위, coef)  (최상위, pvalue)\n",
       "const              -6.571894   1.663667e-07\n",
       "(나)가족의 수입 만족도       0.875105   4.227774e-05\n",
       "(바)사회적 친분관계 만족도     0.787632   6.253928e-03"
      ]
     },
     "execution_count": 21,
     "metadata": {},
     "output_type": "execute_result"
    }
   ],
   "source": [
    "result=pd.merge(교육수준[2][\"최상위\"][0].params.to_frame(),교육수준[2][\"최상위\"][0].pvalues.to_frame(),right_index=True,left_index=True)\n",
    "result.rename(columns=dict(zip(result.columns,[(\"최상위\",\"coef\"),(\"최상위\",\"pvalue\")])),inplace=True)\n",
    "print('평균:',교육수준[2][\"최상위\"][1])\n",
    "result"
   ]
  },
  {
   "cell_type": "code",
   "execution_count": 22,
   "metadata": {},
   "outputs": [
    {
     "name": "stdout",
     "output_type": "stream",
     "text": [
      "평균: 4.09469696969697\n"
     ]
    },
    {
     "data": {
      "text/html": [
       "<div>\n",
       "<style scoped>\n",
       "    .dataframe tbody tr th:only-of-type {\n",
       "        vertical-align: middle;\n",
       "    }\n",
       "\n",
       "    .dataframe tbody tr th {\n",
       "        vertical-align: top;\n",
       "    }\n",
       "\n",
       "    .dataframe thead th {\n",
       "        text-align: right;\n",
       "    }\n",
       "</style>\n",
       "<table border=\"1\" class=\"dataframe\">\n",
       "  <thead>\n",
       "    <tr style=\"text-align: right;\">\n",
       "      <th></th>\n",
       "      <th>(최하위, coef)</th>\n",
       "      <th>(최하위, pvalue)</th>\n",
       "    </tr>\n",
       "  </thead>\n",
       "  <tbody>\n",
       "    <tr>\n",
       "      <th>const</th>\n",
       "      <td>-2.937042</td>\n",
       "      <td>0.000053</td>\n",
       "    </tr>\n",
       "    <tr>\n",
       "      <th>(나)가족의 수입 만족도</th>\n",
       "      <td>0.690001</td>\n",
       "      <td>0.000453</td>\n",
       "    </tr>\n",
       "    <tr>\n",
       "      <th>(다)주거 환경 만족도</th>\n",
       "      <td>0.297056</td>\n",
       "      <td>0.129961</td>\n",
       "    </tr>\n",
       "  </tbody>\n",
       "</table>\n",
       "</div>"
      ],
      "text/plain": [
       "               (최하위, coef)  (최하위, pvalue)\n",
       "const            -2.937042       0.000053\n",
       "(나)가족의 수입 만족도     0.690001       0.000453\n",
       "(다)주거 환경 만족도      0.297056       0.129961"
      ]
     },
     "execution_count": 22,
     "metadata": {},
     "output_type": "execute_result"
    }
   ],
   "source": [
    "result=pd.merge(교육수준[2][\"최하위\"][0].params.to_frame(),교육수준[2][\"최하위\"][0].pvalues.to_frame(),right_index=True,left_index=True)\n",
    "result.rename(columns=dict(zip(result.columns,[(\"최하위\",\"coef\"),(\"최하위\",\"pvalue\")])),inplace=True)\n",
    "print('평균:',교육수준[2][\"최하위\"][1])\n",
    "result"
   ]
  },
  {
   "cell_type": "markdown",
   "metadata": {},
   "source": [
    "#### 교육수준 3 : 초등학교\n",
    "|구분|기준(평균)|유효독립변수|\n",
    "|--|--|--|\n",
    "|최상위|7.10|직업,여가생활만족도|\n",
    "|중상위|5.89|건강,가족수입,가족관계,직업,사회적친분관계,여가생활만족도|\n",
    "|최하위|4.28|건강,가족관계,주거환경,사회적 친분관계만족도|"
   ]
  },
  {
   "cell_type": "code",
   "execution_count": 24,
   "metadata": {},
   "outputs": [
    {
     "name": "stdout",
     "output_type": "stream",
     "text": [
      "평균: 5.898174831892411\n"
     ]
    },
    {
     "data": {
      "text/html": [
       "<div>\n",
       "<style scoped>\n",
       "    .dataframe tbody tr th:only-of-type {\n",
       "        vertical-align: middle;\n",
       "    }\n",
       "\n",
       "    .dataframe tbody tr th {\n",
       "        vertical-align: top;\n",
       "    }\n",
       "\n",
       "    .dataframe thead th {\n",
       "        text-align: right;\n",
       "    }\n",
       "</style>\n",
       "<table border=\"1\" class=\"dataframe\">\n",
       "  <thead>\n",
       "    <tr style=\"text-align: right;\">\n",
       "      <th></th>\n",
       "      <th>(중상위, coef)</th>\n",
       "      <th>(중상위, pvalue)</th>\n",
       "    </tr>\n",
       "  </thead>\n",
       "  <tbody>\n",
       "    <tr>\n",
       "      <th>const</th>\n",
       "      <td>-7.996389</td>\n",
       "      <td>1.163116e-35</td>\n",
       "    </tr>\n",
       "    <tr>\n",
       "      <th>(가)건강 만족도</th>\n",
       "      <td>0.311360</td>\n",
       "      <td>3.273642e-04</td>\n",
       "    </tr>\n",
       "    <tr>\n",
       "      <th>(나)가족의 수입 만족도</th>\n",
       "      <td>0.400841</td>\n",
       "      <td>6.992137e-05</td>\n",
       "    </tr>\n",
       "    <tr>\n",
       "      <th>(라)가족관계 만족도</th>\n",
       "      <td>0.657902</td>\n",
       "      <td>8.517601e-07</td>\n",
       "    </tr>\n",
       "    <tr>\n",
       "      <th>(마)직업 만족도</th>\n",
       "      <td>0.264117</td>\n",
       "      <td>3.456102e-02</td>\n",
       "    </tr>\n",
       "    <tr>\n",
       "      <th>(바)사회적 친분관계 만족도</th>\n",
       "      <td>0.462052</td>\n",
       "      <td>2.679116e-04</td>\n",
       "    </tr>\n",
       "    <tr>\n",
       "      <th>(사)여가생활 만족도</th>\n",
       "      <td>0.414251</td>\n",
       "      <td>6.263853e-04</td>\n",
       "    </tr>\n",
       "  </tbody>\n",
       "</table>\n",
       "</div>"
      ],
      "text/plain": [
       "                 (중상위, coef)  (중상위, pvalue)\n",
       "const              -7.996389   1.163116e-35\n",
       "(가)건강 만족도           0.311360   3.273642e-04\n",
       "(나)가족의 수입 만족도       0.400841   6.992137e-05\n",
       "(라)가족관계 만족도         0.657902   8.517601e-07\n",
       "(마)직업 만족도           0.264117   3.456102e-02\n",
       "(바)사회적 친분관계 만족도     0.462052   2.679116e-04\n",
       "(사)여가생활 만족도         0.414251   6.263853e-04"
      ]
     },
     "execution_count": 24,
     "metadata": {},
     "output_type": "execute_result"
    }
   ],
   "source": [
    "result=pd.merge(교육수준[3][\"중상위\"][0].params.to_frame(),교육수준[3][\"중상위\"][0].pvalues.to_frame(),right_index=True,left_index=True)\n",
    "result.rename(columns=dict(zip(result.columns,[(\"중상위\",\"coef\"),(\"중상위\",\"pvalue\")])),inplace=True)\n",
    "print('평균:',교육수준[3][\"중상위\"][1])\n",
    "result"
   ]
  },
  {
   "cell_type": "code",
   "execution_count": 25,
   "metadata": {},
   "outputs": [
    {
     "name": "stdout",
     "output_type": "stream",
     "text": [
      "평균: 7.105704697986577\n"
     ]
    },
    {
     "data": {
      "text/html": [
       "<div>\n",
       "<style scoped>\n",
       "    .dataframe tbody tr th:only-of-type {\n",
       "        vertical-align: middle;\n",
       "    }\n",
       "\n",
       "    .dataframe tbody tr th {\n",
       "        vertical-align: top;\n",
       "    }\n",
       "\n",
       "    .dataframe thead th {\n",
       "        text-align: right;\n",
       "    }\n",
       "</style>\n",
       "<table border=\"1\" class=\"dataframe\">\n",
       "  <thead>\n",
       "    <tr style=\"text-align: right;\">\n",
       "      <th></th>\n",
       "      <th>(최상위, coef)</th>\n",
       "      <th>(최상위, pvalue)</th>\n",
       "    </tr>\n",
       "  </thead>\n",
       "  <tbody>\n",
       "    <tr>\n",
       "      <th>const</th>\n",
       "      <td>-5.122105</td>\n",
       "      <td>9.465380e-13</td>\n",
       "    </tr>\n",
       "    <tr>\n",
       "      <th>(마)직업 만족도</th>\n",
       "      <td>0.785077</td>\n",
       "      <td>5.198029e-06</td>\n",
       "    </tr>\n",
       "    <tr>\n",
       "      <th>(사)여가생활 만족도</th>\n",
       "      <td>0.457340</td>\n",
       "      <td>2.253889e-03</td>\n",
       "    </tr>\n",
       "  </tbody>\n",
       "</table>\n",
       "</div>"
      ],
      "text/plain": [
       "             (최상위, coef)  (최상위, pvalue)\n",
       "const          -5.122105   9.465380e-13\n",
       "(마)직업 만족도       0.785077   5.198029e-06\n",
       "(사)여가생활 만족도     0.457340   2.253889e-03"
      ]
     },
     "execution_count": 25,
     "metadata": {},
     "output_type": "execute_result"
    }
   ],
   "source": [
    "result=pd.merge(교육수준[3][\"최상위\"][0].params.to_frame(),교육수준[3][\"최상위\"][0].pvalues.to_frame(),right_index=True,left_index=True)\n",
    "result.rename(columns=dict(zip(result.columns,[(\"최상위\",\"coef\"),(\"최상위\",\"pvalue\")])),inplace=True)\n",
    "print('평균:',교육수준[3][\"최상위\"][1])\n",
    "result"
   ]
  },
  {
   "cell_type": "code",
   "execution_count": 26,
   "metadata": {},
   "outputs": [
    {
     "name": "stdout",
     "output_type": "stream",
     "text": [
      "평균: 4.280898876404494\n"
     ]
    },
    {
     "data": {
      "text/html": [
       "<div>\n",
       "<style scoped>\n",
       "    .dataframe tbody tr th:only-of-type {\n",
       "        vertical-align: middle;\n",
       "    }\n",
       "\n",
       "    .dataframe tbody tr th {\n",
       "        vertical-align: top;\n",
       "    }\n",
       "\n",
       "    .dataframe thead th {\n",
       "        text-align: right;\n",
       "    }\n",
       "</style>\n",
       "<table border=\"1\" class=\"dataframe\">\n",
       "  <thead>\n",
       "    <tr style=\"text-align: right;\">\n",
       "      <th></th>\n",
       "      <th>(최하위, coef)</th>\n",
       "      <th>(최하위, pvalue)</th>\n",
       "    </tr>\n",
       "  </thead>\n",
       "  <tbody>\n",
       "    <tr>\n",
       "      <th>const</th>\n",
       "      <td>-5.073717</td>\n",
       "      <td>7.943976e-11</td>\n",
       "    </tr>\n",
       "    <tr>\n",
       "      <th>(가)건강 만족도</th>\n",
       "      <td>0.440059</td>\n",
       "      <td>3.290697e-04</td>\n",
       "    </tr>\n",
       "    <tr>\n",
       "      <th>(다)주거 환경 만족도</th>\n",
       "      <td>0.413846</td>\n",
       "      <td>9.964582e-03</td>\n",
       "    </tr>\n",
       "    <tr>\n",
       "      <th>(라)가족관계 만족도</th>\n",
       "      <td>0.509843</td>\n",
       "      <td>2.770049e-03</td>\n",
       "    </tr>\n",
       "    <tr>\n",
       "      <th>(바)사회적 친분관계 만족도</th>\n",
       "      <td>0.330667</td>\n",
       "      <td>3.653402e-02</td>\n",
       "    </tr>\n",
       "  </tbody>\n",
       "</table>\n",
       "</div>"
      ],
      "text/plain": [
       "                 (최하위, coef)  (최하위, pvalue)\n",
       "const              -5.073717   7.943976e-11\n",
       "(가)건강 만족도           0.440059   3.290697e-04\n",
       "(다)주거 환경 만족도        0.413846   9.964582e-03\n",
       "(라)가족관계 만족도         0.509843   2.770049e-03\n",
       "(바)사회적 친분관계 만족도     0.330667   3.653402e-02"
      ]
     },
     "execution_count": 26,
     "metadata": {},
     "output_type": "execute_result"
    }
   ],
   "source": [
    "result=pd.merge(교육수준[3][\"최하위\"][0].params.to_frame(),교육수준[3][\"최하위\"][0].pvalues.to_frame(),right_index=True,left_index=True)\n",
    "result.rename(columns=dict(zip(result.columns,[(\"최하위\",\"coef\"),(\"최하위\",\"pvalue\")])),inplace=True)\n",
    "print('평균:',교육수준[3][\"최하위\"][1])\n",
    "result"
   ]
  },
  {
   "cell_type": "markdown",
   "metadata": {},
   "source": [
    "#### 교육수준 4 : 중학교\n",
    "|구분|기준(평균)|유효독립변수|\n",
    "|--|--|--|\n",
    "|최상위|7.79|가족수입,직업만족도|\n",
    "|중상위|6.00|건강,주거 환경,직업,사회적친분관계만족도|\n",
    "|최하위|4.83|건강,.직업,가족관계만족도|"
   ]
  },
  {
   "cell_type": "code",
   "execution_count": 27,
   "metadata": {},
   "outputs": [
    {
     "name": "stdout",
     "output_type": "stream",
     "text": [
      "평균: 6.0\n"
     ]
    },
    {
     "data": {
      "text/html": [
       "<div>\n",
       "<style scoped>\n",
       "    .dataframe tbody tr th:only-of-type {\n",
       "        vertical-align: middle;\n",
       "    }\n",
       "\n",
       "    .dataframe tbody tr th {\n",
       "        vertical-align: top;\n",
       "    }\n",
       "\n",
       "    .dataframe thead th {\n",
       "        text-align: right;\n",
       "    }\n",
       "</style>\n",
       "<table border=\"1\" class=\"dataframe\">\n",
       "  <thead>\n",
       "    <tr style=\"text-align: right;\">\n",
       "      <th></th>\n",
       "      <th>(중상위, coef)</th>\n",
       "      <th>(중상위, pvalue)</th>\n",
       "    </tr>\n",
       "  </thead>\n",
       "  <tbody>\n",
       "    <tr>\n",
       "      <th>const</th>\n",
       "      <td>-8.437494</td>\n",
       "      <td>1.990746e-15</td>\n",
       "    </tr>\n",
       "    <tr>\n",
       "      <th>(가)건강 만족도</th>\n",
       "      <td>0.296341</td>\n",
       "      <td>1.700898e-02</td>\n",
       "    </tr>\n",
       "    <tr>\n",
       "      <th>(다)주거 환경 만족도</th>\n",
       "      <td>0.584653</td>\n",
       "      <td>6.441249e-03</td>\n",
       "    </tr>\n",
       "    <tr>\n",
       "      <th>(마)직업 만족도</th>\n",
       "      <td>0.616620</td>\n",
       "      <td>1.649362e-03</td>\n",
       "    </tr>\n",
       "    <tr>\n",
       "      <th>(바)사회적 친분관계 만족도</th>\n",
       "      <td>0.775872</td>\n",
       "      <td>8.257791e-04</td>\n",
       "    </tr>\n",
       "  </tbody>\n",
       "</table>\n",
       "</div>"
      ],
      "text/plain": [
       "                 (중상위, coef)  (중상위, pvalue)\n",
       "const              -8.437494   1.990746e-15\n",
       "(가)건강 만족도           0.296341   1.700898e-02\n",
       "(다)주거 환경 만족도        0.584653   6.441249e-03\n",
       "(마)직업 만족도           0.616620   1.649362e-03\n",
       "(바)사회적 친분관계 만족도     0.775872   8.257791e-04"
      ]
     },
     "execution_count": 27,
     "metadata": {},
     "output_type": "execute_result"
    }
   ],
   "source": [
    "result=pd.merge(교육수준[4][\"중상위\"][0].params.to_frame(),교육수준[4][\"중상위\"][0].pvalues.to_frame(),right_index=True,left_index=True)\n",
    "result.rename(columns=dict(zip(result.columns,[(\"중상위\",\"coef\"),(\"중상위\",\"pvalue\")])),inplace=True)\n",
    "print('평균:',교육수준[4][\"중상위\"][1])\n",
    "result"
   ]
  },
  {
   "cell_type": "code",
   "execution_count": 29,
   "metadata": {},
   "outputs": [
    {
     "name": "stdout",
     "output_type": "stream",
     "text": [
      "평균: 7.795180722891566\n"
     ]
    },
    {
     "data": {
      "text/html": [
       "<div>\n",
       "<style scoped>\n",
       "    .dataframe tbody tr th:only-of-type {\n",
       "        vertical-align: middle;\n",
       "    }\n",
       "\n",
       "    .dataframe tbody tr th {\n",
       "        vertical-align: top;\n",
       "    }\n",
       "\n",
       "    .dataframe thead th {\n",
       "        text-align: right;\n",
       "    }\n",
       "</style>\n",
       "<table border=\"1\" class=\"dataframe\">\n",
       "  <thead>\n",
       "    <tr style=\"text-align: right;\">\n",
       "      <th></th>\n",
       "      <th>(최상위, coef)</th>\n",
       "      <th>(최상위, pvalue)</th>\n",
       "    </tr>\n",
       "  </thead>\n",
       "  <tbody>\n",
       "    <tr>\n",
       "      <th>const</th>\n",
       "      <td>-2.874327</td>\n",
       "      <td>0.012515</td>\n",
       "    </tr>\n",
       "    <tr>\n",
       "      <th>(나)가족의 수입 만족도</th>\n",
       "      <td>0.281469</td>\n",
       "      <td>0.122037</td>\n",
       "    </tr>\n",
       "    <tr>\n",
       "      <th>(마)직업 만족도</th>\n",
       "      <td>0.613123</td>\n",
       "      <td>0.032543</td>\n",
       "    </tr>\n",
       "  </tbody>\n",
       "</table>\n",
       "</div>"
      ],
      "text/plain": [
       "               (최상위, coef)  (최상위, pvalue)\n",
       "const            -2.874327       0.012515\n",
       "(나)가족의 수입 만족도     0.281469       0.122037\n",
       "(마)직업 만족도         0.613123       0.032543"
      ]
     },
     "execution_count": 29,
     "metadata": {},
     "output_type": "execute_result"
    }
   ],
   "source": [
    "result=pd.merge(교육수준[4][\"최상위\"][0].params.to_frame(),교육수준[4][\"최상위\"][0].pvalues.to_frame(),right_index=True,left_index=True)\n",
    "result.rename(columns=dict(zip(result.columns,[(\"최상위\",\"coef\"),(\"최상위\",\"pvalue\")])),inplace=True)\n",
    "print('평균:',교육수준[4][\"최상위\"][1])\n",
    "result"
   ]
  },
  {
   "cell_type": "code",
   "execution_count": 30,
   "metadata": {},
   "outputs": [
    {
     "name": "stdout",
     "output_type": "stream",
     "text": [
      "평균: 4.8359375\n"
     ]
    },
    {
     "data": {
      "text/html": [
       "<div>\n",
       "<style scoped>\n",
       "    .dataframe tbody tr th:only-of-type {\n",
       "        vertical-align: middle;\n",
       "    }\n",
       "\n",
       "    .dataframe tbody tr th {\n",
       "        vertical-align: top;\n",
       "    }\n",
       "\n",
       "    .dataframe thead th {\n",
       "        text-align: right;\n",
       "    }\n",
       "</style>\n",
       "<table border=\"1\" class=\"dataframe\">\n",
       "  <thead>\n",
       "    <tr style=\"text-align: right;\">\n",
       "      <th></th>\n",
       "      <th>(최하위, coef)</th>\n",
       "      <th>(최하위, pvalue)</th>\n",
       "    </tr>\n",
       "  </thead>\n",
       "  <tbody>\n",
       "    <tr>\n",
       "      <th>const</th>\n",
       "      <td>-4.506955</td>\n",
       "      <td>0.000002</td>\n",
       "    </tr>\n",
       "    <tr>\n",
       "      <th>(가)건강 만족도</th>\n",
       "      <td>0.407276</td>\n",
       "      <td>0.021763</td>\n",
       "    </tr>\n",
       "    <tr>\n",
       "      <th>(라)가족관계 만족도</th>\n",
       "      <td>0.543770</td>\n",
       "      <td>0.016897</td>\n",
       "    </tr>\n",
       "    <tr>\n",
       "      <th>(마)직업 만족도</th>\n",
       "      <td>0.785703</td>\n",
       "      <td>0.000582</td>\n",
       "    </tr>\n",
       "  </tbody>\n",
       "</table>\n",
       "</div>"
      ],
      "text/plain": [
       "             (최하위, coef)  (최하위, pvalue)\n",
       "const          -4.506955       0.000002\n",
       "(가)건강 만족도       0.407276       0.021763\n",
       "(라)가족관계 만족도     0.543770       0.016897\n",
       "(마)직업 만족도       0.785703       0.000582"
      ]
     },
     "execution_count": 30,
     "metadata": {},
     "output_type": "execute_result"
    }
   ],
   "source": [
    "result=pd.merge(교육수준[4][\"최하위\"][0].params.to_frame(),교육수준[4][\"최하위\"][0].pvalues.to_frame(),right_index=True,left_index=True)\n",
    "result.rename(columns=dict(zip(result.columns,[(\"최하위\",\"coef\"),(\"최하위\",\"pvalue\")])),inplace=True)\n",
    "print('평균:',교육수준[4][\"최하위\"][1])\n",
    "result"
   ]
  },
  {
   "cell_type": "markdown",
   "metadata": {},
   "source": [
    "#### 교육수준 5 : 고등학교\n",
    "|구분|기준(평균)|유효독립변수|\n",
    "|--|--|--|\n",
    "|최상위|7.82|가족관계,직업만족도|\n",
    "|중상위|6.27|건강,가족 수입,가족 관계,직업,사회적친분관계,여가생활 만족도|\n",
    "|최하위|4.83|건강,.가족수입,가족관계,여가생활 만족도|"
   ]
  },
  {
   "cell_type": "code",
   "execution_count": 33,
   "metadata": {},
   "outputs": [
    {
     "name": "stdout",
     "output_type": "stream",
     "text": [
      "평균: 6.273584905660377\n"
     ]
    },
    {
     "data": {
      "text/html": [
       "<div>\n",
       "<style scoped>\n",
       "    .dataframe tbody tr th:only-of-type {\n",
       "        vertical-align: middle;\n",
       "    }\n",
       "\n",
       "    .dataframe tbody tr th {\n",
       "        vertical-align: top;\n",
       "    }\n",
       "\n",
       "    .dataframe thead th {\n",
       "        text-align: right;\n",
       "    }\n",
       "</style>\n",
       "<table border=\"1\" class=\"dataframe\">\n",
       "  <thead>\n",
       "    <tr style=\"text-align: right;\">\n",
       "      <th></th>\n",
       "      <th>(중상위, coef)</th>\n",
       "      <th>(중상위, pvalue)</th>\n",
       "    </tr>\n",
       "  </thead>\n",
       "  <tbody>\n",
       "    <tr>\n",
       "      <th>const</th>\n",
       "      <td>-7.971771</td>\n",
       "      <td>8.620384e-24</td>\n",
       "    </tr>\n",
       "    <tr>\n",
       "      <th>(가)건강 만족도</th>\n",
       "      <td>0.371946</td>\n",
       "      <td>3.736275e-04</td>\n",
       "    </tr>\n",
       "    <tr>\n",
       "      <th>(나)가족의 수입 만족도</th>\n",
       "      <td>0.262130</td>\n",
       "      <td>2.276492e-02</td>\n",
       "    </tr>\n",
       "    <tr>\n",
       "      <th>(라)가족관계 만족도</th>\n",
       "      <td>0.428108</td>\n",
       "      <td>8.401742e-03</td>\n",
       "    </tr>\n",
       "    <tr>\n",
       "      <th>(마)직업 만족도</th>\n",
       "      <td>0.343833</td>\n",
       "      <td>2.679742e-02</td>\n",
       "    </tr>\n",
       "    <tr>\n",
       "      <th>(바)사회적 친분관계 만족도</th>\n",
       "      <td>0.510015</td>\n",
       "      <td>4.453146e-03</td>\n",
       "    </tr>\n",
       "    <tr>\n",
       "      <th>(사)여가생활 만족도</th>\n",
       "      <td>0.362898</td>\n",
       "      <td>1.104182e-02</td>\n",
       "    </tr>\n",
       "  </tbody>\n",
       "</table>\n",
       "</div>"
      ],
      "text/plain": [
       "                 (중상위, coef)  (중상위, pvalue)\n",
       "const              -7.971771   8.620384e-24\n",
       "(가)건강 만족도           0.371946   3.736275e-04\n",
       "(나)가족의 수입 만족도       0.262130   2.276492e-02\n",
       "(라)가족관계 만족도         0.428108   8.401742e-03\n",
       "(마)직업 만족도           0.343833   2.679742e-02\n",
       "(바)사회적 친분관계 만족도     0.510015   4.453146e-03\n",
       "(사)여가생활 만족도         0.362898   1.104182e-02"
      ]
     },
     "execution_count": 33,
     "metadata": {},
     "output_type": "execute_result"
    }
   ],
   "source": [
    "result=pd.merge(교육수준[5][\"중상위\"][0].params.to_frame(),교육수준[5][\"중상위\"][0].pvalues.to_frame(),right_index=True,left_index=True)\n",
    "result.rename(columns=dict(zip(result.columns,[(\"중상위\",\"coef\"),(\"중상위\",\"pvalue\")])),inplace=True)\n",
    "print('평균:',교육수준[5][\"중상위\"][1])\n",
    "result"
   ]
  },
  {
   "cell_type": "code",
   "execution_count": 35,
   "metadata": {},
   "outputs": [
    {
     "name": "stdout",
     "output_type": "stream",
     "text": [
      "평균: 7.824104234527687\n"
     ]
    },
    {
     "data": {
      "text/html": [
       "<div>\n",
       "<style scoped>\n",
       "    .dataframe tbody tr th:only-of-type {\n",
       "        vertical-align: middle;\n",
       "    }\n",
       "\n",
       "    .dataframe tbody tr th {\n",
       "        vertical-align: top;\n",
       "    }\n",
       "\n",
       "    .dataframe thead th {\n",
       "        text-align: right;\n",
       "    }\n",
       "</style>\n",
       "<table border=\"1\" class=\"dataframe\">\n",
       "  <thead>\n",
       "    <tr style=\"text-align: right;\">\n",
       "      <th></th>\n",
       "      <th>(최상위, coef)</th>\n",
       "      <th>(최상위, pvalue)</th>\n",
       "    </tr>\n",
       "  </thead>\n",
       "  <tbody>\n",
       "    <tr>\n",
       "      <th>const</th>\n",
       "      <td>-4.071515</td>\n",
       "      <td>0.000137</td>\n",
       "    </tr>\n",
       "    <tr>\n",
       "      <th>(라)가족관계 만족도</th>\n",
       "      <td>0.447633</td>\n",
       "      <td>0.045747</td>\n",
       "    </tr>\n",
       "    <tr>\n",
       "      <th>(마)직업 만족도</th>\n",
       "      <td>0.702589</td>\n",
       "      <td>0.000696</td>\n",
       "    </tr>\n",
       "  </tbody>\n",
       "</table>\n",
       "</div>"
      ],
      "text/plain": [
       "             (최상위, coef)  (최상위, pvalue)\n",
       "const          -4.071515       0.000137\n",
       "(라)가족관계 만족도     0.447633       0.045747\n",
       "(마)직업 만족도       0.702589       0.000696"
      ]
     },
     "execution_count": 35,
     "metadata": {},
     "output_type": "execute_result"
    }
   ],
   "source": [
    "result=pd.merge(교육수준[5][\"최상위\"][0].params.to_frame(),교육수준[5][\"최상위\"][0].pvalues.to_frame(),right_index=True,left_index=True)\n",
    "result.rename(columns=dict(zip(result.columns,[(\"최상위\",\"coef\"),(\"최상위\",\"pvalue\")])),inplace=True)\n",
    "print('평균:',교육수준[5][\"최상위\"][1])\n",
    "result"
   ]
  },
  {
   "cell_type": "code",
   "execution_count": 36,
   "metadata": {},
   "outputs": [
    {
     "name": "stdout",
     "output_type": "stream",
     "text": [
      "평균: 4.826747720364741\n"
     ]
    },
    {
     "data": {
      "text/html": [
       "<div>\n",
       "<style scoped>\n",
       "    .dataframe tbody tr th:only-of-type {\n",
       "        vertical-align: middle;\n",
       "    }\n",
       "\n",
       "    .dataframe tbody tr th {\n",
       "        vertical-align: top;\n",
       "    }\n",
       "\n",
       "    .dataframe thead th {\n",
       "        text-align: right;\n",
       "    }\n",
       "</style>\n",
       "<table border=\"1\" class=\"dataframe\">\n",
       "  <thead>\n",
       "    <tr style=\"text-align: right;\">\n",
       "      <th></th>\n",
       "      <th>(최하위, coef)</th>\n",
       "      <th>(최하위, pvalue)</th>\n",
       "    </tr>\n",
       "  </thead>\n",
       "  <tbody>\n",
       "    <tr>\n",
       "      <th>const</th>\n",
       "      <td>-6.365368</td>\n",
       "      <td>1.309001e-11</td>\n",
       "    </tr>\n",
       "    <tr>\n",
       "      <th>(가)건강 만족도</th>\n",
       "      <td>0.467999</td>\n",
       "      <td>2.547244e-03</td>\n",
       "    </tr>\n",
       "    <tr>\n",
       "      <th>(나)가족의 수입 만족도</th>\n",
       "      <td>0.465892</td>\n",
       "      <td>7.155997e-03</td>\n",
       "    </tr>\n",
       "    <tr>\n",
       "      <th>(라)가족관계 만족도</th>\n",
       "      <td>0.668726</td>\n",
       "      <td>8.664228e-04</td>\n",
       "    </tr>\n",
       "    <tr>\n",
       "      <th>(사)여가생활 만족도</th>\n",
       "      <td>0.808223</td>\n",
       "      <td>7.759557e-05</td>\n",
       "    </tr>\n",
       "  </tbody>\n",
       "</table>\n",
       "</div>"
      ],
      "text/plain": [
       "               (최하위, coef)  (최하위, pvalue)\n",
       "const            -6.365368   1.309001e-11\n",
       "(가)건강 만족도         0.467999   2.547244e-03\n",
       "(나)가족의 수입 만족도     0.465892   7.155997e-03\n",
       "(라)가족관계 만족도       0.668726   8.664228e-04\n",
       "(사)여가생활 만족도       0.808223   7.759557e-05"
      ]
     },
     "execution_count": 36,
     "metadata": {},
     "output_type": "execute_result"
    }
   ],
   "source": [
    "result=pd.merge(교육수준[5][\"최하위\"][0].params.to_frame(),교육수준[5][\"최하위\"][0].pvalues.to_frame(),right_index=True,left_index=True)\n",
    "result.rename(columns=dict(zip(result.columns,[(\"최하위\",\"coef\"),(\"최하위\",\"pvalue\")])),inplace=True)\n",
    "print('평균:',교육수준[5][\"최하위\"][1])\n",
    "result"
   ]
  },
  {
   "cell_type": "markdown",
   "metadata": {},
   "source": [
    "#### 교육수준 6 : 전문대학교\n",
    "|구분|기준(평균)|유효독립변수|\n",
    "|--|--|--|\n",
    "|최상위|7.82|주거환경관계,사회적 친분관계 만족도|\n",
    "|중상위|6.56|건강,가족 관계,직업,여가생활 만족도|\n",
    "|최하위|5.19|건강,주거환경 만족도|"
   ]
  },
  {
   "cell_type": "code",
   "execution_count": 38,
   "metadata": {},
   "outputs": [
    {
     "name": "stdout",
     "output_type": "stream",
     "text": [
      "평균: 6.5636363636363635\n"
     ]
    },
    {
     "data": {
      "text/html": [
       "<div>\n",
       "<style scoped>\n",
       "    .dataframe tbody tr th:only-of-type {\n",
       "        vertical-align: middle;\n",
       "    }\n",
       "\n",
       "    .dataframe tbody tr th {\n",
       "        vertical-align: top;\n",
       "    }\n",
       "\n",
       "    .dataframe thead th {\n",
       "        text-align: right;\n",
       "    }\n",
       "</style>\n",
       "<table border=\"1\" class=\"dataframe\">\n",
       "  <thead>\n",
       "    <tr style=\"text-align: right;\">\n",
       "      <th></th>\n",
       "      <th>(중상위, coef)</th>\n",
       "      <th>(중상위, pvalue)</th>\n",
       "    </tr>\n",
       "  </thead>\n",
       "  <tbody>\n",
       "    <tr>\n",
       "      <th>const</th>\n",
       "      <td>-9.427310</td>\n",
       "      <td>4.997413e-10</td>\n",
       "    </tr>\n",
       "    <tr>\n",
       "      <th>(가)건강 만족도</th>\n",
       "      <td>0.401476</td>\n",
       "      <td>3.400939e-02</td>\n",
       "    </tr>\n",
       "    <tr>\n",
       "      <th>(라)가족관계 만족도</th>\n",
       "      <td>1.077867</td>\n",
       "      <td>3.766684e-04</td>\n",
       "    </tr>\n",
       "    <tr>\n",
       "      <th>(사)여가생활 만족도</th>\n",
       "      <td>1.146627</td>\n",
       "      <td>5.584562e-06</td>\n",
       "    </tr>\n",
       "  </tbody>\n",
       "</table>\n",
       "</div>"
      ],
      "text/plain": [
       "             (중상위, coef)  (중상위, pvalue)\n",
       "const          -9.427310   4.997413e-10\n",
       "(가)건강 만족도       0.401476   3.400939e-02\n",
       "(라)가족관계 만족도     1.077867   3.766684e-04\n",
       "(사)여가생활 만족도     1.146627   5.584562e-06"
      ]
     },
     "execution_count": 38,
     "metadata": {},
     "output_type": "execute_result"
    }
   ],
   "source": [
    "result=pd.merge(교육수준[6][\"중상위\"][0].params.to_frame(),교육수준[6][\"중상위\"][0].pvalues.to_frame(),right_index=True,left_index=True)\n",
    "result.rename(columns=dict(zip(result.columns,[(\"중상위\",\"coef\"),(\"중상위\",\"pvalue\")])),inplace=True)\n",
    "print('평균:',교육수준[6][\"중상위\"][1])\n",
    "result"
   ]
  },
  {
   "cell_type": "code",
   "execution_count": 39,
   "metadata": {},
   "outputs": [
    {
     "name": "stdout",
     "output_type": "stream",
     "text": [
      "평균: 7.817391304347826\n"
     ]
    },
    {
     "data": {
      "text/html": [
       "<div>\n",
       "<style scoped>\n",
       "    .dataframe tbody tr th:only-of-type {\n",
       "        vertical-align: middle;\n",
       "    }\n",
       "\n",
       "    .dataframe tbody tr th {\n",
       "        vertical-align: top;\n",
       "    }\n",
       "\n",
       "    .dataframe thead th {\n",
       "        text-align: right;\n",
       "    }\n",
       "</style>\n",
       "<table border=\"1\" class=\"dataframe\">\n",
       "  <thead>\n",
       "    <tr style=\"text-align: right;\">\n",
       "      <th></th>\n",
       "      <th>(최상위, coef)</th>\n",
       "      <th>(최상위, pvalue)</th>\n",
       "    </tr>\n",
       "  </thead>\n",
       "  <tbody>\n",
       "    <tr>\n",
       "      <th>const</th>\n",
       "      <td>-4.264837</td>\n",
       "      <td>0.029444</td>\n",
       "    </tr>\n",
       "    <tr>\n",
       "      <th>(다)주거 환경 만족도</th>\n",
       "      <td>0.561946</td>\n",
       "      <td>0.120883</td>\n",
       "    </tr>\n",
       "    <tr>\n",
       "      <th>(바)사회적 친분관계 만족도</th>\n",
       "      <td>0.623166</td>\n",
       "      <td>0.118344</td>\n",
       "    </tr>\n",
       "  </tbody>\n",
       "</table>\n",
       "</div>"
      ],
      "text/plain": [
       "                 (최상위, coef)  (최상위, pvalue)\n",
       "const              -4.264837       0.029444\n",
       "(다)주거 환경 만족도        0.561946       0.120883\n",
       "(바)사회적 친분관계 만족도     0.623166       0.118344"
      ]
     },
     "execution_count": 39,
     "metadata": {},
     "output_type": "execute_result"
    }
   ],
   "source": [
    "result=pd.merge(교육수준[6][\"최상위\"][0].params.to_frame(),교육수준[6][\"최상위\"][0].pvalues.to_frame(),right_index=True,left_index=True)\n",
    "result.rename(columns=dict(zip(result.columns,[(\"최상위\",\"coef\"),(\"최상위\",\"pvalue\")])),inplace=True)\n",
    "print('평균:',교육수준[6][\"최상위\"][1])\n",
    "result"
   ]
  },
  {
   "cell_type": "code",
   "execution_count": 40,
   "metadata": {},
   "outputs": [
    {
     "name": "stdout",
     "output_type": "stream",
     "text": [
      "평균: 5.190476190476191\n"
     ]
    },
    {
     "data": {
      "text/html": [
       "<div>\n",
       "<style scoped>\n",
       "    .dataframe tbody tr th:only-of-type {\n",
       "        vertical-align: middle;\n",
       "    }\n",
       "\n",
       "    .dataframe tbody tr th {\n",
       "        vertical-align: top;\n",
       "    }\n",
       "\n",
       "    .dataframe thead th {\n",
       "        text-align: right;\n",
       "    }\n",
       "</style>\n",
       "<table border=\"1\" class=\"dataframe\">\n",
       "  <thead>\n",
       "    <tr style=\"text-align: right;\">\n",
       "      <th></th>\n",
       "      <th>(최하위, coef)</th>\n",
       "      <th>(최하위, pvalue)</th>\n",
       "    </tr>\n",
       "  </thead>\n",
       "  <tbody>\n",
       "    <tr>\n",
       "      <th>const</th>\n",
       "      <td>-3.884696</td>\n",
       "      <td>0.002402</td>\n",
       "    </tr>\n",
       "    <tr>\n",
       "      <th>(가)건강 만족도</th>\n",
       "      <td>0.364382</td>\n",
       "      <td>0.107971</td>\n",
       "    </tr>\n",
       "    <tr>\n",
       "      <th>(다)주거 환경 만족도</th>\n",
       "      <td>0.764576</td>\n",
       "      <td>0.012562</td>\n",
       "    </tr>\n",
       "  </tbody>\n",
       "</table>\n",
       "</div>"
      ],
      "text/plain": [
       "              (최하위, coef)  (최하위, pvalue)\n",
       "const           -3.884696       0.002402\n",
       "(가)건강 만족도        0.364382       0.107971\n",
       "(다)주거 환경 만족도     0.764576       0.012562"
      ]
     },
     "execution_count": 40,
     "metadata": {},
     "output_type": "execute_result"
    }
   ],
   "source": [
    "result=pd.merge(교육수준[6][\"최하위\"][0].params.to_frame(),교육수준[6][\"최하위\"][0].pvalues.to_frame(),right_index=True,left_index=True)\n",
    "result.rename(columns=dict(zip(result.columns,[(\"최하위\",\"coef\"),(\"최하위\",\"pvalue\")])),inplace=True)\n",
    "print('평균:',교육수준[6][\"최하위\"][1])\n",
    "result"
   ]
  },
  {
   "cell_type": "markdown",
   "metadata": {},
   "source": [
    "#### 교육수준 7 : 대학교,대학원\n",
    "|구분|기준(평균)|유효독립변수|\n",
    "|--|--|--|\n",
    "|최상위|7.88|건강,직업 만족도|\n",
    "|중상위|6.84|건강,가족 관계,직업,여가생활 만족도|\n",
    "|최하위|5.11|건강,가족,직업환경 만족도|"
   ]
  },
  {
   "cell_type": "code",
   "execution_count": 42,
   "metadata": {},
   "outputs": [
    {
     "name": "stdout",
     "output_type": "stream",
     "text": [
      "평균: 6.840319361277445\n"
     ]
    },
    {
     "data": {
      "text/html": [
       "<div>\n",
       "<style scoped>\n",
       "    .dataframe tbody tr th:only-of-type {\n",
       "        vertical-align: middle;\n",
       "    }\n",
       "\n",
       "    .dataframe tbody tr th {\n",
       "        vertical-align: top;\n",
       "    }\n",
       "\n",
       "    .dataframe thead th {\n",
       "        text-align: right;\n",
       "    }\n",
       "</style>\n",
       "<table border=\"1\" class=\"dataframe\">\n",
       "  <thead>\n",
       "    <tr style=\"text-align: right;\">\n",
       "      <th></th>\n",
       "      <th>(중상위, coef)</th>\n",
       "      <th>(중상위, pvalue)</th>\n",
       "    </tr>\n",
       "  </thead>\n",
       "  <tbody>\n",
       "    <tr>\n",
       "      <th>const</th>\n",
       "      <td>-9.932521</td>\n",
       "      <td>8.343999e-23</td>\n",
       "    </tr>\n",
       "    <tr>\n",
       "      <th>(가)건강 만족도</th>\n",
       "      <td>0.490168</td>\n",
       "      <td>4.176774e-04</td>\n",
       "    </tr>\n",
       "    <tr>\n",
       "      <th>(나)가족의 수입 만족도</th>\n",
       "      <td>0.445126</td>\n",
       "      <td>2.335360e-03</td>\n",
       "    </tr>\n",
       "    <tr>\n",
       "      <th>(마)직업 만족도</th>\n",
       "      <td>0.432126</td>\n",
       "      <td>2.543542e-02</td>\n",
       "    </tr>\n",
       "    <tr>\n",
       "      <th>(바)사회적 친분관계 만족도</th>\n",
       "      <td>1.022166</td>\n",
       "      <td>7.670179e-06</td>\n",
       "    </tr>\n",
       "    <tr>\n",
       "      <th>(사)여가생활 만족도</th>\n",
       "      <td>0.547874</td>\n",
       "      <td>2.865501e-03</td>\n",
       "    </tr>\n",
       "  </tbody>\n",
       "</table>\n",
       "</div>"
      ],
      "text/plain": [
       "                 (중상위, coef)  (중상위, pvalue)\n",
       "const              -9.932521   8.343999e-23\n",
       "(가)건강 만족도           0.490168   4.176774e-04\n",
       "(나)가족의 수입 만족도       0.445126   2.335360e-03\n",
       "(마)직업 만족도           0.432126   2.543542e-02\n",
       "(바)사회적 친분관계 만족도     1.022166   7.670179e-06\n",
       "(사)여가생활 만족도         0.547874   2.865501e-03"
      ]
     },
     "execution_count": 42,
     "metadata": {},
     "output_type": "execute_result"
    }
   ],
   "source": [
    "result=pd.merge(교육수준[7][\"중상위\"][0].params.to_frame(),교육수준[7][\"중상위\"][0].pvalues.to_frame(),right_index=True,left_index=True)\n",
    "result.rename(columns=dict(zip(result.columns,[(\"중상위\",\"coef\"),(\"중상위\",\"pvalue\")])),inplace=True)\n",
    "print('평균:',교육수준[7][\"중상위\"][1])\n",
    "result"
   ]
  },
  {
   "cell_type": "code",
   "execution_count": 44,
   "metadata": {},
   "outputs": [
    {
     "name": "stdout",
     "output_type": "stream",
     "text": [
      "평균: 7.884615384615385\n"
     ]
    },
    {
     "data": {
      "text/html": [
       "<div>\n",
       "<style scoped>\n",
       "    .dataframe tbody tr th:only-of-type {\n",
       "        vertical-align: middle;\n",
       "    }\n",
       "\n",
       "    .dataframe tbody tr th {\n",
       "        vertical-align: top;\n",
       "    }\n",
       "\n",
       "    .dataframe thead th {\n",
       "        text-align: right;\n",
       "    }\n",
       "</style>\n",
       "<table border=\"1\" class=\"dataframe\">\n",
       "  <thead>\n",
       "    <tr style=\"text-align: right;\">\n",
       "      <th></th>\n",
       "      <th>(최상위, coef)</th>\n",
       "      <th>(최상위, pvalue)</th>\n",
       "    </tr>\n",
       "  </thead>\n",
       "  <tbody>\n",
       "    <tr>\n",
       "      <th>const</th>\n",
       "      <td>-3.521750</td>\n",
       "      <td>0.000391</td>\n",
       "    </tr>\n",
       "    <tr>\n",
       "      <th>(가)건강 만족도</th>\n",
       "      <td>0.301784</td>\n",
       "      <td>0.068432</td>\n",
       "    </tr>\n",
       "    <tr>\n",
       "      <th>(마)직업 만족도</th>\n",
       "      <td>0.801506</td>\n",
       "      <td>0.000835</td>\n",
       "    </tr>\n",
       "  </tbody>\n",
       "</table>\n",
       "</div>"
      ],
      "text/plain": [
       "           (최상위, coef)  (최상위, pvalue)\n",
       "const        -3.521750       0.000391\n",
       "(가)건강 만족도     0.301784       0.068432\n",
       "(마)직업 만족도     0.801506       0.000835"
      ]
     },
     "execution_count": 44,
     "metadata": {},
     "output_type": "execute_result"
    }
   ],
   "source": [
    "result=pd.merge(교육수준[7][\"최상위\"][0].params.to_frame(),교육수준[7][\"최상위\"][0].pvalues.to_frame(),right_index=True,left_index=True)\n",
    "result.rename(columns=dict(zip(result.columns,[(\"최상위\",\"coef\"),(\"최상위\",\"pvalue\")])),inplace=True)\n",
    "print('평균:',교육수준[7][\"최상위\"][1])\n",
    "result"
   ]
  },
  {
   "cell_type": "code",
   "execution_count": 45,
   "metadata": {},
   "outputs": [
    {
     "name": "stdout",
     "output_type": "stream",
     "text": [
      "평균: 5.116402116402116\n"
     ]
    },
    {
     "data": {
      "text/html": [
       "<div>\n",
       "<style scoped>\n",
       "    .dataframe tbody tr th:only-of-type {\n",
       "        vertical-align: middle;\n",
       "    }\n",
       "\n",
       "    .dataframe tbody tr th {\n",
       "        vertical-align: top;\n",
       "    }\n",
       "\n",
       "    .dataframe thead th {\n",
       "        text-align: right;\n",
       "    }\n",
       "</style>\n",
       "<table border=\"1\" class=\"dataframe\">\n",
       "  <thead>\n",
       "    <tr style=\"text-align: right;\">\n",
       "      <th></th>\n",
       "      <th>(최하위, coef)</th>\n",
       "      <th>(최하위, pvalue)</th>\n",
       "    </tr>\n",
       "  </thead>\n",
       "  <tbody>\n",
       "    <tr>\n",
       "      <th>const</th>\n",
       "      <td>-6.468334</td>\n",
       "      <td>1.739787e-08</td>\n",
       "    </tr>\n",
       "    <tr>\n",
       "      <th>(가)건강 만족도</th>\n",
       "      <td>0.727041</td>\n",
       "      <td>1.619591e-04</td>\n",
       "    </tr>\n",
       "    <tr>\n",
       "      <th>(라)가족관계 만족도</th>\n",
       "      <td>0.728220</td>\n",
       "      <td>3.079104e-03</td>\n",
       "    </tr>\n",
       "    <tr>\n",
       "      <th>(마)직업 만족도</th>\n",
       "      <td>0.551056</td>\n",
       "      <td>2.306483e-02</td>\n",
       "    </tr>\n",
       "  </tbody>\n",
       "</table>\n",
       "</div>"
      ],
      "text/plain": [
       "             (최하위, coef)  (최하위, pvalue)\n",
       "const          -6.468334   1.739787e-08\n",
       "(가)건강 만족도       0.727041   1.619591e-04\n",
       "(라)가족관계 만족도     0.728220   3.079104e-03\n",
       "(마)직업 만족도       0.551056   2.306483e-02"
      ]
     },
     "execution_count": 45,
     "metadata": {},
     "output_type": "execute_result"
    }
   ],
   "source": [
    "result=pd.merge(교육수준[7][\"최하위\"][0].params.to_frame(),교육수준[7][\"최하위\"][0].pvalues.to_frame(),right_index=True,left_index=True)\n",
    "result.rename(columns=dict(zip(result.columns,[(\"최하위\",\"coef\"),(\"최하위\",\"pvalue\")])),inplace=True)\n",
    "print('평균:',교육수준[7][\"최하위\"][1])\n",
    "result"
   ]
  },
  {
   "cell_type": "code",
   "execution_count": null,
   "metadata": {},
   "outputs": [],
   "source": []
  }
 ],
 "metadata": {
  "kernelspec": {
   "display_name": "Python 3",
   "language": "python",
   "name": "python3"
  },
  "language_info": {
   "codemirror_mode": {
    "name": "ipython",
    "version": 3
   },
   "file_extension": ".py",
   "mimetype": "text/x-python",
   "name": "python",
   "nbconvert_exporter": "python",
   "pygments_lexer": "ipython3",
   "version": "3.11.3"
  },
  "orig_nbformat": 4
 },
 "nbformat": 4,
 "nbformat_minor": 2
}
