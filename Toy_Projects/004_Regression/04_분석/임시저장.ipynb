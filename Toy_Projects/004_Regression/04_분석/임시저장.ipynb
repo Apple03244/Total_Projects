{
 "cells": [
  {
   "cell_type": "code",
   "execution_count": 1,
   "metadata": {},
   "outputs": [],
   "source": [
    "def lgt(endog,exog):\n",
    "    endog=endog.apply(lambda x:1 if x > endog.mean() else 0)\n",
    "    process=sm.Logit(endog=endog,exog=sm.add_constant(exog)).fit()\n",
    "    p_test=process.pvalues.sort_values(ascending=False).to_frame()\n",
    "    i=0\n",
    "    while any(p_test[0]>0.05):\n",
    "        exog=exog[exog.columns.difference([p_test.index[0]])]\n",
    "        process=sm.Logit(endog=endog,exog=sm.add_constant(exog)).fit()\n",
    "        p_test=process.pvalues.sort_values(ascending=False).to_frame()\n",
    "        i+=1\n",
    "        if i>3:\n",
    "            break\n",
    "    return process"
   ]
  },
  {
   "cell_type": "code",
   "execution_count": 2,
   "metadata": {},
   "outputs": [
    {
     "ename": "NameError",
     "evalue": "name 'data' is not defined",
     "output_type": "error",
     "traceback": [
      "\u001b[1;31m---------------------------------------------------------------------------\u001b[0m",
      "\u001b[1;31mNameError\u001b[0m                                 Traceback (most recent call last)",
      "Cell \u001b[1;32mIn[2], line 2\u001b[0m\n\u001b[0;32m      1\u001b[0m result\u001b[39m=\u001b[39m{}\n\u001b[1;32m----> 2\u001b[0m \u001b[39mfor\u001b[39;00m val \u001b[39min\u001b[39;00m data[\u001b[39m\"\u001b[39m\u001b[39m교육수준\u001b[39m\u001b[39m\"\u001b[39m]\u001b[39m.\u001b[39munique():\n\u001b[0;32m      3\u001b[0m     use_data\u001b[39m=\u001b[39mdata[data[\u001b[39m\"\u001b[39m\u001b[39m교육수준\u001b[39m\u001b[39m\"\u001b[39m]\u001b[39m==\u001b[39mval][col_base]\n\u001b[0;32m      4\u001b[0m     sub_data\u001b[39m=\u001b[39m{\u001b[39m\"\u001b[39m\u001b[39m중상위\u001b[39m\u001b[39m\"\u001b[39m:use_data,\u001b[39m\"\u001b[39m\u001b[39m최상위\u001b[39m\u001b[39m\"\u001b[39m:use_data[use_data[\u001b[39m\"\u001b[39m\u001b[39m삶의 사다리 점수\u001b[39m\u001b[39m\"\u001b[39m]\u001b[39m>\u001b[39muse_data[\u001b[39m\"\u001b[39m\u001b[39m삶의 사다리 점수\u001b[39m\u001b[39m\"\u001b[39m]\u001b[39m.\u001b[39mmean()],\u001b[39m\"\u001b[39m\u001b[39m최하위\u001b[39m\u001b[39m\"\u001b[39m:use_data[use_data[\u001b[39m\"\u001b[39m\u001b[39m삶의 사다리 점수\u001b[39m\u001b[39m\"\u001b[39m]\u001b[39m<\u001b[39m\u001b[39m=\u001b[39muse_data[\u001b[39m\"\u001b[39m\u001b[39m삶의 사다리 점수\u001b[39m\u001b[39m\"\u001b[39m]\u001b[39m.\u001b[39mmean()]}\n",
      "\u001b[1;31mNameError\u001b[0m: name 'data' is not defined"
     ]
    }
   ],
   "source": [
    "result={}\n",
    "for val in data[\"교육수준\"].unique():\n",
    "    use_data=data[data[\"교육수준\"]==val][col_base]\n",
    "    sub_data={\"중상위\":use_data,\"최상위\":use_data[use_data[\"삶의 사다리 점수\"]>use_data[\"삶의 사다리 점수\"].mean()],\"최하위\":use_data[use_data[\"삶의 사다리 점수\"]<=use_data[\"삶의 사다리 점수\"].mean()]}\n",
    "    sub_result={}\n",
    "    for key in sub_data:\n",
    "        endog=sub_data[key][\"삶의 사다리 점수\"]\n",
    "        exog=sub_data[key][col_base[1:]]\n",
    "        sub_result[key]=lgt(endog,exog)\n",
    "    result[val]=sub_result"
   ]
  },
  {
   "cell_type": "code",
   "execution_count": null,
   "metadata": {},
   "outputs": [],
   "source": []
  }
 ],
 "metadata": {
  "kernelspec": {
   "display_name": "Python 3",
   "language": "python",
   "name": "python3"
  },
  "language_info": {
   "codemirror_mode": {
    "name": "ipython",
    "version": 3
   },
   "file_extension": ".py",
   "mimetype": "text/x-python",
   "name": "python",
   "nbconvert_exporter": "python",
   "pygments_lexer": "ipython3",
   "version": "3.11.3"
  },
  "orig_nbformat": 4
 },
 "nbformat": 4,
 "nbformat_minor": 2
}
