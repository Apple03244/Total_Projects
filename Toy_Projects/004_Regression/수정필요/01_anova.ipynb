{
 "cells": [
  {
   "cell_type": "code",
   "execution_count": 1,
   "metadata": {},
   "outputs": [],
   "source": [
    "import pandas as pd\n",
    "import statsmodels.api as sm\n",
    "import scipy.stats as sps"
   ]
  },
  {
   "cell_type": "code",
   "execution_count": 2,
   "metadata": {},
   "outputs": [],
   "source": [
    "D=pd.read_excel(\"../02_데이터검정/카테고리_소분류완료.xlsx\")"
   ]
  },
  {
   "cell_type": "code",
   "execution_count": 3,
   "metadata": {},
   "outputs": [],
   "source": [
    "data=pd.DataFrame(D)"
   ]
  },
  {
   "cell_type": "code",
   "execution_count": 4,
   "metadata": {},
   "outputs": [],
   "source": [
    "col=['연령',\"주거면적\",\"총생활비\",\"방수\"]"
   ]
  },
  {
   "cell_type": "markdown",
   "metadata": {},
   "source": [
    "독립성 확인하기\n",
    "-----------"
   ]
  },
  {
   "cell_type": "markdown",
   "metadata": {},
   "source": [
    "### VIF 검사"
   ]
  },
  {
   "cell_type": "code",
   "execution_count": 6,
   "metadata": {},
   "outputs": [],
   "source": [
    "vif_data={}\n",
    "for c in col:\n",
    "    colum=[x for x in col if x!=c]\n",
    "    exog=sm.add_constant(data[colum])\n",
    "    endog=data[c]\n",
    "    test=sm.OLS(endog=endog,exog=exog).fit()\n",
    "    vif_data[c]=1/(1-test.rsquared)"
   ]
  },
  {
   "cell_type": "code",
   "execution_count": 13,
   "metadata": {},
   "outputs": [
    {
     "data": {
      "text/html": [
       "<div>\n",
       "<style scoped>\n",
       "    .dataframe tbody tr th:only-of-type {\n",
       "        vertical-align: middle;\n",
       "    }\n",
       "\n",
       "    .dataframe tbody tr th {\n",
       "        vertical-align: top;\n",
       "    }\n",
       "\n",
       "    .dataframe thead th {\n",
       "        text-align: right;\n",
       "    }\n",
       "</style>\n",
       "<table border=\"1\" class=\"dataframe\">\n",
       "  <thead>\n",
       "    <tr style=\"text-align: right;\">\n",
       "      <th></th>\n",
       "      <th>VIF</th>\n",
       "    </tr>\n",
       "  </thead>\n",
       "  <tbody>\n",
       "    <tr>\n",
       "      <th>방수</th>\n",
       "      <td>2.507639</td>\n",
       "    </tr>\n",
       "    <tr>\n",
       "      <th>주거면적</th>\n",
       "      <td>2.445156</td>\n",
       "    </tr>\n",
       "    <tr>\n",
       "      <th>연령</th>\n",
       "      <td>1.300475</td>\n",
       "    </tr>\n",
       "    <tr>\n",
       "      <th>총생활비</th>\n",
       "      <td>1.205654</td>\n",
       "    </tr>\n",
       "  </tbody>\n",
       "</table>\n",
       "</div>"
      ],
      "text/plain": [
       "           VIF\n",
       "방수    2.507639\n",
       "주거면적  2.445156\n",
       "연령    1.300475\n",
       "총생활비  1.205654"
      ]
     },
     "execution_count": 13,
     "metadata": {},
     "output_type": "execute_result"
    }
   ],
   "source": [
    "vif_result=pd.DataFrame(index=vif_data.keys(),data=vif_data.values())\n",
    "vif_result.rename(columns={0:\"VIF\"}).sort_values(by=\"VIF\",ascending=False)"
   ]
  },
  {
   "cell_type": "code",
   "execution_count": 14,
   "metadata": {},
   "outputs": [],
   "source": [
    "vif_data={}\n",
    "for c in [x for x in col if x!=\"방수\"]:\n",
    "    colum=[x for x in col if x!=c]\n",
    "    exog=sm.add_constant(data[colum])\n",
    "    endog=data[c]\n",
    "    test=sm.OLS(endog=endog,exog=exog).fit()\n",
    "    vif_data[c]=1/(1-test.rsquared)"
   ]
  },
  {
   "cell_type": "code",
   "execution_count": 15,
   "metadata": {},
   "outputs": [
    {
     "data": {
      "text/html": [
       "<div>\n",
       "<style scoped>\n",
       "    .dataframe tbody tr th:only-of-type {\n",
       "        vertical-align: middle;\n",
       "    }\n",
       "\n",
       "    .dataframe tbody tr th {\n",
       "        vertical-align: top;\n",
       "    }\n",
       "\n",
       "    .dataframe thead th {\n",
       "        text-align: right;\n",
       "    }\n",
       "</style>\n",
       "<table border=\"1\" class=\"dataframe\">\n",
       "  <thead>\n",
       "    <tr style=\"text-align: right;\">\n",
       "      <th></th>\n",
       "      <th>VIF</th>\n",
       "    </tr>\n",
       "  </thead>\n",
       "  <tbody>\n",
       "    <tr>\n",
       "      <th>주거면적</th>\n",
       "      <td>2.445156</td>\n",
       "    </tr>\n",
       "    <tr>\n",
       "      <th>연령</th>\n",
       "      <td>1.300475</td>\n",
       "    </tr>\n",
       "    <tr>\n",
       "      <th>총생활비</th>\n",
       "      <td>1.205654</td>\n",
       "    </tr>\n",
       "  </tbody>\n",
       "</table>\n",
       "</div>"
      ],
      "text/plain": [
       "           VIF\n",
       "주거면적  2.445156\n",
       "연령    1.300475\n",
       "총생활비  1.205654"
      ]
     },
     "execution_count": 15,
     "metadata": {},
     "output_type": "execute_result"
    }
   ],
   "source": [
    "vif_result=pd.DataFrame(index=vif_data.keys(),data=vif_data.values())\n",
    "vif_result.rename(columns={0:\"VIF\"}).sort_values(by=\"VIF\",ascending=False)"
   ]
  },
  {
   "cell_type": "code",
   "execution_count": 16,
   "metadata": {},
   "outputs": [],
   "source": [
    "vif_data={}\n",
    "for c in [x for x in col if x not in [\"방수\",\"주거면적\"]]:\n",
    "    colum=[x for x in col if x!=c]\n",
    "    exog=sm.add_constant(data[colum])\n",
    "    endog=data[c]\n",
    "    test=sm.OLS(endog=endog,exog=exog).fit()\n",
    "    vif_data[c]=1/(1-test.rsquared)"
   ]
  },
  {
   "cell_type": "code",
   "execution_count": 17,
   "metadata": {},
   "outputs": [
    {
     "data": {
      "text/html": [
       "<div>\n",
       "<style scoped>\n",
       "    .dataframe tbody tr th:only-of-type {\n",
       "        vertical-align: middle;\n",
       "    }\n",
       "\n",
       "    .dataframe tbody tr th {\n",
       "        vertical-align: top;\n",
       "    }\n",
       "\n",
       "    .dataframe thead th {\n",
       "        text-align: right;\n",
       "    }\n",
       "</style>\n",
       "<table border=\"1\" class=\"dataframe\">\n",
       "  <thead>\n",
       "    <tr style=\"text-align: right;\">\n",
       "      <th></th>\n",
       "      <th>VIF</th>\n",
       "    </tr>\n",
       "  </thead>\n",
       "  <tbody>\n",
       "    <tr>\n",
       "      <th>연령</th>\n",
       "      <td>1.300475</td>\n",
       "    </tr>\n",
       "    <tr>\n",
       "      <th>총생활비</th>\n",
       "      <td>1.205654</td>\n",
       "    </tr>\n",
       "  </tbody>\n",
       "</table>\n",
       "</div>"
      ],
      "text/plain": [
       "           VIF\n",
       "연령    1.300475\n",
       "총생활비  1.205654"
      ]
     },
     "execution_count": 17,
     "metadata": {},
     "output_type": "execute_result"
    }
   ],
   "source": [
    "vif_result=pd.DataFrame(index=vif_data.keys(),data=vif_data.values())\n",
    "vif_result.rename(columns={0:\"VIF\"}).sort_values(by=\"VIF\",ascending=False)"
   ]
  },
  {
   "cell_type": "code",
   "execution_count": null,
   "metadata": {},
   "outputs": [],
   "source": []
  }
 ],
 "metadata": {
  "kernelspec": {
   "display_name": "Python 3",
   "language": "python",
   "name": "python3"
  },
  "language_info": {
   "codemirror_mode": {
    "name": "ipython",
    "version": 3
   },
   "file_extension": ".py",
   "mimetype": "text/x-python",
   "name": "python",
   "nbconvert_exporter": "python",
   "pygments_lexer": "ipython3",
   "version": "3.11.3"
  },
  "orig_nbformat": 4
 },
 "nbformat": 4,
 "nbformat_minor": 2
}
