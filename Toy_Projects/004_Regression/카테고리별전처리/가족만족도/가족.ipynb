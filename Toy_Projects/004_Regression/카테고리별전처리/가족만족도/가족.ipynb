{
 "cells": [
  {
   "cell_type": "code",
   "execution_count": 99,
   "metadata": {},
   "outputs": [],
   "source": [
    "import pandas as pd\n",
    "Data=pd.read_excel(\"../../더했다간미워할거야.xlsx\")\n",
    "data=pd.DataFrame(Data)"
   ]
  },
  {
   "cell_type": "code",
   "execution_count": 100,
   "metadata": {},
   "outputs": [],
   "source": [
    "data=data[[\"(나)가족의 수입 만족도\",\"(라)가족관계 만족도\",\"가족생활에 대한 만족도\",\"혼인상태\"]]"
   ]
  },
  {
   "cell_type": "markdown",
   "metadata": {},
   "source": [
    "### 파생변수"
   ]
  },
  {
   "cell_type": "code",
   "execution_count": 113,
   "metadata": {},
   "outputs": [],
   "source": [
    "## 0: 미혼\n",
    "## 1: 기혼&배우자(x)\n",
    "## 2: 기혼&배우자(o)\n",
    "혼인dc={0:0,5:0,2:1,3:1,1:2,4:2}"
   ]
  },
  {
   "cell_type": "code",
   "execution_count": 114,
   "metadata": {},
   "outputs": [],
   "source": [
    "data[\"혼인상태\"]=data[\"혼인상태\"].apply(lambda x: 혼인dc[x])"
   ]
  },
  {
   "cell_type": "code",
   "execution_count": 115,
   "metadata": {},
   "outputs": [
    {
     "data": {
      "text/html": [
       "<style type=\"text/css\">\n",
       "#T_1f73e_row0_col0, #T_1f73e_row1_col1, #T_1f73e_row2_col2, #T_1f73e_row3_col3 {\n",
       "  background-color: #023858;\n",
       "  color: #f1f1f1;\n",
       "}\n",
       "#T_1f73e_row0_col1 {\n",
       "  background-color: #b1c2de;\n",
       "  color: #000000;\n",
       "}\n",
       "#T_1f73e_row0_col2 {\n",
       "  background-color: #c6cce3;\n",
       "  color: #000000;\n",
       "}\n",
       "#T_1f73e_row0_col3, #T_1f73e_row3_col0, #T_1f73e_row3_col1, #T_1f73e_row3_col2 {\n",
       "  background-color: #fff7fb;\n",
       "  color: #000000;\n",
       "}\n",
       "#T_1f73e_row1_col0 {\n",
       "  background-color: #a9bfdc;\n",
       "  color: #000000;\n",
       "}\n",
       "#T_1f73e_row1_col2 {\n",
       "  background-color: #3f93c2;\n",
       "  color: #f1f1f1;\n",
       "}\n",
       "#T_1f73e_row1_col3 {\n",
       "  background-color: #faf3f9;\n",
       "  color: #000000;\n",
       "}\n",
       "#T_1f73e_row2_col0 {\n",
       "  background-color: #b5c4df;\n",
       "  color: #000000;\n",
       "}\n",
       "#T_1f73e_row2_col1 {\n",
       "  background-color: #3790c0;\n",
       "  color: #f1f1f1;\n",
       "}\n",
       "#T_1f73e_row2_col3 {\n",
       "  background-color: #f5eef6;\n",
       "  color: #000000;\n",
       "}\n",
       "</style>\n",
       "<table id=\"T_1f73e\">\n",
       "  <thead>\n",
       "    <tr>\n",
       "      <th class=\"blank level0\" >&nbsp;</th>\n",
       "      <th id=\"T_1f73e_level0_col0\" class=\"col_heading level0 col0\" >(나)가족의 수입 만족도</th>\n",
       "      <th id=\"T_1f73e_level0_col1\" class=\"col_heading level0 col1\" >(라)가족관계 만족도</th>\n",
       "      <th id=\"T_1f73e_level0_col2\" class=\"col_heading level0 col2\" >가족생활에 대한 만족도</th>\n",
       "      <th id=\"T_1f73e_level0_col3\" class=\"col_heading level0 col3\" >혼인상태</th>\n",
       "    </tr>\n",
       "  </thead>\n",
       "  <tbody>\n",
       "    <tr>\n",
       "      <th id=\"T_1f73e_level0_row0\" class=\"row_heading level0 row0\" >(나)가족의 수입 만족도</th>\n",
       "      <td id=\"T_1f73e_row0_col0\" class=\"data row0 col0\" >1.000000</td>\n",
       "      <td id=\"T_1f73e_row0_col1\" class=\"data row0 col1\" >0.366313</td>\n",
       "      <td id=\"T_1f73e_row0_col2\" class=\"data row0 col2\" >0.331271</td>\n",
       "      <td id=\"T_1f73e_row0_col3\" class=\"data row0 col3\" >0.001750</td>\n",
       "    </tr>\n",
       "    <tr>\n",
       "      <th id=\"T_1f73e_level0_row1\" class=\"row_heading level0 row1\" >(라)가족관계 만족도</th>\n",
       "      <td id=\"T_1f73e_row1_col0\" class=\"data row1 col0\" >0.366313</td>\n",
       "      <td id=\"T_1f73e_row1_col1\" class=\"data row1 col1\" >1.000000</td>\n",
       "      <td id=\"T_1f73e_row1_col2\" class=\"data row1 col2\" >0.636134</td>\n",
       "      <td id=\"T_1f73e_row1_col3\" class=\"data row1 col3\" >0.036232</td>\n",
       "    </tr>\n",
       "    <tr>\n",
       "      <th id=\"T_1f73e_level0_row2\" class=\"row_heading level0 row2\" >가족생활에 대한 만족도</th>\n",
       "      <td id=\"T_1f73e_row2_col0\" class=\"data row2 col0\" >0.331271</td>\n",
       "      <td id=\"T_1f73e_row2_col1\" class=\"data row2 col1\" >0.636134</td>\n",
       "      <td id=\"T_1f73e_row2_col2\" class=\"data row2 col2\" >1.000000</td>\n",
       "      <td id=\"T_1f73e_row2_col3\" class=\"data row2 col3\" >0.071705</td>\n",
       "    </tr>\n",
       "    <tr>\n",
       "      <th id=\"T_1f73e_level0_row3\" class=\"row_heading level0 row3\" >혼인상태</th>\n",
       "      <td id=\"T_1f73e_row3_col0\" class=\"data row3 col0\" >0.001750</td>\n",
       "      <td id=\"T_1f73e_row3_col1\" class=\"data row3 col1\" >0.036232</td>\n",
       "      <td id=\"T_1f73e_row3_col2\" class=\"data row3 col2\" >0.071705</td>\n",
       "      <td id=\"T_1f73e_row3_col3\" class=\"data row3 col3\" >1.000000</td>\n",
       "    </tr>\n",
       "  </tbody>\n",
       "</table>\n"
      ],
      "text/plain": [
       "<pandas.io.formats.style.Styler at 0x1bb0bd07d50>"
      ]
     },
     "execution_count": 115,
     "metadata": {},
     "output_type": "execute_result"
    }
   ],
   "source": [
    "data.corr(method=\"spearman\").style.background_gradient(cmap=\"PuBu\")"
   ]
  },
  {
   "cell_type": "markdown",
   "metadata": {},
   "source": [
    "> 부가적인 설명/"
   ]
  },
  {
   "cell_type": "markdown",
   "metadata": {},
   "source": [
    "# 독립성 검정"
   ]
  },
  {
   "cell_type": "code",
   "execution_count": 56,
   "metadata": {},
   "outputs": [],
   "source": [
    "import scipy.stats as sps\n",
    "import itertools as it"
   ]
  },
  {
   "cell_type": "code",
   "execution_count": 57,
   "metadata": {},
   "outputs": [],
   "source": [
    "# 묶음 만들기\n",
    "pairs=it.combinations(data.columns,r=2)"
   ]
  },
  {
   "cell_type": "markdown",
   "metadata": {},
   "source": [
    "### 기대도수 확인..."
   ]
  },
  {
   "cell_type": "code",
   "execution_count": 58,
   "metadata": {},
   "outputs": [],
   "source": [
    "cols=[list(col) for col in pairs]"
   ]
  },
  {
   "cell_type": "code",
   "execution_count": 64,
   "metadata": {},
   "outputs": [],
   "source": [
    "data1=pd.crosstab(data[cols[0][0]],data[cols[0][1]])"
   ]
  },
  {
   "cell_type": "code",
   "execution_count": 88,
   "metadata": {},
   "outputs": [
    {
     "data": {
      "text/plain": [
       "'(라)가족관계 만족도'"
      ]
     },
     "execution_count": 88,
     "metadata": {},
     "output_type": "execute_result"
    }
   ],
   "source": [
    "data1.columns.name"
   ]
  },
  {
   "cell_type": "markdown",
   "metadata": {},
   "source": [
    "## 결과해석\n",
    "|위치|설명|\n",
    "|--|--|\n",
    "|sps.chi2_contingency[1]|pvalue|\n",
    "|sps.chi2_contingency[2]|dof|\n",
    "|sps.chi2_contingency[3]|기대도수|"
   ]
  },
  {
   "cell_type": "markdown",
   "metadata": {},
   "source": [
    "### 결과 해석 방법\n",
    "(1) 자유도가\n",
    "1\n",
    "인경우 전체 사례수가\n",
    "30\n",
    "보다 크면서 각 셀의 빈도가\n",
    "5\n",
    "이상일 때 적용가능.         \n",
    "(2) 사례수가\n",
    "30\n",
    "보다 크면서\n",
    "5\n",
    "미만의 기대빈도(Expected frequency)의 셀이 전체 칸의\n",
    "20%\n",
    "보\n",
    "다 적고,   모든 셀에\n",
    "1.0\n",
    "이상의 기대빈도가 있다면 척도에 관계없이\n",
    "2\n",
    "카이제곱\n",
    "검정법을 사용.          \n",
    "(3) 각 셀의 기대빈도가\n",
    "5\n",
    "미만인 경우 변수들의 범주를 묶고 다시 진행"
   ]
  },
  {
   "cell_type": "code",
   "execution_count": 82,
   "metadata": {},
   "outputs": [],
   "source": [
    "df=pd.DataFrame(sps.chi2_contingency(data1,correction=False)[3])"
   ]
  },
  {
   "cell_type": "code",
   "execution_count": 90,
   "metadata": {},
   "outputs": [],
   "source": [
    "df.index.name=data1.index.name"
   ]
  },
  {
   "cell_type": "code",
   "execution_count": 93,
   "metadata": {},
   "outputs": [],
   "source": [
    "df.columns.name=data1.columns.name"
   ]
  },
  {
   "cell_type": "code",
   "execution_count": 94,
   "metadata": {},
   "outputs": [
    {
     "data": {
      "text/html": [
       "<div>\n",
       "<style scoped>\n",
       "    .dataframe tbody tr th:only-of-type {\n",
       "        vertical-align: middle;\n",
       "    }\n",
       "\n",
       "    .dataframe tbody tr th {\n",
       "        vertical-align: top;\n",
       "    }\n",
       "\n",
       "    .dataframe thead th {\n",
       "        text-align: right;\n",
       "    }\n",
       "</style>\n",
       "<table border=\"1\" class=\"dataframe\">\n",
       "  <thead>\n",
       "    <tr style=\"text-align: right;\">\n",
       "      <th>(라)가족관계 만족도</th>\n",
       "      <th>0</th>\n",
       "      <th>1</th>\n",
       "      <th>2</th>\n",
       "      <th>3</th>\n",
       "      <th>4</th>\n",
       "    </tr>\n",
       "    <tr>\n",
       "      <th>(나)가족의 수입 만족도</th>\n",
       "      <th></th>\n",
       "      <th></th>\n",
       "      <th></th>\n",
       "      <th></th>\n",
       "      <th></th>\n",
       "    </tr>\n",
       "  </thead>\n",
       "  <tbody>\n",
       "    <tr>\n",
       "      <th>0</th>\n",
       "      <td>1.323612</td>\n",
       "      <td>6.022434</td>\n",
       "      <td>26.108245</td>\n",
       "      <td>74.420079</td>\n",
       "      <td>10.125631</td>\n",
       "    </tr>\n",
       "    <tr>\n",
       "      <th>1</th>\n",
       "      <td>9.826136</td>\n",
       "      <td>44.708918</td>\n",
       "      <td>193.820527</td>\n",
       "      <td>552.474481</td>\n",
       "      <td>75.169938</td>\n",
       "    </tr>\n",
       "    <tr>\n",
       "      <th>2</th>\n",
       "      <td>16.455412</td>\n",
       "      <td>74.872126</td>\n",
       "      <td>324.583006</td>\n",
       "      <td>925.205552</td>\n",
       "      <td>125.883904</td>\n",
       "    </tr>\n",
       "    <tr>\n",
       "      <th>3</th>\n",
       "      <td>11.800337</td>\n",
       "      <td>53.691531</td>\n",
       "      <td>232.761638</td>\n",
       "      <td>663.473920</td>\n",
       "      <td>90.272574</td>\n",
       "    </tr>\n",
       "    <tr>\n",
       "      <th>4</th>\n",
       "      <td>0.594504</td>\n",
       "      <td>2.704992</td>\n",
       "      <td>11.726584</td>\n",
       "      <td>33.425967</td>\n",
       "      <td>4.547953</td>\n",
       "    </tr>\n",
       "  </tbody>\n",
       "</table>\n",
       "</div>"
      ],
      "text/plain": [
       "(라)가족관계 만족도            0          1           2           3           4\n",
       "(나)가족의 수입 만족도                                                          \n",
       "0               1.323612   6.022434   26.108245   74.420079   10.125631\n",
       "1               9.826136  44.708918  193.820527  552.474481   75.169938\n",
       "2              16.455412  74.872126  324.583006  925.205552  125.883904\n",
       "3              11.800337  53.691531  232.761638  663.473920   90.272574\n",
       "4               0.594504   2.704992   11.726584   33.425967    4.547953"
      ]
     },
     "execution_count": 94,
     "metadata": {},
     "output_type": "execute_result"
    }
   ],
   "source": [
    "df"
   ]
  },
  {
   "cell_type": "code",
   "execution_count": 97,
   "metadata": {},
   "outputs": [
    {
     "data": {
      "text/html": [
       "<div>\n",
       "<style scoped>\n",
       "    .dataframe tbody tr th:only-of-type {\n",
       "        vertical-align: middle;\n",
       "    }\n",
       "\n",
       "    .dataframe tbody tr th {\n",
       "        vertical-align: top;\n",
       "    }\n",
       "\n",
       "    .dataframe thead th {\n",
       "        text-align: right;\n",
       "    }\n",
       "</style>\n",
       "<table border=\"1\" class=\"dataframe\">\n",
       "  <thead>\n",
       "    <tr style=\"text-align: right;\">\n",
       "      <th>(라)가족관계 만족도</th>\n",
       "      <th>0</th>\n",
       "      <th>1</th>\n",
       "      <th>2</th>\n",
       "      <th>3</th>\n",
       "      <th>4</th>\n",
       "    </tr>\n",
       "    <tr>\n",
       "      <th>(나)가족의 수입 만족도</th>\n",
       "      <th></th>\n",
       "      <th></th>\n",
       "      <th></th>\n",
       "      <th></th>\n",
       "      <th></th>\n",
       "    </tr>\n",
       "  </thead>\n",
       "  <tbody>\n",
       "    <tr>\n",
       "      <th>0</th>\n",
       "      <td>NaN</td>\n",
       "      <td>6.022434</td>\n",
       "      <td>26.108245</td>\n",
       "      <td>74.420079</td>\n",
       "      <td>10.125631</td>\n",
       "    </tr>\n",
       "    <tr>\n",
       "      <th>1</th>\n",
       "      <td>9.826136</td>\n",
       "      <td>44.708918</td>\n",
       "      <td>193.820527</td>\n",
       "      <td>552.474481</td>\n",
       "      <td>75.169938</td>\n",
       "    </tr>\n",
       "    <tr>\n",
       "      <th>2</th>\n",
       "      <td>16.455412</td>\n",
       "      <td>74.872126</td>\n",
       "      <td>324.583006</td>\n",
       "      <td>925.205552</td>\n",
       "      <td>125.883904</td>\n",
       "    </tr>\n",
       "    <tr>\n",
       "      <th>3</th>\n",
       "      <td>11.800337</td>\n",
       "      <td>53.691531</td>\n",
       "      <td>232.761638</td>\n",
       "      <td>663.473920</td>\n",
       "      <td>90.272574</td>\n",
       "    </tr>\n",
       "    <tr>\n",
       "      <th>4</th>\n",
       "      <td>NaN</td>\n",
       "      <td>NaN</td>\n",
       "      <td>11.726584</td>\n",
       "      <td>33.425967</td>\n",
       "      <td>NaN</td>\n",
       "    </tr>\n",
       "  </tbody>\n",
       "</table>\n",
       "</div>"
      ],
      "text/plain": [
       "(라)가족관계 만족도            0          1           2           3           4\n",
       "(나)가족의 수입 만족도                                                          \n",
       "0                    NaN   6.022434   26.108245   74.420079   10.125631\n",
       "1               9.826136  44.708918  193.820527  552.474481   75.169938\n",
       "2              16.455412  74.872126  324.583006  925.205552  125.883904\n",
       "3              11.800337  53.691531  232.761638  663.473920   90.272574\n",
       "4                    NaN        NaN   11.726584   33.425967         NaN"
      ]
     },
     "execution_count": 97,
     "metadata": {},
     "output_type": "execute_result"
    }
   ],
   "source": [
    "df[df>5]"
   ]
  },
  {
   "cell_type": "markdown",
   "metadata": {},
   "source": [
    "### 모듈만들기"
   ]
  },
  {
   "cell_type": "code",
   "execution_count": 117,
   "metadata": {},
   "outputs": [],
   "source": [
    "import scipy.stats as sps\n",
    "import itertools as it\n",
    "def chi2_result(data):\n",
    "    #모든 행들의 pair 만들기\n",
    "    cols=[list(col) for col in it.combinations(data.columns,r=2)]\n",
    "    result={\"Pass\":[],\"Fail\":[]}\n",
    "    #전역 탐색\n",
    "    for col in cols:\n",
    "        #crosstab 만들기\n",
    "        step1=pd.crosstab(data[col[0]],data[col[1]])\n",
    "        #chi2 검사\n",
    "        k2=sps.chi2_contingency(step1,correction=False)\n",
    "        df=pd.DataFrame(k2[3])\n",
    "        df.index.name=step1.index.name\n",
    "        df.columns.name=step1.columns.name\n",
    "        step3={\"Pairs\":col,'DataFrame':df,\"pvalue\":k2[1]}\n",
    "        if df[df>5].isna().sum().sum():\n",
    "            result[\"Fail\"].append(step3)\n",
    "        else:\n",
    "            result['Pass'].append(step3)\n",
    "    return result        "
   ]
  },
  {
   "cell_type": "code",
   "execution_count": 120,
   "metadata": {},
   "outputs": [
    {
     "data": {
      "text/plain": [
       "[{'Pairs': ['(나)가족의 수입 만족도', '혼인상태'],\n",
       "  'DataFrame': 혼인상태                    0           1           2\n",
       "  (나)가족의 수입 만족도                                    \n",
       "  0               20.615255   79.813797   17.570948\n",
       "  1              153.042064  592.515984  130.441952\n",
       "  2              256.293045  992.261357  218.445597\n",
       "  3              183.790241  711.560292  156.649467\n",
       "  4                9.259394   35.848570    7.892036,\n",
       "  'pvalue': 1.7910790396153495e-13},\n",
       " {'Pairs': ['(라)가족관계 만족도', '혼인상태'],\n",
       "  'DataFrame': 혼인상태                  0            1           2\n",
       "  (라)가족관계 만족도                                     \n",
       "  0              6.988222    27.055524    5.956254\n",
       "  1             31.796411   123.102636   27.100953\n",
       "  2            137.842681   533.670219  117.487100\n",
       "  3            392.912787  1521.196859  334.890353\n",
       "  4             53.459899   206.974762   45.565339,\n",
       "  'pvalue': 4.504082839176538e-18},\n",
       " {'Pairs': ['가족생활에 대한 만족도', '혼인상태'],\n",
       "  'DataFrame': 혼인상태                   0            1           2\n",
       "  가족생활에 대한 만족도                                     \n",
       "  0              40.531688   156.922042   34.546270\n",
       "  1               6.114694    23.673584    5.211722\n",
       "  2              13.976444    54.111049   11.912507\n",
       "  3              16.771733    64.933259   14.295008\n",
       "  4             113.383904   438.975883   96.640213\n",
       "  5              82.111610   317.902412   69.985979\n",
       "  6             306.782950  1187.737521  261.479529\n",
       "  7              43.326977   167.744251   36.928772,\n",
       "  'pvalue': 3.2694631328178553e-50}]"
      ]
     },
     "execution_count": 120,
     "metadata": {},
     "output_type": "execute_result"
    }
   ],
   "source": [
    "chi2_result(data)[\"Pass\"]"
   ]
  },
  {
   "cell_type": "code",
   "execution_count": 118,
   "metadata": {},
   "outputs": [
    {
     "data": {
      "text/html": [
       "<div>\n",
       "<style scoped>\n",
       "    .dataframe tbody tr th:only-of-type {\n",
       "        vertical-align: middle;\n",
       "    }\n",
       "\n",
       "    .dataframe tbody tr th {\n",
       "        vertical-align: top;\n",
       "    }\n",
       "\n",
       "    .dataframe thead th {\n",
       "        text-align: right;\n",
       "    }\n",
       "</style>\n",
       "<table border=\"1\" class=\"dataframe\">\n",
       "  <thead>\n",
       "    <tr style=\"text-align: right;\">\n",
       "      <th>(라)가족관계 만족도</th>\n",
       "      <th>0</th>\n",
       "      <th>1</th>\n",
       "      <th>2</th>\n",
       "      <th>3</th>\n",
       "      <th>4</th>\n",
       "    </tr>\n",
       "    <tr>\n",
       "      <th>(나)가족의 수입 만족도</th>\n",
       "      <th></th>\n",
       "      <th></th>\n",
       "      <th></th>\n",
       "      <th></th>\n",
       "      <th></th>\n",
       "    </tr>\n",
       "  </thead>\n",
       "  <tbody>\n",
       "    <tr>\n",
       "      <th>0</th>\n",
       "      <td>1.323612</td>\n",
       "      <td>6.022434</td>\n",
       "      <td>26.108245</td>\n",
       "      <td>74.420079</td>\n",
       "      <td>10.125631</td>\n",
       "    </tr>\n",
       "    <tr>\n",
       "      <th>1</th>\n",
       "      <td>9.826136</td>\n",
       "      <td>44.708918</td>\n",
       "      <td>193.820527</td>\n",
       "      <td>552.474481</td>\n",
       "      <td>75.169938</td>\n",
       "    </tr>\n",
       "    <tr>\n",
       "      <th>2</th>\n",
       "      <td>16.455412</td>\n",
       "      <td>74.872126</td>\n",
       "      <td>324.583006</td>\n",
       "      <td>925.205552</td>\n",
       "      <td>125.883904</td>\n",
       "    </tr>\n",
       "    <tr>\n",
       "      <th>3</th>\n",
       "      <td>11.800337</td>\n",
       "      <td>53.691531</td>\n",
       "      <td>232.761638</td>\n",
       "      <td>663.473920</td>\n",
       "      <td>90.272574</td>\n",
       "    </tr>\n",
       "    <tr>\n",
       "      <th>4</th>\n",
       "      <td>0.594504</td>\n",
       "      <td>2.704992</td>\n",
       "      <td>11.726584</td>\n",
       "      <td>33.425967</td>\n",
       "      <td>4.547953</td>\n",
       "    </tr>\n",
       "  </tbody>\n",
       "</table>\n",
       "</div>"
      ],
      "text/plain": [
       "(라)가족관계 만족도            0          1           2           3           4\n",
       "(나)가족의 수입 만족도                                                          \n",
       "0               1.323612   6.022434   26.108245   74.420079   10.125631\n",
       "1               9.826136  44.708918  193.820527  552.474481   75.169938\n",
       "2              16.455412  74.872126  324.583006  925.205552  125.883904\n",
       "3              11.800337  53.691531  232.761638  663.473920   90.272574\n",
       "4               0.594504   2.704992   11.726584   33.425967    4.547953"
      ]
     },
     "execution_count": 118,
     "metadata": {},
     "output_type": "execute_result"
    }
   ],
   "source": [
    "chi2_result(data)[\"Fail\"][0][\"DataFrame\"]"
   ]
  },
  {
   "cell_type": "code",
   "execution_count": 111,
   "metadata": {},
   "outputs": [
    {
     "data": {
      "text/html": [
       "<div>\n",
       "<style scoped>\n",
       "    .dataframe tbody tr th:only-of-type {\n",
       "        vertical-align: middle;\n",
       "    }\n",
       "\n",
       "    .dataframe tbody tr th {\n",
       "        vertical-align: top;\n",
       "    }\n",
       "\n",
       "    .dataframe thead th {\n",
       "        text-align: right;\n",
       "    }\n",
       "</style>\n",
       "<table border=\"1\" class=\"dataframe\">\n",
       "  <thead>\n",
       "    <tr style=\"text-align: right;\">\n",
       "      <th>혼인상태</th>\n",
       "      <th>0</th>\n",
       "      <th>1</th>\n",
       "      <th>2</th>\n",
       "      <th>3</th>\n",
       "      <th>4</th>\n",
       "    </tr>\n",
       "    <tr>\n",
       "      <th>(나)가족의 수입 만족도</th>\n",
       "      <th></th>\n",
       "      <th></th>\n",
       "      <th></th>\n",
       "      <th></th>\n",
       "      <th></th>\n",
       "    </tr>\n",
       "  </thead>\n",
       "  <tbody>\n",
       "    <tr>\n",
       "      <th>0</th>\n",
       "      <td>15.552440</td>\n",
       "      <td>60.720695</td>\n",
       "      <td>19.093102</td>\n",
       "      <td>2.018508</td>\n",
       "      <td>20.615255</td>\n",
       "    </tr>\n",
       "    <tr>\n",
       "      <th>1</th>\n",
       "      <td>115.457095</td>\n",
       "      <td>450.773976</td>\n",
       "      <td>141.742008</td>\n",
       "      <td>14.984857</td>\n",
       "      <td>153.042064</td>\n",
       "    </tr>\n",
       "    <tr>\n",
       "      <th>2</th>\n",
       "      <td>193.351094</td>\n",
       "      <td>754.892036</td>\n",
       "      <td>237.369321</td>\n",
       "      <td>25.094504</td>\n",
       "      <td>256.293045</td>\n",
       "    </tr>\n",
       "    <tr>\n",
       "      <th>3</th>\n",
       "      <td>138.653954</td>\n",
       "      <td>541.340437</td>\n",
       "      <td>170.219854</td>\n",
       "      <td>17.995513</td>\n",
       "      <td>183.790241</td>\n",
       "    </tr>\n",
       "    <tr>\n",
       "      <th>4</th>\n",
       "      <td>6.985418</td>\n",
       "      <td>27.272855</td>\n",
       "      <td>8.575715</td>\n",
       "      <td>0.906618</td>\n",
       "      <td>9.259394</td>\n",
       "    </tr>\n",
       "  </tbody>\n",
       "</table>\n",
       "</div>"
      ],
      "text/plain": [
       "혼인상태                    0           1           2          3           4\n",
       "(나)가족의 수입 만족도                                                           \n",
       "0               15.552440   60.720695   19.093102   2.018508   20.615255\n",
       "1              115.457095  450.773976  141.742008  14.984857  153.042064\n",
       "2              193.351094  754.892036  237.369321  25.094504  256.293045\n",
       "3              138.653954  541.340437  170.219854  17.995513  183.790241\n",
       "4                6.985418   27.272855    8.575715   0.906618    9.259394"
      ]
     },
     "execution_count": 111,
     "metadata": {},
     "output_type": "execute_result"
    }
   ],
   "source": [
    "chi2_result(data)[\"Fail\"][2][\"DataFrame\"]"
   ]
  },
  {
   "cell_type": "code",
   "execution_count": 112,
   "metadata": {},
   "outputs": [
    {
     "data": {
      "text/html": [
       "<div>\n",
       "<style scoped>\n",
       "    .dataframe tbody tr th:only-of-type {\n",
       "        vertical-align: middle;\n",
       "    }\n",
       "\n",
       "    .dataframe tbody tr th {\n",
       "        vertical-align: top;\n",
       "    }\n",
       "\n",
       "    .dataframe thead th {\n",
       "        text-align: right;\n",
       "    }\n",
       "</style>\n",
       "<table border=\"1\" class=\"dataframe\">\n",
       "  <thead>\n",
       "    <tr style=\"text-align: right;\">\n",
       "      <th>가족생활에 대한 만족도</th>\n",
       "      <th>0</th>\n",
       "      <th>1</th>\n",
       "      <th>2</th>\n",
       "      <th>3</th>\n",
       "      <th>4</th>\n",
       "      <th>5</th>\n",
       "      <th>6</th>\n",
       "      <th>7</th>\n",
       "    </tr>\n",
       "    <tr>\n",
       "      <th>(라)가족관계 만족도</th>\n",
       "      <th></th>\n",
       "      <th></th>\n",
       "      <th></th>\n",
       "      <th></th>\n",
       "      <th></th>\n",
       "      <th></th>\n",
       "      <th></th>\n",
       "      <th></th>\n",
       "    </tr>\n",
       "  </thead>\n",
       "  <tbody>\n",
       "    <tr>\n",
       "      <th>0</th>\n",
       "      <td>2.602356</td>\n",
       "      <td>0.392597</td>\n",
       "      <td>0.897364</td>\n",
       "      <td>1.076837</td>\n",
       "      <td>7.279865</td>\n",
       "      <td>5.272013</td>\n",
       "      <td>19.697140</td>\n",
       "      <td>2.781828</td>\n",
       "    </tr>\n",
       "    <tr>\n",
       "      <th>1</th>\n",
       "      <td>11.840718</td>\n",
       "      <td>1.786315</td>\n",
       "      <td>4.083006</td>\n",
       "      <td>4.899607</td>\n",
       "      <td>33.123388</td>\n",
       "      <td>23.987661</td>\n",
       "      <td>89.621985</td>\n",
       "      <td>12.657319</td>\n",
       "    </tr>\n",
       "    <tr>\n",
       "      <th>2</th>\n",
       "      <td>51.331464</td>\n",
       "      <td>7.743971</td>\n",
       "      <td>17.700505</td>\n",
       "      <td>21.240606</td>\n",
       "      <td>143.595345</td>\n",
       "      <td>103.990466</td>\n",
       "      <td>388.526080</td>\n",
       "      <td>54.871565</td>\n",
       "    </tr>\n",
       "    <tr>\n",
       "      <th>3</th>\n",
       "      <td>146.317443</td>\n",
       "      <td>22.073752</td>\n",
       "      <td>50.454291</td>\n",
       "      <td>60.545149</td>\n",
       "      <td>409.310432</td>\n",
       "      <td>296.418957</td>\n",
       "      <td>1107.471677</td>\n",
       "      <td>156.408301</td>\n",
       "    </tr>\n",
       "    <tr>\n",
       "      <th>4</th>\n",
       "      <td>19.908020</td>\n",
       "      <td>3.003365</td>\n",
       "      <td>6.864835</td>\n",
       "      <td>8.237801</td>\n",
       "      <td>55.690970</td>\n",
       "      <td>40.330903</td>\n",
       "      <td>150.683118</td>\n",
       "      <td>21.280987</td>\n",
       "    </tr>\n",
       "  </tbody>\n",
       "</table>\n",
       "</div>"
      ],
      "text/plain": [
       "가족생활에 대한 만족도           0          1          2          3           4  \\\n",
       "(라)가족관계 만족도                                                             \n",
       "0               2.602356   0.392597   0.897364   1.076837    7.279865   \n",
       "1              11.840718   1.786315   4.083006   4.899607   33.123388   \n",
       "2              51.331464   7.743971  17.700505  21.240606  143.595345   \n",
       "3             146.317443  22.073752  50.454291  60.545149  409.310432   \n",
       "4              19.908020   3.003365   6.864835   8.237801   55.690970   \n",
       "\n",
       "가족생활에 대한 만족도           5            6           7  \n",
       "(라)가족관계 만족도                                        \n",
       "0               5.272013    19.697140    2.781828  \n",
       "1              23.987661    89.621985   12.657319  \n",
       "2             103.990466   388.526080   54.871565  \n",
       "3             296.418957  1107.471677  156.408301  \n",
       "4              40.330903   150.683118   21.280987  "
      ]
     },
     "execution_count": 112,
     "metadata": {},
     "output_type": "execute_result"
    }
   ],
   "source": [
    "chi2_result(data)[\"Fail\"][3][\"DataFrame\"]"
   ]
  },
  {
   "cell_type": "code",
   "execution_count": null,
   "metadata": {},
   "outputs": [],
   "source": []
  }
 ],
 "metadata": {
  "kernelspec": {
   "display_name": "Python 3",
   "language": "python",
   "name": "python3"
  },
  "language_info": {
   "codemirror_mode": {
    "name": "ipython",
    "version": 3
   },
   "file_extension": ".py",
   "mimetype": "text/x-python",
   "name": "python",
   "nbconvert_exporter": "python",
   "pygments_lexer": "ipython3",
   "version": "3.11.3"
  },
  "orig_nbformat": 4
 },
 "nbformat": 4,
 "nbformat_minor": 2
}
