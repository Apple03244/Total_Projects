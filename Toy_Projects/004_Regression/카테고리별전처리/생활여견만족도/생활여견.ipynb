{
 "cells": [
  {
   "cell_type": "code",
   "execution_count": 2,
   "metadata": {},
   "outputs": [],
   "source": [
    "import pandas as pd\n",
    "Data=pd.read_excel(\"../../더했다간미워할거야.xlsx\")\n",
    "data=pd.DataFrame(Data)"
   ]
  },
  {
   "cell_type": "code",
   "execution_count": 3,
   "metadata": {},
   "outputs": [],
   "source": [
    "생활여건=data[[\"(사)여가생활 만족도\",\"총생활비\",\"(바)사회적 친분관계 만족도\"]]"
   ]
  },
  {
   "cell_type": "code",
   "execution_count": 4,
   "metadata": {},
   "outputs": [
    {
     "data": {
      "text/html": [
       "<div>\n",
       "<style scoped>\n",
       "    .dataframe tbody tr th:only-of-type {\n",
       "        vertical-align: middle;\n",
       "    }\n",
       "\n",
       "    .dataframe tbody tr th {\n",
       "        vertical-align: top;\n",
       "    }\n",
       "\n",
       "    .dataframe thead th {\n",
       "        text-align: right;\n",
       "    }\n",
       "</style>\n",
       "<table border=\"1\" class=\"dataframe\">\n",
       "  <thead>\n",
       "    <tr style=\"text-align: right;\">\n",
       "      <th></th>\n",
       "      <th>(사)여가생활 만족도</th>\n",
       "      <th>총생활비</th>\n",
       "      <th>(바)사회적 친분관계 만족도</th>\n",
       "    </tr>\n",
       "  </thead>\n",
       "  <tbody>\n",
       "    <tr>\n",
       "      <th>(사)여가생활 만족도</th>\n",
       "      <td>1.000000</td>\n",
       "      <td>0.235413</td>\n",
       "      <td>0.544187</td>\n",
       "    </tr>\n",
       "    <tr>\n",
       "      <th>총생활비</th>\n",
       "      <td>0.235413</td>\n",
       "      <td>1.000000</td>\n",
       "      <td>0.309747</td>\n",
       "    </tr>\n",
       "    <tr>\n",
       "      <th>(바)사회적 친분관계 만족도</th>\n",
       "      <td>0.544187</td>\n",
       "      <td>0.309747</td>\n",
       "      <td>1.000000</td>\n",
       "    </tr>\n",
       "  </tbody>\n",
       "</table>\n",
       "</div>"
      ],
      "text/plain": [
       "                 (사)여가생활 만족도      총생활비  (바)사회적 친분관계 만족도\n",
       "(사)여가생활 만족도         1.000000  0.235413         0.544187\n",
       "총생활비                0.235413  1.000000         0.309747\n",
       "(바)사회적 친분관계 만족도     0.544187  0.309747         1.000000"
      ]
     },
     "execution_count": 4,
     "metadata": {},
     "output_type": "execute_result"
    }
   ],
   "source": [
    "생활여건.corr(method=\"spearman\")"
   ]
  },
  {
   "cell_type": "code",
   "execution_count": null,
   "metadata": {},
   "outputs": [],
   "source": []
  }
 ],
 "metadata": {
  "kernelspec": {
   "display_name": "Python 3",
   "language": "python",
   "name": "python3"
  },
  "language_info": {
   "codemirror_mode": {
    "name": "ipython",
    "version": 3
   },
   "file_extension": ".py",
   "mimetype": "text/x-python",
   "name": "python",
   "nbconvert_exporter": "python",
   "pygments_lexer": "ipython3",
   "version": "3.11.3"
  },
  "orig_nbformat": 4
 },
 "nbformat": 4,
 "nbformat_minor": 2
}
