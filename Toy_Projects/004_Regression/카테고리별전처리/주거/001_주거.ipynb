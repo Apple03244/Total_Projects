{
 "cells": [
  {
   "cell_type": "markdown",
   "metadata": {},
   "source": [
    "# 주거"
   ]
  },
  {
   "cell_type": "code",
   "execution_count": 1,
   "metadata": {},
   "outputs": [],
   "source": [
    "import pandas as pd\n",
    "Data=pd.read_excel(\"../../더했다간미워할거야.xlsx\")\n",
    "data=pd.DataFrame(Data)\n",
    "주거=data[[\"(다)주거 환경 만족도\",\"방수\",\"주거면적\",\"주택유형\",\"집의 (등기상) 점유형태\"]]"
   ]
  },
  {
   "cell_type": "code",
   "execution_count": 2,
   "metadata": {},
   "outputs": [
    {
     "name": "stdout",
     "output_type": "stream",
     "text": [
      "<class 'pandas.core.frame.DataFrame'>\n",
      "RangeIndex: 3566 entries, 0 to 3565\n",
      "Data columns (total 5 columns):\n",
      " #   Column         Non-Null Count  Dtype\n",
      "---  ------         --------------  -----\n",
      " 0   (다)주거 환경 만족도   3566 non-null   int64\n",
      " 1   방수             3566 non-null   int64\n",
      " 2   주거면적           3566 non-null   int64\n",
      " 3   주택유형           3566 non-null   int64\n",
      " 4   집의 (등기상) 점유형태  3566 non-null   int64\n",
      "dtypes: int64(5)\n",
      "memory usage: 139.4 KB\n"
     ]
    }
   ],
   "source": [
    "주거.info()"
   ]
  },
  {
   "cell_type": "code",
   "execution_count": 3,
   "metadata": {},
   "outputs": [
    {
     "data": {
      "text/plain": [
       "0"
      ]
     },
     "execution_count": 3,
     "metadata": {},
     "output_type": "execute_result"
    }
   ],
   "source": [
    "주거[\"(다)주거 환경 만족도\"].isna().sum()"
   ]
  },
  {
   "cell_type": "markdown",
   "metadata": {},
   "source": [
    "## 상관계수"
   ]
  },
  {
   "cell_type": "code",
   "execution_count": 4,
   "metadata": {},
   "outputs": [],
   "source": [
    "import matplotlib.pyplot as plt\n",
    "import seaborn as sb"
   ]
  },
  {
   "cell_type": "code",
   "execution_count": 5,
   "metadata": {},
   "outputs": [],
   "source": [
    "plt.rcParams[\"font.family\"]=\"BM YEONSUNG\"\n",
    "plt.rcParams[\"figure.figsize\"]=(4,2)"
   ]
  },
  {
   "cell_type": "code",
   "execution_count": 6,
   "metadata": {},
   "outputs": [
    {
     "data": {
      "text/plain": [
       "방수\n",
       "2    1462\n",
       "3    1220\n",
       "1     784\n",
       "4      90\n",
       "5       9\n",
       "7       1\n",
       "Name: count, dtype: int64"
      ]
     },
     "execution_count": 6,
     "metadata": {},
     "output_type": "execute_result"
    }
   ],
   "source": [
    "주거[\"방수\"].value_counts()"
   ]
  },
  {
   "cell_type": "markdown",
   "metadata": {},
   "source": [
    "### 범주형"
   ]
  },
  {
   "cell_type": "code",
   "execution_count": 6,
   "metadata": {},
   "outputs": [
    {
     "data": {
      "text/html": [
       "<style type=\"text/css\">\n",
       "#T_5c785_row0_col0, #T_5c785_row1_col1, #T_5c785_row2_col2 {\n",
       "  background-color: #023858;\n",
       "  color: #f1f1f1;\n",
       "}\n",
       "#T_5c785_row0_col1 {\n",
       "  background-color: #f7f0f7;\n",
       "  color: #000000;\n",
       "}\n",
       "#T_5c785_row0_col2, #T_5c785_row2_col0, #T_5c785_row2_col1 {\n",
       "  background-color: #fff7fb;\n",
       "  color: #000000;\n",
       "}\n",
       "#T_5c785_row1_col0 {\n",
       "  background-color: #e6e2ef;\n",
       "  color: #000000;\n",
       "}\n",
       "#T_5c785_row1_col2 {\n",
       "  background-color: #efe9f3;\n",
       "  color: #000000;\n",
       "}\n",
       "</style>\n",
       "<table id=\"T_5c785\">\n",
       "  <thead>\n",
       "    <tr>\n",
       "      <th class=\"blank level0\" >&nbsp;</th>\n",
       "      <th id=\"T_5c785_level0_col0\" class=\"col_heading level0 col0\" >(다)주거 환경 만족도</th>\n",
       "      <th id=\"T_5c785_level0_col1\" class=\"col_heading level0 col1\" >주택유형</th>\n",
       "      <th id=\"T_5c785_level0_col2\" class=\"col_heading level0 col2\" >집의 (등기상) 점유형태</th>\n",
       "    </tr>\n",
       "  </thead>\n",
       "  <tbody>\n",
       "    <tr>\n",
       "      <th id=\"T_5c785_level0_row0\" class=\"row_heading level0 row0\" >(다)주거 환경 만족도</th>\n",
       "      <td id=\"T_5c785_row0_col0\" class=\"data row0 col0\" >1.000000</td>\n",
       "      <td id=\"T_5c785_row0_col1\" class=\"data row0 col1\" >0.090972</td>\n",
       "      <td id=\"T_5c785_row0_col2\" class=\"data row0 col2\" >-0.076674</td>\n",
       "    </tr>\n",
       "    <tr>\n",
       "      <th id=\"T_5c785_level0_row1\" class=\"row_heading level0 row1\" >주택유형</th>\n",
       "      <td id=\"T_5c785_row1_col0\" class=\"data row1 col0\" >0.090972</td>\n",
       "      <td id=\"T_5c785_row1_col1\" class=\"data row1 col1\" >1.000000</td>\n",
       "      <td id=\"T_5c785_row1_col2\" class=\"data row1 col2\" >0.039689</td>\n",
       "    </tr>\n",
       "    <tr>\n",
       "      <th id=\"T_5c785_level0_row2\" class=\"row_heading level0 row2\" >집의 (등기상) 점유형태</th>\n",
       "      <td id=\"T_5c785_row2_col0\" class=\"data row2 col0\" >-0.076674</td>\n",
       "      <td id=\"T_5c785_row2_col1\" class=\"data row2 col1\" >0.039689</td>\n",
       "      <td id=\"T_5c785_row2_col2\" class=\"data row2 col2\" >1.000000</td>\n",
       "    </tr>\n",
       "  </tbody>\n",
       "</table>\n"
      ],
      "text/plain": [
       "<pandas.io.formats.style.Styler at 0x1973e1fd0d0>"
      ]
     },
     "execution_count": 6,
     "metadata": {},
     "output_type": "execute_result"
    }
   ],
   "source": [
    "주거[[\"(다)주거 환경 만족도\",\"주택유형\",\"집의 (등기상) 점유형태\"]].corr(method=\"spearman\").style.background_gradient(\"PuBu\")"
   ]
  },
  {
   "cell_type": "markdown",
   "metadata": {},
   "source": [
    "### 연속형"
   ]
  },
  {
   "cell_type": "markdown",
   "metadata": {},
   "source": [
    "#### scatter plot"
   ]
  },
  {
   "cell_type": "code",
   "execution_count": 7,
   "metadata": {},
   "outputs": [
    {
     "data": {
      "image/png": "[encoded data removed]",
      "text/plain": [
       "<Figure size 400x200 with 1 Axes>"
      ]
     },
     "metadata": {},
     "output_type": "display_data"
    }
   ],
   "source": [
    "plt.figure()\n",
    "sb.scatterplot(y=주거[\"방수\"],x=주거[\"주거면적\"])\n",
    "plt.show()"
   ]
  },
  {
   "cell_type": "markdown",
   "metadata": {},
   "source": [
    "#### pearson 상관계수"
   ]
  },
  {
   "cell_type": "code",
   "execution_count": 8,
   "metadata": {},
   "outputs": [
    {
     "data": {
      "text/html": [
       "<div>\n",
       "<style scoped>\n",
       "    .dataframe tbody tr th:only-of-type {\n",
       "        vertical-align: middle;\n",
       "    }\n",
       "\n",
       "    .dataframe tbody tr th {\n",
       "        vertical-align: top;\n",
       "    }\n",
       "\n",
       "    .dataframe thead th {\n",
       "        text-align: right;\n",
       "    }\n",
       "</style>\n",
       "<table border=\"1\" class=\"dataframe\">\n",
       "  <thead>\n",
       "    <tr style=\"text-align: right;\">\n",
       "      <th></th>\n",
       "      <th>주거면적</th>\n",
       "      <th>방수</th>\n",
       "    </tr>\n",
       "  </thead>\n",
       "  <tbody>\n",
       "    <tr>\n",
       "      <th>주거면적</th>\n",
       "      <td>1.000000</td>\n",
       "      <td>0.764542</td>\n",
       "    </tr>\n",
       "    <tr>\n",
       "      <th>방수</th>\n",
       "      <td>0.764542</td>\n",
       "      <td>1.000000</td>\n",
       "    </tr>\n",
       "  </tbody>\n",
       "</table>\n",
       "</div>"
      ],
      "text/plain": [
       "          주거면적        방수\n",
       "주거면적  1.000000  0.764542\n",
       "방수    0.764542  1.000000"
      ]
     },
     "execution_count": 8,
     "metadata": {},
     "output_type": "execute_result"
    }
   ],
   "source": [
    "주거[[\"주거면적\",\"방수\"]].corr()"
   ]
  },
  {
   "cell_type": "markdown",
   "metadata": {},
   "source": [
    "## 결론 : '방수' column은 안녕~"
   ]
  },
  {
   "cell_type": "markdown",
   "metadata": {},
   "source": []
  }
 ],
 "metadata": {
  "kernelspec": {
   "display_name": "Python 3",
   "language": "python",
   "name": "python3"
  },
  "language_info": {
   "codemirror_mode": {
    "name": "ipython",
    "version": 3
   },
   "file_extension": ".py",
   "mimetype": "text/x-python",
   "name": "python",
   "nbconvert_exporter": "python",
   "pygments_lexer": "ipython3",
   "version": "3.11.3"
  },
  "orig_nbformat": 4
 },
 "nbformat": 4,
 "nbformat_minor": 2
}
