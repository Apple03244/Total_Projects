{
 "cells": [
  {
   "attachments": {},
   "cell_type": "markdown",
   "metadata": {},
   "source": [
    "## 모듈 참조"
   ]
  },
  {
   "cell_type": "code",
   "execution_count": 1,
   "metadata": {},
   "outputs": [],
   "source": [
    "import pandas as pd\n",
    "import numpy as np\n",
    "import requests\n",
    "from selenium import webdriver\n",
    "from selenium.webdriver.support.ui import WebDriverWait\n",
    "from selenium.webdriver.common.by import By\n",
    "from selenium. webdriver.chrome.options import Options\n",
    "from selenium.webdriver.chrome.service import Service\n",
    "import chromedriver_autoinstaller\n",
    "import subprocess\n",
    "import shutil\n",
    "import bs4\n",
    "import time\n",
    "import datetime as dt"
   ]
  },
  {
   "cell_type": "code",
   "execution_count": 15,
   "metadata": {},
   "outputs": [],
   "source": [
    "# https://translate.google.com/?hl=ko&sl=auto&tl=en&op=docs"
   ]
  },
  {
   "cell_type": "code",
   "execution_count": 2,
   "metadata": {},
   "outputs": [],
   "source": [
    "# driv=webdriver.Chrome()\n",
    "# driv.implicitly_wait(3)\n"
   ]
  },
  {
   "cell_type": "code",
   "execution_count": 2,
   "metadata": {},
   "outputs": [],
   "source": [
    "#쿠키 파일\n",
    "try:\n",
    "    shutil.rmtree(\"C:\\chrometemp\")\n",
    "except FileNotFoundError:\n",
    "    pass\n",
    "\n",
    "subprocess.Popen('C:/Program Files/Google/Chrome/Application/chrome.exe --remote-debugging-port=9222 --user-data-dir=\"C:\\chrometemp\"')\n",
    "option=Options()\n",
    "option.add_experimental_option(\"debuggerAddress\",\"127.0.0.1:9222\")\n",
    "chrome_ver=chromedriver_autoinstaller.get_chrome_version().split(\".\")[0]\n",
    "service=Service(executable_path=f\"./{chrome_ver}/chromedriver.exe\")\n",
    "try:\n",
    "    driv=webdriver.Chrome(service=service,options=option)\n",
    "except:\n",
    "    chromedriver_autoinstaller.install(True)\n",
    "    driv=webdriver.Chrome(service=service,options=option)\n",
    "driv.implicitly_wait(8)\n",
    "# driver.quit()"
   ]
  },
  {
   "cell_type": "code",
   "execution_count": 8,
   "metadata": {},
   "outputs": [],
   "source": [
    "driv.quit()"
   ]
  },
  {
   "cell_type": "code",
   "execution_count": 7,
   "metadata": {},
   "outputs": [],
   "source": [
    "Data={\n",
    "    \"Text\":\"translate\",\n",
    "    \"PDF\":\"docs\"}\n",
    "Lang={\n",
    "    \"English\" : 'en',\n",
    "    \"Korean\" : 'ko',\n",
    "    \"Japen\" : \"ja\"\n",
    "}\n",
    "driv.get(f'https://translate.google.com/?hl=ko&sl=auto&tl={Lang[\"Korean\"]}&op={Data[\"PDF\"]}')\n",
    "time.sleep(2)"
   ]
  },
  {
   "cell_type": "markdown",
   "metadata": {},
   "source": [
    "### PDF"
   ]
  },
  {
   "cell_type": "code",
   "execution_count": 3,
   "metadata": {},
   "outputs": [],
   "source": [
    "test=WebDriverWait(driv,3).until(lambda x:x.find_element(By.CSS_SELECTOR,\".D7BEKc>input\"))\n",
    "time.sleep(3)\n",
    "test.send_keys(\"C:/Users/SAMSUNG/Desktop/test/Tranformer.pdf\") #자료 보내기<절대경로>"
   ]
  },
  {
   "attachments": {},
   "cell_type": "markdown",
   "metadata": {},
   "source": [
    "파일 번역"
   ]
  },
  {
   "cell_type": "code",
   "execution_count": 4,
   "metadata": {},
   "outputs": [],
   "source": [
    "t='.VfPpkd-LgbsSe.VfPpkd-LgbsSe-OWXEXe-k8QpJ.VfPpkd-LgbsSe-OWXEXe-Bz112c-M1Soyc.nCP5yc.AjY5Oe.LQeN7.k2RlOb'\n",
    "# step2 : 번역시키는 버튼\n",
    "btn2=WebDriverWait(driv,3).until(lambda x:x.find_element(By.CSS_SELECTOR,t))\n",
    "time.sleep(5)\n",
    "btn2.click()\n"
   ]
  },
  {
   "cell_type": "code",
   "execution_count": null,
   "metadata": {},
   "outputs": [],
   "source": [
    "#step3. 번역 다운로드"
   ]
  },
  {
   "cell_type": "code",
   "execution_count": 25,
   "metadata": {},
   "outputs": [],
   "source": [
    "#step3. 번역 다운로드"
   ]
  },
  {
   "cell_type": "code",
   "execution_count": 6,
   "metadata": {},
   "outputs": [],
   "source": [
    "ul2='VfPpkd-LgbsSe VfPpkd-LgbsSe-OWXEXe-k8QpJ VfPpkd-LgbsSe-OWXEXe-Bz112c-M1Soyc nCP5yc AjY5Oe LQeN7 sWFiQe'\n",
    "k=\".\"+\".\".join(ul2.split(\" \"))\n",
    "btn3=WebDriverWait(driv,3).until(lambda x:x.find_element(By.CSS_SELECTOR,k))\n",
    "btn3.click()"
   ]
  },
  {
   "cell_type": "code",
   "execution_count": null,
   "metadata": {},
   "outputs": [],
   "source": [
    "webdriver"
   ]
  }
 ],
 "metadata": {
  "kernelspec": {
   "display_name": "Python 3",
   "language": "python",
   "name": "python3"
  },
  "language_info": {
   "codemirror_mode": {
    "name": "ipython",
    "version": 3
   },
   "file_extension": ".py",
   "mimetype": "text/x-python",
   "name": "python",
   "nbconvert_exporter": "python",
   "pygments_lexer": "ipython3",
   "version": "3.11.3"
  },
  "orig_nbformat": 4
 },
 "nbformat": 4,
 "nbformat_minor": 2
}
